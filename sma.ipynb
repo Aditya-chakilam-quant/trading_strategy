{
 "cells": [
  {
   "cell_type": "code",
   "execution_count": 8,
   "id": "af3379f4",
   "metadata": {},
   "outputs": [],
   "source": [
    "import yfinance as yf\n",
    "from datetime import date, timedelta\n",
    "import pandas as pd\n",
    "import numpy as np\n",
    "import logging\n",
    "import time\n",
    "import smtplib\n",
    "from email.mime.text import MIMEText\n",
    "from email.mime.multipart import MIMEMultipart\n",
    "from email.mime.base import MIMEBase\n",
    "from email import encoders\n",
    "\n",
    "# Setup logging\n",
    "logging.basicConfig(level=logging.INFO)\n",
    "logger = logging.getLogger(__name__)\n",
    "\n",
    "# List to track failed symbols\n",
    "failed_symbols = []\n",
    "\n",
    "def get_historical_data(symbol, start_date, end_date):\n",
    "    try:\n",
    "        data = yf.download(symbol, start=start_date, end=end_date, interval=\"1d\")\n",
    "        return data\n",
    "    except Exception as e:\n",
    "        logger.error(f\"Error downloading data for {symbol}: {e}\")\n",
    "        return None\n",
    "\n",
    "def calculate_rsi(data, window=14):\n",
    "    try:\n",
    "        delta = data[\"Close\"].diff()\n",
    "        up_moves = delta.clip(lower=0)\n",
    "        down_moves = -delta.clip(upper=0)\n",
    "        ema_up = up_moves.ewm(alpha=1/window, min_periods=window-1).mean()\n",
    "        ema_down = abs(down_moves.ewm(alpha=1/window, min_periods=window-1).mean())\n",
    "        rs = ema_up / ema_down\n",
    "        rsi = 100 - (100 / (1 + rs))\n",
    "        data[\"RSI\"] = rsi\n",
    "        return data\n",
    "    except Exception as e:\n",
    "        logger.error(f\"Error calculating RSI for {symbol}: {e}\")\n",
    "        return None\n",
    "\n",
    "def calculate_indicators(data):\n",
    "    try:\n",
    "        data[\"SMA_5\"] = data[\"Close\"].rolling(window=5).mean()\n",
    "        data[\"SMA_20\"] = data[\"Close\"].rolling(window=20).mean()\n",
    "        data = calculate_rsi(data)\n",
    "        return data\n",
    "    except Exception as e:\n",
    "        logger.error(f\"Error calculating indicators for {symbol}: {e}\")\n",
    "        return None\n",
    "\n",
    "def identify_trending_stocks(data):\n",
    "    try:\n",
    "        condition = np.logical_and(np.logical_and(\n",
    "            np.logical_and(data['SMA_5'] > data['SMA_20'], data['SMA_5'].shift(1) < data['SMA_20'].shift(1)),\n",
    "            data['RSI'] < 50),data['Volume'] > 25000)\n",
    "        condition_1 = np.logical_and(data['SMA_5'] > data['SMA_20'], data['SMA_5'].shift(1) < data['SMA_20'].shift(1))\n",
    "        data['signal'] = np.where(condition_1, 1, 0)\n",
    "        data = data[data['signal'] == 1]\n",
    "        return data\n",
    "    except Exception as e:\n",
    "        logger.error(f\"Error identifying trending stocks for {symbol}: {e}\")\n",
    "        return None\n",
    "    \n",
    "def process_symbol(symbol, symbols_left):\n",
    "    try:\n",
    "        start_date = today - timedelta(days=365)\n",
    "        end_date = today\n",
    "\n",
    "        logger.info(f\"Processing {symbol}... {symbols_left} symbols left.\")\n",
    "        \n",
    "        start_time = time.time()\n",
    "        print(symbol)\n",
    "        data = get_historical_data(symbol, start_date, end_date)\n",
    "        data['symbol'] = symbol\n",
    "        if data is not None:\n",
    "            data = calculate_indicators(data)\n",
    "            if data is not None:\n",
    "                data = identify_trending_stocks(data)\n",
    "                elapsed_time = time.time() - start_time\n",
    "\n",
    "                logger.info(f\"Processed {symbol} in {elapsed_time:.2f} seconds.\")\n",
    "                return data\n",
    "    except Exception as e:\n",
    "        logger.error(f\"Error processing {symbol}: {e}\")\n",
    "        return None\n",
    "\n",
    "\n",
    "def send_email(subject, body, attachment_path):\n",
    "    # Set up the email configuration\n",
    "    sender_email = \"adityachakilam@gmail.com\"\n",
    "    receiver_email = \"omprakashchakilam@gmail.com\"\n",
    "    password = \"hysz xjad ddyz ilkm\"\n",
    "\n",
    "    # Create the email message\n",
    "    message = MIMEMultipart()\n",
    "    message[\"From\"] = sender_email\n",
    "    message[\"To\"] = receiver_email\n",
    "    message[\"Subject\"] = subject\n",
    "    message.attach(MIMEText(body, \"plain\"))\n",
    "\n",
    "    # Attach the filtered data CSV file\n",
    "    attachment = open(attachment_path, \"rb\")\n",
    "    part = MIMEBase(\"application\", \"octet-stream\")\n",
    "    part.set_payload((attachment).read())\n",
    "    encoders.encode_base64(part)\n",
    "    part.add_header(\"Content-Disposition\", \"attachment; filename=processed_data_filtered.csv\")\n",
    "    message.attach(part)\n",
    "\n",
    "    # Connect to the SMTP server and send the email\n",
    "    with smtplib.SMTP(\"smtp.gmail.com\", 587) as server:\n",
    "        server.starttls()\n",
    "        server.login(sender_email, password)\n",
    "        server.sendmail(sender_email, receiver_email, message.as_string())\n",
    "        print(f\"Email sent successfully from {sender_email} to {receiver_email}\")"
   ]
  },
  {
   "cell_type": "code",
   "execution_count": 9,
   "id": "5c305f9c",
   "metadata": {},
   "outputs": [
    {
     "name": "stderr",
     "output_type": "stream",
     "text": [
      "INFO:__main__:Processing 20MICRONS.NS... 1933 symbols left.\n"
     ]
    },
    {
     "name": "stdout",
     "output_type": "stream",
     "text": [
      "20MICRONS.NS\n",
      "\r",
      "[*********************100%***********************]  1 of 1 completed"
     ]
    },
    {
     "name": "stderr",
     "output_type": "stream",
     "text": [
      "INFO:__main__:Processed 20MICRONS.NS in 0.01 seconds.\n",
      "INFO:__main__:Processing 21STCENMGM.NS... 1932 symbols left.\n"
     ]
    },
    {
     "name": "stdout",
     "output_type": "stream",
     "text": [
      "\n",
      "\n",
      "1 Failed download:\n",
      "- 20MICRONS.NS: No data found for this date range, symbol may be delisted\n",
      "21STCENMGM.NS\n",
      "\r",
      "[*********************100%***********************]  1 of 1 completed"
     ]
    },
    {
     "name": "stderr",
     "output_type": "stream",
     "text": [
      "INFO:__main__:Processed 21STCENMGM.NS in 0.01 seconds.\n",
      "INFO:__main__:Processing 360ONE.NS... 1931 symbols left.\n"
     ]
    },
    {
     "name": "stdout",
     "output_type": "stream",
     "text": [
      "\n",
      "\n",
      "1 Failed download:\n",
      "- 21STCENMGM.NS: No data found for this date range, symbol may be delisted\n",
      "360ONE.NS\n",
      "\r",
      "[*********************100%***********************]  1 of 1 completed"
     ]
    },
    {
     "name": "stderr",
     "output_type": "stream",
     "text": [
      "INFO:__main__:Processed 360ONE.NS in 0.01 seconds.\n",
      "INFO:__main__:Processing 3IINFOLTD.NS... 1930 symbols left.\n"
     ]
    },
    {
     "name": "stdout",
     "output_type": "stream",
     "text": [
      "\n",
      "\n",
      "1 Failed download:\n",
      "- 360ONE.NS: No data found for this date range, symbol may be delisted\n",
      "3IINFOLTD.NS\n",
      "\r",
      "[*********************100%***********************]  1 of 1 completed"
     ]
    },
    {
     "name": "stderr",
     "output_type": "stream",
     "text": [
      "INFO:__main__:Processed 3IINFOLTD.NS in 0.01 seconds.\n",
      "INFO:__main__:Processing 3MINDIA.NS... 1929 symbols left.\n"
     ]
    },
    {
     "name": "stdout",
     "output_type": "stream",
     "text": [
      "\n",
      "\n",
      "1 Failed download:\n",
      "- 3IINFOLTD.NS: No data found for this date range, symbol may be delisted\n",
      "3MINDIA.NS\n",
      "\r",
      "[*********************100%***********************]  1 of 1 completed"
     ]
    },
    {
     "name": "stderr",
     "output_type": "stream",
     "text": [
      "INFO:__main__:Processed 3MINDIA.NS in 0.01 seconds.\n",
      "INFO:__main__:Processing 3PLAND.NS... 1928 symbols left.\n"
     ]
    },
    {
     "name": "stdout",
     "output_type": "stream",
     "text": [
      "\n",
      "\n",
      "1 Failed download:\n",
      "- 3MINDIA.NS: No data found for this date range, symbol may be delisted\n",
      "3PLAND.NS\n",
      "\r",
      "[*********************100%***********************]  1 of 1 completed"
     ]
    },
    {
     "name": "stderr",
     "output_type": "stream",
     "text": [
      "INFO:__main__:Processed 3PLAND.NS in 0.01 seconds.\n",
      "INFO:__main__:Processing 5PAISA.NS... 1927 symbols left.\n"
     ]
    },
    {
     "name": "stdout",
     "output_type": "stream",
     "text": [
      "\n",
      "\n",
      "1 Failed download:\n",
      "- 3PLAND.NS: No data found for this date range, symbol may be delisted\n",
      "5PAISA.NS\n",
      "\r",
      "[*********************100%***********************]  1 of 1 completed"
     ]
    },
    {
     "name": "stderr",
     "output_type": "stream",
     "text": [
      "INFO:__main__:Processed 5PAISA.NS in 0.01 seconds.\n",
      "INFO:__main__:Processing 63MOONS.NS... 1926 symbols left.\n"
     ]
    },
    {
     "name": "stdout",
     "output_type": "stream",
     "text": [
      "\n",
      "\n",
      "1 Failed download:\n",
      "- 5PAISA.NS: No data found for this date range, symbol may be delisted\n",
      "63MOONS.NS\n",
      "\r",
      "[*********************100%***********************]  1 of 1 completed"
     ]
    },
    {
     "name": "stderr",
     "output_type": "stream",
     "text": [
      "INFO:__main__:Processed 63MOONS.NS in 0.01 seconds.\n",
      "INFO:__main__:Processing A2ZINFRA.NS... 1925 symbols left.\n"
     ]
    },
    {
     "name": "stdout",
     "output_type": "stream",
     "text": [
      "\n",
      "\n",
      "1 Failed download:\n",
      "- 63MOONS.NS: No data found for this date range, symbol may be delisted\n",
      "A2ZINFRA.NS\n",
      "\r",
      "[*********************100%***********************]  1 of 1 completed"
     ]
    },
    {
     "name": "stderr",
     "output_type": "stream",
     "text": [
      "INFO:__main__:Processed A2ZINFRA.NS in 0.01 seconds.\n",
      "INFO:__main__:Processing AAATECH.NS... 1924 symbols left.\n"
     ]
    },
    {
     "name": "stdout",
     "output_type": "stream",
     "text": [
      "\n",
      "\n",
      "1 Failed download:\n",
      "- A2ZINFRA.NS: No data found for this date range, symbol may be delisted\n",
      "AAATECH.NS\n",
      "\r",
      "[*********************100%***********************]  1 of 1 completed"
     ]
    },
    {
     "name": "stderr",
     "output_type": "stream",
     "text": [
      "INFO:__main__:Processed AAATECH.NS in 0.01 seconds.\n",
      "INFO:__main__:Processing AAKASH.NS... 1923 symbols left.\n"
     ]
    },
    {
     "name": "stdout",
     "output_type": "stream",
     "text": [
      "\n",
      "\n",
      "1 Failed download:\n",
      "- AAATECH.NS: No data found for this date range, symbol may be delisted\n",
      "AAKASH.NS\n",
      "\r",
      "[*********************100%***********************]  1 of 1 completed"
     ]
    },
    {
     "name": "stderr",
     "output_type": "stream",
     "text": [
      "INFO:__main__:Processed AAKASH.NS in 0.01 seconds.\n",
      "INFO:__main__:Processing AAREYDRUGS.NS... 1922 symbols left.\n"
     ]
    },
    {
     "name": "stdout",
     "output_type": "stream",
     "text": [
      "\n",
      "\n",
      "1 Failed download:\n",
      "- AAKASH.NS: No data found for this date range, symbol may be delisted\n",
      "AAREYDRUGS.NS\n",
      "\r",
      "[*********************100%***********************]  1 of 1 completed"
     ]
    },
    {
     "name": "stderr",
     "output_type": "stream",
     "text": [
      "INFO:__main__:Processed AAREYDRUGS.NS in 0.01 seconds.\n",
      "INFO:__main__:Processing AARON.NS... 1921 symbols left.\n"
     ]
    },
    {
     "name": "stdout",
     "output_type": "stream",
     "text": [
      "\n",
      "\n",
      "1 Failed download:\n",
      "- AAREYDRUGS.NS: No data found for this date range, symbol may be delisted\n",
      "AARON.NS\n",
      "\r",
      "[*********************100%***********************]  1 of 1 completed"
     ]
    },
    {
     "name": "stderr",
     "output_type": "stream",
     "text": [
      "INFO:__main__:Processed AARON.NS in 0.02 seconds.\n",
      "INFO:__main__:Processing AARTECH.NS... 1920 symbols left.\n"
     ]
    },
    {
     "name": "stdout",
     "output_type": "stream",
     "text": [
      "\n",
      "\n",
      "1 Failed download:\n",
      "- AARON.NS: No data found for this date range, symbol may be delisted\n",
      "AARTECH.NS\n",
      "\r",
      "[*********************100%***********************]  1 of 1 completed"
     ]
    },
    {
     "name": "stderr",
     "output_type": "stream",
     "text": [
      "INFO:__main__:Processed AARTECH.NS in 0.01 seconds.\n",
      "INFO:__main__:Processing AARTIDRUGS.NS... 1919 symbols left.\n"
     ]
    },
    {
     "name": "stdout",
     "output_type": "stream",
     "text": [
      "\n",
      "\n",
      "1 Failed download:\n",
      "- AARTECH.NS: No data found for this date range, symbol may be delisted\n",
      "AARTIDRUGS.NS\n",
      "[*********************100%***********************]  1 of 1 completed"
     ]
    },
    {
     "name": "stderr",
     "output_type": "stream",
     "text": [
      "INFO:__main__:Processed AARTIDRUGS.NS in 0.03 seconds.\n",
      "INFO:__main__:Processing AARTIIND.NS... 1918 symbols left.\n"
     ]
    },
    {
     "name": "stdout",
     "output_type": "stream",
     "text": [
      "\n",
      "\n",
      "1 Failed download:\n",
      "- AARTIDRUGS.NS: No data found for this date range, symbol may be delisted\n",
      "AARTIIND.NS\n",
      "\r",
      "[*********************100%***********************]  1 of 1 completed"
     ]
    },
    {
     "name": "stderr",
     "output_type": "stream",
     "text": [
      "INFO:__main__:Processed AARTIIND.NS in 0.01 seconds.\n",
      "INFO:__main__:Processing AARTIPHARM.NS... 1917 symbols left.\n"
     ]
    },
    {
     "name": "stdout",
     "output_type": "stream",
     "text": [
      "\n",
      "\n",
      "1 Failed download:\n",
      "- AARTIIND.NS: No data found for this date range, symbol may be delisted\n",
      "AARTIPHARM.NS\n",
      "\r",
      "[*********************100%***********************]  1 of 1 completed"
     ]
    },
    {
     "name": "stderr",
     "output_type": "stream",
     "text": [
      "INFO:__main__:Processed AARTIPHARM.NS in 0.01 seconds.\n",
      "INFO:__main__:Processing AARTISURF.NS... 1916 symbols left.\n"
     ]
    },
    {
     "name": "stdout",
     "output_type": "stream",
     "text": [
      "\n",
      "\n",
      "1 Failed download:\n",
      "- AARTIPHARM.NS: No data found for this date range, symbol may be delisted\n",
      "AARTISURF.NS\n",
      "\r",
      "[*********************100%***********************]  1 of 1 completed"
     ]
    },
    {
     "name": "stderr",
     "output_type": "stream",
     "text": [
      "INFO:__main__:Processed AARTISURF.NS in 0.01 seconds.\n",
      "INFO:__main__:Processing AARVEEDEN.NS... 1915 symbols left.\n"
     ]
    },
    {
     "name": "stdout",
     "output_type": "stream",
     "text": [
      "\n",
      "\n",
      "1 Failed download:\n",
      "- AARTISURF.NS: No data found for this date range, symbol may be delisted\n",
      "AARVEEDEN.NS\n",
      "\r",
      "[*********************100%***********************]  1 of 1 completed"
     ]
    },
    {
     "name": "stderr",
     "output_type": "stream",
     "text": [
      "INFO:__main__:Processed AARVEEDEN.NS in 0.01 seconds.\n",
      "INFO:__main__:Processing AARVI.NS... 1914 symbols left.\n"
     ]
    },
    {
     "name": "stdout",
     "output_type": "stream",
     "text": [
      "\n",
      "\n",
      "1 Failed download:\n",
      "- AARVEEDEN.NS: No data found for this date range, symbol may be delisted\n",
      "AARVI.NS\n",
      "\r",
      "[*********************100%***********************]  1 of 1 completed"
     ]
    },
    {
     "name": "stderr",
     "output_type": "stream",
     "text": [
      "INFO:__main__:Processed AARVI.NS in 0.01 seconds.\n",
      "INFO:__main__:Processing AAVAS.NS... 1913 symbols left.\n"
     ]
    },
    {
     "name": "stdout",
     "output_type": "stream",
     "text": [
      "\n",
      "\n",
      "1 Failed download:\n",
      "- AARVI.NS: No data found for this date range, symbol may be delisted\n",
      "AAVAS.NS\n",
      "[*********************100%***********************]  1 of 1 completed"
     ]
    },
    {
     "name": "stderr",
     "output_type": "stream",
     "text": [
      "INFO:__main__:Processed AAVAS.NS in 0.03 seconds.\n"
     ]
    },
    {
     "name": "stdout",
     "output_type": "stream",
     "text": [
      "\n",
      "\n",
      "1 Failed download:\n",
      "- AAVAS.NS: No data found for this date range, symbol may be delisted\n"
     ]
    },
    {
     "name": "stderr",
     "output_type": "stream",
     "text": [
      "INFO:__main__:Processing ABAN.NS... 1912 symbols left.\n"
     ]
    },
    {
     "name": "stdout",
     "output_type": "stream",
     "text": [
      "ABAN.NS\n",
      "\r",
      "[*********************100%***********************]  1 of 1 completed"
     ]
    },
    {
     "name": "stderr",
     "output_type": "stream",
     "text": [
      "INFO:__main__:Processed ABAN.NS in 0.03 seconds.\n",
      "INFO:__main__:Processing ABB.NS... 1911 symbols left.\n"
     ]
    },
    {
     "name": "stdout",
     "output_type": "stream",
     "text": [
      "\n",
      "\n",
      "1 Failed download:\n",
      "- ABAN.NS: No data found for this date range, symbol may be delisted\n",
      "ABB.NS\n",
      "\r",
      "[*********************100%***********************]  1 of 1 completed"
     ]
    },
    {
     "name": "stderr",
     "output_type": "stream",
     "text": [
      "INFO:__main__:Processed ABB.NS in 0.00 seconds.\n"
     ]
    },
    {
     "name": "stdout",
     "output_type": "stream",
     "text": [
      "\n",
      "\n",
      "1 Failed download:\n",
      "- ABB.NS: No data found for this date range, symbol may be delisted\n"
     ]
    },
    {
     "name": "stderr",
     "output_type": "stream",
     "text": [
      "INFO:__main__:Processing ABBOTINDIA.NS... 1910 symbols left.\n"
     ]
    },
    {
     "name": "stdout",
     "output_type": "stream",
     "text": [
      "ABBOTINDIA.NS\n",
      "[*********************100%***********************]  1 of 1 completed\n",
      "\n",
      "1 Failed download:\n",
      "- ABBOTINDIA.NS: No data found for this date range, symbol may be delisted\n"
     ]
    },
    {
     "name": "stderr",
     "output_type": "stream",
     "text": [
      "INFO:__main__:Processed ABBOTINDIA.NS in 0.01 seconds.\n",
      "INFO:__main__:Processing ABCAPITAL.NS... 1909 symbols left.\n"
     ]
    },
    {
     "name": "stdout",
     "output_type": "stream",
     "text": [
      "ABCAPITAL.NS\n",
      "\r",
      "[*********************100%***********************]  1 of 1 completed"
     ]
    },
    {
     "name": "stderr",
     "output_type": "stream",
     "text": [
      "INFO:__main__:Processed ABCAPITAL.NS in 0.01 seconds.\n",
      "INFO:__main__:Processing ABFRL.NS... 1908 symbols left.\n"
     ]
    },
    {
     "name": "stdout",
     "output_type": "stream",
     "text": [
      "\n",
      "\n",
      "1 Failed download:\n",
      "- ABCAPITAL.NS: No data found for this date range, symbol may be delisted\n",
      "ABFRL.NS\n",
      "\r",
      "[*********************100%***********************]  1 of 1 completed"
     ]
    },
    {
     "name": "stderr",
     "output_type": "stream",
     "text": [
      "INFO:__main__:Processed ABFRL.NS in 0.00 seconds.\n",
      "INFO:__main__:Processing ABMINTLLTD.NS... 1907 symbols left.\n"
     ]
    },
    {
     "name": "stdout",
     "output_type": "stream",
     "text": [
      "\n",
      "\n",
      "1 Failed download:\n",
      "- ABFRL.NS: No data found for this date range, symbol may be delisted\n",
      "ABMINTLLTD.NS\n",
      "\r",
      "[*********************100%***********************]  1 of 1 completed"
     ]
    },
    {
     "name": "stderr",
     "output_type": "stream",
     "text": [
      "INFO:__main__:Processed ABMINTLLTD.NS in 0.01 seconds.\n",
      "INFO:__main__:Processing ABSLAMC.NS... 1906 symbols left.\n"
     ]
    },
    {
     "name": "stdout",
     "output_type": "stream",
     "text": [
      "\n",
      "\n",
      "1 Failed download:\n",
      "- ABMINTLLTD.NS: No data found for this date range, symbol may be delisted\n",
      "ABSLAMC.NS\n",
      "\r",
      "[*********************100%***********************]  1 of 1 completed"
     ]
    },
    {
     "name": "stderr",
     "output_type": "stream",
     "text": [
      "INFO:__main__:Processed ABSLAMC.NS in 0.01 seconds.\n",
      "INFO:__main__:Processing ACC.NS... 1905 symbols left.\n"
     ]
    },
    {
     "name": "stdout",
     "output_type": "stream",
     "text": [
      "\n",
      "\n",
      "1 Failed download:\n",
      "- ABSLAMC.NS: No data found for this date range, symbol may be delisted\n",
      "ACC.NS\n",
      "\r",
      "[*********************100%***********************]  1 of 1 completed"
     ]
    },
    {
     "name": "stderr",
     "output_type": "stream",
     "text": [
      "INFO:__main__:Processed ACC.NS in 0.01 seconds.\n",
      "INFO:__main__:Processing ACCELYA.NS... 1904 symbols left.\n"
     ]
    },
    {
     "name": "stdout",
     "output_type": "stream",
     "text": [
      "\n",
      "\n",
      "1 Failed download:\n",
      "- ACC.NS: No data found for this date range, symbol may be delisted\n",
      "ACCELYA.NS\n",
      "\r",
      "[*********************100%***********************]  1 of 1 completed"
     ]
    },
    {
     "name": "stderr",
     "output_type": "stream",
     "text": [
      "INFO:__main__:Processed ACCELYA.NS in 0.01 seconds.\n",
      "INFO:__main__:Processing ACCURACY.NS... 1903 symbols left.\n"
     ]
    },
    {
     "name": "stdout",
     "output_type": "stream",
     "text": [
      "\n",
      "\n",
      "1 Failed download:\n",
      "- ACCELYA.NS: No data found for this date range, symbol may be delisted\n",
      "ACCURACY.NS\n",
      "\r",
      "[*********************100%***********************]  1 of 1 completed"
     ]
    },
    {
     "name": "stderr",
     "output_type": "stream",
     "text": [
      "INFO:__main__:Processed ACCURACY.NS in 0.00 seconds.\n",
      "INFO:__main__:Processing ACE.NS... 1902 symbols left.\n"
     ]
    },
    {
     "name": "stdout",
     "output_type": "stream",
     "text": [
      "\n",
      "\n",
      "1 Failed download:\n",
      "- ACCURACY.NS: No data found for this date range, symbol may be delisted\n",
      "ACE.NS\n",
      "\r",
      "[*********************100%***********************]  1 of 1 completed"
     ]
    },
    {
     "name": "stderr",
     "output_type": "stream",
     "text": [
      "INFO:__main__:Processed ACE.NS in 0.01 seconds.\n",
      "INFO:__main__:Processing ACEINTEG.NS... 1901 symbols left.\n"
     ]
    },
    {
     "name": "stdout",
     "output_type": "stream",
     "text": [
      "\n",
      "\n",
      "1 Failed download:\n",
      "- ACE.NS: No data found for this date range, symbol may be delisted\n",
      "ACEINTEG.NS\n",
      "\r",
      "[*********************100%***********************]  1 of 1 completed"
     ]
    },
    {
     "name": "stderr",
     "output_type": "stream",
     "text": [
      "INFO:__main__:Processed ACEINTEG.NS in 0.01 seconds.\n"
     ]
    },
    {
     "name": "stdout",
     "output_type": "stream",
     "text": [
      "\n",
      "\n",
      "1 Failed download:\n",
      "- ACEINTEG.NS: No data found for this date range, symbol may be delisted\n"
     ]
    },
    {
     "name": "stderr",
     "output_type": "stream",
     "text": [
      "INFO:__main__:Processing ACI.NS... 1900 symbols left.\n"
     ]
    },
    {
     "name": "stdout",
     "output_type": "stream",
     "text": [
      "ACI.NS\n",
      "\r",
      "[*********************100%***********************]  1 of 1 completed"
     ]
    },
    {
     "name": "stderr",
     "output_type": "stream",
     "text": [
      "INFO:__main__:Processed ACI.NS in 0.01 seconds.\n",
      "INFO:__main__:Processing ACL.NS... 1899 symbols left.\n"
     ]
    },
    {
     "name": "stdout",
     "output_type": "stream",
     "text": [
      "\n",
      "\n",
      "1 Failed download:\n",
      "- ACI.NS: No data found for this date range, symbol may be delisted\n",
      "ACL.NS\n",
      "\r",
      "[*********************100%***********************]  1 of 1 completed"
     ]
    },
    {
     "name": "stderr",
     "output_type": "stream",
     "text": [
      "INFO:__main__:Processed ACL.NS in 0.01 seconds.\n",
      "INFO:__main__:Processing ACLGATI.NS... 1898 symbols left.\n"
     ]
    },
    {
     "name": "stdout",
     "output_type": "stream",
     "text": [
      "\n",
      "\n",
      "1 Failed download:\n",
      "- ACL.NS: No data found for this date range, symbol may be delisted\n",
      "ACLGATI.NS\n",
      "\r",
      "[*********************100%***********************]  1 of 1 completed"
     ]
    },
    {
     "name": "stderr",
     "output_type": "stream",
     "text": [
      "INFO:__main__:Processed ACLGATI.NS in 0.01 seconds.\n",
      "INFO:__main__:Processing ADANIENSOL.NS... 1897 symbols left.\n"
     ]
    },
    {
     "name": "stdout",
     "output_type": "stream",
     "text": [
      "\n",
      "\n",
      "1 Failed download:\n",
      "- ACLGATI.NS: No data found for this date range, symbol may be delisted\n",
      "ADANIENSOL.NS\n",
      "\r",
      "[*********************100%***********************]  1 of 1 completed"
     ]
    },
    {
     "name": "stderr",
     "output_type": "stream",
     "text": [
      "INFO:__main__:Processed ADANIENSOL.NS in 0.00 seconds.\n",
      "INFO:__main__:Processing ADANIENT.NS... 1896 symbols left.\n"
     ]
    },
    {
     "name": "stdout",
     "output_type": "stream",
     "text": [
      "\n",
      "\n",
      "1 Failed download:\n",
      "- ADANIENSOL.NS: No data found for this date range, symbol may be delisted\n",
      "ADANIENT.NS\n",
      "\r",
      "[*********************100%***********************]  1 of 1 completed"
     ]
    },
    {
     "name": "stderr",
     "output_type": "stream",
     "text": [
      "INFO:__main__:Processed ADANIENT.NS in 0.01 seconds.\n",
      "INFO:__main__:Processing ADANIGREEN.NS... 1895 symbols left.\n"
     ]
    },
    {
     "name": "stdout",
     "output_type": "stream",
     "text": [
      "\n",
      "\n",
      "1 Failed download:\n",
      "- ADANIENT.NS: No data found for this date range, symbol may be delisted\n",
      "ADANIGREEN.NS\n",
      "\r",
      "[*********************100%***********************]  1 of 1 completed"
     ]
    },
    {
     "name": "stderr",
     "output_type": "stream",
     "text": [
      "INFO:__main__:Processed ADANIGREEN.NS in 0.01 seconds.\n",
      "INFO:__main__:Processing ADANIPORTS.NS... 1894 symbols left.\n"
     ]
    },
    {
     "name": "stdout",
     "output_type": "stream",
     "text": [
      "\n",
      "\n",
      "1 Failed download:\n",
      "- ADANIGREEN.NS: No data found for this date range, symbol may be delisted\n",
      "ADANIPORTS.NS\n",
      "\r",
      "[*********************100%***********************]  1 of 1 completed"
     ]
    },
    {
     "name": "stderr",
     "output_type": "stream",
     "text": [
      "INFO:__main__:Processed ADANIPORTS.NS in 0.01 seconds.\n",
      "INFO:__main__:Processing ADANIPOWER.NS... 1893 symbols left.\n"
     ]
    },
    {
     "name": "stdout",
     "output_type": "stream",
     "text": [
      "\n",
      "\n",
      "1 Failed download:\n",
      "- ADANIPORTS.NS: No data found for this date range, symbol may be delisted\n",
      "ADANIPOWER.NS\n",
      "\r",
      "[*********************100%***********************]  1 of 1 completed"
     ]
    },
    {
     "name": "stderr",
     "output_type": "stream",
     "text": [
      "INFO:__main__:Processed ADANIPOWER.NS in 0.01 seconds.\n"
     ]
    },
    {
     "name": "stdout",
     "output_type": "stream",
     "text": [
      "\n",
      "\n",
      "1 Failed download:\n",
      "- ADANIPOWER.NS: No data found for this date range, symbol may be delisted\n"
     ]
    },
    {
     "name": "stderr",
     "output_type": "stream",
     "text": [
      "INFO:__main__:Processing ADFFOODS.NS... 1892 symbols left.\n"
     ]
    },
    {
     "name": "stdout",
     "output_type": "stream",
     "text": [
      "ADFFOODS.NS\n",
      "\r",
      "[*********************100%***********************]  1 of 1 completed"
     ]
    },
    {
     "name": "stderr",
     "output_type": "stream",
     "text": [
      "INFO:__main__:Processed ADFFOODS.NS in 0.01 seconds.\n",
      "INFO:__main__:Processing ADL.NS... 1891 symbols left.\n"
     ]
    },
    {
     "name": "stdout",
     "output_type": "stream",
     "text": [
      "\n",
      "\n",
      "1 Failed download:\n",
      "- ADFFOODS.NS: No data found for this date range, symbol may be delisted\n",
      "ADL.NS\n",
      "\r",
      "[*********************100%***********************]  1 of 1 completed"
     ]
    },
    {
     "name": "stderr",
     "output_type": "stream",
     "text": [
      "INFO:__main__:Processed ADL.NS in 0.01 seconds.\n",
      "INFO:__main__:Processing ADORWELD.NS... 1890 symbols left.\n"
     ]
    },
    {
     "name": "stdout",
     "output_type": "stream",
     "text": [
      "\n",
      "\n",
      "1 Failed download:\n",
      "- ADL.NS: No data found for this date range, symbol may be delisted\n",
      "ADORWELD.NS\n",
      "\r",
      "[*********************100%***********************]  1 of 1 completed"
     ]
    },
    {
     "name": "stderr",
     "output_type": "stream",
     "text": [
      "INFO:__main__:Processed ADORWELD.NS in 0.01 seconds.\n",
      "INFO:__main__:Processing ADROITINFO.NS... 1889 symbols left.\n"
     ]
    },
    {
     "name": "stdout",
     "output_type": "stream",
     "text": [
      "\n",
      "\n",
      "1 Failed download:\n",
      "- ADORWELD.NS: No data found for this date range, symbol may be delisted\n",
      "ADROITINFO.NS\n",
      "\r",
      "[*********************100%***********************]  1 of 1 completed"
     ]
    },
    {
     "name": "stderr",
     "output_type": "stream",
     "text": [
      "INFO:__main__:Processed ADROITINFO.NS in 0.01 seconds.\n",
      "INFO:__main__:Processing ADSL.NS... 1888 symbols left.\n"
     ]
    },
    {
     "name": "stdout",
     "output_type": "stream",
     "text": [
      "\n",
      "\n",
      "1 Failed download:\n",
      "- ADROITINFO.NS: No data found for this date range, symbol may be delisted\n",
      "ADSL.NS\n",
      "\r",
      "[*********************100%***********************]  1 of 1 completed"
     ]
    },
    {
     "name": "stderr",
     "output_type": "stream",
     "text": [
      "INFO:__main__:Processed ADSL.NS in 0.01 seconds.\n",
      "INFO:__main__:Processing ADVANIHOTR.NS... 1887 symbols left.\n"
     ]
    },
    {
     "name": "stdout",
     "output_type": "stream",
     "text": [
      "\n",
      "\n",
      "1 Failed download:\n",
      "- ADSL.NS: No data found for this date range, symbol may be delisted\n",
      "ADVANIHOTR.NS\n",
      "\r",
      "[*********************100%***********************]  1 of 1 completed"
     ]
    },
    {
     "name": "stderr",
     "output_type": "stream",
     "text": [
      "INFO:__main__:Processed ADVANIHOTR.NS in 0.00 seconds.\n",
      "INFO:__main__:Processing ADVENZYMES.NS... 1886 symbols left.\n"
     ]
    },
    {
     "name": "stdout",
     "output_type": "stream",
     "text": [
      "\n",
      "\n",
      "1 Failed download:\n",
      "- ADVANIHOTR.NS: No data found for this date range, symbol may be delisted\n",
      "ADVENZYMES.NS\n",
      "\r",
      "[*********************100%***********************]  1 of 1 completed"
     ]
    },
    {
     "name": "stderr",
     "output_type": "stream",
     "text": [
      "INFO:__main__:Processed ADVENZYMES.NS in 0.01 seconds.\n"
     ]
    },
    {
     "name": "stdout",
     "output_type": "stream",
     "text": [
      "\n",
      "\n",
      "1 Failed download:\n",
      "- ADVENZYMES.NS: No data found for this date range, symbol may be delisted\n"
     ]
    },
    {
     "name": "stderr",
     "output_type": "stream",
     "text": [
      "INFO:__main__:Processing AEGISCHEM.NS... 1885 symbols left.\n"
     ]
    },
    {
     "name": "stdout",
     "output_type": "stream",
     "text": [
      "AEGISCHEM.NS\n",
      "\r",
      "[*********************100%***********************]  1 of 1 completed"
     ]
    },
    {
     "name": "stderr",
     "output_type": "stream",
     "text": [
      "INFO:__main__:Processed AEGISCHEM.NS in 0.01 seconds.\n",
      "INFO:__main__:Processing AEROFLEX.NS... 1884 symbols left.\n"
     ]
    },
    {
     "name": "stdout",
     "output_type": "stream",
     "text": [
      "\n",
      "\n",
      "1 Failed download:\n",
      "- AEGISCHEM.NS: No data found for this date range, symbol may be delisted\n",
      "AEROFLEX.NS\n",
      "\r",
      "[*********************100%***********************]  1 of 1 completed"
     ]
    },
    {
     "name": "stderr",
     "output_type": "stream",
     "text": [
      "INFO:__main__:Processed AEROFLEX.NS in 0.01 seconds.\n",
      "INFO:__main__:Processing AETHER.NS... 1883 symbols left.\n"
     ]
    },
    {
     "name": "stdout",
     "output_type": "stream",
     "text": [
      "\n",
      "\n",
      "1 Failed download:\n",
      "- AEROFLEX.NS: No data found for this date range, symbol may be delisted\n",
      "AETHER.NS\n",
      "\r",
      "[*********************100%***********************]  1 of 1 completed"
     ]
    },
    {
     "name": "stderr",
     "output_type": "stream",
     "text": [
      "INFO:__main__:Processed AETHER.NS in 0.01 seconds.\n",
      "INFO:__main__:Processing AFFLE.NS... 1882 symbols left.\n"
     ]
    },
    {
     "name": "stdout",
     "output_type": "stream",
     "text": [
      "\n",
      "\n",
      "1 Failed download:\n",
      "- AETHER.NS: No data found for this date range, symbol may be delisted\n",
      "AFFLE.NS\n",
      "\r",
      "[*********************100%***********************]  1 of 1 completed"
     ]
    },
    {
     "name": "stderr",
     "output_type": "stream",
     "text": [
      "INFO:__main__:Processed AFFLE.NS in 0.01 seconds.\n",
      "INFO:__main__:Processing AGARIND.NS... 1881 symbols left.\n"
     ]
    },
    {
     "name": "stdout",
     "output_type": "stream",
     "text": [
      "\n",
      "\n",
      "1 Failed download:\n",
      "- AFFLE.NS: No data found for this date range, symbol may be delisted\n",
      "AGARIND.NS\n",
      "\r",
      "[*********************100%***********************]  1 of 1 completed"
     ]
    },
    {
     "name": "stderr",
     "output_type": "stream",
     "text": [
      "INFO:__main__:Processed AGARIND.NS in 0.01 seconds.\n",
      "INFO:__main__:Processing AGI.NS... 1880 symbols left.\n"
     ]
    },
    {
     "name": "stdout",
     "output_type": "stream",
     "text": [
      "\n",
      "\n",
      "1 Failed download:\n",
      "- AGARIND.NS: No data found for this date range, symbol may be delisted\n",
      "AGI.NS\n",
      "\r",
      "[*********************100%***********************]  1 of 1 completed"
     ]
    },
    {
     "name": "stderr",
     "output_type": "stream",
     "text": [
      "INFO:__main__:Processed AGI.NS in 0.01 seconds.\n",
      "INFO:__main__:Processing AGRITECH.NS... 1879 symbols left.\n"
     ]
    },
    {
     "name": "stdout",
     "output_type": "stream",
     "text": [
      "\n",
      "\n",
      "1 Failed download:\n",
      "- AGI.NS: No data found for this date range, symbol may be delisted\n",
      "AGRITECH.NS\n",
      "[*********************100%***********************]  1 of 1 completed\n",
      "\n",
      "1 Failed download:\n",
      "- AGRITECH.NS: No data found for this date range, symbol may be delisted\n"
     ]
    },
    {
     "name": "stderr",
     "output_type": "stream",
     "text": [
      "INFO:__main__:Processed AGRITECH.NS in 0.01 seconds.\n",
      "INFO:__main__:Processing AGROPHOS.NS... 1878 symbols left.\n"
     ]
    },
    {
     "name": "stdout",
     "output_type": "stream",
     "text": [
      "AGROPHOS.NS\n",
      "\r",
      "[*********************100%***********************]  1 of 1 completed"
     ]
    },
    {
     "name": "stderr",
     "output_type": "stream",
     "text": [
      "INFO:__main__:Processed AGROPHOS.NS in 0.01 seconds.\n",
      "INFO:__main__:Processing AGSTRA.NS... 1877 symbols left.\n"
     ]
    },
    {
     "name": "stdout",
     "output_type": "stream",
     "text": [
      "\n",
      "\n",
      "1 Failed download:\n",
      "- AGROPHOS.NS: No data found for this date range, symbol may be delisted\n",
      "AGSTRA.NS\n",
      "\r",
      "[*********************100%***********************]  1 of 1 completed"
     ]
    },
    {
     "name": "stderr",
     "output_type": "stream",
     "text": [
      "INFO:__main__:Processed AGSTRA.NS in 0.01 seconds.\n",
      "INFO:__main__:Processing AHL.NS... 1876 symbols left.\n"
     ]
    },
    {
     "name": "stdout",
     "output_type": "stream",
     "text": [
      "\n",
      "\n",
      "1 Failed download:\n",
      "- AGSTRA.NS: No data found for this date range, symbol may be delisted\n",
      "AHL.NS\n",
      "\r",
      "[*********************100%***********************]  1 of 1 completed"
     ]
    },
    {
     "name": "stderr",
     "output_type": "stream",
     "text": [
      "INFO:__main__:Processed AHL.NS in 0.01 seconds.\n",
      "INFO:__main__:Processing AHLADA.NS... 1875 symbols left.\n"
     ]
    },
    {
     "name": "stdout",
     "output_type": "stream",
     "text": [
      "\n",
      "\n",
      "1 Failed download:\n",
      "- AHL.NS: No data found for this date range, symbol may be delisted\n",
      "AHLADA.NS\n",
      "\r",
      "[*********************100%***********************]  1 of 1 completed"
     ]
    },
    {
     "name": "stderr",
     "output_type": "stream",
     "text": [
      "INFO:__main__:Processed AHLADA.NS in 0.01 seconds.\n",
      "INFO:__main__:Processing AHLEAST.NS... 1874 symbols left.\n"
     ]
    },
    {
     "name": "stdout",
     "output_type": "stream",
     "text": [
      "\n",
      "\n",
      "1 Failed download:\n",
      "- AHLADA.NS: No data found for this date range, symbol may be delisted\n",
      "AHLEAST.NS\n",
      "\r",
      "[*********************100%***********************]  1 of 1 completed"
     ]
    },
    {
     "name": "stderr",
     "output_type": "stream",
     "text": [
      "INFO:__main__:Processed AHLEAST.NS in 0.01 seconds.\n",
      "INFO:__main__:Processing AHLUCONT.NS... 1873 symbols left.\n"
     ]
    },
    {
     "name": "stdout",
     "output_type": "stream",
     "text": [
      "\n",
      "\n",
      "1 Failed download:\n",
      "- AHLEAST.NS: No data found for this date range, symbol may be delisted\n",
      "AHLUCONT.NS\n",
      "\r",
      "[*********************100%***********************]  1 of 1 completed"
     ]
    },
    {
     "name": "stderr",
     "output_type": "stream",
     "text": [
      "INFO:__main__:Processed AHLUCONT.NS in 0.01 seconds.\n",
      "INFO:__main__:Processing AIAENG.NS... 1872 symbols left.\n"
     ]
    },
    {
     "name": "stdout",
     "output_type": "stream",
     "text": [
      "\n",
      "\n",
      "1 Failed download:\n",
      "- AHLUCONT.NS: No data found for this date range, symbol may be delisted\n",
      "AIAENG.NS\n",
      "[*********************100%***********************]  1 of 1 completed\n",
      "\n",
      "1 Failed download:\n",
      "- AIAENG.NS: No data found for this date range, symbol may be delisted\n"
     ]
    },
    {
     "name": "stderr",
     "output_type": "stream",
     "text": [
      "INFO:__main__:Processed AIAENG.NS in 0.01 seconds.\n",
      "INFO:__main__:Processing AIRAN.NS... 1871 symbols left.\n"
     ]
    },
    {
     "name": "stdout",
     "output_type": "stream",
     "text": [
      "AIRAN.NS\n",
      "\r",
      "[*********************100%***********************]  1 of 1 completed"
     ]
    },
    {
     "name": "stderr",
     "output_type": "stream",
     "text": [
      "INFO:__main__:Processed AIRAN.NS in 0.01 seconds.\n",
      "INFO:__main__:Processing AIROLAM.NS... 1870 symbols left.\n"
     ]
    },
    {
     "name": "stdout",
     "output_type": "stream",
     "text": [
      "\n",
      "\n",
      "1 Failed download:\n",
      "- AIRAN.NS: No data found for this date range, symbol may be delisted\n",
      "AIROLAM.NS\n",
      "\r",
      "[*********************100%***********************]  1 of 1 completed"
     ]
    },
    {
     "name": "stderr",
     "output_type": "stream",
     "text": [
      "INFO:__main__:Processed AIROLAM.NS in 0.01 seconds.\n",
      "INFO:__main__:Processing AJANTPHARM.NS... 1869 symbols left.\n"
     ]
    },
    {
     "name": "stdout",
     "output_type": "stream",
     "text": [
      "\n",
      "\n",
      "1 Failed download:\n",
      "- AIROLAM.NS: No data found for this date range, symbol may be delisted\n",
      "AJANTPHARM.NS\n",
      "\r",
      "[*********************100%***********************]  1 of 1 completed"
     ]
    },
    {
     "name": "stderr",
     "output_type": "stream",
     "text": [
      "INFO:__main__:Processed AJANTPHARM.NS in 0.01 seconds.\n",
      "INFO:__main__:Processing AJMERA.NS... 1868 symbols left.\n"
     ]
    },
    {
     "name": "stdout",
     "output_type": "stream",
     "text": [
      "\n",
      "\n",
      "1 Failed download:\n",
      "- AJANTPHARM.NS: No data found for this date range, symbol may be delisted\n",
      "AJMERA.NS\n",
      "\r",
      "[*********************100%***********************]  1 of 1 completed"
     ]
    },
    {
     "name": "stderr",
     "output_type": "stream",
     "text": [
      "INFO:__main__:Processed AJMERA.NS in 0.01 seconds.\n",
      "INFO:__main__:Processing AJOONI.NS... 1867 symbols left.\n"
     ]
    },
    {
     "name": "stdout",
     "output_type": "stream",
     "text": [
      "\n",
      "\n",
      "1 Failed download:\n",
      "- AJMERA.NS: No data found for this date range, symbol may be delisted\n",
      "AJOONI.NS\n",
      "\r",
      "[*********************100%***********************]  1 of 1 completed"
     ]
    },
    {
     "name": "stderr",
     "output_type": "stream",
     "text": [
      "INFO:__main__:Processed AJOONI.NS in 0.01 seconds.\n",
      "INFO:__main__:Processing AKASH.NS... 1866 symbols left.\n"
     ]
    },
    {
     "name": "stdout",
     "output_type": "stream",
     "text": [
      "\n",
      "\n",
      "1 Failed download:\n",
      "- AJOONI.NS: No data found for this date range, symbol may be delisted\n",
      "AKASH.NS\n",
      "\r",
      "[*********************100%***********************]  1 of 1 completed"
     ]
    },
    {
     "name": "stderr",
     "output_type": "stream",
     "text": [
      "INFO:__main__:Processed AKASH.NS in 0.01 seconds.\n",
      "INFO:__main__:Processing AKG.NS... 1865 symbols left.\n"
     ]
    },
    {
     "name": "stdout",
     "output_type": "stream",
     "text": [
      "\n",
      "\n",
      "1 Failed download:\n",
      "- AKASH.NS: No data found for this date range, symbol may be delisted\n",
      "AKG.NS\n",
      "[*********************100%***********************]  1 of 1 completed\n",
      "\n",
      "1 Failed download:\n",
      "- AKG.NS: No data found for this date range, symbol may be delisted\n"
     ]
    },
    {
     "name": "stderr",
     "output_type": "stream",
     "text": [
      "INFO:__main__:Processed AKG.NS in 0.01 seconds.\n",
      "INFO:__main__:Processing AKI.NS... 1864 symbols left.\n"
     ]
    },
    {
     "name": "stdout",
     "output_type": "stream",
     "text": [
      "AKI.NS\n",
      "\r",
      "[*********************100%***********************]  1 of 1 completed"
     ]
    },
    {
     "name": "stderr",
     "output_type": "stream",
     "text": [
      "INFO:__main__:Processed AKI.NS in 0.01 seconds.\n",
      "INFO:__main__:Processing AKSHAR.NS... 1863 symbols left.\n"
     ]
    },
    {
     "name": "stdout",
     "output_type": "stream",
     "text": [
      "\n",
      "\n",
      "1 Failed download:\n",
      "- AKI.NS: No data found for this date range, symbol may be delisted\n",
      "AKSHAR.NS\n",
      "\r",
      "[*********************100%***********************]  1 of 1 completed"
     ]
    },
    {
     "name": "stderr",
     "output_type": "stream",
     "text": [
      "INFO:__main__:Processed AKSHAR.NS in 0.01 seconds.\n",
      "INFO:__main__:Processing AKSHARCHEM.NS... 1862 symbols left.\n"
     ]
    },
    {
     "name": "stdout",
     "output_type": "stream",
     "text": [
      "\n",
      "\n",
      "1 Failed download:\n",
      "- AKSHAR.NS: No data found for this date range, symbol may be delisted\n",
      "AKSHARCHEM.NS\n",
      "\r",
      "[*********************100%***********************]  1 of 1 completed"
     ]
    },
    {
     "name": "stderr",
     "output_type": "stream",
     "text": [
      "INFO:__main__:Processed AKSHARCHEM.NS in 0.01 seconds.\n",
      "INFO:__main__:Processing AKSHOPTFBR.NS... 1861 symbols left.\n"
     ]
    },
    {
     "name": "stdout",
     "output_type": "stream",
     "text": [
      "\n",
      "\n",
      "1 Failed download:\n",
      "- AKSHARCHEM.NS: No data found for this date range, symbol may be delisted\n",
      "AKSHOPTFBR.NS\n",
      "\r",
      "[*********************100%***********************]  1 of 1 completed"
     ]
    },
    {
     "name": "stderr",
     "output_type": "stream",
     "text": [
      "INFO:__main__:Processed AKSHOPTFBR.NS in 0.01 seconds.\n",
      "INFO:__main__:Processing AKZOINDIA.NS... 1860 symbols left.\n"
     ]
    },
    {
     "name": "stdout",
     "output_type": "stream",
     "text": [
      "\n",
      "\n",
      "1 Failed download:\n",
      "- AKSHOPTFBR.NS: No data found for this date range, symbol may be delisted\n",
      "AKZOINDIA.NS\n",
      "\r",
      "[*********************100%***********************]  1 of 1 completed"
     ]
    },
    {
     "name": "stderr",
     "output_type": "stream",
     "text": [
      "INFO:__main__:Processed AKZOINDIA.NS in 0.00 seconds.\n",
      "INFO:__main__:Processing ALANKIT.NS... 1859 symbols left.\n"
     ]
    },
    {
     "name": "stdout",
     "output_type": "stream",
     "text": [
      "\n",
      "\n",
      "1 Failed download:\n",
      "- AKZOINDIA.NS: No data found for this date range, symbol may be delisted\n",
      "ALANKIT.NS\n",
      "\r",
      "[*********************100%***********************]  1 of 1 completed"
     ]
    },
    {
     "name": "stderr",
     "output_type": "stream",
     "text": [
      "INFO:__main__:Processed ALANKIT.NS in 0.01 seconds.\n",
      "INFO:__main__:Processing ALBERTDAVD.NS... 1858 symbols left.\n"
     ]
    },
    {
     "name": "stdout",
     "output_type": "stream",
     "text": [
      "\n",
      "\n",
      "1 Failed download:\n",
      "- ALANKIT.NS: No data found for this date range, symbol may be delisted\n",
      "ALBERTDAVD.NS\n",
      "\r",
      "[*********************100%***********************]  1 of 1 completed"
     ]
    },
    {
     "name": "stderr",
     "output_type": "stream",
     "text": [
      "INFO:__main__:Processed ALBERTDAVD.NS in 0.01 seconds.\n",
      "INFO:__main__:Processing ALEMBICLTD.NS... 1857 symbols left.\n"
     ]
    },
    {
     "name": "stdout",
     "output_type": "stream",
     "text": [
      "\n",
      "\n",
      "1 Failed download:\n",
      "- ALBERTDAVD.NS: No data found for this date range, symbol may be delisted\n",
      "ALEMBICLTD.NS\n",
      "\r",
      "[*********************100%***********************]  1 of 1 completed"
     ]
    },
    {
     "name": "stderr",
     "output_type": "stream",
     "text": [
      "INFO:__main__:Processed ALEMBICLTD.NS in 0.01 seconds.\n"
     ]
    },
    {
     "name": "stdout",
     "output_type": "stream",
     "text": [
      "\n",
      "\n",
      "1 Failed download:\n",
      "- ALEMBICLTD.NS: No data found for this date range, symbol may be delisted\n"
     ]
    },
    {
     "name": "stderr",
     "output_type": "stream",
     "text": [
      "INFO:__main__:Processing ALICON.NS... 1856 symbols left.\n"
     ]
    },
    {
     "name": "stdout",
     "output_type": "stream",
     "text": [
      "ALICON.NS\n",
      "\r",
      "[*********************100%***********************]  1 of 1 completed"
     ]
    },
    {
     "name": "stderr",
     "output_type": "stream",
     "text": [
      "INFO:__main__:Processed ALICON.NS in 0.01 seconds.\n",
      "INFO:__main__:Processing ALKALI.NS... 1855 symbols left.\n"
     ]
    },
    {
     "name": "stdout",
     "output_type": "stream",
     "text": [
      "\n",
      "\n",
      "1 Failed download:\n",
      "- ALICON.NS: No data found for this date range, symbol may be delisted\n",
      "ALKALI.NS\n",
      "\r",
      "[*********************100%***********************]  1 of 1 completed"
     ]
    },
    {
     "name": "stderr",
     "output_type": "stream",
     "text": [
      "INFO:__main__:Processed ALKALI.NS in 0.01 seconds.\n",
      "INFO:__main__:Processing ALKEM.NS... 1854 symbols left.\n"
     ]
    },
    {
     "name": "stdout",
     "output_type": "stream",
     "text": [
      "\n",
      "\n",
      "1 Failed download:\n",
      "- ALKALI.NS: No data found for this date range, symbol may be delisted\n",
      "ALKEM.NS\n",
      "\r",
      "[*********************100%***********************]  1 of 1 completed"
     ]
    },
    {
     "name": "stderr",
     "output_type": "stream",
     "text": [
      "INFO:__main__:Processed ALKEM.NS in 0.01 seconds.\n",
      "INFO:__main__:Processing ALKYLAMINE.NS... 1853 symbols left.\n"
     ]
    },
    {
     "name": "stdout",
     "output_type": "stream",
     "text": [
      "\n",
      "\n",
      "1 Failed download:\n",
      "- ALKEM.NS: No data found for this date range, symbol may be delisted\n",
      "ALKYLAMINE.NS\n",
      "\r",
      "[*********************100%***********************]  1 of 1 completed"
     ]
    },
    {
     "name": "stderr",
     "output_type": "stream",
     "text": [
      "INFO:__main__:Processed ALKYLAMINE.NS in 0.01 seconds.\n",
      "INFO:__main__:Processing ALLCARGO.NS... 1852 symbols left.\n"
     ]
    },
    {
     "name": "stdout",
     "output_type": "stream",
     "text": [
      "\n",
      "\n",
      "1 Failed download:\n",
      "- ALKYLAMINE.NS: No data found for this date range, symbol may be delisted\n",
      "ALLCARGO.NS\n",
      "\r",
      "[*********************100%***********************]  1 of 1 completed"
     ]
    },
    {
     "name": "stderr",
     "output_type": "stream",
     "text": [
      "INFO:__main__:Processed ALLCARGO.NS in 0.03 seconds.\n",
      "INFO:__main__:Processing ALLSEC.NS... 1851 symbols left.\n"
     ]
    },
    {
     "name": "stdout",
     "output_type": "stream",
     "text": [
      "\n",
      "\n",
      "1 Failed download:\n",
      "- ALLCARGO.NS: No data found for this date range, symbol may be delisted\n",
      "ALLSEC.NS\n",
      "\r",
      "[*********************100%***********************]  1 of 1 completed"
     ]
    },
    {
     "name": "stderr",
     "output_type": "stream",
     "text": [
      "INFO:__main__:Processed ALLSEC.NS in 0.03 seconds.\n",
      "INFO:__main__:Processing ALMONDZ.NS... 1850 symbols left.\n"
     ]
    },
    {
     "name": "stdout",
     "output_type": "stream",
     "text": [
      "\n",
      "\n",
      "1 Failed download:\n",
      "- ALLSEC.NS: No data found for this date range, symbol may be delisted\n",
      "ALMONDZ.NS\n",
      "\r",
      "[*********************100%***********************]  1 of 1 completed"
     ]
    },
    {
     "name": "stderr",
     "output_type": "stream",
     "text": [
      "INFO:__main__:Processed ALMONDZ.NS in 0.02 seconds.\n",
      "INFO:__main__:Processing ALOKINDS.NS... 1849 symbols left.\n"
     ]
    },
    {
     "name": "stdout",
     "output_type": "stream",
     "text": [
      "\n",
      "\n",
      "1 Failed download:\n",
      "- ALMONDZ.NS: No data found for this date range, symbol may be delisted\n",
      "ALOKINDS.NS\n",
      "\r",
      "[*********************100%***********************]  1 of 1 completed"
     ]
    },
    {
     "name": "stderr",
     "output_type": "stream",
     "text": [
      "INFO:__main__:Processed ALOKINDS.NS in 0.01 seconds.\n",
      "INFO:__main__:Processing ALPA.NS... 1848 symbols left.\n"
     ]
    },
    {
     "name": "stdout",
     "output_type": "stream",
     "text": [
      "\n",
      "\n",
      "1 Failed download:\n",
      "- ALOKINDS.NS: No data found for this date range, symbol may be delisted\n",
      "ALPA.NS\n",
      "\r",
      "[*********************100%***********************]  1 of 1 completed"
     ]
    },
    {
     "name": "stderr",
     "output_type": "stream",
     "text": [
      "INFO:__main__:Processed ALPA.NS in 0.01 seconds.\n",
      "INFO:__main__:Processing ALPHAGEO.NS... 1847 symbols left.\n"
     ]
    },
    {
     "name": "stdout",
     "output_type": "stream",
     "text": [
      "\n",
      "\n",
      "1 Failed download:\n",
      "- ALPA.NS: No data found for this date range, symbol may be delisted\n",
      "ALPHAGEO.NS\n",
      "\r",
      "[*********************100%***********************]  1 of 1 completed"
     ]
    },
    {
     "name": "stderr",
     "output_type": "stream",
     "text": [
      "INFO:__main__:Processed ALPHAGEO.NS in 0.01 seconds.\n"
     ]
    },
    {
     "name": "stdout",
     "output_type": "stream",
     "text": [
      "\n",
      "\n",
      "1 Failed download:\n",
      "- ALPHAGEO.NS: No data found for this date range, symbol may be delisted\n"
     ]
    },
    {
     "name": "stderr",
     "output_type": "stream",
     "text": [
      "INFO:__main__:Processing ALPSINDUS.NS... 1846 symbols left.\n"
     ]
    },
    {
     "name": "stdout",
     "output_type": "stream",
     "text": [
      "ALPSINDUS.NS\n",
      "[*********************100%***********************]  1 of 1 completed\n",
      "\n",
      "1 Failed download:\n",
      "- ALPSINDUS.NS: No data found for this date range, symbol may be delisted\n"
     ]
    },
    {
     "name": "stderr",
     "output_type": "stream",
     "text": [
      "INFO:__main__:Processed ALPSINDUS.NS in 0.01 seconds.\n",
      "INFO:__main__:Processing AMBER.NS... 1845 symbols left.\n"
     ]
    },
    {
     "name": "stdout",
     "output_type": "stream",
     "text": [
      "AMBER.NS\n",
      "\r",
      "[*********************100%***********************]  1 of 1 completed"
     ]
    },
    {
     "name": "stderr",
     "output_type": "stream",
     "text": [
      "INFO:__main__:Processed AMBER.NS in 0.02 seconds.\n",
      "INFO:__main__:Processing AMBICAAGAR.NS... 1844 symbols left.\n"
     ]
    },
    {
     "name": "stdout",
     "output_type": "stream",
     "text": [
      "\n",
      "\n",
      "1 Failed download:\n",
      "- AMBER.NS: No data found for this date range, symbol may be delisted\n",
      "AMBICAAGAR.NS\n",
      "\r",
      "[*********************100%***********************]  1 of 1 completed"
     ]
    },
    {
     "name": "stderr",
     "output_type": "stream",
     "text": [
      "INFO:__main__:Processed AMBICAAGAR.NS in 0.02 seconds.\n",
      "INFO:__main__:Processing AMBIKCO.NS... 1843 symbols left.\n"
     ]
    },
    {
     "name": "stdout",
     "output_type": "stream",
     "text": [
      "\n",
      "\n",
      "1 Failed download:\n",
      "- AMBICAAGAR.NS: No data found for this date range, symbol may be delisted\n",
      "AMBIKCO.NS\n",
      "\r",
      "[*********************100%***********************]  1 of 1 completed"
     ]
    },
    {
     "name": "stderr",
     "output_type": "stream",
     "text": [
      "INFO:__main__:Processed AMBIKCO.NS in 0.01 seconds.\n",
      "INFO:__main__:Processing AMBUJACEM.NS... 1842 symbols left.\n"
     ]
    },
    {
     "name": "stdout",
     "output_type": "stream",
     "text": [
      "\n",
      "\n",
      "1 Failed download:\n",
      "- AMBIKCO.NS: No data found for this date range, symbol may be delisted\n",
      "AMBUJACEM.NS\n",
      "\r",
      "[*********************100%***********************]  1 of 1 completed"
     ]
    },
    {
     "name": "stderr",
     "output_type": "stream",
     "text": [
      "INFO:__main__:Processed AMBUJACEM.NS in 0.01 seconds.\n",
      "INFO:__main__:Processing AMDIND.NS... 1841 symbols left.\n"
     ]
    },
    {
     "name": "stdout",
     "output_type": "stream",
     "text": [
      "\n",
      "\n",
      "1 Failed download:\n",
      "- AMBUJACEM.NS: No data found for this date range, symbol may be delisted\n",
      "AMDIND.NS\n",
      "\r",
      "[*********************100%***********************]  1 of 1 completed"
     ]
    },
    {
     "name": "stderr",
     "output_type": "stream",
     "text": [
      "INFO:__main__:Processed AMDIND.NS in 0.01 seconds.\n"
     ]
    },
    {
     "name": "stdout",
     "output_type": "stream",
     "text": [
      "\n",
      "\n",
      "1 Failed download:\n",
      "- AMDIND.NS: No data found for this date range, symbol may be delisted\n"
     ]
    },
    {
     "name": "stderr",
     "output_type": "stream",
     "text": [
      "INFO:__main__:Processing AMIORG.NS... 1840 symbols left.\n"
     ]
    },
    {
     "name": "stdout",
     "output_type": "stream",
     "text": [
      "AMIORG.NS\n",
      "\r",
      "[*********************100%***********************]  1 of 1 completed"
     ]
    },
    {
     "name": "stderr",
     "output_type": "stream",
     "text": [
      "INFO:__main__:Processed AMIORG.NS in 0.01 seconds.\n",
      "INFO:__main__:Processing AMJLAND.NS... 1839 symbols left.\n"
     ]
    },
    {
     "name": "stdout",
     "output_type": "stream",
     "text": [
      "\n",
      "\n",
      "1 Failed download:\n",
      "- AMIORG.NS: No data found for this date range, symbol may be delisted\n",
      "AMJLAND.NS\n",
      "\r",
      "[*********************100%***********************]  1 of 1 completed"
     ]
    },
    {
     "name": "stderr",
     "output_type": "stream",
     "text": [
      "INFO:__main__:Processed AMJLAND.NS in 0.01 seconds.\n",
      "INFO:__main__:Processing AMNPLST.NS... 1838 symbols left.\n"
     ]
    },
    {
     "name": "stdout",
     "output_type": "stream",
     "text": [
      "\n",
      "\n",
      "1 Failed download:\n",
      "- AMJLAND.NS: No data found for this date range, symbol may be delisted\n",
      "AMNPLST.NS\n",
      "\r",
      "[*********************100%***********************]  1 of 1 completed"
     ]
    },
    {
     "name": "stderr",
     "output_type": "stream",
     "text": [
      "INFO:__main__:Processed AMNPLST.NS in 0.01 seconds.\n",
      "INFO:__main__:Processing AMRUTANJAN.NS... 1837 symbols left.\n"
     ]
    },
    {
     "name": "stdout",
     "output_type": "stream",
     "text": [
      "\n",
      "\n",
      "1 Failed download:\n",
      "- AMNPLST.NS: No data found for this date range, symbol may be delisted\n",
      "AMRUTANJAN.NS\n",
      "\r",
      "[*********************100%***********************]  1 of 1 completed"
     ]
    },
    {
     "name": "stderr",
     "output_type": "stream",
     "text": [
      "INFO:__main__:Processed AMRUTANJAN.NS in 0.01 seconds.\n",
      "INFO:__main__:Processing ANANDRATHI.NS... 1836 symbols left.\n"
     ]
    },
    {
     "name": "stdout",
     "output_type": "stream",
     "text": [
      "\n",
      "\n",
      "1 Failed download:\n",
      "- AMRUTANJAN.NS: No data found for this date range, symbol may be delisted\n",
      "ANANDRATHI.NS\n",
      "\r",
      "[*********************100%***********************]  1 of 1 completed"
     ]
    },
    {
     "name": "stderr",
     "output_type": "stream",
     "text": [
      "INFO:__main__:Processed ANANDRATHI.NS in 0.01 seconds.\n",
      "INFO:__main__:Processing ANANTRAJ.NS... 1835 symbols left.\n"
     ]
    },
    {
     "name": "stdout",
     "output_type": "stream",
     "text": [
      "\n",
      "\n",
      "1 Failed download:\n",
      "- ANANDRATHI.NS: No data found for this date range, symbol may be delisted\n",
      "ANANTRAJ.NS\n",
      "\r",
      "[*********************100%***********************]  1 of 1 completed"
     ]
    },
    {
     "name": "stderr",
     "output_type": "stream",
     "text": [
      "INFO:__main__:Processed ANANTRAJ.NS in 0.02 seconds.\n",
      "INFO:__main__:Processing ANDHRAPAP.NS... 1834 symbols left.\n"
     ]
    },
    {
     "name": "stdout",
     "output_type": "stream",
     "text": [
      "\n",
      "\n",
      "1 Failed download:\n",
      "- ANANTRAJ.NS: No data found for this date range, symbol may be delisted\n",
      "ANDHRAPAP.NS\n",
      "\r",
      "[*********************100%***********************]  1 of 1 completed"
     ]
    },
    {
     "name": "stderr",
     "output_type": "stream",
     "text": [
      "INFO:__main__:Processed ANDHRAPAP.NS in 0.01 seconds.\n",
      "INFO:__main__:Processing ANDHRSUGAR.NS... 1833 symbols left.\n"
     ]
    },
    {
     "name": "stdout",
     "output_type": "stream",
     "text": [
      "\n",
      "\n",
      "1 Failed download:\n",
      "- ANDHRAPAP.NS: No data found for this date range, symbol may be delisted\n",
      "ANDHRSUGAR.NS\n",
      "\r",
      "[*********************100%***********************]  1 of 1 completed"
     ]
    },
    {
     "name": "stderr",
     "output_type": "stream",
     "text": [
      "INFO:__main__:Processed ANDHRSUGAR.NS in 0.01 seconds.\n",
      "INFO:__main__:Processing ANGELONE.NS... 1832 symbols left.\n"
     ]
    },
    {
     "name": "stdout",
     "output_type": "stream",
     "text": [
      "\n",
      "\n",
      "1 Failed download:\n",
      "- ANDHRSUGAR.NS: No data found for this date range, symbol may be delisted\n",
      "ANGELONE.NS\n",
      "\r",
      "[*********************100%***********************]  1 of 1 completed"
     ]
    },
    {
     "name": "stderr",
     "output_type": "stream",
     "text": [
      "INFO:__main__:Processed ANGELONE.NS in 0.01 seconds.\n",
      "INFO:__main__:Processing ANIKINDS.NS... 1831 symbols left.\n"
     ]
    },
    {
     "name": "stdout",
     "output_type": "stream",
     "text": [
      "\n",
      "\n",
      "1 Failed download:\n",
      "- ANGELONE.NS: No data found for this date range, symbol may be delisted\n",
      "ANIKINDS.NS\n",
      "\r",
      "[*********************100%***********************]  1 of 1 completed"
     ]
    },
    {
     "name": "stderr",
     "output_type": "stream",
     "text": [
      "INFO:__main__:Processed ANIKINDS.NS in 0.01 seconds.\n",
      "INFO:__main__:Processing ANKITMETAL.NS... 1830 symbols left.\n"
     ]
    },
    {
     "name": "stdout",
     "output_type": "stream",
     "text": [
      "\n",
      "\n",
      "1 Failed download:\n",
      "- ANIKINDS.NS: No data found for this date range, symbol may be delisted\n",
      "ANKITMETAL.NS\n",
      "\r",
      "[*********************100%***********************]  1 of 1 completed"
     ]
    },
    {
     "name": "stderr",
     "output_type": "stream",
     "text": [
      "INFO:__main__:Processed ANKITMETAL.NS in 0.01 seconds.\n",
      "INFO:__main__:Processing ANMOL.NS... 1829 symbols left.\n"
     ]
    },
    {
     "name": "stdout",
     "output_type": "stream",
     "text": [
      "\n",
      "\n",
      "1 Failed download:\n",
      "- ANKITMETAL.NS: No data found for this date range, symbol may be delisted\n",
      "ANMOL.NS\n",
      "\r",
      "[*********************100%***********************]  1 of 1 completed"
     ]
    },
    {
     "name": "stderr",
     "output_type": "stream",
     "text": [
      "INFO:__main__:Processed ANMOL.NS in 0.01 seconds.\n",
      "INFO:__main__:Processing ANSALAPI.NS... 1828 symbols left.\n"
     ]
    },
    {
     "name": "stdout",
     "output_type": "stream",
     "text": [
      "\n",
      "\n",
      "1 Failed download:\n",
      "- ANMOL.NS: No data found for this date range, symbol may be delisted\n",
      "ANSALAPI.NS\n",
      "\r",
      "[*********************100%***********************]  1 of 1 completed"
     ]
    },
    {
     "name": "stderr",
     "output_type": "stream",
     "text": [
      "INFO:__main__:Processed ANSALAPI.NS in 0.01 seconds.\n",
      "INFO:__main__:Processing ANTGRAPHIC.NS... 1827 symbols left.\n"
     ]
    },
    {
     "name": "stdout",
     "output_type": "stream",
     "text": [
      "\n",
      "\n",
      "1 Failed download:\n",
      "- ANSALAPI.NS: No data found for this date range, symbol may be delisted\n",
      "ANTGRAPHIC.NS\n",
      "[*********************100%***********************]  1 of 1 completed\n",
      "\n",
      "1 Failed download:\n",
      "- ANTGRAPHIC.NS: No data found for this date range, symbol may be delisted\n"
     ]
    },
    {
     "name": "stderr",
     "output_type": "stream",
     "text": [
      "INFO:__main__:Processed ANTGRAPHIC.NS in 0.01 seconds.\n",
      "INFO:__main__:Processing ANUP.NS... 1826 symbols left.\n"
     ]
    },
    {
     "name": "stdout",
     "output_type": "stream",
     "text": [
      "ANUP.NS\n",
      "\r",
      "[*********************100%***********************]  1 of 1 completed"
     ]
    },
    {
     "name": "stderr",
     "output_type": "stream",
     "text": [
      "INFO:__main__:Processed ANUP.NS in 0.01 seconds.\n",
      "INFO:__main__:Processing ANURAS.NS... 1825 symbols left.\n"
     ]
    },
    {
     "name": "stdout",
     "output_type": "stream",
     "text": [
      "\n",
      "\n",
      "1 Failed download:\n",
      "- ANUP.NS: No data found for this date range, symbol may be delisted\n",
      "ANURAS.NS\n",
      "\r",
      "[*********************100%***********************]  1 of 1 completed"
     ]
    },
    {
     "name": "stderr",
     "output_type": "stream",
     "text": [
      "INFO:__main__:Processed ANURAS.NS in 0.01 seconds.\n",
      "INFO:__main__:Processing APARINDS.NS... 1824 symbols left.\n"
     ]
    },
    {
     "name": "stdout",
     "output_type": "stream",
     "text": [
      "\n",
      "\n",
      "1 Failed download:\n",
      "- ANURAS.NS: No data found for this date range, symbol may be delisted\n",
      "APARINDS.NS\n",
      "\r",
      "[*********************100%***********************]  1 of 1 completed"
     ]
    },
    {
     "name": "stderr",
     "output_type": "stream",
     "text": [
      "INFO:__main__:Processed APARINDS.NS in 0.01 seconds.\n",
      "INFO:__main__:Processing APCL.NS... 1823 symbols left.\n"
     ]
    },
    {
     "name": "stdout",
     "output_type": "stream",
     "text": [
      "\n",
      "\n",
      "1 Failed download:\n",
      "- APARINDS.NS: No data found for this date range, symbol may be delisted\n",
      "APCL.NS\n",
      "\r",
      "[*********************100%***********************]  1 of 1 completed"
     ]
    },
    {
     "name": "stderr",
     "output_type": "stream",
     "text": [
      "INFO:__main__:Processed APCL.NS in 0.01 seconds.\n",
      "INFO:__main__:Processing APCOTEXIND.NS... 1822 symbols left.\n"
     ]
    },
    {
     "name": "stdout",
     "output_type": "stream",
     "text": [
      "\n",
      "\n",
      "1 Failed download:\n",
      "- APCL.NS: No data found for this date range, symbol may be delisted\n",
      "APCOTEXIND.NS\n",
      "\r",
      "[*********************100%***********************]  1 of 1 completed"
     ]
    },
    {
     "name": "stderr",
     "output_type": "stream",
     "text": [
      "INFO:__main__:Processed APCOTEXIND.NS in 0.01 seconds.\n",
      "INFO:__main__:Processing APEX.NS... 1821 symbols left.\n"
     ]
    },
    {
     "name": "stdout",
     "output_type": "stream",
     "text": [
      "\n",
      "\n",
      "1 Failed download:\n",
      "- APCOTEXIND.NS: No data found for this date range, symbol may be delisted\n",
      "APEX.NS\n",
      "\r",
      "[*********************100%***********************]  1 of 1 completed"
     ]
    },
    {
     "name": "stderr",
     "output_type": "stream",
     "text": [
      "INFO:__main__:Processed APEX.NS in 0.01 seconds.\n",
      "INFO:__main__:Processing APLAPOLLO.NS... 1820 symbols left.\n"
     ]
    },
    {
     "name": "stdout",
     "output_type": "stream",
     "text": [
      "\n",
      "\n",
      "1 Failed download:\n",
      "- APEX.NS: No data found for this date range, symbol may be delisted\n",
      "APLAPOLLO.NS\n",
      "[*********************100%***********************]  1 of 1 completed\n",
      "\n",
      "1 Failed download:\n",
      "- APLAPOLLO.NS: No data found for this date range, symbol may be delisted\n"
     ]
    },
    {
     "name": "stderr",
     "output_type": "stream",
     "text": [
      "INFO:__main__:Processed APLAPOLLO.NS in 0.01 seconds.\n",
      "INFO:__main__:Processing APLLTD.NS... 1819 symbols left.\n"
     ]
    },
    {
     "name": "stdout",
     "output_type": "stream",
     "text": [
      "APLLTD.NS\n",
      "\r",
      "[*********************100%***********************]  1 of 1 completed"
     ]
    },
    {
     "name": "stderr",
     "output_type": "stream",
     "text": [
      "INFO:__main__:Processed APLLTD.NS in 0.01 seconds.\n",
      "INFO:__main__:Processing APOLLO.NS... 1818 symbols left.\n"
     ]
    },
    {
     "name": "stdout",
     "output_type": "stream",
     "text": [
      "\n",
      "\n",
      "1 Failed download:\n",
      "- APLLTD.NS: No data found for this date range, symbol may be delisted\n",
      "APOLLO.NS\n",
      "\r",
      "[*********************100%***********************]  1 of 1 completed"
     ]
    },
    {
     "name": "stderr",
     "output_type": "stream",
     "text": [
      "INFO:__main__:Processed APOLLO.NS in 0.01 seconds.\n",
      "INFO:__main__:Processing APOLLOHOSP.NS... 1817 symbols left.\n"
     ]
    },
    {
     "name": "stdout",
     "output_type": "stream",
     "text": [
      "\n",
      "\n",
      "1 Failed download:\n",
      "- APOLLO.NS: No data found for this date range, symbol may be delisted\n",
      "APOLLOHOSP.NS\n",
      "\r",
      "[*********************100%***********************]  1 of 1 completed"
     ]
    },
    {
     "name": "stderr",
     "output_type": "stream",
     "text": [
      "INFO:__main__:Processed APOLLOHOSP.NS in 0.01 seconds.\n",
      "INFO:__main__:Processing APOLLOPIPE.NS... 1816 symbols left.\n"
     ]
    },
    {
     "name": "stdout",
     "output_type": "stream",
     "text": [
      "\n",
      "\n",
      "1 Failed download:\n",
      "- APOLLOHOSP.NS: No data found for this date range, symbol may be delisted\n",
      "APOLLOPIPE.NS\n",
      "\r",
      "[*********************100%***********************]  1 of 1 completed"
     ]
    },
    {
     "name": "stderr",
     "output_type": "stream",
     "text": [
      "INFO:__main__:Processed APOLLOPIPE.NS in 0.01 seconds.\n",
      "INFO:__main__:Processing APOLLOTYRE.NS... 1815 symbols left.\n"
     ]
    },
    {
     "name": "stdout",
     "output_type": "stream",
     "text": [
      "\n",
      "\n",
      "1 Failed download:\n",
      "- APOLLOPIPE.NS: No data found for this date range, symbol may be delisted\n",
      "APOLLOTYRE.NS\n",
      "\r",
      "[*********************100%***********************]  1 of 1 completed"
     ]
    },
    {
     "name": "stderr",
     "output_type": "stream",
     "text": [
      "INFO:__main__:Processed APOLLOTYRE.NS in 0.01 seconds.\n",
      "INFO:__main__:Processing APOLSINHOT.NS... 1814 symbols left.\n"
     ]
    },
    {
     "name": "stdout",
     "output_type": "stream",
     "text": [
      "\n",
      "\n",
      "1 Failed download:\n",
      "- APOLLOTYRE.NS: No data found for this date range, symbol may be delisted\n",
      "APOLSINHOT.NS\n",
      "\r",
      "[*********************100%***********************]  1 of 1 completed"
     ]
    },
    {
     "name": "stderr",
     "output_type": "stream",
     "text": [
      "INFO:__main__:Processed APOLSINHOT.NS in 0.01 seconds.\n",
      "INFO:__main__:Processing APTECHT.NS... 1813 symbols left.\n"
     ]
    },
    {
     "name": "stdout",
     "output_type": "stream",
     "text": [
      "\n",
      "\n",
      "1 Failed download:\n",
      "- APOLSINHOT.NS: No data found for this date range, symbol may be delisted\n",
      "APTECHT.NS\n",
      "\r",
      "[*********************100%***********************]  1 of 1 completed"
     ]
    },
    {
     "name": "stderr",
     "output_type": "stream",
     "text": [
      "INFO:__main__:Processed APTECHT.NS in 0.01 seconds.\n"
     ]
    },
    {
     "name": "stdout",
     "output_type": "stream",
     "text": [
      "\n",
      "\n",
      "1 Failed download:\n",
      "- APTECHT.NS: No data found for this date range, symbol may be delisted\n"
     ]
    },
    {
     "name": "stderr",
     "output_type": "stream",
     "text": [
      "INFO:__main__:Processing APTUS.NS... 1812 symbols left.\n"
     ]
    },
    {
     "name": "stdout",
     "output_type": "stream",
     "text": [
      "APTUS.NS\n",
      "\r",
      "[*********************100%***********************]  1 of 1 completed"
     ]
    },
    {
     "name": "stderr",
     "output_type": "stream",
     "text": [
      "INFO:__main__:Processed APTUS.NS in 0.01 seconds.\n",
      "INFO:__main__:Processing ARCHIDPLY.NS... 1811 symbols left.\n"
     ]
    },
    {
     "name": "stdout",
     "output_type": "stream",
     "text": [
      "\n",
      "\n",
      "1 Failed download:\n",
      "- APTUS.NS: No data found for this date range, symbol may be delisted\n",
      "ARCHIDPLY.NS\n",
      "\r",
      "[*********************100%***********************]  1 of 1 completed"
     ]
    },
    {
     "name": "stderr",
     "output_type": "stream",
     "text": [
      "INFO:__main__:Processed ARCHIDPLY.NS in 0.01 seconds.\n",
      "INFO:__main__:Processing ARCHIES.NS... 1810 symbols left.\n"
     ]
    },
    {
     "name": "stdout",
     "output_type": "stream",
     "text": [
      "\n",
      "\n",
      "1 Failed download:\n",
      "- ARCHIDPLY.NS: No data found for this date range, symbol may be delisted\n",
      "ARCHIES.NS\n",
      "\r",
      "[*********************100%***********************]  1 of 1 completed"
     ]
    },
    {
     "name": "stderr",
     "output_type": "stream",
     "text": [
      "INFO:__main__:Processed ARCHIES.NS in 0.01 seconds.\n",
      "INFO:__main__:Processing ARE&M.NS... 1809 symbols left.\n"
     ]
    },
    {
     "name": "stdout",
     "output_type": "stream",
     "text": [
      "\n",
      "\n",
      "1 Failed download:\n",
      "- ARCHIES.NS: No data found for this date range, symbol may be delisted\n",
      "ARE&M.NS\n",
      "\r",
      "[*********************100%***********************]  1 of 1 completed"
     ]
    },
    {
     "name": "stderr",
     "output_type": "stream",
     "text": [
      "INFO:__main__:Processed ARE&M.NS in 0.01 seconds.\n",
      "INFO:__main__:Processing ARENTERP.NS... 1808 symbols left.\n"
     ]
    },
    {
     "name": "stdout",
     "output_type": "stream",
     "text": [
      "\n",
      "\n",
      "1 Failed download:\n",
      "- ARE&M.NS: No data found for this date range, symbol may be delisted\n",
      "ARENTERP.NS\n",
      "\r",
      "[*********************100%***********************]  1 of 1 completed"
     ]
    },
    {
     "name": "stderr",
     "output_type": "stream",
     "text": [
      "INFO:__main__:Processed ARENTERP.NS in 0.01 seconds.\n",
      "INFO:__main__:Processing ARIES.NS... 1807 symbols left.\n"
     ]
    },
    {
     "name": "stdout",
     "output_type": "stream",
     "text": [
      "\n",
      "\n",
      "1 Failed download:\n",
      "- ARENTERP.NS: No data found for this date range, symbol may be delisted\n",
      "ARIES.NS\n",
      "\r",
      "[*********************100%***********************]  1 of 1 completed"
     ]
    },
    {
     "name": "stderr",
     "output_type": "stream",
     "text": [
      "INFO:__main__:Processed ARIES.NS in 0.01 seconds.\n"
     ]
    },
    {
     "name": "stdout",
     "output_type": "stream",
     "text": [
      "\n",
      "\n",
      "1 Failed download:\n",
      "- ARIES.NS: No data found for this date range, symbol may be delisted\n"
     ]
    },
    {
     "name": "stderr",
     "output_type": "stream",
     "text": [
      "INFO:__main__:Processing ARIHANTCAP.NS... 1806 symbols left.\n"
     ]
    },
    {
     "name": "stdout",
     "output_type": "stream",
     "text": [
      "ARIHANTCAP.NS\n",
      "\r",
      "[*********************100%***********************]  1 of 1 completed"
     ]
    },
    {
     "name": "stderr",
     "output_type": "stream",
     "text": [
      "INFO:__main__:Processed ARIHANTCAP.NS in 0.01 seconds.\n"
     ]
    },
    {
     "name": "stdout",
     "output_type": "stream",
     "text": [
      "\n",
      "\n",
      "1 Failed download:\n",
      "- ARIHANTCAP.NS: No data found for this date range, symbol may be delisted\n"
     ]
    },
    {
     "name": "stderr",
     "output_type": "stream",
     "text": [
      "INFO:__main__:Processing ARIHANTSUP.NS... 1805 symbols left.\n"
     ]
    },
    {
     "name": "stdout",
     "output_type": "stream",
     "text": [
      "ARIHANTSUP.NS\n",
      "\r",
      "[*********************100%***********************]  1 of 1 completed"
     ]
    },
    {
     "name": "stderr",
     "output_type": "stream",
     "text": [
      "INFO:__main__:Processed ARIHANTSUP.NS in 0.03 seconds.\n",
      "INFO:__main__:Processing ARMANFIN.NS... 1804 symbols left.\n"
     ]
    },
    {
     "name": "stdout",
     "output_type": "stream",
     "text": [
      "\n",
      "\n",
      "1 Failed download:\n",
      "- ARIHANTSUP.NS: No data found for this date range, symbol may be delisted\n",
      "ARMANFIN.NS\n",
      "\r",
      "[*********************100%***********************]  1 of 1 completed"
     ]
    },
    {
     "name": "stderr",
     "output_type": "stream",
     "text": [
      "INFO:__main__:Processed ARMANFIN.NS in 0.00 seconds.\n"
     ]
    },
    {
     "name": "stdout",
     "output_type": "stream",
     "text": [
      "\n",
      "\n",
      "1 Failed download:\n",
      "- ARMANFIN.NS: No data found for this date range, symbol may be delisted\n"
     ]
    },
    {
     "name": "stderr",
     "output_type": "stream",
     "text": [
      "INFO:__main__:Processing AROGRANITE.NS... 1803 symbols left.\n"
     ]
    },
    {
     "name": "stdout",
     "output_type": "stream",
     "text": [
      "AROGRANITE.NS\n",
      "\r",
      "[*********************100%***********************]  1 of 1 completed"
     ]
    },
    {
     "name": "stderr",
     "output_type": "stream",
     "text": [
      "INFO:__main__:Processed AROGRANITE.NS in 0.02 seconds.\n",
      "INFO:__main__:Processing ARROWGREEN.NS... 1802 symbols left.\n"
     ]
    },
    {
     "name": "stdout",
     "output_type": "stream",
     "text": [
      "\n",
      "\n",
      "1 Failed download:\n",
      "- AROGRANITE.NS: No data found for this date range, symbol may be delisted\n",
      "ARROWGREEN.NS\n",
      "\r",
      "[*********************100%***********************]  1 of 1 completed"
     ]
    },
    {
     "name": "stderr",
     "output_type": "stream",
     "text": [
      "INFO:__main__:Processed ARROWGREEN.NS in 0.01 seconds.\n",
      "INFO:__main__:Processing ARSHIYA.NS... 1801 symbols left.\n"
     ]
    },
    {
     "name": "stdout",
     "output_type": "stream",
     "text": [
      "\n",
      "\n",
      "1 Failed download:\n",
      "- ARROWGREEN.NS: No data found for this date range, symbol may be delisted\n",
      "ARSHIYA.NS\n",
      "\r",
      "[*********************100%***********************]  1 of 1 completed"
     ]
    },
    {
     "name": "stderr",
     "output_type": "stream",
     "text": [
      "INFO:__main__:Processed ARSHIYA.NS in 0.01 seconds.\n",
      "INFO:__main__:Processing ARTEMISMED.NS... 1800 symbols left.\n"
     ]
    },
    {
     "name": "stdout",
     "output_type": "stream",
     "text": [
      "\n",
      "\n",
      "1 Failed download:\n",
      "- ARSHIYA.NS: No data found for this date range, symbol may be delisted\n",
      "ARTEMISMED.NS\n",
      "\r",
      "[*********************100%***********************]  1 of 1 completed"
     ]
    },
    {
     "name": "stderr",
     "output_type": "stream",
     "text": [
      "INFO:__main__:Processed ARTEMISMED.NS in 0.01 seconds.\n",
      "INFO:__main__:Processing ARTNIRMAN.NS... 1799 symbols left.\n"
     ]
    },
    {
     "name": "stdout",
     "output_type": "stream",
     "text": [
      "\n",
      "\n",
      "1 Failed download:\n",
      "- ARTEMISMED.NS: No data found for this date range, symbol may be delisted\n",
      "ARTNIRMAN.NS\n",
      "\r",
      "[*********************100%***********************]  1 of 1 completed"
     ]
    },
    {
     "name": "stderr",
     "output_type": "stream",
     "text": [
      "INFO:__main__:Processed ARTNIRMAN.NS in 0.01 seconds.\n",
      "INFO:__main__:Processing ARVEE.NS... 1798 symbols left.\n"
     ]
    },
    {
     "name": "stdout",
     "output_type": "stream",
     "text": [
      "\n",
      "\n",
      "1 Failed download:\n",
      "- ARTNIRMAN.NS: No data found for this date range, symbol may be delisted\n",
      "ARVEE.NS\n",
      "\r",
      "[*********************100%***********************]  1 of 1 completed"
     ]
    },
    {
     "name": "stderr",
     "output_type": "stream",
     "text": [
      "INFO:__main__:Processed ARVEE.NS in 0.01 seconds.\n",
      "INFO:__main__:Processing ARVIND.NS... 1797 symbols left.\n"
     ]
    },
    {
     "name": "stdout",
     "output_type": "stream",
     "text": [
      "\n",
      "\n",
      "1 Failed download:\n",
      "- ARVEE.NS: No data found for this date range, symbol may be delisted\n",
      "ARVIND.NS\n",
      "\r",
      "[*********************100%***********************]  1 of 1 completed"
     ]
    },
    {
     "name": "stderr",
     "output_type": "stream",
     "text": [
      "INFO:__main__:Processed ARVIND.NS in 0.01 seconds.\n",
      "INFO:__main__:Processing ARVINDFASN.NS... 1796 symbols left.\n"
     ]
    },
    {
     "name": "stdout",
     "output_type": "stream",
     "text": [
      "\n",
      "\n",
      "1 Failed download:\n",
      "- ARVIND.NS: No data found for this date range, symbol may be delisted\n",
      "ARVINDFASN.NS\n",
      "\r",
      "[*********************100%***********************]  1 of 1 completed"
     ]
    },
    {
     "name": "stderr",
     "output_type": "stream",
     "text": [
      "INFO:__main__:Processed ARVINDFASN.NS in 0.01 seconds.\n",
      "INFO:__main__:Processing ARVSMART.NS... 1795 symbols left.\n"
     ]
    },
    {
     "name": "stdout",
     "output_type": "stream",
     "text": [
      "\n",
      "\n",
      "1 Failed download:\n",
      "- ARVINDFASN.NS: No data found for this date range, symbol may be delisted\n",
      "ARVSMART.NS\n",
      "\r",
      "[*********************100%***********************]  1 of 1 completed"
     ]
    },
    {
     "name": "stderr",
     "output_type": "stream",
     "text": [
      "INFO:__main__:Processed ARVSMART.NS in 0.01 seconds.\n",
      "INFO:__main__:Processing ASAHIINDIA.NS... 1794 symbols left.\n"
     ]
    },
    {
     "name": "stdout",
     "output_type": "stream",
     "text": [
      "\n",
      "\n",
      "1 Failed download:\n",
      "- ARVSMART.NS: No data found for this date range, symbol may be delisted\n",
      "ASAHIINDIA.NS\n",
      "\r",
      "[*********************100%***********************]  1 of 1 completed"
     ]
    },
    {
     "name": "stderr",
     "output_type": "stream",
     "text": [
      "INFO:__main__:Processed ASAHIINDIA.NS in 0.01 seconds.\n",
      "INFO:__main__:Processing ASAHISONG.NS... 1793 symbols left.\n"
     ]
    },
    {
     "name": "stdout",
     "output_type": "stream",
     "text": [
      "\n",
      "\n",
      "1 Failed download:\n",
      "- ASAHIINDIA.NS: No data found for this date range, symbol may be delisted\n",
      "ASAHISONG.NS\n",
      "\r",
      "[*********************100%***********************]  1 of 1 completed"
     ]
    },
    {
     "name": "stderr",
     "output_type": "stream",
     "text": [
      "INFO:__main__:Processed ASAHISONG.NS in 0.01 seconds.\n",
      "INFO:__main__:Processing ASAL.NS... 1792 symbols left.\n"
     ]
    },
    {
     "name": "stdout",
     "output_type": "stream",
     "text": [
      "\n",
      "\n",
      "1 Failed download:\n",
      "- ASAHISONG.NS: No data found for this date range, symbol may be delisted\n",
      "ASAL.NS\n",
      "\r",
      "[*********************100%***********************]  1 of 1 completed"
     ]
    },
    {
     "name": "stderr",
     "output_type": "stream",
     "text": [
      "INFO:__main__:Processed ASAL.NS in 0.01 seconds.\n",
      "INFO:__main__:Processing ASALCBR.NS... 1791 symbols left.\n"
     ]
    },
    {
     "name": "stdout",
     "output_type": "stream",
     "text": [
      "\n",
      "\n",
      "1 Failed download:\n",
      "- ASAL.NS: No data found for this date range, symbol may be delisted\n",
      "ASALCBR.NS\n",
      "\r",
      "[*********************100%***********************]  1 of 1 completed"
     ]
    },
    {
     "name": "stderr",
     "output_type": "stream",
     "text": [
      "INFO:__main__:Processed ASALCBR.NS in 0.01 seconds.\n",
      "INFO:__main__:Processing ASHAPURMIN.NS... 1790 symbols left.\n"
     ]
    },
    {
     "name": "stdout",
     "output_type": "stream",
     "text": [
      "\n",
      "\n",
      "1 Failed download:\n",
      "- ASALCBR.NS: No data found for this date range, symbol may be delisted\n",
      "ASHAPURMIN.NS\n",
      "\r",
      "[*********************100%***********************]  1 of 1 completed"
     ]
    },
    {
     "name": "stderr",
     "output_type": "stream",
     "text": [
      "INFO:__main__:Processed ASHAPURMIN.NS in 0.01 seconds.\n",
      "INFO:__main__:Processing ASHIANA.NS... 1789 symbols left.\n"
     ]
    },
    {
     "name": "stdout",
     "output_type": "stream",
     "text": [
      "\n",
      "\n",
      "1 Failed download:\n",
      "- ASHAPURMIN.NS: No data found for this date range, symbol may be delisted\n",
      "ASHIANA.NS\n",
      "\r",
      "[*********************100%***********************]  1 of 1 completed"
     ]
    },
    {
     "name": "stderr",
     "output_type": "stream",
     "text": [
      "INFO:__main__:Processed ASHIANA.NS in 0.01 seconds.\n",
      "INFO:__main__:Processing ASHIMASYN.NS... 1788 symbols left.\n"
     ]
    },
    {
     "name": "stdout",
     "output_type": "stream",
     "text": [
      "\n",
      "\n",
      "1 Failed download:\n",
      "- ASHIANA.NS: No data found for this date range, symbol may be delisted\n",
      "ASHIMASYN.NS\n",
      "\r",
      "[*********************100%***********************]  1 of 1 completed"
     ]
    },
    {
     "name": "stderr",
     "output_type": "stream",
     "text": [
      "INFO:__main__:Processed ASHIMASYN.NS in 0.00 seconds.\n",
      "INFO:__main__:Processing ASHOKA.NS... 1787 symbols left.\n"
     ]
    },
    {
     "name": "stdout",
     "output_type": "stream",
     "text": [
      "\n",
      "\n",
      "1 Failed download:\n",
      "- ASHIMASYN.NS: No data found for this date range, symbol may be delisted\n",
      "ASHOKA.NS\n",
      "\r",
      "[*********************100%***********************]  1 of 1 completed"
     ]
    },
    {
     "name": "stderr",
     "output_type": "stream",
     "text": [
      "INFO:__main__:Processed ASHOKA.NS in 0.03 seconds.\n",
      "INFO:__main__:Processing ASHOKAMET.NS... 1786 symbols left.\n"
     ]
    },
    {
     "name": "stdout",
     "output_type": "stream",
     "text": [
      "\n",
      "\n",
      "1 Failed download:\n",
      "- ASHOKA.NS: No data found for this date range, symbol may be delisted\n",
      "ASHOKAMET.NS\n",
      "\r",
      "[*********************100%***********************]  1 of 1 completed"
     ]
    },
    {
     "name": "stderr",
     "output_type": "stream",
     "text": [
      "INFO:__main__:Processed ASHOKAMET.NS in 0.01 seconds.\n",
      "INFO:__main__:Processing ASHOKLEY.NS... 1785 symbols left.\n"
     ]
    },
    {
     "name": "stdout",
     "output_type": "stream",
     "text": [
      "\n",
      "\n",
      "1 Failed download:\n",
      "- ASHOKAMET.NS: No data found for this date range, symbol may be delisted\n",
      "ASHOKLEY.NS\n",
      "\r",
      "[*********************100%***********************]  1 of 1 completed"
     ]
    },
    {
     "name": "stderr",
     "output_type": "stream",
     "text": [
      "INFO:__main__:Processed ASHOKLEY.NS in 0.01 seconds.\n",
      "INFO:__main__:Processing ASIANENE.NS... 1784 symbols left.\n"
     ]
    },
    {
     "name": "stdout",
     "output_type": "stream",
     "text": [
      "\n",
      "\n",
      "1 Failed download:\n",
      "- ASHOKLEY.NS: No data found for this date range, symbol may be delisted\n",
      "ASIANENE.NS\n",
      "\r",
      "[*********************100%***********************]  1 of 1 completed"
     ]
    },
    {
     "name": "stderr",
     "output_type": "stream",
     "text": [
      "INFO:__main__:Processed ASIANENE.NS in 0.01 seconds.\n",
      "INFO:__main__:Processing ASIANHOTNR.NS... 1783 symbols left.\n"
     ]
    },
    {
     "name": "stdout",
     "output_type": "stream",
     "text": [
      "\n",
      "\n",
      "1 Failed download:\n",
      "- ASIANENE.NS: No data found for this date range, symbol may be delisted\n",
      "ASIANHOTNR.NS\n",
      "\r",
      "[*********************100%***********************]  1 of 1 completed"
     ]
    },
    {
     "name": "stderr",
     "output_type": "stream",
     "text": [
      "INFO:__main__:Processed ASIANHOTNR.NS in 0.01 seconds.\n",
      "INFO:__main__:Processing ASIANPAINT.NS... 1782 symbols left.\n"
     ]
    },
    {
     "name": "stdout",
     "output_type": "stream",
     "text": [
      "\n",
      "\n",
      "1 Failed download:\n",
      "- ASIANHOTNR.NS: No data found for this date range, symbol may be delisted\n",
      "ASIANPAINT.NS\n",
      "\r",
      "[*********************100%***********************]  1 of 1 completed"
     ]
    },
    {
     "name": "stderr",
     "output_type": "stream",
     "text": [
      "INFO:__main__:Processed ASIANPAINT.NS in 0.01 seconds.\n",
      "INFO:__main__:Processing ASIANTILES.NS... 1781 symbols left.\n"
     ]
    },
    {
     "name": "stdout",
     "output_type": "stream",
     "text": [
      "\n",
      "\n",
      "1 Failed download:\n",
      "- ASIANPAINT.NS: No data found for this date range, symbol may be delisted\n",
      "ASIANTILES.NS\n",
      "\r",
      "[*********************100%***********************]  1 of 1 completed"
     ]
    },
    {
     "name": "stderr",
     "output_type": "stream",
     "text": [
      "INFO:__main__:Processed ASIANTILES.NS in 0.01 seconds.\n",
      "INFO:__main__:Processing ASKAUTOLTD.NS... 1780 symbols left.\n"
     ]
    },
    {
     "name": "stdout",
     "output_type": "stream",
     "text": [
      "\n",
      "\n",
      "1 Failed download:\n",
      "- ASIANTILES.NS: No data found for this date range, symbol may be delisted\n",
      "ASKAUTOLTD.NS\n",
      "\r",
      "[*********************100%***********************]  1 of 1 completed"
     ]
    },
    {
     "name": "stderr",
     "output_type": "stream",
     "text": [
      "INFO:__main__:Processed ASKAUTOLTD.NS in 0.01 seconds.\n",
      "INFO:__main__:Processing ASMS.NS... 1779 symbols left.\n"
     ]
    },
    {
     "name": "stdout",
     "output_type": "stream",
     "text": [
      "\n",
      "\n",
      "1 Failed download:\n",
      "- ASKAUTOLTD.NS: No data found for this date range, symbol may be delisted\n",
      "ASMS.NS\n",
      "\r",
      "[*********************100%***********************]  1 of 1 completed"
     ]
    },
    {
     "name": "stderr",
     "output_type": "stream",
     "text": [
      "INFO:__main__:Processed ASMS.NS in 0.00 seconds.\n",
      "INFO:__main__:Processing ASPINWALL.NS... 1778 symbols left.\n"
     ]
    },
    {
     "name": "stdout",
     "output_type": "stream",
     "text": [
      "\n",
      "\n",
      "1 Failed download:\n",
      "- ASMS.NS: No data found for this date range, symbol may be delisted\n",
      "ASPINWALL.NS\n",
      "\r",
      "[*********************100%***********************]  1 of 1 completed"
     ]
    },
    {
     "name": "stderr",
     "output_type": "stream",
     "text": [
      "INFO:__main__:Processed ASPINWALL.NS in 0.02 seconds.\n",
      "INFO:__main__:Processing ASTEC.NS... 1777 symbols left.\n"
     ]
    },
    {
     "name": "stdout",
     "output_type": "stream",
     "text": [
      "\n",
      "\n",
      "1 Failed download:\n",
      "- ASPINWALL.NS: No data found for this date range, symbol may be delisted\n",
      "ASTEC.NS\n",
      "\r",
      "[*********************100%***********************]  1 of 1 completed"
     ]
    },
    {
     "name": "stderr",
     "output_type": "stream",
     "text": [
      "INFO:__main__:Processed ASTEC.NS in 0.01 seconds.\n",
      "INFO:__main__:Processing ASTERDM.NS... 1776 symbols left.\n"
     ]
    },
    {
     "name": "stdout",
     "output_type": "stream",
     "text": [
      "\n",
      "\n",
      "1 Failed download:\n",
      "- ASTEC.NS: No data found for this date range, symbol may be delisted\n",
      "ASTERDM.NS\n",
      "\r",
      "[*********************100%***********************]  1 of 1 completed"
     ]
    },
    {
     "name": "stderr",
     "output_type": "stream",
     "text": [
      "INFO:__main__:Processed ASTERDM.NS in 0.01 seconds.\n",
      "INFO:__main__:Processing ASTRAL.NS... 1775 symbols left.\n"
     ]
    },
    {
     "name": "stdout",
     "output_type": "stream",
     "text": [
      "\n",
      "\n",
      "1 Failed download:\n",
      "- ASTERDM.NS: No data found for this date range, symbol may be delisted\n",
      "ASTRAL.NS\n",
      "\r",
      "[*********************100%***********************]  1 of 1 completed"
     ]
    },
    {
     "name": "stderr",
     "output_type": "stream",
     "text": [
      "INFO:__main__:Processed ASTRAL.NS in 0.01 seconds.\n",
      "INFO:__main__:Processing ASTRAMICRO.NS... 1774 symbols left.\n"
     ]
    },
    {
     "name": "stdout",
     "output_type": "stream",
     "text": [
      "\n",
      "\n",
      "1 Failed download:\n",
      "- ASTRAL.NS: No data found for this date range, symbol may be delisted\n",
      "ASTRAMICRO.NS\n",
      "\r",
      "[*********************100%***********************]  1 of 1 completed"
     ]
    },
    {
     "name": "stderr",
     "output_type": "stream",
     "text": [
      "INFO:__main__:Processed ASTRAMICRO.NS in 0.01 seconds.\n",
      "INFO:__main__:Processing ASTRAZEN.NS... 1773 symbols left.\n"
     ]
    },
    {
     "name": "stdout",
     "output_type": "stream",
     "text": [
      "\n",
      "\n",
      "1 Failed download:\n",
      "- ASTRAMICRO.NS: No data found for this date range, symbol may be delisted\n",
      "ASTRAZEN.NS\n",
      "\r",
      "[*********************100%***********************]  1 of 1 completed"
     ]
    },
    {
     "name": "stderr",
     "output_type": "stream",
     "text": [
      "INFO:__main__:Processed ASTRAZEN.NS in 0.01 seconds.\n",
      "INFO:__main__:Processing ASTRON.NS... 1772 symbols left.\n"
     ]
    },
    {
     "name": "stdout",
     "output_type": "stream",
     "text": [
      "\n",
      "\n",
      "1 Failed download:\n",
      "- ASTRAZEN.NS: No data found for this date range, symbol may be delisted\n",
      "ASTRON.NS\n",
      "\r",
      "[*********************100%***********************]  1 of 1 completed"
     ]
    },
    {
     "name": "stderr",
     "output_type": "stream",
     "text": [
      "INFO:__main__:Processed ASTRON.NS in 0.01 seconds.\n",
      "INFO:__main__:Processing ATALREAL.NS... 1771 symbols left.\n"
     ]
    },
    {
     "name": "stdout",
     "output_type": "stream",
     "text": [
      "\n",
      "\n",
      "1 Failed download:\n",
      "- ASTRON.NS: No data found for this date range, symbol may be delisted\n",
      "ATALREAL.NS\n",
      "\r",
      "[*********************100%***********************]  1 of 1 completed"
     ]
    },
    {
     "name": "stderr",
     "output_type": "stream",
     "text": [
      "INFO:__main__:Processed ATALREAL.NS in 0.01 seconds.\n",
      "INFO:__main__:Processing ATAM.NS... 1770 symbols left.\n"
     ]
    },
    {
     "name": "stdout",
     "output_type": "stream",
     "text": [
      "\n",
      "\n",
      "1 Failed download:\n",
      "- ATALREAL.NS: No data found for this date range, symbol may be delisted\n",
      "ATAM.NS\n",
      "\r",
      "[*********************100%***********************]  1 of 1 completed"
     ]
    },
    {
     "name": "stderr",
     "output_type": "stream",
     "text": [
      "INFO:__main__:Processed ATAM.NS in 0.01 seconds.\n",
      "INFO:__main__:Processing ATFL.NS... 1769 symbols left.\n"
     ]
    },
    {
     "name": "stdout",
     "output_type": "stream",
     "text": [
      "\n",
      "\n",
      "1 Failed download:\n",
      "- ATAM.NS: No data found for this date range, symbol may be delisted\n",
      "ATFL.NS\n",
      "\r",
      "[*********************100%***********************]  1 of 1 completed"
     ]
    },
    {
     "name": "stderr",
     "output_type": "stream",
     "text": [
      "INFO:__main__:Processed ATFL.NS in 0.01 seconds.\n",
      "INFO:__main__:Processing ATGL.NS... 1768 symbols left.\n"
     ]
    },
    {
     "name": "stdout",
     "output_type": "stream",
     "text": [
      "\n",
      "\n",
      "1 Failed download:\n",
      "- ATFL.NS: No data found for this date range, symbol may be delisted\n",
      "ATGL.NS\n",
      "\r",
      "[*********************100%***********************]  1 of 1 completed"
     ]
    },
    {
     "name": "stderr",
     "output_type": "stream",
     "text": [
      "INFO:__main__:Processed ATGL.NS in 0.01 seconds.\n",
      "INFO:__main__:Processing ATL.NS... 1767 symbols left.\n"
     ]
    },
    {
     "name": "stdout",
     "output_type": "stream",
     "text": [
      "\n",
      "\n",
      "1 Failed download:\n",
      "- ATGL.NS: No data found for this date range, symbol may be delisted\n",
      "ATL.NS\n",
      "\r",
      "[*********************100%***********************]  1 of 1 completed"
     ]
    },
    {
     "name": "stderr",
     "output_type": "stream",
     "text": [
      "INFO:__main__:Processed ATL.NS in 0.01 seconds.\n",
      "INFO:__main__:Processing ATLANTA.NS... 1766 symbols left.\n"
     ]
    },
    {
     "name": "stdout",
     "output_type": "stream",
     "text": [
      "\n",
      "\n",
      "1 Failed download:\n",
      "- ATL.NS: No data found for this date range, symbol may be delisted\n",
      "ATLANTA.NS\n",
      "\r",
      "[*********************100%***********************]  1 of 1 completed"
     ]
    },
    {
     "name": "stderr",
     "output_type": "stream",
     "text": [
      "INFO:__main__:Processed ATLANTA.NS in 0.01 seconds.\n",
      "INFO:__main__:Processing ATUL.NS... 1765 symbols left.\n"
     ]
    },
    {
     "name": "stdout",
     "output_type": "stream",
     "text": [
      "\n",
      "\n",
      "1 Failed download:\n",
      "- ATLANTA.NS: No data found for this date range, symbol may be delisted\n",
      "ATUL.NS\n",
      "\r",
      "[*********************100%***********************]  1 of 1 completed"
     ]
    },
    {
     "name": "stderr",
     "output_type": "stream",
     "text": [
      "INFO:__main__:Processed ATUL.NS in 0.01 seconds.\n",
      "INFO:__main__:Processing ATULAUTO.NS... 1764 symbols left.\n"
     ]
    },
    {
     "name": "stdout",
     "output_type": "stream",
     "text": [
      "\n",
      "\n",
      "1 Failed download:\n",
      "- ATUL.NS: No data found for this date range, symbol may be delisted\n",
      "ATULAUTO.NS\n",
      "\r",
      "[*********************100%***********************]  1 of 1 completed"
     ]
    },
    {
     "name": "stderr",
     "output_type": "stream",
     "text": [
      "INFO:__main__:Processed ATULAUTO.NS in 0.01 seconds.\n",
      "INFO:__main__:Processing AUBANK.NS... 1763 symbols left.\n"
     ]
    },
    {
     "name": "stdout",
     "output_type": "stream",
     "text": [
      "\n",
      "\n",
      "1 Failed download:\n",
      "- ATULAUTO.NS: No data found for this date range, symbol may be delisted\n",
      "AUBANK.NS\n",
      "\r",
      "[*********************100%***********************]  1 of 1 completed"
     ]
    },
    {
     "name": "stderr",
     "output_type": "stream",
     "text": [
      "INFO:__main__:Processed AUBANK.NS in 0.01 seconds.\n",
      "INFO:__main__:Processing AURIONPRO.NS... 1762 symbols left.\n"
     ]
    },
    {
     "name": "stdout",
     "output_type": "stream",
     "text": [
      "\n",
      "\n",
      "1 Failed download:\n",
      "- AUBANK.NS: No data found for this date range, symbol may be delisted\n",
      "AURIONPRO.NS\n",
      "\r",
      "[*********************100%***********************]  1 of 1 completed"
     ]
    },
    {
     "name": "stderr",
     "output_type": "stream",
     "text": [
      "INFO:__main__:Processed AURIONPRO.NS in 0.01 seconds.\n",
      "INFO:__main__:Processing AUROPHARMA.NS... 1761 symbols left.\n"
     ]
    },
    {
     "name": "stdout",
     "output_type": "stream",
     "text": [
      "\n",
      "\n",
      "1 Failed download:\n",
      "- AURIONPRO.NS: No data found for this date range, symbol may be delisted\n",
      "AUROPHARMA.NS\n",
      "\r",
      "[*********************100%***********************]  1 of 1 completed"
     ]
    },
    {
     "name": "stderr",
     "output_type": "stream",
     "text": [
      "INFO:__main__:Processed AUROPHARMA.NS in 0.01 seconds.\n",
      "INFO:__main__:Processing AURUM.NS... 1760 symbols left.\n"
     ]
    },
    {
     "name": "stdout",
     "output_type": "stream",
     "text": [
      "\n",
      "\n",
      "1 Failed download:\n",
      "- AUROPHARMA.NS: No data found for this date range, symbol may be delisted\n",
      "AURUM.NS\n",
      "\r",
      "[*********************100%***********************]  1 of 1 completed"
     ]
    },
    {
     "name": "stderr",
     "output_type": "stream",
     "text": [
      "INFO:__main__:Processed AURUM.NS in 0.01 seconds.\n",
      "INFO:__main__:Processing AUSOMENT.NS... 1759 symbols left.\n"
     ]
    },
    {
     "name": "stdout",
     "output_type": "stream",
     "text": [
      "\n",
      "\n",
      "1 Failed download:\n",
      "- AURUM.NS: No data found for this date range, symbol may be delisted\n",
      "AUSOMENT.NS\n",
      "\r",
      "[*********************100%***********************]  1 of 1 completed"
     ]
    },
    {
     "name": "stderr",
     "output_type": "stream",
     "text": [
      "INFO:__main__:Processed AUSOMENT.NS in 0.01 seconds.\n",
      "INFO:__main__:Processing AUTOAXLES.NS... 1758 symbols left.\n"
     ]
    },
    {
     "name": "stdout",
     "output_type": "stream",
     "text": [
      "\n",
      "\n",
      "1 Failed download:\n",
      "- AUSOMENT.NS: No data found for this date range, symbol may be delisted\n",
      "AUTOAXLES.NS\n",
      "\r",
      "[*********************100%***********************]  1 of 1 completed"
     ]
    },
    {
     "name": "stderr",
     "output_type": "stream",
     "text": [
      "INFO:__main__:Processed AUTOAXLES.NS in 0.01 seconds.\n",
      "INFO:__main__:Processing AUTOIND.NS... 1757 symbols left.\n"
     ]
    },
    {
     "name": "stdout",
     "output_type": "stream",
     "text": [
      "\n",
      "\n",
      "1 Failed download:\n",
      "- AUTOAXLES.NS: No data found for this date range, symbol may be delisted\n",
      "AUTOIND.NS\n",
      "\r",
      "[*********************100%***********************]  1 of 1 completed"
     ]
    },
    {
     "name": "stderr",
     "output_type": "stream",
     "text": [
      "INFO:__main__:Processed AUTOIND.NS in 0.01 seconds.\n",
      "INFO:__main__:Processing AVADHSUGAR.NS... 1756 symbols left.\n"
     ]
    },
    {
     "name": "stdout",
     "output_type": "stream",
     "text": [
      "\n",
      "\n",
      "1 Failed download:\n",
      "- AUTOIND.NS: No data found for this date range, symbol may be delisted\n",
      "AVADHSUGAR.NS\n",
      "\r",
      "[*********************100%***********************]  1 of 1 completed"
     ]
    },
    {
     "name": "stderr",
     "output_type": "stream",
     "text": [
      "INFO:__main__:Processed AVADHSUGAR.NS in 0.01 seconds.\n",
      "INFO:__main__:Processing AVALON.NS... 1755 symbols left.\n"
     ]
    },
    {
     "name": "stdout",
     "output_type": "stream",
     "text": [
      "\n",
      "\n",
      "1 Failed download:\n",
      "- AVADHSUGAR.NS: No data found for this date range, symbol may be delisted\n",
      "AVALON.NS\n",
      "\r",
      "[*********************100%***********************]  1 of 1 completed"
     ]
    },
    {
     "name": "stderr",
     "output_type": "stream",
     "text": [
      "INFO:__main__:Processed AVALON.NS in 0.01 seconds.\n",
      "INFO:__main__:Processing AVANTIFEED.NS... 1754 symbols left.\n"
     ]
    },
    {
     "name": "stdout",
     "output_type": "stream",
     "text": [
      "\n",
      "\n",
      "1 Failed download:\n",
      "- AVALON.NS: No data found for this date range, symbol may be delisted\n",
      "AVANTIFEED.NS\n",
      "\r",
      "[*********************100%***********************]  1 of 1 completed"
     ]
    },
    {
     "name": "stderr",
     "output_type": "stream",
     "text": [
      "INFO:__main__:Processed AVANTIFEED.NS in 0.01 seconds.\n",
      "INFO:__main__:Processing AVG.NS... 1753 symbols left.\n"
     ]
    },
    {
     "name": "stdout",
     "output_type": "stream",
     "text": [
      "\n",
      "\n",
      "1 Failed download:\n",
      "- AVANTIFEED.NS: No data found for this date range, symbol may be delisted\n",
      "AVG.NS\n",
      "\r",
      "[*********************100%***********************]  1 of 1 completed"
     ]
    },
    {
     "name": "stderr",
     "output_type": "stream",
     "text": [
      "INFO:__main__:Processed AVG.NS in 0.01 seconds.\n",
      "INFO:__main__:Processing AVONMORE.NS... 1752 symbols left.\n"
     ]
    },
    {
     "name": "stdout",
     "output_type": "stream",
     "text": [
      "\n",
      "\n",
      "1 Failed download:\n",
      "- AVG.NS: No data found for this date range, symbol may be delisted\n",
      "AVONMORE.NS\n",
      "\r",
      "[*********************100%***********************]  1 of 1 completed"
     ]
    },
    {
     "name": "stderr",
     "output_type": "stream",
     "text": [
      "INFO:__main__:Processed AVONMORE.NS in 0.01 seconds.\n",
      "INFO:__main__:Processing AVROIND.NS... 1751 symbols left.\n"
     ]
    },
    {
     "name": "stdout",
     "output_type": "stream",
     "text": [
      "\n",
      "\n",
      "1 Failed download:\n",
      "- AVONMORE.NS: No data found for this date range, symbol may be delisted\n",
      "AVROIND.NS\n",
      "\r",
      "[*********************100%***********************]  1 of 1 completed"
     ]
    },
    {
     "name": "stderr",
     "output_type": "stream",
     "text": [
      "INFO:__main__:Processed AVROIND.NS in 0.02 seconds.\n"
     ]
    },
    {
     "name": "stdout",
     "output_type": "stream",
     "text": [
      "\n",
      "\n",
      "1 Failed download:\n",
      "- AVROIND.NS: No data found for this date range, symbol may be delisted\n"
     ]
    },
    {
     "name": "stderr",
     "output_type": "stream",
     "text": [
      "INFO:__main__:Processing AVTNPL.NS... 1750 symbols left.\n"
     ]
    },
    {
     "name": "stdout",
     "output_type": "stream",
     "text": [
      "AVTNPL.NS\n",
      "\r",
      "[*********************100%***********************]  1 of 1 completed"
     ]
    },
    {
     "name": "stderr",
     "output_type": "stream",
     "text": [
      "INFO:__main__:Processed AVTNPL.NS in 0.01 seconds.\n",
      "INFO:__main__:Processing AWHCL.NS... 1749 symbols left.\n"
     ]
    },
    {
     "name": "stdout",
     "output_type": "stream",
     "text": [
      "\n",
      "\n",
      "1 Failed download:\n",
      "- AVTNPL.NS: No data found for this date range, symbol may be delisted\n",
      "AWHCL.NS\n",
      "\r",
      "[*********************100%***********************]  1 of 1 completed"
     ]
    },
    {
     "name": "stderr",
     "output_type": "stream",
     "text": [
      "INFO:__main__:Processed AWHCL.NS in 0.01 seconds.\n",
      "INFO:__main__:Processing AWL.NS... 1748 symbols left.\n"
     ]
    },
    {
     "name": "stdout",
     "output_type": "stream",
     "text": [
      "\n",
      "\n",
      "1 Failed download:\n",
      "- AWHCL.NS: No data found for this date range, symbol may be delisted\n",
      "AWL.NS\n",
      "\r",
      "[*********************100%***********************]  1 of 1 completed"
     ]
    },
    {
     "name": "stderr",
     "output_type": "stream",
     "text": [
      "INFO:__main__:Processed AWL.NS in 0.01 seconds.\n",
      "INFO:__main__:Processing AXISBANK.NS... 1747 symbols left.\n"
     ]
    },
    {
     "name": "stdout",
     "output_type": "stream",
     "text": [
      "\n",
      "\n",
      "1 Failed download:\n",
      "- AWL.NS: No data found for this date range, symbol may be delisted\n",
      "AXISBANK.NS\n",
      "\r",
      "[*********************100%***********************]  1 of 1 completed"
     ]
    },
    {
     "name": "stderr",
     "output_type": "stream",
     "text": [
      "INFO:__main__:Processed AXISBANK.NS in 0.01 seconds.\n",
      "INFO:__main__:Processing AXISCADES.NS... 1746 symbols left.\n"
     ]
    },
    {
     "name": "stdout",
     "output_type": "stream",
     "text": [
      "\n",
      "\n",
      "1 Failed download:\n",
      "- AXISBANK.NS: No data found for this date range, symbol may be delisted\n",
      "AXISCADES.NS\n",
      "\r",
      "[*********************100%***********************]  1 of 1 completed"
     ]
    },
    {
     "name": "stderr",
     "output_type": "stream",
     "text": [
      "INFO:__main__:Processed AXISCADES.NS in 0.01 seconds.\n",
      "INFO:__main__:Processing AXITA.NS... 1745 symbols left.\n"
     ]
    },
    {
     "name": "stdout",
     "output_type": "stream",
     "text": [
      "\n",
      "\n",
      "1 Failed download:\n",
      "- AXISCADES.NS: No data found for this date range, symbol may be delisted\n",
      "AXITA.NS\n",
      "\r",
      "[*********************100%***********************]  1 of 1 completed"
     ]
    },
    {
     "name": "stderr",
     "output_type": "stream",
     "text": [
      "INFO:__main__:Processed AXITA.NS in 0.01 seconds.\n",
      "INFO:__main__:Processing AYMSYNTEX.NS... 1744 symbols left.\n"
     ]
    },
    {
     "name": "stdout",
     "output_type": "stream",
     "text": [
      "\n",
      "\n",
      "1 Failed download:\n",
      "- AXITA.NS: No data found for this date range, symbol may be delisted\n",
      "AYMSYNTEX.NS\n",
      "\r",
      "[*********************100%***********************]  1 of 1 completed"
     ]
    },
    {
     "name": "stderr",
     "output_type": "stream",
     "text": [
      "INFO:__main__:Processed AYMSYNTEX.NS in 0.01 seconds.\n",
      "INFO:__main__:Processing BAFNAPH.NS... 1743 symbols left.\n"
     ]
    },
    {
     "name": "stdout",
     "output_type": "stream",
     "text": [
      "\n",
      "\n",
      "1 Failed download:\n",
      "- AYMSYNTEX.NS: No data found for this date range, symbol may be delisted\n",
      "BAFNAPH.NS\n",
      "\r",
      "[*********************100%***********************]  1 of 1 completed"
     ]
    },
    {
     "name": "stderr",
     "output_type": "stream",
     "text": [
      "INFO:__main__:Processed BAFNAPH.NS in 0.01 seconds.\n",
      "INFO:__main__:Processing BAGFILMS.NS... 1742 symbols left.\n"
     ]
    },
    {
     "name": "stdout",
     "output_type": "stream",
     "text": [
      "\n",
      "\n",
      "1 Failed download:\n",
      "- BAFNAPH.NS: No data found for this date range, symbol may be delisted\n",
      "BAGFILMS.NS\n",
      "\r",
      "[*********************100%***********************]  1 of 1 completed"
     ]
    },
    {
     "name": "stderr",
     "output_type": "stream",
     "text": [
      "INFO:__main__:Processed BAGFILMS.NS in 0.01 seconds.\n",
      "INFO:__main__:Processing BAIDFIN.NS... 1741 symbols left.\n"
     ]
    },
    {
     "name": "stdout",
     "output_type": "stream",
     "text": [
      "\n",
      "\n",
      "1 Failed download:\n",
      "- BAGFILMS.NS: No data found for this date range, symbol may be delisted\n",
      "BAIDFIN.NS\n",
      "\r",
      "[*********************100%***********************]  1 of 1 completed"
     ]
    },
    {
     "name": "stderr",
     "output_type": "stream",
     "text": [
      "INFO:__main__:Processed BAIDFIN.NS in 0.01 seconds.\n",
      "INFO:__main__:Processing BAJAJ-AUTO.NS... 1740 symbols left.\n"
     ]
    },
    {
     "name": "stdout",
     "output_type": "stream",
     "text": [
      "\n",
      "\n",
      "1 Failed download:\n",
      "- BAIDFIN.NS: No data found for this date range, symbol may be delisted\n",
      "BAJAJ-AUTO.NS\n",
      "\r",
      "[*********************100%***********************]  1 of 1 completed"
     ]
    },
    {
     "name": "stderr",
     "output_type": "stream",
     "text": [
      "INFO:__main__:Processed BAJAJ-AUTO.NS in 0.01 seconds.\n",
      "INFO:__main__:Processing BAJAJCON.NS... 1739 symbols left.\n"
     ]
    },
    {
     "name": "stdout",
     "output_type": "stream",
     "text": [
      "\n",
      "\n",
      "1 Failed download:\n",
      "- BAJAJ-AUTO.NS: No data found for this date range, symbol may be delisted\n",
      "BAJAJCON.NS\n",
      "\r",
      "[*********************100%***********************]  1 of 1 completed"
     ]
    },
    {
     "name": "stderr",
     "output_type": "stream",
     "text": [
      "INFO:__main__:Processed BAJAJCON.NS in 0.01 seconds.\n",
      "INFO:__main__:Processing BAJAJELEC.NS... 1738 symbols left.\n"
     ]
    },
    {
     "name": "stdout",
     "output_type": "stream",
     "text": [
      "\n",
      "\n",
      "1 Failed download:\n",
      "- BAJAJCON.NS: No data found for this date range, symbol may be delisted\n",
      "BAJAJELEC.NS\n",
      "\r",
      "[*********************100%***********************]  1 of 1 completed"
     ]
    },
    {
     "name": "stderr",
     "output_type": "stream",
     "text": [
      "INFO:__main__:Processed BAJAJELEC.NS in 0.01 seconds.\n",
      "INFO:__main__:Processing BAJAJFINSV.NS... 1737 symbols left.\n"
     ]
    },
    {
     "name": "stdout",
     "output_type": "stream",
     "text": [
      "\n",
      "\n",
      "1 Failed download:\n",
      "- BAJAJELEC.NS: No data found for this date range, symbol may be delisted\n",
      "BAJAJFINSV.NS\n",
      "\r",
      "[*********************100%***********************]  1 of 1 completed"
     ]
    },
    {
     "name": "stderr",
     "output_type": "stream",
     "text": [
      "INFO:__main__:Processed BAJAJFINSV.NS in 0.01 seconds.\n",
      "INFO:__main__:Processing BAJAJHCARE.NS... 1736 symbols left.\n"
     ]
    },
    {
     "name": "stdout",
     "output_type": "stream",
     "text": [
      "\n",
      "\n",
      "1 Failed download:\n",
      "- BAJAJFINSV.NS: No data found for this date range, symbol may be delisted\n",
      "BAJAJHCARE.NS\n",
      "\r",
      "[*********************100%***********************]  1 of 1 completed"
     ]
    },
    {
     "name": "stderr",
     "output_type": "stream",
     "text": [
      "INFO:__main__:Processed BAJAJHCARE.NS in 0.01 seconds.\n",
      "INFO:__main__:Processing BAJAJHIND.NS... 1735 symbols left.\n"
     ]
    },
    {
     "name": "stdout",
     "output_type": "stream",
     "text": [
      "\n",
      "\n",
      "1 Failed download:\n",
      "- BAJAJHCARE.NS: No data found for this date range, symbol may be delisted\n",
      "BAJAJHIND.NS\n",
      "\r",
      "[*********************100%***********************]  1 of 1 completed"
     ]
    },
    {
     "name": "stderr",
     "output_type": "stream",
     "text": [
      "INFO:__main__:Processed BAJAJHIND.NS in 0.03 seconds.\n",
      "INFO:__main__:Processing BAJAJHLDNG.NS... 1734 symbols left.\n"
     ]
    },
    {
     "name": "stdout",
     "output_type": "stream",
     "text": [
      "\n",
      "\n",
      "1 Failed download:\n",
      "- BAJAJHIND.NS: No data found for this date range, symbol may be delisted\n",
      "BAJAJHLDNG.NS\n",
      "\r",
      "[*********************100%***********************]  1 of 1 completed"
     ]
    },
    {
     "name": "stderr",
     "output_type": "stream",
     "text": [
      "INFO:__main__:Processed BAJAJHLDNG.NS in 0.02 seconds.\n"
     ]
    },
    {
     "name": "stdout",
     "output_type": "stream",
     "text": [
      "\n",
      "\n",
      "1 Failed download:\n",
      "- BAJAJHLDNG.NS: No data found for this date range, symbol may be delisted\n"
     ]
    },
    {
     "name": "stderr",
     "output_type": "stream",
     "text": [
      "INFO:__main__:Processing BAJFINANCE.NS... 1733 symbols left.\n"
     ]
    },
    {
     "name": "stdout",
     "output_type": "stream",
     "text": [
      "BAJFINANCE.NS\n",
      "\r",
      "[*********************100%***********************]  1 of 1 completed"
     ]
    },
    {
     "name": "stderr",
     "output_type": "stream",
     "text": [
      "INFO:__main__:Processed BAJFINANCE.NS in 0.01 seconds.\n",
      "INFO:__main__:Processing BALAJITELE.NS... 1732 symbols left.\n"
     ]
    },
    {
     "name": "stdout",
     "output_type": "stream",
     "text": [
      "\n",
      "\n",
      "1 Failed download:\n",
      "- BAJFINANCE.NS: No data found for this date range, symbol may be delisted\n",
      "BALAJITELE.NS\n",
      "\r",
      "[*********************100%***********************]  1 of 1 completed"
     ]
    },
    {
     "name": "stderr",
     "output_type": "stream",
     "text": [
      "INFO:__main__:Processed BALAJITELE.NS in 0.01 seconds.\n",
      "INFO:__main__:Processing BALAMINES.NS... 1731 symbols left.\n"
     ]
    },
    {
     "name": "stdout",
     "output_type": "stream",
     "text": [
      "\n",
      "\n",
      "1 Failed download:\n",
      "- BALAJITELE.NS: No data found for this date range, symbol may be delisted\n",
      "BALAMINES.NS\n",
      "\r",
      "[*********************100%***********************]  1 of 1 completed"
     ]
    },
    {
     "name": "stderr",
     "output_type": "stream",
     "text": [
      "INFO:__main__:Processed BALAMINES.NS in 0.01 seconds.\n",
      "INFO:__main__:Processing BALAXI.NS... 1730 symbols left.\n"
     ]
    },
    {
     "name": "stdout",
     "output_type": "stream",
     "text": [
      "\n",
      "\n",
      "1 Failed download:\n",
      "- BALAMINES.NS: No data found for this date range, symbol may be delisted\n",
      "BALAXI.NS\n",
      "\r",
      "[*********************100%***********************]  1 of 1 completed"
     ]
    },
    {
     "name": "stderr",
     "output_type": "stream",
     "text": [
      "INFO:__main__:Processed BALAXI.NS in 0.01 seconds.\n",
      "INFO:__main__:Processing BALKRISHNA.NS... 1729 symbols left.\n"
     ]
    },
    {
     "name": "stdout",
     "output_type": "stream",
     "text": [
      "\n",
      "\n",
      "1 Failed download:\n",
      "- BALAXI.NS: No data found for this date range, symbol may be delisted\n",
      "BALKRISHNA.NS\n",
      "\r",
      "[*********************100%***********************]  1 of 1 completed"
     ]
    },
    {
     "name": "stderr",
     "output_type": "stream",
     "text": [
      "INFO:__main__:Processed BALKRISHNA.NS in 0.01 seconds.\n",
      "INFO:__main__:Processing BALKRISIND.NS... 1728 symbols left.\n"
     ]
    },
    {
     "name": "stdout",
     "output_type": "stream",
     "text": [
      "\n",
      "\n",
      "1 Failed download:\n",
      "- BALKRISHNA.NS: No data found for this date range, symbol may be delisted\n",
      "BALKRISIND.NS\n",
      "\r",
      "[*********************100%***********************]  1 of 1 completed"
     ]
    },
    {
     "name": "stderr",
     "output_type": "stream",
     "text": [
      "INFO:__main__:Processed BALKRISIND.NS in 0.01 seconds.\n",
      "INFO:__main__:Processing BALMLAWRIE.NS... 1727 symbols left.\n"
     ]
    },
    {
     "name": "stdout",
     "output_type": "stream",
     "text": [
      "\n",
      "\n",
      "1 Failed download:\n",
      "- BALKRISIND.NS: No data found for this date range, symbol may be delisted\n",
      "BALMLAWRIE.NS\n",
      "\r",
      "[*********************100%***********************]  1 of 1 completed"
     ]
    },
    {
     "name": "stderr",
     "output_type": "stream",
     "text": [
      "INFO:__main__:Processed BALMLAWRIE.NS in 0.01 seconds.\n",
      "INFO:__main__:Processing BALPHARMA.NS... 1726 symbols left.\n"
     ]
    },
    {
     "name": "stdout",
     "output_type": "stream",
     "text": [
      "\n",
      "\n",
      "1 Failed download:\n",
      "- BALMLAWRIE.NS: No data found for this date range, symbol may be delisted\n",
      "BALPHARMA.NS\n",
      "\r",
      "[*********************100%***********************]  1 of 1 completed"
     ]
    },
    {
     "name": "stderr",
     "output_type": "stream",
     "text": [
      "INFO:__main__:Processed BALPHARMA.NS in 0.01 seconds.\n",
      "INFO:__main__:Processing BALRAMCHIN.NS... 1725 symbols left.\n"
     ]
    },
    {
     "name": "stdout",
     "output_type": "stream",
     "text": [
      "\n",
      "\n",
      "1 Failed download:\n",
      "- BALPHARMA.NS: No data found for this date range, symbol may be delisted\n",
      "BALRAMCHIN.NS\n",
      "\r",
      "[*********************100%***********************]  1 of 1 completed"
     ]
    },
    {
     "name": "stderr",
     "output_type": "stream",
     "text": [
      "INFO:__main__:Processed BALRAMCHIN.NS in 0.01 seconds.\n",
      "INFO:__main__:Processing BANARBEADS.NS... 1724 symbols left.\n"
     ]
    },
    {
     "name": "stdout",
     "output_type": "stream",
     "text": [
      "\n",
      "\n",
      "1 Failed download:\n",
      "- BALRAMCHIN.NS: No data found for this date range, symbol may be delisted\n",
      "BANARBEADS.NS\n",
      "\r",
      "[*********************100%***********************]  1 of 1 completed"
     ]
    },
    {
     "name": "stderr",
     "output_type": "stream",
     "text": [
      "INFO:__main__:Processed BANARBEADS.NS in 0.01 seconds.\n",
      "INFO:__main__:Processing BANARISUG.NS... 1723 symbols left.\n"
     ]
    },
    {
     "name": "stdout",
     "output_type": "stream",
     "text": [
      "\n",
      "\n",
      "1 Failed download:\n",
      "- BANARBEADS.NS: No data found for this date range, symbol may be delisted\n",
      "BANARISUG.NS\n",
      "\r",
      "[*********************100%***********************]  1 of 1 completed"
     ]
    },
    {
     "name": "stderr",
     "output_type": "stream",
     "text": [
      "INFO:__main__:Processed BANARISUG.NS in 0.01 seconds.\n",
      "INFO:__main__:Processing BANCOINDIA.NS... 1722 symbols left.\n"
     ]
    },
    {
     "name": "stdout",
     "output_type": "stream",
     "text": [
      "\n",
      "\n",
      "1 Failed download:\n",
      "- BANARISUG.NS: No data found for this date range, symbol may be delisted\n",
      "BANCOINDIA.NS\n",
      "\r",
      "[*********************100%***********************]  1 of 1 completed"
     ]
    },
    {
     "name": "stderr",
     "output_type": "stream",
     "text": [
      "INFO:__main__:Processed BANCOINDIA.NS in 0.01 seconds.\n",
      "INFO:__main__:Processing BANDHANBNK.NS... 1721 symbols left.\n"
     ]
    },
    {
     "name": "stdout",
     "output_type": "stream",
     "text": [
      "\n",
      "\n",
      "1 Failed download:\n",
      "- BANCOINDIA.NS: No data found for this date range, symbol may be delisted\n",
      "BANDHANBNK.NS\n",
      "\r",
      "[*********************100%***********************]  1 of 1 completed"
     ]
    },
    {
     "name": "stderr",
     "output_type": "stream",
     "text": [
      "INFO:__main__:Processed BANDHANBNK.NS in 0.01 seconds.\n",
      "INFO:__main__:Processing BANG.NS... 1720 symbols left.\n"
     ]
    },
    {
     "name": "stdout",
     "output_type": "stream",
     "text": [
      "\n",
      "\n",
      "1 Failed download:\n",
      "- BANDHANBNK.NS: No data found for this date range, symbol may be delisted\n",
      "BANG.NS\n",
      "\r",
      "[*********************100%***********************]  1 of 1 completed"
     ]
    },
    {
     "name": "stderr",
     "output_type": "stream",
     "text": [
      "INFO:__main__:Processed BANG.NS in 0.01 seconds.\n",
      "INFO:__main__:Processing BANKA.NS... 1719 symbols left.\n"
     ]
    },
    {
     "name": "stdout",
     "output_type": "stream",
     "text": [
      "\n",
      "\n",
      "1 Failed download:\n",
      "- BANG.NS: No data found for this date range, symbol may be delisted\n",
      "BANKA.NS\n",
      "\r",
      "[*********************100%***********************]  1 of 1 completed"
     ]
    },
    {
     "name": "stderr",
     "output_type": "stream",
     "text": [
      "INFO:__main__:Processed BANKA.NS in 0.01 seconds.\n",
      "INFO:__main__:Processing BANKBARODA.NS... 1718 symbols left.\n"
     ]
    },
    {
     "name": "stdout",
     "output_type": "stream",
     "text": [
      "\n",
      "\n",
      "1 Failed download:\n",
      "- BANKA.NS: No data found for this date range, symbol may be delisted\n",
      "BANKBARODA.NS\n",
      "\r",
      "[*********************100%***********************]  1 of 1 completed"
     ]
    },
    {
     "name": "stderr",
     "output_type": "stream",
     "text": [
      "INFO:__main__:Processed BANKBARODA.NS in 0.01 seconds.\n",
      "INFO:__main__:Processing BANKINDIA.NS... 1717 symbols left.\n"
     ]
    },
    {
     "name": "stdout",
     "output_type": "stream",
     "text": [
      "\n",
      "\n",
      "1 Failed download:\n",
      "- BANKBARODA.NS: No data found for this date range, symbol may be delisted\n",
      "BANKINDIA.NS\n",
      "\r",
      "[*********************100%***********************]  1 of 1 completed"
     ]
    },
    {
     "name": "stderr",
     "output_type": "stream",
     "text": [
      "INFO:__main__:Processed BANKINDIA.NS in 0.01 seconds.\n",
      "INFO:__main__:Processing BANSWRAS.NS... 1716 symbols left.\n"
     ]
    },
    {
     "name": "stdout",
     "output_type": "stream",
     "text": [
      "\n",
      "\n",
      "1 Failed download:\n",
      "- BANKINDIA.NS: No data found for this date range, symbol may be delisted\n",
      "BANSWRAS.NS\n",
      "\r",
      "[*********************100%***********************]  1 of 1 completed"
     ]
    },
    {
     "name": "stderr",
     "output_type": "stream",
     "text": [
      "INFO:__main__:Processed BANSWRAS.NS in 0.01 seconds.\n",
      "INFO:__main__:Processing BARBEQUE.NS... 1715 symbols left.\n"
     ]
    },
    {
     "name": "stdout",
     "output_type": "stream",
     "text": [
      "\n",
      "\n",
      "1 Failed download:\n",
      "- BANSWRAS.NS: No data found for this date range, symbol may be delisted\n",
      "BARBEQUE.NS\n",
      "[*********************100%***********************]  1 of 1 completed\n",
      "\n",
      "1 Failed download:\n",
      "- BARBEQUE.NS: No data found for this date range, symbol may be delisted\n"
     ]
    },
    {
     "name": "stderr",
     "output_type": "stream",
     "text": [
      "INFO:__main__:Processed BARBEQUE.NS in 0.08 seconds.\n",
      "INFO:__main__:Processing BASF.NS... 1714 symbols left.\n"
     ]
    },
    {
     "name": "stdout",
     "output_type": "stream",
     "text": [
      "BASF.NS\n",
      "\r",
      "[*********************100%***********************]  1 of 1 completed"
     ]
    },
    {
     "name": "stderr",
     "output_type": "stream",
     "text": [
      "INFO:__main__:Processed BASF.NS in 0.02 seconds.\n",
      "INFO:__main__:Processing BASML.NS... 1713 symbols left.\n"
     ]
    },
    {
     "name": "stdout",
     "output_type": "stream",
     "text": [
      "\n",
      "\n",
      "1 Failed download:\n",
      "- BASF.NS: No data found for this date range, symbol may be delisted\n",
      "BASML.NS\n",
      "\r",
      "[*********************100%***********************]  1 of 1 completed"
     ]
    },
    {
     "name": "stderr",
     "output_type": "stream",
     "text": [
      "INFO:__main__:Processed BASML.NS in 0.01 seconds.\n",
      "INFO:__main__:Processing BATAINDIA.NS... 1712 symbols left.\n"
     ]
    },
    {
     "name": "stdout",
     "output_type": "stream",
     "text": [
      "\n",
      "\n",
      "1 Failed download:\n",
      "- BASML.NS: No data found for this date range, symbol may be delisted\n",
      "BATAINDIA.NS\n",
      "\r",
      "[*********************100%***********************]  1 of 1 completed"
     ]
    },
    {
     "name": "stderr",
     "output_type": "stream",
     "text": [
      "INFO:__main__:Processed BATAINDIA.NS in 0.02 seconds.\n",
      "INFO:__main__:Processing BAYERCROP.NS... 1711 symbols left.\n"
     ]
    },
    {
     "name": "stdout",
     "output_type": "stream",
     "text": [
      "\n",
      "\n",
      "1 Failed download:\n",
      "- BATAINDIA.NS: No data found for this date range, symbol may be delisted\n",
      "BAYERCROP.NS\n",
      "\r",
      "[*********************100%***********************]  1 of 1 completed"
     ]
    },
    {
     "name": "stderr",
     "output_type": "stream",
     "text": [
      "INFO:__main__:Processed BAYERCROP.NS in 0.02 seconds.\n",
      "INFO:__main__:Processing BBL.NS... 1710 symbols left.\n"
     ]
    },
    {
     "name": "stdout",
     "output_type": "stream",
     "text": [
      "\n",
      "\n",
      "1 Failed download:\n",
      "- BAYERCROP.NS: No data found for this date range, symbol may be delisted\n",
      "BBL.NS\n",
      "\r",
      "[*********************100%***********************]  1 of 1 completed"
     ]
    },
    {
     "name": "stderr",
     "output_type": "stream",
     "text": [
      "INFO:__main__:Processed BBL.NS in 0.01 seconds.\n",
      "INFO:__main__:Processing BBOX.NS... 1709 symbols left.\n"
     ]
    },
    {
     "name": "stdout",
     "output_type": "stream",
     "text": [
      "\n",
      "\n",
      "1 Failed download:\n",
      "- BBL.NS: No data found for this date range, symbol may be delisted\n",
      "BBOX.NS\n",
      "\r",
      "[*********************100%***********************]  1 of 1 completed"
     ]
    },
    {
     "name": "stderr",
     "output_type": "stream",
     "text": [
      "INFO:__main__:Processed BBOX.NS in 0.01 seconds.\n",
      "INFO:__main__:Processing BBTC.NS... 1708 symbols left.\n"
     ]
    },
    {
     "name": "stdout",
     "output_type": "stream",
     "text": [
      "\n",
      "\n",
      "1 Failed download:\n",
      "- BBOX.NS: No data found for this date range, symbol may be delisted\n",
      "BBTC.NS\n",
      "\r",
      "[*********************100%***********************]  1 of 1 completed"
     ]
    },
    {
     "name": "stderr",
     "output_type": "stream",
     "text": [
      "INFO:__main__:Processed BBTC.NS in 0.01 seconds.\n",
      "INFO:__main__:Processing BBTCL.NS... 1707 symbols left.\n"
     ]
    },
    {
     "name": "stdout",
     "output_type": "stream",
     "text": [
      "\n",
      "\n",
      "1 Failed download:\n",
      "- BBTC.NS: No data found for this date range, symbol may be delisted\n",
      "BBTCL.NS\n",
      "\r",
      "[*********************100%***********************]  1 of 1 completed"
     ]
    },
    {
     "name": "stderr",
     "output_type": "stream",
     "text": [
      "INFO:__main__:Processed BBTCL.NS in 0.02 seconds.\n",
      "INFO:__main__:Processing BCG.NS... 1706 symbols left.\n"
     ]
    },
    {
     "name": "stdout",
     "output_type": "stream",
     "text": [
      "\n",
      "\n",
      "1 Failed download:\n",
      "- BBTCL.NS: No data found for this date range, symbol may be delisted\n",
      "BCG.NS\n",
      "\r",
      "[*********************100%***********************]  1 of 1 completed"
     ]
    },
    {
     "name": "stderr",
     "output_type": "stream",
     "text": [
      "INFO:__main__:Processed BCG.NS in 0.02 seconds.\n",
      "INFO:__main__:Processing BCLIND.NS... 1705 symbols left.\n"
     ]
    },
    {
     "name": "stdout",
     "output_type": "stream",
     "text": [
      "\n",
      "\n",
      "1 Failed download:\n",
      "- BCG.NS: No data found for this date range, symbol may be delisted\n",
      "BCLIND.NS\n",
      "\r",
      "[*********************100%***********************]  1 of 1 completed"
     ]
    },
    {
     "name": "stderr",
     "output_type": "stream",
     "text": [
      "INFO:__main__:Processed BCLIND.NS in 0.01 seconds.\n",
      "INFO:__main__:Processing BCONCEPTS.NS... 1704 symbols left.\n"
     ]
    },
    {
     "name": "stdout",
     "output_type": "stream",
     "text": [
      "\n",
      "\n",
      "1 Failed download:\n",
      "- BCLIND.NS: No data found for this date range, symbol may be delisted\n",
      "BCONCEPTS.NS\n",
      "\r",
      "[*********************100%***********************]  1 of 1 completed"
     ]
    },
    {
     "name": "stderr",
     "output_type": "stream",
     "text": [
      "INFO:__main__:Processed BCONCEPTS.NS in 0.01 seconds.\n",
      "INFO:__main__:Processing BDL.NS... 1703 symbols left.\n"
     ]
    },
    {
     "name": "stdout",
     "output_type": "stream",
     "text": [
      "\n",
      "\n",
      "1 Failed download:\n",
      "- BCONCEPTS.NS: No data found for this date range, symbol may be delisted\n",
      "BDL.NS\n",
      "\r",
      "[*********************100%***********************]  1 of 1 completed"
     ]
    },
    {
     "name": "stderr",
     "output_type": "stream",
     "text": [
      "INFO:__main__:Processed BDL.NS in 0.01 seconds.\n",
      "INFO:__main__:Processing BEARDSELL.NS... 1702 symbols left.\n"
     ]
    },
    {
     "name": "stdout",
     "output_type": "stream",
     "text": [
      "\n",
      "\n",
      "1 Failed download:\n",
      "- BDL.NS: No data found for this date range, symbol may be delisted\n",
      "BEARDSELL.NS\n",
      "\r",
      "[*********************100%***********************]  1 of 1 completed"
     ]
    },
    {
     "name": "stderr",
     "output_type": "stream",
     "text": [
      "INFO:__main__:Processed BEARDSELL.NS in 0.01 seconds.\n",
      "INFO:__main__:Processing BECTORFOOD.NS... 1701 symbols left.\n"
     ]
    },
    {
     "name": "stdout",
     "output_type": "stream",
     "text": [
      "\n",
      "\n",
      "1 Failed download:\n",
      "- BEARDSELL.NS: No data found for this date range, symbol may be delisted\n",
      "BECTORFOOD.NS\n",
      "\r",
      "[*********************100%***********************]  1 of 1 completed"
     ]
    },
    {
     "name": "stderr",
     "output_type": "stream",
     "text": [
      "INFO:__main__:Processed BECTORFOOD.NS in 0.01 seconds.\n",
      "INFO:__main__:Processing BEDMUTHA.NS... 1700 symbols left.\n"
     ]
    },
    {
     "name": "stdout",
     "output_type": "stream",
     "text": [
      "\n",
      "\n",
      "1 Failed download:\n",
      "- BECTORFOOD.NS: No data found for this date range, symbol may be delisted\n",
      "BEDMUTHA.NS\n",
      "\r",
      "[*********************100%***********************]  1 of 1 completed"
     ]
    },
    {
     "name": "stderr",
     "output_type": "stream",
     "text": [
      "INFO:__main__:Processed BEDMUTHA.NS in 0.02 seconds.\n",
      "INFO:__main__:Processing BEL.NS... 1699 symbols left.\n"
     ]
    },
    {
     "name": "stdout",
     "output_type": "stream",
     "text": [
      "\n",
      "\n",
      "1 Failed download:\n",
      "- BEDMUTHA.NS: No data found for this date range, symbol may be delisted\n",
      "BEL.NS\n",
      "\r",
      "[*********************100%***********************]  1 of 1 completed"
     ]
    },
    {
     "name": "stderr",
     "output_type": "stream",
     "text": [
      "INFO:__main__:Processed BEL.NS in 0.03 seconds.\n",
      "INFO:__main__:Processing BEML.NS... 1698 symbols left.\n"
     ]
    },
    {
     "name": "stdout",
     "output_type": "stream",
     "text": [
      "\n",
      "\n",
      "1 Failed download:\n",
      "- BEL.NS: No data found for this date range, symbol may be delisted\n",
      "BEML.NS\n",
      "\r",
      "[*********************100%***********************]  1 of 1 completed"
     ]
    },
    {
     "name": "stderr",
     "output_type": "stream",
     "text": [
      "INFO:__main__:Processed BEML.NS in 0.02 seconds.\n",
      "INFO:__main__:Processing BEPL.NS... 1697 symbols left.\n"
     ]
    },
    {
     "name": "stdout",
     "output_type": "stream",
     "text": [
      "\n",
      "\n",
      "1 Failed download:\n",
      "- BEML.NS: No data found for this date range, symbol may be delisted\n",
      "BEPL.NS\n",
      "\r",
      "[*********************100%***********************]  1 of 1 completed"
     ]
    },
    {
     "name": "stderr",
     "output_type": "stream",
     "text": [
      "INFO:__main__:Processed BEPL.NS in 0.01 seconds.\n",
      "INFO:__main__:Processing BERGEPAINT.NS... 1696 symbols left.\n"
     ]
    },
    {
     "name": "stdout",
     "output_type": "stream",
     "text": [
      "\n",
      "\n",
      "1 Failed download:\n",
      "- BEPL.NS: No data found for this date range, symbol may be delisted\n",
      "BERGEPAINT.NS\n",
      "\r",
      "[*********************100%***********************]  1 of 1 completed"
     ]
    },
    {
     "name": "stderr",
     "output_type": "stream",
     "text": [
      "INFO:__main__:Processed BERGEPAINT.NS in 0.01 seconds.\n",
      "INFO:__main__:Processing BFINVEST.NS... 1695 symbols left.\n"
     ]
    },
    {
     "name": "stdout",
     "output_type": "stream",
     "text": [
      "\n",
      "\n",
      "1 Failed download:\n",
      "- BERGEPAINT.NS: No data found for this date range, symbol may be delisted\n",
      "BFINVEST.NS\n",
      "\r",
      "[*********************100%***********************]  1 of 1 completed"
     ]
    },
    {
     "name": "stderr",
     "output_type": "stream",
     "text": [
      "INFO:__main__:Processed BFINVEST.NS in 0.01 seconds.\n",
      "INFO:__main__:Processing BFUTILITIE.NS... 1694 symbols left.\n"
     ]
    },
    {
     "name": "stdout",
     "output_type": "stream",
     "text": [
      "\n",
      "\n",
      "1 Failed download:\n",
      "- BFINVEST.NS: No data found for this date range, symbol may be delisted\n",
      "BFUTILITIE.NS\n",
      "[*********************100%***********************]  1 of 1 completed"
     ]
    },
    {
     "name": "stderr",
     "output_type": "stream",
     "text": [
      "INFO:__main__:Processed BFUTILITIE.NS in 0.01 seconds.\n",
      "INFO:__main__:Processing BGRENERGY.NS... 1693 symbols left.\n"
     ]
    },
    {
     "name": "stdout",
     "output_type": "stream",
     "text": [
      "\n",
      "\n",
      "1 Failed download:\n",
      "- BFUTILITIE.NS: No data found for this date range, symbol may be delisted\n",
      "BGRENERGY.NS\n",
      "\r",
      "[*********************100%***********************]  1 of 1 completed"
     ]
    },
    {
     "name": "stderr",
     "output_type": "stream",
     "text": [
      "INFO:__main__:Processed BGRENERGY.NS in 0.01 seconds.\n",
      "INFO:__main__:Processing BHAGCHEM.NS... 1692 symbols left.\n"
     ]
    },
    {
     "name": "stdout",
     "output_type": "stream",
     "text": [
      "\n",
      "\n",
      "1 Failed download:\n",
      "- BGRENERGY.NS: No data found for this date range, symbol may be delisted\n",
      "BHAGCHEM.NS\n",
      "\r",
      "[*********************100%***********************]  1 of 1 completed"
     ]
    },
    {
     "name": "stderr",
     "output_type": "stream",
     "text": [
      "INFO:__main__:Processed BHAGCHEM.NS in 0.01 seconds.\n",
      "INFO:__main__:Processing BHAGERIA.NS... 1691 symbols left.\n"
     ]
    },
    {
     "name": "stdout",
     "output_type": "stream",
     "text": [
      "\n",
      "\n",
      "1 Failed download:\n",
      "- BHAGCHEM.NS: No data found for this date range, symbol may be delisted\n",
      "BHAGERIA.NS\n",
      "\r",
      "[*********************100%***********************]  1 of 1 completed"
     ]
    },
    {
     "name": "stderr",
     "output_type": "stream",
     "text": [
      "INFO:__main__:Processed BHAGERIA.NS in 0.01 seconds.\n",
      "INFO:__main__:Processing BHAGYANGR.NS... 1690 symbols left.\n"
     ]
    },
    {
     "name": "stdout",
     "output_type": "stream",
     "text": [
      "\n",
      "\n",
      "1 Failed download:\n",
      "- BHAGERIA.NS: No data found for this date range, symbol may be delisted\n",
      "BHAGYANGR.NS\n",
      "\r",
      "[*********************100%***********************]  1 of 1 completed"
     ]
    },
    {
     "name": "stderr",
     "output_type": "stream",
     "text": [
      "INFO:__main__:Processed BHAGYANGR.NS in 0.01 seconds.\n",
      "INFO:__main__:Processing BHANDARI.NS... 1689 symbols left.\n"
     ]
    },
    {
     "name": "stdout",
     "output_type": "stream",
     "text": [
      "\n",
      "\n",
      "1 Failed download:\n",
      "- BHAGYANGR.NS: No data found for this date range, symbol may be delisted\n",
      "BHANDARI.NS\n",
      "\r",
      "[*********************100%***********************]  1 of 1 completed"
     ]
    },
    {
     "name": "stderr",
     "output_type": "stream",
     "text": [
      "INFO:__main__:Processed BHANDARI.NS in 0.01 seconds.\n",
      "INFO:__main__:Processing BHARATFORG.NS... 1688 symbols left.\n"
     ]
    },
    {
     "name": "stdout",
     "output_type": "stream",
     "text": [
      "\n",
      "\n",
      "1 Failed download:\n",
      "- BHANDARI.NS: No data found for this date range, symbol may be delisted\n",
      "BHARATFORG.NS\n",
      "\r",
      "[*********************100%***********************]  1 of 1 completed"
     ]
    },
    {
     "name": "stderr",
     "output_type": "stream",
     "text": [
      "INFO:__main__:Processed BHARATFORG.NS in 0.01 seconds.\n",
      "INFO:__main__:Processing BHARATGEAR.NS... 1687 symbols left.\n"
     ]
    },
    {
     "name": "stdout",
     "output_type": "stream",
     "text": [
      "\n",
      "\n",
      "1 Failed download:\n",
      "- BHARATFORG.NS: No data found for this date range, symbol may be delisted\n",
      "BHARATGEAR.NS\n",
      "\r",
      "[*********************100%***********************]  1 of 1 completed"
     ]
    },
    {
     "name": "stderr",
     "output_type": "stream",
     "text": [
      "INFO:__main__:Processed BHARATGEAR.NS in 0.02 seconds.\n",
      "INFO:__main__:Processing BHARATRAS.NS... 1686 symbols left.\n"
     ]
    },
    {
     "name": "stdout",
     "output_type": "stream",
     "text": [
      "\n",
      "\n",
      "1 Failed download:\n",
      "- BHARATGEAR.NS: No data found for this date range, symbol may be delisted\n",
      "BHARATRAS.NS\n",
      "\r",
      "[*********************100%***********************]  1 of 1 completed"
     ]
    },
    {
     "name": "stderr",
     "output_type": "stream",
     "text": [
      "INFO:__main__:Processed BHARATRAS.NS in 0.02 seconds.\n",
      "INFO:__main__:Processing BHARATWIRE.NS... 1685 symbols left.\n"
     ]
    },
    {
     "name": "stdout",
     "output_type": "stream",
     "text": [
      "\n",
      "\n",
      "1 Failed download:\n",
      "- BHARATRAS.NS: No data found for this date range, symbol may be delisted\n",
      "BHARATWIRE.NS\n",
      "\r",
      "[*********************100%***********************]  1 of 1 completed"
     ]
    },
    {
     "name": "stderr",
     "output_type": "stream",
     "text": [
      "INFO:__main__:Processed BHARATWIRE.NS in 0.02 seconds.\n",
      "INFO:__main__:Processing BHARTIARTL.NS... 1684 symbols left.\n"
     ]
    },
    {
     "name": "stdout",
     "output_type": "stream",
     "text": [
      "\n",
      "\n",
      "1 Failed download:\n",
      "- BHARATWIRE.NS: No data found for this date range, symbol may be delisted\n",
      "BHARTIARTL.NS\n",
      "\r",
      "[*********************100%***********************]  1 of 1 completed"
     ]
    },
    {
     "name": "stderr",
     "output_type": "stream",
     "text": [
      "INFO:__main__:Processed BHARTIARTL.NS in 0.01 seconds.\n",
      "INFO:__main__:Processing BHEL.NS... 1683 symbols left.\n"
     ]
    },
    {
     "name": "stdout",
     "output_type": "stream",
     "text": [
      "\n",
      "\n",
      "1 Failed download:\n",
      "- BHARTIARTL.NS: No data found for this date range, symbol may be delisted\n",
      "BHEL.NS\n",
      "\r",
      "[*********************100%***********************]  1 of 1 completed"
     ]
    },
    {
     "name": "stderr",
     "output_type": "stream",
     "text": [
      "INFO:__main__:Processed BHEL.NS in 0.01 seconds.\n",
      "INFO:__main__:Processing BIGBLOC.NS... 1682 symbols left.\n"
     ]
    },
    {
     "name": "stdout",
     "output_type": "stream",
     "text": [
      "\n",
      "\n",
      "1 Failed download:\n",
      "- BHEL.NS: No data found for this date range, symbol may be delisted\n",
      "BIGBLOC.NS\n",
      "\r",
      "[*********************100%***********************]  1 of 1 completed"
     ]
    },
    {
     "name": "stderr",
     "output_type": "stream",
     "text": [
      "INFO:__main__:Processed BIGBLOC.NS in 0.01 seconds.\n",
      "INFO:__main__:Processing BIKAJI.NS... 1681 symbols left.\n"
     ]
    },
    {
     "name": "stdout",
     "output_type": "stream",
     "text": [
      "\n",
      "\n",
      "1 Failed download:\n",
      "- BIGBLOC.NS: No data found for this date range, symbol may be delisted\n",
      "BIKAJI.NS\n",
      "\r",
      "[*********************100%***********************]  1 of 1 completed"
     ]
    },
    {
     "name": "stderr",
     "output_type": "stream",
     "text": [
      "INFO:__main__:Processed BIKAJI.NS in 0.01 seconds.\n",
      "INFO:__main__:Processing BIL.NS... 1680 symbols left.\n"
     ]
    },
    {
     "name": "stdout",
     "output_type": "stream",
     "text": [
      "\n",
      "\n",
      "1 Failed download:\n",
      "- BIKAJI.NS: No data found for this date range, symbol may be delisted\n",
      "BIL.NS\n",
      "\r",
      "[*********************100%***********************]  1 of 1 completed"
     ]
    },
    {
     "name": "stderr",
     "output_type": "stream",
     "text": [
      "INFO:__main__:Processed BIL.NS in 0.01 seconds.\n",
      "INFO:__main__:Processing BINANIIND.NS... 1679 symbols left.\n"
     ]
    },
    {
     "name": "stdout",
     "output_type": "stream",
     "text": [
      "\n",
      "\n",
      "1 Failed download:\n",
      "- BIL.NS: No data found for this date range, symbol may be delisted\n",
      "BINANIIND.NS\n",
      "\r",
      "[*********************100%***********************]  1 of 1 completed"
     ]
    },
    {
     "name": "stderr",
     "output_type": "stream",
     "text": [
      "INFO:__main__:Processed BINANIIND.NS in 0.01 seconds.\n",
      "INFO:__main__:Processing BIOCON.NS... 1678 symbols left.\n"
     ]
    },
    {
     "name": "stdout",
     "output_type": "stream",
     "text": [
      "\n",
      "\n",
      "1 Failed download:\n",
      "- BINANIIND.NS: No data found for this date range, symbol may be delisted\n",
      "BIOCON.NS\n",
      "\r",
      "[*********************100%***********************]  1 of 1 completed"
     ]
    },
    {
     "name": "stderr",
     "output_type": "stream",
     "text": [
      "INFO:__main__:Processed BIOCON.NS in 0.01 seconds.\n",
      "INFO:__main__:Processing BIOFILCHEM.NS... 1677 symbols left.\n"
     ]
    },
    {
     "name": "stdout",
     "output_type": "stream",
     "text": [
      "\n",
      "\n",
      "1 Failed download:\n",
      "- BIOCON.NS: No data found for this date range, symbol may be delisted\n",
      "BIOFILCHEM.NS\n",
      "\r",
      "[*********************100%***********************]  1 of 1 completed"
     ]
    },
    {
     "name": "stderr",
     "output_type": "stream",
     "text": [
      "INFO:__main__:Processed BIOFILCHEM.NS in 0.01 seconds.\n",
      "INFO:__main__:Processing BIRLACABLE.NS... 1676 symbols left.\n"
     ]
    },
    {
     "name": "stdout",
     "output_type": "stream",
     "text": [
      "\n",
      "\n",
      "1 Failed download:\n",
      "- BIOFILCHEM.NS: No data found for this date range, symbol may be delisted\n",
      "BIRLACABLE.NS\n",
      "\r",
      "[*********************100%***********************]  1 of 1 completed"
     ]
    },
    {
     "name": "stderr",
     "output_type": "stream",
     "text": [
      "INFO:__main__:Processed BIRLACABLE.NS in 0.01 seconds.\n",
      "INFO:__main__:Processing BIRLACORPN.NS... 1675 symbols left.\n"
     ]
    },
    {
     "name": "stdout",
     "output_type": "stream",
     "text": [
      "\n",
      "\n",
      "1 Failed download:\n",
      "- BIRLACABLE.NS: No data found for this date range, symbol may be delisted\n",
      "BIRLACORPN.NS\n",
      "\r",
      "[*********************100%***********************]  1 of 1 completed"
     ]
    },
    {
     "name": "stderr",
     "output_type": "stream",
     "text": [
      "INFO:__main__:Processed BIRLACORPN.NS in 0.01 seconds.\n",
      "INFO:__main__:Processing BIRLAMONEY.NS... 1674 symbols left.\n"
     ]
    },
    {
     "name": "stdout",
     "output_type": "stream",
     "text": [
      "\n",
      "\n",
      "1 Failed download:\n",
      "- BIRLACORPN.NS: No data found for this date range, symbol may be delisted\n",
      "BIRLAMONEY.NS\n",
      "\r",
      "[*********************100%***********************]  1 of 1 completed"
     ]
    },
    {
     "name": "stderr",
     "output_type": "stream",
     "text": [
      "INFO:__main__:Processed BIRLAMONEY.NS in 0.01 seconds.\n",
      "INFO:__main__:Processing BKMINDST.NS... 1673 symbols left.\n"
     ]
    },
    {
     "name": "stdout",
     "output_type": "stream",
     "text": [
      "\n",
      "\n",
      "1 Failed download:\n",
      "- BIRLAMONEY.NS: No data found for this date range, symbol may be delisted\n",
      "BKMINDST.NS\n",
      "\r",
      "[*********************100%***********************]  1 of 1 completed"
     ]
    },
    {
     "name": "stderr",
     "output_type": "stream",
     "text": [
      "INFO:__main__:Processed BKMINDST.NS in 0.01 seconds.\n"
     ]
    },
    {
     "name": "stdout",
     "output_type": "stream",
     "text": [
      "\n",
      "\n",
      "1 Failed download:\n",
      "- BKMINDST.NS: No data found for this date range, symbol may be delisted\n"
     ]
    },
    {
     "name": "stderr",
     "output_type": "stream",
     "text": [
      "INFO:__main__:Processing BLAL.NS... 1672 symbols left.\n"
     ]
    },
    {
     "name": "stdout",
     "output_type": "stream",
     "text": [
      "BLAL.NS\n",
      "\r",
      "[*********************100%***********************]  1 of 1 completed"
     ]
    },
    {
     "name": "stderr",
     "output_type": "stream",
     "text": [
      "INFO:__main__:Processed BLAL.NS in 0.03 seconds.\n",
      "INFO:__main__:Processing BLBLIMITED.NS... 1671 symbols left.\n"
     ]
    },
    {
     "name": "stdout",
     "output_type": "stream",
     "text": [
      "\n",
      "\n",
      "1 Failed download:\n",
      "- BLAL.NS: No data found for this date range, symbol may be delisted\n",
      "BLBLIMITED.NS\n",
      "\r",
      "[*********************100%***********************]  1 of 1 completed"
     ]
    },
    {
     "name": "stderr",
     "output_type": "stream",
     "text": [
      "INFO:__main__:Processed BLBLIMITED.NS in 0.02 seconds.\n",
      "INFO:__main__:Processing BLISSGVS.NS... 1670 symbols left.\n"
     ]
    },
    {
     "name": "stdout",
     "output_type": "stream",
     "text": [
      "\n",
      "\n",
      "1 Failed download:\n",
      "- BLBLIMITED.NS: No data found for this date range, symbol may be delisted\n",
      "BLISSGVS.NS\n",
      "\r",
      "[*********************100%***********************]  1 of 1 completed"
     ]
    },
    {
     "name": "stderr",
     "output_type": "stream",
     "text": [
      "INFO:__main__:Processed BLISSGVS.NS in 0.01 seconds.\n",
      "INFO:__main__:Processing BLKASHYAP.NS... 1669 symbols left.\n"
     ]
    },
    {
     "name": "stdout",
     "output_type": "stream",
     "text": [
      "\n",
      "\n",
      "1 Failed download:\n",
      "- BLISSGVS.NS: No data found for this date range, symbol may be delisted\n",
      "BLKASHYAP.NS\n",
      "\r",
      "[*********************100%***********************]  1 of 1 completed"
     ]
    },
    {
     "name": "stderr",
     "output_type": "stream",
     "text": [
      "INFO:__main__:Processed BLKASHYAP.NS in 0.01 seconds.\n",
      "INFO:__main__:Processing BLS.NS... 1668 symbols left.\n"
     ]
    },
    {
     "name": "stdout",
     "output_type": "stream",
     "text": [
      "\n",
      "\n",
      "1 Failed download:\n",
      "- BLKASHYAP.NS: No data found for this date range, symbol may be delisted\n",
      "BLS.NS\n",
      "\r",
      "[*********************100%***********************]  1 of 1 completed"
     ]
    },
    {
     "name": "stderr",
     "output_type": "stream",
     "text": [
      "INFO:__main__:Processed BLS.NS in 0.01 seconds.\n",
      "INFO:__main__:Processing BLUECHIP.NS... 1667 symbols left.\n"
     ]
    },
    {
     "name": "stdout",
     "output_type": "stream",
     "text": [
      "\n",
      "\n",
      "1 Failed download:\n",
      "- BLS.NS: No data found for this date range, symbol may be delisted\n",
      "BLUECHIP.NS\n",
      "\r",
      "[*********************100%***********************]  1 of 1 completed"
     ]
    },
    {
     "name": "stderr",
     "output_type": "stream",
     "text": [
      "INFO:__main__:Processed BLUECHIP.NS in 0.01 seconds.\n",
      "INFO:__main__:Processing BLUEDART.NS... 1666 symbols left.\n"
     ]
    },
    {
     "name": "stdout",
     "output_type": "stream",
     "text": [
      "\n",
      "\n",
      "1 Failed download:\n",
      "- BLUECHIP.NS: No data found for this date range, symbol may be delisted\n",
      "BLUEDART.NS\n",
      "\r",
      "[*********************100%***********************]  1 of 1 completed"
     ]
    },
    {
     "name": "stderr",
     "output_type": "stream",
     "text": [
      "INFO:__main__:Processed BLUEDART.NS in 0.01 seconds.\n",
      "INFO:__main__:Processing BLUEJET.NS... 1665 symbols left.\n"
     ]
    },
    {
     "name": "stdout",
     "output_type": "stream",
     "text": [
      "\n",
      "\n",
      "1 Failed download:\n",
      "- BLUEDART.NS: No data found for this date range, symbol may be delisted\n",
      "BLUEJET.NS\n",
      "\r",
      "[*********************100%***********************]  1 of 1 completed"
     ]
    },
    {
     "name": "stderr",
     "output_type": "stream",
     "text": [
      "INFO:__main__:Processed BLUEJET.NS in 0.01 seconds.\n",
      "INFO:__main__:Processing BLUESTARCO.NS... 1664 symbols left.\n"
     ]
    },
    {
     "name": "stdout",
     "output_type": "stream",
     "text": [
      "\n",
      "\n",
      "1 Failed download:\n",
      "- BLUEJET.NS: No data found for this date range, symbol may be delisted\n",
      "BLUESTARCO.NS\n",
      "\r",
      "[*********************100%***********************]  1 of 1 completed"
     ]
    },
    {
     "name": "stderr",
     "output_type": "stream",
     "text": [
      "INFO:__main__:Processed BLUESTARCO.NS in 0.01 seconds.\n",
      "INFO:__main__:Processing BODALCHEM.NS... 1663 symbols left.\n"
     ]
    },
    {
     "name": "stdout",
     "output_type": "stream",
     "text": [
      "\n",
      "\n",
      "1 Failed download:\n",
      "- BLUESTARCO.NS: No data found for this date range, symbol may be delisted\n",
      "BODALCHEM.NS\n",
      "\r",
      "[*********************100%***********************]  1 of 1 completed"
     ]
    },
    {
     "name": "stderr",
     "output_type": "stream",
     "text": [
      "INFO:__main__:Processed BODALCHEM.NS in 0.01 seconds.\n",
      "INFO:__main__:Processing BOHRAIND.NS... 1662 symbols left.\n"
     ]
    },
    {
     "name": "stdout",
     "output_type": "stream",
     "text": [
      "\n",
      "\n",
      "1 Failed download:\n",
      "- BODALCHEM.NS: No data found for this date range, symbol may be delisted\n",
      "BOHRAIND.NS\n",
      "\r",
      "[*********************100%***********************]  1 of 1 completed"
     ]
    },
    {
     "name": "stderr",
     "output_type": "stream",
     "text": [
      "INFO:__main__:Processed BOHRAIND.NS in 0.01 seconds.\n",
      "INFO:__main__:Processing BOMDYEING.NS... 1661 symbols left.\n"
     ]
    },
    {
     "name": "stdout",
     "output_type": "stream",
     "text": [
      "\n",
      "\n",
      "1 Failed download:\n",
      "- BOHRAIND.NS: No data found for this date range, symbol may be delisted\n",
      "BOMDYEING.NS\n",
      "\r",
      "[*********************100%***********************]  1 of 1 completed"
     ]
    },
    {
     "name": "stderr",
     "output_type": "stream",
     "text": [
      "INFO:__main__:Processed BOMDYEING.NS in 0.01 seconds.\n",
      "INFO:__main__:Processing BOROLTD.NS... 1660 symbols left.\n"
     ]
    },
    {
     "name": "stdout",
     "output_type": "stream",
     "text": [
      "\n",
      "\n",
      "1 Failed download:\n",
      "- BOMDYEING.NS: No data found for this date range, symbol may be delisted\n",
      "BOROLTD.NS\n",
      "\r",
      "[*********************100%***********************]  1 of 1 completed"
     ]
    },
    {
     "name": "stderr",
     "output_type": "stream",
     "text": [
      "INFO:__main__:Processed BOROLTD.NS in 0.01 seconds.\n",
      "INFO:__main__:Processing BORORENEW.NS... 1659 symbols left.\n"
     ]
    },
    {
     "name": "stdout",
     "output_type": "stream",
     "text": [
      "\n",
      "\n",
      "1 Failed download:\n",
      "- BOROLTD.NS: No data found for this date range, symbol may be delisted\n",
      "BORORENEW.NS\n",
      "\r",
      "[*********************100%***********************]  1 of 1 completed"
     ]
    },
    {
     "name": "stderr",
     "output_type": "stream",
     "text": [
      "INFO:__main__:Processed BORORENEW.NS in 0.03 seconds.\n",
      "INFO:__main__:Processing BOSCHLTD.NS... 1658 symbols left.\n"
     ]
    },
    {
     "name": "stdout",
     "output_type": "stream",
     "text": [
      "\n",
      "\n",
      "1 Failed download:\n",
      "- BORORENEW.NS: No data found for this date range, symbol may be delisted\n",
      "BOSCHLTD.NS\n",
      "\r",
      "[*********************100%***********************]  1 of 1 completed"
     ]
    },
    {
     "name": "stderr",
     "output_type": "stream",
     "text": [
      "INFO:__main__:Processed BOSCHLTD.NS in 0.02 seconds.\n",
      "INFO:__main__:Processing BPCL.NS... 1657 symbols left.\n"
     ]
    },
    {
     "name": "stdout",
     "output_type": "stream",
     "text": [
      "\n",
      "\n",
      "1 Failed download:\n",
      "- BOSCHLTD.NS: No data found for this date range, symbol may be delisted\n",
      "BPCL.NS\n",
      "\r",
      "[*********************100%***********************]  1 of 1 completed"
     ]
    },
    {
     "name": "stderr",
     "output_type": "stream",
     "text": [
      "INFO:__main__:Processed BPCL.NS in 0.03 seconds.\n",
      "INFO:__main__:Processing BPL.NS... 1656 symbols left.\n"
     ]
    },
    {
     "name": "stdout",
     "output_type": "stream",
     "text": [
      "\n",
      "\n",
      "1 Failed download:\n",
      "- BPCL.NS: No data found for this date range, symbol may be delisted\n",
      "BPL.NS\n",
      "\r",
      "[*********************100%***********************]  1 of 1 completed"
     ]
    },
    {
     "name": "stderr",
     "output_type": "stream",
     "text": [
      "INFO:__main__:Processed BPL.NS in 0.02 seconds.\n",
      "INFO:__main__:Processing BRIGADE.NS... 1655 symbols left.\n"
     ]
    },
    {
     "name": "stdout",
     "output_type": "stream",
     "text": [
      "\n",
      "\n",
      "1 Failed download:\n",
      "- BPL.NS: No data found for this date range, symbol may be delisted\n",
      "BRIGADE.NS\n",
      "\r",
      "[*********************100%***********************]  1 of 1 completed"
     ]
    },
    {
     "name": "stderr",
     "output_type": "stream",
     "text": [
      "INFO:__main__:Processed BRIGADE.NS in 0.01 seconds.\n",
      "INFO:__main__:Processing BRITANNIA.NS... 1654 symbols left.\n"
     ]
    },
    {
     "name": "stdout",
     "output_type": "stream",
     "text": [
      "\n",
      "\n",
      "1 Failed download:\n",
      "- BRIGADE.NS: No data found for this date range, symbol may be delisted\n",
      "BRITANNIA.NS\n",
      "\r",
      "[*********************100%***********************]  1 of 1 completed"
     ]
    },
    {
     "name": "stderr",
     "output_type": "stream",
     "text": [
      "INFO:__main__:Processed BRITANNIA.NS in 0.01 seconds.\n",
      "INFO:__main__:Processing BRNL.NS... 1653 symbols left.\n"
     ]
    },
    {
     "name": "stdout",
     "output_type": "stream",
     "text": [
      "\n",
      "\n",
      "1 Failed download:\n",
      "- BRITANNIA.NS: No data found for this date range, symbol may be delisted\n",
      "BRNL.NS\n",
      "\r",
      "[*********************100%***********************]  1 of 1 completed"
     ]
    },
    {
     "name": "stderr",
     "output_type": "stream",
     "text": [
      "INFO:__main__:Processed BRNL.NS in 0.01 seconds.\n",
      "INFO:__main__:Processing BROOKS.NS... 1652 symbols left.\n"
     ]
    },
    {
     "name": "stdout",
     "output_type": "stream",
     "text": [
      "\n",
      "\n",
      "1 Failed download:\n",
      "- BRNL.NS: No data found for this date range, symbol may be delisted\n",
      "BROOKS.NS\n",
      "\r",
      "[*********************100%***********************]  1 of 1 completed"
     ]
    },
    {
     "name": "stderr",
     "output_type": "stream",
     "text": [
      "INFO:__main__:Processed BROOKS.NS in 0.01 seconds.\n",
      "INFO:__main__:Processing BSE.NS... 1651 symbols left.\n"
     ]
    },
    {
     "name": "stdout",
     "output_type": "stream",
     "text": [
      "\n",
      "\n",
      "1 Failed download:\n",
      "- BROOKS.NS: No data found for this date range, symbol may be delisted\n",
      "BSE.NS\n",
      "\r",
      "[*********************100%***********************]  1 of 1 completed"
     ]
    },
    {
     "name": "stderr",
     "output_type": "stream",
     "text": [
      "INFO:__main__:Processed BSE.NS in 0.01 seconds.\n",
      "INFO:__main__:Processing BSHSL.NS... 1650 symbols left.\n"
     ]
    },
    {
     "name": "stdout",
     "output_type": "stream",
     "text": [
      "\n",
      "\n",
      "1 Failed download:\n",
      "- BSE.NS: No data found for this date range, symbol may be delisted\n",
      "BSHSL.NS\n",
      "\r",
      "[*********************100%***********************]  1 of 1 completed"
     ]
    },
    {
     "name": "stderr",
     "output_type": "stream",
     "text": [
      "INFO:__main__:Processed BSHSL.NS in 0.01 seconds.\n",
      "INFO:__main__:Processing BSL.NS... 1649 symbols left.\n"
     ]
    },
    {
     "name": "stdout",
     "output_type": "stream",
     "text": [
      "\n",
      "\n",
      "1 Failed download:\n",
      "- BSHSL.NS: No data found for this date range, symbol may be delisted\n",
      "BSL.NS\n",
      "\r",
      "[*********************100%***********************]  1 of 1 completed"
     ]
    },
    {
     "name": "stderr",
     "output_type": "stream",
     "text": [
      "INFO:__main__:Processed BSL.NS in 0.01 seconds.\n",
      "INFO:__main__:Processing BSOFT.NS... 1648 symbols left.\n"
     ]
    },
    {
     "name": "stdout",
     "output_type": "stream",
     "text": [
      "\n",
      "\n",
      "1 Failed download:\n",
      "- BSL.NS: No data found for this date range, symbol may be delisted\n",
      "BSOFT.NS\n",
      "\r",
      "[*********************100%***********************]  1 of 1 completed"
     ]
    },
    {
     "name": "stderr",
     "output_type": "stream",
     "text": [
      "INFO:__main__:Processed BSOFT.NS in 0.02 seconds.\n",
      "INFO:__main__:Processing BTML.NS... 1647 symbols left.\n"
     ]
    },
    {
     "name": "stdout",
     "output_type": "stream",
     "text": [
      "\n",
      "\n",
      "1 Failed download:\n",
      "- BSOFT.NS: No data found for this date range, symbol may be delisted\n",
      "BTML.NS\n",
      "\r",
      "[*********************100%***********************]  1 of 1 completed"
     ]
    },
    {
     "name": "stderr",
     "output_type": "stream",
     "text": [
      "INFO:__main__:Processed BTML.NS in 0.03 seconds.\n",
      "INFO:__main__:Processing BURNPUR.NS... 1646 symbols left.\n"
     ]
    },
    {
     "name": "stdout",
     "output_type": "stream",
     "text": [
      "\n",
      "\n",
      "1 Failed download:\n",
      "- BTML.NS: No data found for this date range, symbol may be delisted\n",
      "BURNPUR.NS\n",
      "\r",
      "[*********************100%***********************]  1 of 1 completed"
     ]
    },
    {
     "name": "stderr",
     "output_type": "stream",
     "text": [
      "INFO:__main__:Processed BURNPUR.NS in 0.02 seconds.\n",
      "INFO:__main__:Processing BUTTERFLY.NS... 1645 symbols left.\n"
     ]
    },
    {
     "name": "stdout",
     "output_type": "stream",
     "text": [
      "\n",
      "\n",
      "1 Failed download:\n",
      "- BURNPUR.NS: No data found for this date range, symbol may be delisted\n",
      "BUTTERFLY.NS\n",
      "\r",
      "[*********************100%***********************]  1 of 1 completed"
     ]
    },
    {
     "name": "stderr",
     "output_type": "stream",
     "text": [
      "INFO:__main__:Processed BUTTERFLY.NS in 0.01 seconds.\n",
      "INFO:__main__:Processing BVCL.NS... 1644 symbols left.\n"
     ]
    },
    {
     "name": "stdout",
     "output_type": "stream",
     "text": [
      "\n",
      "\n",
      "1 Failed download:\n",
      "- BUTTERFLY.NS: No data found for this date range, symbol may be delisted\n",
      "BVCL.NS\n",
      "\r",
      "[*********************100%***********************]  1 of 1 completed"
     ]
    },
    {
     "name": "stderr",
     "output_type": "stream",
     "text": [
      "INFO:__main__:Processed BVCL.NS in 0.01 seconds.\n",
      "INFO:__main__:Processing BYKE.NS... 1643 symbols left.\n"
     ]
    },
    {
     "name": "stdout",
     "output_type": "stream",
     "text": [
      "\n",
      "\n",
      "1 Failed download:\n",
      "- BVCL.NS: No data found for this date range, symbol may be delisted\n",
      "BYKE.NS\n",
      "\r",
      "[*********************100%***********************]  1 of 1 completed"
     ]
    },
    {
     "name": "stderr",
     "output_type": "stream",
     "text": [
      "INFO:__main__:Processed BYKE.NS in 0.01 seconds.\n",
      "INFO:__main__:Processing CALSOFT.NS... 1642 symbols left.\n"
     ]
    },
    {
     "name": "stdout",
     "output_type": "stream",
     "text": [
      "\n",
      "\n",
      "1 Failed download:\n",
      "- BYKE.NS: No data found for this date range, symbol may be delisted\n",
      "CALSOFT.NS\n",
      "\r",
      "[*********************100%***********************]  1 of 1 completed"
     ]
    },
    {
     "name": "stderr",
     "output_type": "stream",
     "text": [
      "INFO:__main__:Processed CALSOFT.NS in 0.01 seconds.\n",
      "INFO:__main__:Processing CAMLINFINE.NS... 1641 symbols left.\n"
     ]
    },
    {
     "name": "stdout",
     "output_type": "stream",
     "text": [
      "\n",
      "\n",
      "1 Failed download:\n",
      "- CALSOFT.NS: No data found for this date range, symbol may be delisted\n",
      "CAMLINFINE.NS\n",
      "\r",
      "[*********************100%***********************]  1 of 1 completed"
     ]
    },
    {
     "name": "stderr",
     "output_type": "stream",
     "text": [
      "INFO:__main__:Processed CAMLINFINE.NS in 0.02 seconds.\n",
      "INFO:__main__:Processing CAMPUS.NS... 1640 symbols left.\n"
     ]
    },
    {
     "name": "stdout",
     "output_type": "stream",
     "text": [
      "\n",
      "\n",
      "1 Failed download:\n",
      "- CAMLINFINE.NS: No data found for this date range, symbol may be delisted\n",
      "CAMPUS.NS\n",
      "\r",
      "[*********************100%***********************]  1 of 1 completed"
     ]
    },
    {
     "name": "stderr",
     "output_type": "stream",
     "text": [
      "INFO:__main__:Processed CAMPUS.NS in 0.02 seconds.\n",
      "INFO:__main__:Processing CAMS.NS... 1639 symbols left.\n"
     ]
    },
    {
     "name": "stdout",
     "output_type": "stream",
     "text": [
      "\n",
      "\n",
      "1 Failed download:\n",
      "- CAMPUS.NS: No data found for this date range, symbol may be delisted\n",
      "CAMS.NS\n",
      "\r",
      "[*********************100%***********************]  1 of 1 completed"
     ]
    },
    {
     "name": "stderr",
     "output_type": "stream",
     "text": [
      "INFO:__main__:Processed CAMS.NS in 0.01 seconds.\n",
      "INFO:__main__:Processing CANBK.NS... 1638 symbols left.\n"
     ]
    },
    {
     "name": "stdout",
     "output_type": "stream",
     "text": [
      "\n",
      "\n",
      "1 Failed download:\n",
      "- CAMS.NS: No data found for this date range, symbol may be delisted\n",
      "CANBK.NS\n",
      "\r",
      "[*********************100%***********************]  1 of 1 completed"
     ]
    },
    {
     "name": "stderr",
     "output_type": "stream",
     "text": [
      "INFO:__main__:Processed CANBK.NS in 0.01 seconds.\n",
      "INFO:__main__:Processing CANFINHOME.NS... 1637 symbols left.\n"
     ]
    },
    {
     "name": "stdout",
     "output_type": "stream",
     "text": [
      "\n",
      "\n",
      "1 Failed download:\n",
      "- CANBK.NS: No data found for this date range, symbol may be delisted\n",
      "CANFINHOME.NS\n",
      "\r",
      "[*********************100%***********************]  1 of 1 completed"
     ]
    },
    {
     "name": "stderr",
     "output_type": "stream",
     "text": [
      "INFO:__main__:Processed CANFINHOME.NS in 0.01 seconds.\n",
      "INFO:__main__:Processing CANTABIL.NS... 1636 symbols left.\n"
     ]
    },
    {
     "name": "stdout",
     "output_type": "stream",
     "text": [
      "\n",
      "\n",
      "1 Failed download:\n",
      "- CANFINHOME.NS: No data found for this date range, symbol may be delisted\n",
      "CANTABIL.NS\n",
      "\r",
      "[*********************100%***********************]  1 of 1 completed"
     ]
    },
    {
     "name": "stderr",
     "output_type": "stream",
     "text": [
      "INFO:__main__:Processed CANTABIL.NS in 0.01 seconds.\n",
      "INFO:__main__:Processing CAPACITE.NS... 1635 symbols left.\n"
     ]
    },
    {
     "name": "stdout",
     "output_type": "stream",
     "text": [
      "\n",
      "\n",
      "1 Failed download:\n",
      "- CANTABIL.NS: No data found for this date range, symbol may be delisted\n",
      "CAPACITE.NS\n",
      "\r",
      "[*********************100%***********************]  1 of 1 completed"
     ]
    },
    {
     "name": "stderr",
     "output_type": "stream",
     "text": [
      "INFO:__main__:Processed CAPACITE.NS in 0.03 seconds.\n",
      "INFO:__main__:Processing CAPLIPOINT.NS... 1634 symbols left.\n"
     ]
    },
    {
     "name": "stdout",
     "output_type": "stream",
     "text": [
      "\n",
      "\n",
      "1 Failed download:\n",
      "- CAPACITE.NS: No data found for this date range, symbol may be delisted\n",
      "CAPLIPOINT.NS\n",
      "\r",
      "[*********************100%***********************]  1 of 1 completed"
     ]
    },
    {
     "name": "stderr",
     "output_type": "stream",
     "text": [
      "INFO:__main__:Processed CAPLIPOINT.NS in 0.02 seconds.\n",
      "INFO:__main__:Processing CAPTRUST.NS... 1633 symbols left.\n"
     ]
    },
    {
     "name": "stdout",
     "output_type": "stream",
     "text": [
      "\n",
      "\n",
      "1 Failed download:\n",
      "- CAPLIPOINT.NS: No data found for this date range, symbol may be delisted\n",
      "CAPTRUST.NS\n",
      "\r",
      "[*********************100%***********************]  1 of 1 completed"
     ]
    },
    {
     "name": "stderr",
     "output_type": "stream",
     "text": [
      "INFO:__main__:Processed CAPTRUST.NS in 0.01 seconds.\n",
      "INFO:__main__:Processing CARBORUNIV.NS... 1632 symbols left.\n"
     ]
    },
    {
     "name": "stdout",
     "output_type": "stream",
     "text": [
      "\n",
      "\n",
      "1 Failed download:\n",
      "- CAPTRUST.NS: No data found for this date range, symbol may be delisted\n",
      "CARBORUNIV.NS\n",
      "\r",
      "[*********************100%***********************]  1 of 1 completed"
     ]
    },
    {
     "name": "stderr",
     "output_type": "stream",
     "text": [
      "INFO:__main__:Processed CARBORUNIV.NS in 0.01 seconds.\n",
      "INFO:__main__:Processing CAREERP.NS... 1631 symbols left.\n"
     ]
    },
    {
     "name": "stdout",
     "output_type": "stream",
     "text": [
      "\n",
      "\n",
      "1 Failed download:\n",
      "- CARBORUNIV.NS: No data found for this date range, symbol may be delisted\n",
      "CAREERP.NS\n",
      "\r",
      "[*********************100%***********************]  1 of 1 completed"
     ]
    },
    {
     "name": "stderr",
     "output_type": "stream",
     "text": [
      "INFO:__main__:Processed CAREERP.NS in 0.01 seconds.\n",
      "INFO:__main__:Processing CARERATING.NS... 1630 symbols left.\n"
     ]
    },
    {
     "name": "stdout",
     "output_type": "stream",
     "text": [
      "\n",
      "\n",
      "1 Failed download:\n",
      "- CAREERP.NS: No data found for this date range, symbol may be delisted\n",
      "CARERATING.NS\n",
      "\r",
      "[*********************100%***********************]  1 of 1 completed"
     ]
    },
    {
     "name": "stderr",
     "output_type": "stream",
     "text": [
      "INFO:__main__:Processed CARERATING.NS in 0.01 seconds.\n",
      "INFO:__main__:Processing CARTRADE.NS... 1629 symbols left.\n"
     ]
    },
    {
     "name": "stdout",
     "output_type": "stream",
     "text": [
      "\n",
      "\n",
      "1 Failed download:\n",
      "- CARERATING.NS: No data found for this date range, symbol may be delisted\n",
      "CARTRADE.NS\n",
      "\r",
      "[*********************100%***********************]  1 of 1 completed"
     ]
    },
    {
     "name": "stderr",
     "output_type": "stream",
     "text": [
      "INFO:__main__:Processed CARTRADE.NS in 0.01 seconds.\n",
      "INFO:__main__:Processing CARYSIL.NS... 1628 symbols left.\n"
     ]
    },
    {
     "name": "stdout",
     "output_type": "stream",
     "text": [
      "\n",
      "\n",
      "1 Failed download:\n",
      "- CARTRADE.NS: No data found for this date range, symbol may be delisted\n",
      "CARYSIL.NS\n",
      "\r",
      "[*********************100%***********************]  1 of 1 completed"
     ]
    },
    {
     "name": "stderr",
     "output_type": "stream",
     "text": [
      "INFO:__main__:Processed CARYSIL.NS in 0.01 seconds.\n",
      "INFO:__main__:Processing CASTROLIND.NS... 1627 symbols left.\n"
     ]
    },
    {
     "name": "stdout",
     "output_type": "stream",
     "text": [
      "\n",
      "\n",
      "1 Failed download:\n",
      "- CARYSIL.NS: No data found for this date range, symbol may be delisted\n",
      "CASTROLIND.NS\n",
      "\r",
      "[*********************100%***********************]  1 of 1 completed"
     ]
    },
    {
     "name": "stderr",
     "output_type": "stream",
     "text": [
      "INFO:__main__:Processed CASTROLIND.NS in 0.01 seconds.\n",
      "INFO:__main__:Processing CCHHL.NS... 1626 symbols left.\n"
     ]
    },
    {
     "name": "stdout",
     "output_type": "stream",
     "text": [
      "\n",
      "\n",
      "1 Failed download:\n",
      "- CASTROLIND.NS: No data found for this date range, symbol may be delisted\n",
      "CCHHL.NS\n",
      "\r",
      "[*********************100%***********************]  1 of 1 completed"
     ]
    },
    {
     "name": "stderr",
     "output_type": "stream",
     "text": [
      "INFO:__main__:Processed CCHHL.NS in 0.02 seconds.\n",
      "INFO:__main__:Processing CCL.NS... 1625 symbols left.\n"
     ]
    },
    {
     "name": "stdout",
     "output_type": "stream",
     "text": [
      "\n",
      "\n",
      "1 Failed download:\n",
      "- CCHHL.NS: No data found for this date range, symbol may be delisted\n",
      "CCL.NS\n",
      "[*********************100%***********************]  1 of 1 completed"
     ]
    },
    {
     "name": "stderr",
     "output_type": "stream",
     "text": [
      "INFO:__main__:Processed CCL.NS in 0.02 seconds.\n",
      "INFO:__main__:Processing CDSL.NS... 1624 symbols left.\n"
     ]
    },
    {
     "name": "stdout",
     "output_type": "stream",
     "text": [
      "\n",
      "\n",
      "1 Failed download:\n",
      "- CCL.NS: No data found for this date range, symbol may be delisted\n",
      "CDSL.NS\n",
      "\r",
      "[*********************100%***********************]  1 of 1 completed"
     ]
    },
    {
     "name": "stderr",
     "output_type": "stream",
     "text": [
      "INFO:__main__:Processed CDSL.NS in 0.02 seconds.\n",
      "INFO:__main__:Processing CEATLTD.NS... 1623 symbols left.\n"
     ]
    },
    {
     "name": "stdout",
     "output_type": "stream",
     "text": [
      "\n",
      "\n",
      "1 Failed download:\n",
      "- CDSL.NS: No data found for this date range, symbol may be delisted\n",
      "CEATLTD.NS\n",
      "\r",
      "[*********************100%***********************]  1 of 1 completed"
     ]
    },
    {
     "name": "stderr",
     "output_type": "stream",
     "text": [
      "INFO:__main__:Processed CEATLTD.NS in 0.03 seconds.\n"
     ]
    },
    {
     "name": "stdout",
     "output_type": "stream",
     "text": [
      "\n",
      "\n",
      "1 Failed download:\n",
      "- CEATLTD.NS: No data found for this date range, symbol may be delisted\n"
     ]
    },
    {
     "name": "stderr",
     "output_type": "stream",
     "text": [
      "INFO:__main__:Processing CELEBRITY.NS... 1622 symbols left.\n"
     ]
    },
    {
     "name": "stdout",
     "output_type": "stream",
     "text": [
      "CELEBRITY.NS\n",
      "[*********************100%***********************]  1 of 1 completed"
     ]
    },
    {
     "name": "stderr",
     "output_type": "stream",
     "text": [
      "INFO:__main__:Processed CELEBRITY.NS in 0.03 seconds.\n",
      "INFO:__main__:Processing CELLO.NS... 1621 symbols left.\n"
     ]
    },
    {
     "name": "stdout",
     "output_type": "stream",
     "text": [
      "\n",
      "\n",
      "1 Failed download:\n",
      "- CELEBRITY.NS: No data found for this date range, symbol may be delisted\n",
      "CELLO.NS\n",
      "\r",
      "[*********************100%***********************]  1 of 1 completed"
     ]
    },
    {
     "name": "stderr",
     "output_type": "stream",
     "text": [
      "INFO:__main__:Processed CELLO.NS in 0.02 seconds.\n"
     ]
    },
    {
     "name": "stdout",
     "output_type": "stream",
     "text": [
      "\n",
      "\n",
      "1 Failed download:\n",
      "- CELLO.NS: No data found for this date range, symbol may be delisted\n"
     ]
    },
    {
     "name": "stderr",
     "output_type": "stream",
     "text": [
      "INFO:__main__:Processing CENTENKA.NS... 1620 symbols left.\n"
     ]
    },
    {
     "name": "stdout",
     "output_type": "stream",
     "text": [
      "CENTENKA.NS\n",
      "\r",
      "[*********************100%***********************]  1 of 1 completed"
     ]
    },
    {
     "name": "stderr",
     "output_type": "stream",
     "text": [
      "INFO:__main__:Processed CENTENKA.NS in 0.01 seconds.\n",
      "INFO:__main__:Processing CENTEXT.NS... 1619 symbols left.\n"
     ]
    },
    {
     "name": "stdout",
     "output_type": "stream",
     "text": [
      "\n",
      "\n",
      "1 Failed download:\n",
      "- CENTENKA.NS: No data found for this date range, symbol may be delisted\n",
      "CENTEXT.NS\n",
      "\r",
      "[*********************100%***********************]  1 of 1 completed"
     ]
    },
    {
     "name": "stderr",
     "output_type": "stream",
     "text": [
      "INFO:__main__:Processed CENTEXT.NS in 0.01 seconds.\n",
      "INFO:__main__:Processing CENTRALBK.NS... 1618 symbols left.\n"
     ]
    },
    {
     "name": "stdout",
     "output_type": "stream",
     "text": [
      "\n",
      "\n",
      "1 Failed download:\n",
      "- CENTEXT.NS: No data found for this date range, symbol may be delisted\n",
      "CENTRALBK.NS\n",
      "\r",
      "[*********************100%***********************]  1 of 1 completed"
     ]
    },
    {
     "name": "stderr",
     "output_type": "stream",
     "text": [
      "INFO:__main__:Processed CENTRALBK.NS in 0.01 seconds.\n"
     ]
    },
    {
     "name": "stdout",
     "output_type": "stream",
     "text": [
      "\n",
      "\n",
      "1 Failed download:\n",
      "- CENTRALBK.NS: No data found for this date range, symbol may be delisted\n"
     ]
    },
    {
     "name": "stderr",
     "output_type": "stream",
     "text": [
      "INFO:__main__:Processing CENTRUM.NS... 1617 symbols left.\n"
     ]
    },
    {
     "name": "stdout",
     "output_type": "stream",
     "text": [
      "CENTRUM.NS\n",
      "\r",
      "[*********************100%***********************]  1 of 1 completed"
     ]
    },
    {
     "name": "stderr",
     "output_type": "stream",
     "text": [
      "INFO:__main__:Processed CENTRUM.NS in 0.02 seconds.\n",
      "INFO:__main__:Processing CENTUM.NS... 1616 symbols left.\n"
     ]
    },
    {
     "name": "stdout",
     "output_type": "stream",
     "text": [
      "\n",
      "\n",
      "1 Failed download:\n",
      "- CENTRUM.NS: No data found for this date range, symbol may be delisted\n",
      "CENTUM.NS\n",
      "\r",
      "[*********************100%***********************]  1 of 1 completed"
     ]
    },
    {
     "name": "stderr",
     "output_type": "stream",
     "text": [
      "INFO:__main__:Processed CENTUM.NS in 0.01 seconds.\n",
      "INFO:__main__:Processing CENTURYPLY.NS... 1615 symbols left.\n"
     ]
    },
    {
     "name": "stdout",
     "output_type": "stream",
     "text": [
      "\n",
      "\n",
      "1 Failed download:\n",
      "- CENTUM.NS: No data found for this date range, symbol may be delisted\n",
      "CENTURYPLY.NS\n",
      "\r",
      "[*********************100%***********************]  1 of 1 completed"
     ]
    },
    {
     "name": "stderr",
     "output_type": "stream",
     "text": [
      "INFO:__main__:Processed CENTURYPLY.NS in 0.01 seconds.\n",
      "INFO:__main__:Processing CENTURYTEX.NS... 1614 symbols left.\n"
     ]
    },
    {
     "name": "stdout",
     "output_type": "stream",
     "text": [
      "\n",
      "\n",
      "1 Failed download:\n",
      "- CENTURYPLY.NS: No data found for this date range, symbol may be delisted\n",
      "CENTURYTEX.NS\n",
      "\r",
      "[*********************100%***********************]  1 of 1 completed"
     ]
    },
    {
     "name": "stderr",
     "output_type": "stream",
     "text": [
      "INFO:__main__:Processed CENTURYTEX.NS in 0.01 seconds.\n",
      "INFO:__main__:Processing CERA.NS... 1613 symbols left.\n"
     ]
    },
    {
     "name": "stdout",
     "output_type": "stream",
     "text": [
      "\n",
      "\n",
      "1 Failed download:\n",
      "- CENTURYTEX.NS: No data found for this date range, symbol may be delisted\n",
      "CERA.NS\n",
      "\r",
      "[*********************100%***********************]  1 of 1 completed"
     ]
    },
    {
     "name": "stderr",
     "output_type": "stream",
     "text": [
      "INFO:__main__:Processed CERA.NS in 0.01 seconds.\n",
      "INFO:__main__:Processing CEREBRAINT.NS... 1612 symbols left.\n"
     ]
    },
    {
     "name": "stdout",
     "output_type": "stream",
     "text": [
      "\n",
      "\n",
      "1 Failed download:\n",
      "- CERA.NS: No data found for this date range, symbol may be delisted\n",
      "CEREBRAINT.NS\n",
      "\r",
      "[*********************100%***********************]  1 of 1 completed"
     ]
    },
    {
     "name": "stderr",
     "output_type": "stream",
     "text": [
      "INFO:__main__:Processed CEREBRAINT.NS in 0.01 seconds.\n",
      "INFO:__main__:Processing CESC.NS... 1611 symbols left.\n"
     ]
    },
    {
     "name": "stdout",
     "output_type": "stream",
     "text": [
      "\n",
      "\n",
      "1 Failed download:\n",
      "- CEREBRAINT.NS: No data found for this date range, symbol may be delisted\n",
      "CESC.NS\n",
      "\r",
      "[*********************100%***********************]  1 of 1 completed"
     ]
    },
    {
     "name": "stderr",
     "output_type": "stream",
     "text": [
      "INFO:__main__:Processed CESC.NS in 0.02 seconds.\n",
      "INFO:__main__:Processing CGCL.NS... 1610 symbols left.\n"
     ]
    },
    {
     "name": "stdout",
     "output_type": "stream",
     "text": [
      "\n",
      "\n",
      "1 Failed download:\n",
      "- CESC.NS: No data found for this date range, symbol may be delisted\n",
      "CGCL.NS\n",
      "\r",
      "[*********************100%***********************]  1 of 1 completed"
     ]
    },
    {
     "name": "stderr",
     "output_type": "stream",
     "text": [
      "INFO:__main__:Processed CGCL.NS in 0.01 seconds.\n",
      "INFO:__main__:Processing CGPOWER.NS... 1609 symbols left.\n"
     ]
    },
    {
     "name": "stdout",
     "output_type": "stream",
     "text": [
      "\n",
      "\n",
      "1 Failed download:\n",
      "- CGCL.NS: No data found for this date range, symbol may be delisted\n",
      "CGPOWER.NS\n",
      "\r",
      "[*********************100%***********************]  1 of 1 completed"
     ]
    },
    {
     "name": "stderr",
     "output_type": "stream",
     "text": [
      "INFO:__main__:Processed CGPOWER.NS in 0.01 seconds.\n",
      "INFO:__main__:Processing CHALET.NS... 1608 symbols left.\n"
     ]
    },
    {
     "name": "stdout",
     "output_type": "stream",
     "text": [
      "\n",
      "\n",
      "1 Failed download:\n",
      "- CGPOWER.NS: No data found for this date range, symbol may be delisted\n",
      "CHALET.NS\n",
      "\r",
      "[*********************100%***********************]  1 of 1 completed"
     ]
    },
    {
     "name": "stderr",
     "output_type": "stream",
     "text": [
      "INFO:__main__:Processed CHALET.NS in 0.01 seconds.\n",
      "INFO:__main__:Processing CHAMBLFERT.NS... 1607 symbols left.\n"
     ]
    },
    {
     "name": "stdout",
     "output_type": "stream",
     "text": [
      "\n",
      "\n",
      "1 Failed download:\n",
      "- CHALET.NS: No data found for this date range, symbol may be delisted\n",
      "CHAMBLFERT.NS\n",
      "\r",
      "[*********************100%***********************]  1 of 1 completed"
     ]
    },
    {
     "name": "stderr",
     "output_type": "stream",
     "text": [
      "INFO:__main__:Processed CHAMBLFERT.NS in 0.01 seconds.\n",
      "INFO:__main__:Processing CHEMBOND.NS... 1606 symbols left.\n"
     ]
    },
    {
     "name": "stdout",
     "output_type": "stream",
     "text": [
      "\n",
      "\n",
      "1 Failed download:\n",
      "- CHAMBLFERT.NS: No data found for this date range, symbol may be delisted\n",
      "CHEMBOND.NS\n",
      "\r",
      "[*********************100%***********************]  1 of 1 completed"
     ]
    },
    {
     "name": "stderr",
     "output_type": "stream",
     "text": [
      "INFO:__main__:Processed CHEMBOND.NS in 0.01 seconds.\n",
      "INFO:__main__:Processing CHEMCON.NS... 1605 symbols left.\n"
     ]
    },
    {
     "name": "stdout",
     "output_type": "stream",
     "text": [
      "\n",
      "\n",
      "1 Failed download:\n",
      "- CHEMBOND.NS: No data found for this date range, symbol may be delisted\n",
      "CHEMCON.NS\n",
      "\r",
      "[*********************100%***********************]  1 of 1 completed"
     ]
    },
    {
     "name": "stderr",
     "output_type": "stream",
     "text": [
      "INFO:__main__:Processed CHEMCON.NS in 0.01 seconds.\n",
      "INFO:__main__:Processing CHEMFAB.NS... 1604 symbols left.\n"
     ]
    },
    {
     "name": "stdout",
     "output_type": "stream",
     "text": [
      "\n",
      "\n",
      "1 Failed download:\n",
      "- CHEMCON.NS: No data found for this date range, symbol may be delisted\n",
      "CHEMFAB.NS\n",
      "\r",
      "[*********************100%***********************]  1 of 1 completed"
     ]
    },
    {
     "name": "stderr",
     "output_type": "stream",
     "text": [
      "INFO:__main__:Processed CHEMFAB.NS in 0.01 seconds.\n",
      "INFO:__main__:Processing CHEMPLASTS.NS... 1603 symbols left.\n"
     ]
    },
    {
     "name": "stdout",
     "output_type": "stream",
     "text": [
      "\n",
      "\n",
      "1 Failed download:\n",
      "- CHEMFAB.NS: No data found for this date range, symbol may be delisted\n",
      "CHEMPLASTS.NS\n",
      "\r",
      "[*********************100%***********************]  1 of 1 completed"
     ]
    },
    {
     "name": "stderr",
     "output_type": "stream",
     "text": [
      "INFO:__main__:Processed CHEMPLASTS.NS in 0.01 seconds.\n",
      "INFO:__main__:Processing CHENNPETRO.NS... 1602 symbols left.\n"
     ]
    },
    {
     "name": "stdout",
     "output_type": "stream",
     "text": [
      "\n",
      "\n",
      "1 Failed download:\n",
      "- CHEMPLASTS.NS: No data found for this date range, symbol may be delisted\n",
      "CHENNPETRO.NS\n",
      "\r",
      "[*********************100%***********************]  1 of 1 completed"
     ]
    },
    {
     "name": "stderr",
     "output_type": "stream",
     "text": [
      "INFO:__main__:Processed CHENNPETRO.NS in 0.01 seconds.\n",
      "INFO:__main__:Processing CHEVIOT.NS... 1601 symbols left.\n"
     ]
    },
    {
     "name": "stdout",
     "output_type": "stream",
     "text": [
      "\n",
      "\n",
      "1 Failed download:\n",
      "- CHENNPETRO.NS: No data found for this date range, symbol may be delisted\n",
      "CHEVIOT.NS\n",
      "\r",
      "[*********************100%***********************]  1 of 1 completed"
     ]
    },
    {
     "name": "stderr",
     "output_type": "stream",
     "text": [
      "INFO:__main__:Processed CHEVIOT.NS in 0.01 seconds.\n",
      "INFO:__main__:Processing CHOICEIN.NS... 1600 symbols left.\n"
     ]
    },
    {
     "name": "stdout",
     "output_type": "stream",
     "text": [
      "\n",
      "\n",
      "1 Failed download:\n",
      "- CHEVIOT.NS: No data found for this date range, symbol may be delisted\n",
      "CHOICEIN.NS\n",
      "\r",
      "[*********************100%***********************]  1 of 1 completed"
     ]
    },
    {
     "name": "stderr",
     "output_type": "stream",
     "text": [
      "INFO:__main__:Processed CHOICEIN.NS in 0.01 seconds.\n",
      "INFO:__main__:Processing CHOLAFIN.NS... 1599 symbols left.\n"
     ]
    },
    {
     "name": "stdout",
     "output_type": "stream",
     "text": [
      "\n",
      "\n",
      "1 Failed download:\n",
      "- CHOICEIN.NS: No data found for this date range, symbol may be delisted\n",
      "CHOLAFIN.NS\n",
      "\r",
      "[*********************100%***********************]  1 of 1 completed"
     ]
    },
    {
     "name": "stderr",
     "output_type": "stream",
     "text": [
      "INFO:__main__:Processed CHOLAFIN.NS in 0.00 seconds.\n",
      "INFO:__main__:Processing CHOLAHLDNG.NS... 1598 symbols left.\n"
     ]
    },
    {
     "name": "stdout",
     "output_type": "stream",
     "text": [
      "\n",
      "\n",
      "1 Failed download:\n",
      "- CHOLAFIN.NS: No data found for this date range, symbol may be delisted\n",
      "CHOLAHLDNG.NS\n",
      "\r",
      "[*********************100%***********************]  1 of 1 completed"
     ]
    },
    {
     "name": "stderr",
     "output_type": "stream",
     "text": [
      "INFO:__main__:Processed CHOLAHLDNG.NS in 0.02 seconds.\n",
      "INFO:__main__:Processing CIEINDIA.NS... 1597 symbols left.\n"
     ]
    },
    {
     "name": "stdout",
     "output_type": "stream",
     "text": [
      "\n",
      "\n",
      "1 Failed download:\n",
      "- CHOLAHLDNG.NS: No data found for this date range, symbol may be delisted\n",
      "CIEINDIA.NS\n",
      "\r",
      "[*********************100%***********************]  1 of 1 completed"
     ]
    },
    {
     "name": "stderr",
     "output_type": "stream",
     "text": [
      "INFO:__main__:Processed CIEINDIA.NS in 0.03 seconds.\n",
      "INFO:__main__:Processing CIGNITITEC.NS... 1596 symbols left.\n"
     ]
    },
    {
     "name": "stdout",
     "output_type": "stream",
     "text": [
      "\n",
      "\n",
      "1 Failed download:\n",
      "- CIEINDIA.NS: No data found for this date range, symbol may be delisted\n",
      "CIGNITITEC.NS\n",
      "\r",
      "[*********************100%***********************]  1 of 1 completed"
     ]
    },
    {
     "name": "stderr",
     "output_type": "stream",
     "text": [
      "INFO:__main__:Processed CIGNITITEC.NS in 0.02 seconds.\n",
      "INFO:__main__:Processing CINELINE.NS... 1595 symbols left.\n"
     ]
    },
    {
     "name": "stdout",
     "output_type": "stream",
     "text": [
      "\n",
      "\n",
      "1 Failed download:\n",
      "- CIGNITITEC.NS: No data found for this date range, symbol may be delisted\n",
      "CINELINE.NS\n",
      "\r",
      "[*********************100%***********************]  1 of 1 completed"
     ]
    },
    {
     "name": "stderr",
     "output_type": "stream",
     "text": [
      "INFO:__main__:Processed CINELINE.NS in 0.03 seconds.\n",
      "INFO:__main__:Processing CINEVISTA.NS... 1594 symbols left.\n"
     ]
    },
    {
     "name": "stdout",
     "output_type": "stream",
     "text": [
      "\n",
      "\n",
      "1 Failed download:\n",
      "- CINELINE.NS: No data found for this date range, symbol may be delisted\n",
      "CINEVISTA.NS\n",
      "\r",
      "[*********************100%***********************]  1 of 1 completed"
     ]
    },
    {
     "name": "stderr",
     "output_type": "stream",
     "text": [
      "INFO:__main__:Processed CINEVISTA.NS in 0.02 seconds.\n",
      "INFO:__main__:Processing CIPLA.NS... 1593 symbols left.\n"
     ]
    },
    {
     "name": "stdout",
     "output_type": "stream",
     "text": [
      "\n",
      "\n",
      "1 Failed download:\n",
      "- CINEVISTA.NS: No data found for this date range, symbol may be delisted\n",
      "CIPLA.NS\n",
      "\r",
      "[*********************100%***********************]  1 of 1 completed"
     ]
    },
    {
     "name": "stderr",
     "output_type": "stream",
     "text": [
      "INFO:__main__:Processed CIPLA.NS in 0.01 seconds.\n",
      "INFO:__main__:Processing CLEAN.NS... 1592 symbols left.\n"
     ]
    },
    {
     "name": "stdout",
     "output_type": "stream",
     "text": [
      "\n",
      "\n",
      "1 Failed download:\n",
      "- CIPLA.NS: No data found for this date range, symbol may be delisted\n",
      "CLEAN.NS\n",
      "\r",
      "[*********************100%***********************]  1 of 1 completed"
     ]
    },
    {
     "name": "stderr",
     "output_type": "stream",
     "text": [
      "INFO:__main__:Processed CLEAN.NS in 0.01 seconds.\n",
      "INFO:__main__:Processing CLEDUCATE.NS... 1591 symbols left.\n"
     ]
    },
    {
     "name": "stdout",
     "output_type": "stream",
     "text": [
      "\n",
      "\n",
      "1 Failed download:\n",
      "- CLEAN.NS: No data found for this date range, symbol may be delisted\n",
      "CLEDUCATE.NS\n",
      "\r",
      "[*********************100%***********************]  1 of 1 completed"
     ]
    },
    {
     "name": "stderr",
     "output_type": "stream",
     "text": [
      "INFO:__main__:Processed CLEDUCATE.NS in 0.03 seconds.\n",
      "INFO:__main__:Processing CLSEL.NS... 1590 symbols left.\n"
     ]
    },
    {
     "name": "stdout",
     "output_type": "stream",
     "text": [
      "\n",
      "\n",
      "1 Failed download:\n",
      "- CLEDUCATE.NS: No data found for this date range, symbol may be delisted\n",
      "CLSEL.NS\n",
      "\r",
      "[*********************100%***********************]  1 of 1 completed"
     ]
    },
    {
     "name": "stderr",
     "output_type": "stream",
     "text": [
      "INFO:__main__:Processed CLSEL.NS in 0.01 seconds.\n",
      "INFO:__main__:Processing CMSINFO.NS... 1589 symbols left.\n"
     ]
    },
    {
     "name": "stdout",
     "output_type": "stream",
     "text": [
      "\n",
      "\n",
      "1 Failed download:\n",
      "- CLSEL.NS: No data found for this date range, symbol may be delisted\n",
      "CMSINFO.NS\n",
      "\r",
      "[*********************100%***********************]  1 of 1 completed"
     ]
    },
    {
     "name": "stderr",
     "output_type": "stream",
     "text": [
      "INFO:__main__:Processed CMSINFO.NS in 0.01 seconds.\n",
      "INFO:__main__:Processing COALINDIA.NS... 1588 symbols left.\n"
     ]
    },
    {
     "name": "stdout",
     "output_type": "stream",
     "text": [
      "\n",
      "\n",
      "1 Failed download:\n",
      "- CMSINFO.NS: No data found for this date range, symbol may be delisted\n",
      "COALINDIA.NS\n",
      "\r",
      "[*********************100%***********************]  1 of 1 completed"
     ]
    },
    {
     "name": "stderr",
     "output_type": "stream",
     "text": [
      "INFO:__main__:Processed COALINDIA.NS in 0.01 seconds.\n",
      "INFO:__main__:Processing COASTCORP.NS... 1587 symbols left.\n"
     ]
    },
    {
     "name": "stdout",
     "output_type": "stream",
     "text": [
      "\n",
      "\n",
      "1 Failed download:\n",
      "- COALINDIA.NS: No data found for this date range, symbol may be delisted\n",
      "COASTCORP.NS\n",
      "\r",
      "[*********************100%***********************]  1 of 1 completed"
     ]
    },
    {
     "name": "stderr",
     "output_type": "stream",
     "text": [
      "INFO:__main__:Processed COASTCORP.NS in 0.01 seconds.\n",
      "INFO:__main__:Processing COCHINSHIP.NS... 1586 symbols left.\n"
     ]
    },
    {
     "name": "stdout",
     "output_type": "stream",
     "text": [
      "\n",
      "\n",
      "1 Failed download:\n",
      "- COASTCORP.NS: No data found for this date range, symbol may be delisted\n",
      "COCHINSHIP.NS\n",
      "\r",
      "[*********************100%***********************]  1 of 1 completed"
     ]
    },
    {
     "name": "stderr",
     "output_type": "stream",
     "text": [
      "INFO:__main__:Processed COCHINSHIP.NS in 0.03 seconds.\n",
      "INFO:__main__:Processing COFFEEDAY.NS... 1585 symbols left.\n"
     ]
    },
    {
     "name": "stdout",
     "output_type": "stream",
     "text": [
      "\n",
      "\n",
      "1 Failed download:\n",
      "- COCHINSHIP.NS: No data found for this date range, symbol may be delisted\n",
      "COFFEEDAY.NS\n",
      "\r",
      "[*********************100%***********************]  1 of 1 completed"
     ]
    },
    {
     "name": "stderr",
     "output_type": "stream",
     "text": [
      "INFO:__main__:Processed COFFEEDAY.NS in 0.02 seconds.\n",
      "INFO:__main__:Processing COFORGE.NS... 1584 symbols left.\n"
     ]
    },
    {
     "name": "stdout",
     "output_type": "stream",
     "text": [
      "\n",
      "\n",
      "1 Failed download:\n",
      "- COFFEEDAY.NS: No data found for this date range, symbol may be delisted\n",
      "COFORGE.NS\n",
      "\r",
      "[*********************100%***********************]  1 of 1 completed"
     ]
    },
    {
     "name": "stderr",
     "output_type": "stream",
     "text": [
      "INFO:__main__:Processed COFORGE.NS in 0.01 seconds.\n",
      "INFO:__main__:Processing COLPAL.NS... 1583 symbols left.\n"
     ]
    },
    {
     "name": "stdout",
     "output_type": "stream",
     "text": [
      "\n",
      "\n",
      "1 Failed download:\n",
      "- COFORGE.NS: No data found for this date range, symbol may be delisted\n",
      "COLPAL.NS\n",
      "\r",
      "[*********************100%***********************]  1 of 1 completed"
     ]
    },
    {
     "name": "stderr",
     "output_type": "stream",
     "text": [
      "INFO:__main__:Processed COLPAL.NS in 0.01 seconds.\n",
      "INFO:__main__:Processing COMPINFO.NS... 1582 symbols left.\n"
     ]
    },
    {
     "name": "stdout",
     "output_type": "stream",
     "text": [
      "\n",
      "\n",
      "1 Failed download:\n",
      "- COLPAL.NS: No data found for this date range, symbol may be delisted\n",
      "COMPINFO.NS\n",
      "\r",
      "[*********************100%***********************]  1 of 1 completed"
     ]
    },
    {
     "name": "stderr",
     "output_type": "stream",
     "text": [
      "INFO:__main__:Processed COMPINFO.NS in 0.01 seconds.\n",
      "INFO:__main__:Processing COMPUSOFT.NS... 1581 symbols left.\n"
     ]
    },
    {
     "name": "stdout",
     "output_type": "stream",
     "text": [
      "\n",
      "\n",
      "1 Failed download:\n",
      "- COMPINFO.NS: No data found for this date range, symbol may be delisted\n",
      "COMPUSOFT.NS\n",
      "\r",
      "[*********************100%***********************]  1 of 1 completed"
     ]
    },
    {
     "name": "stderr",
     "output_type": "stream",
     "text": [
      "INFO:__main__:Processed COMPUSOFT.NS in 0.02 seconds.\n"
     ]
    },
    {
     "name": "stdout",
     "output_type": "stream",
     "text": [
      "\n",
      "\n",
      "1 Failed download:\n",
      "- COMPUSOFT.NS: No data found for this date range, symbol may be delisted\n"
     ]
    },
    {
     "name": "stderr",
     "output_type": "stream",
     "text": [
      "INFO:__main__:Processing CONCOR.NS... 1580 symbols left.\n"
     ]
    },
    {
     "name": "stdout",
     "output_type": "stream",
     "text": [
      "CONCOR.NS\n",
      "\r",
      "[*********************100%***********************]  1 of 1 completed"
     ]
    },
    {
     "name": "stderr",
     "output_type": "stream",
     "text": [
      "INFO:__main__:Processed CONCOR.NS in 0.01 seconds.\n",
      "INFO:__main__:Processing CONCORDBIO.NS... 1579 symbols left.\n"
     ]
    },
    {
     "name": "stdout",
     "output_type": "stream",
     "text": [
      "\n",
      "\n",
      "1 Failed download:\n",
      "- CONCOR.NS: No data found for this date range, symbol may be delisted\n",
      "CONCORDBIO.NS\n",
      "\r",
      "[*********************100%***********************]  1 of 1 completed"
     ]
    },
    {
     "name": "stderr",
     "output_type": "stream",
     "text": [
      "INFO:__main__:Processed CONCORDBIO.NS in 0.03 seconds.\n",
      "INFO:__main__:Processing CONFIPET.NS... 1578 symbols left.\n"
     ]
    },
    {
     "name": "stdout",
     "output_type": "stream",
     "text": [
      "\n",
      "\n",
      "1 Failed download:\n",
      "- CONCORDBIO.NS: No data found for this date range, symbol may be delisted\n",
      "CONFIPET.NS\n",
      "\r",
      "[*********************100%***********************]  1 of 1 completed"
     ]
    },
    {
     "name": "stderr",
     "output_type": "stream",
     "text": [
      "INFO:__main__:Processed CONFIPET.NS in 0.02 seconds.\n",
      "INFO:__main__:Processing CONSOFINVT.NS... 1577 symbols left.\n"
     ]
    },
    {
     "name": "stdout",
     "output_type": "stream",
     "text": [
      "\n",
      "\n",
      "1 Failed download:\n",
      "- CONFIPET.NS: No data found for this date range, symbol may be delisted\n",
      "CONSOFINVT.NS\n",
      "\r",
      "[*********************100%***********************]  1 of 1 completed"
     ]
    },
    {
     "name": "stderr",
     "output_type": "stream",
     "text": [
      "INFO:__main__:Processed CONSOFINVT.NS in 0.01 seconds.\n",
      "INFO:__main__:Processing CONTROLPR.NS... 1576 symbols left.\n"
     ]
    },
    {
     "name": "stdout",
     "output_type": "stream",
     "text": [
      "\n",
      "\n",
      "1 Failed download:\n",
      "- CONSOFINVT.NS: No data found for this date range, symbol may be delisted\n",
      "CONTROLPR.NS\n",
      "\r",
      "[*********************100%***********************]  1 of 1 completed"
     ]
    },
    {
     "name": "stderr",
     "output_type": "stream",
     "text": [
      "INFO:__main__:Processed CONTROLPR.NS in 0.01 seconds.\n",
      "INFO:__main__:Processing CORALFINAC.NS... 1575 symbols left.\n"
     ]
    },
    {
     "name": "stdout",
     "output_type": "stream",
     "text": [
      "\n",
      "\n",
      "1 Failed download:\n",
      "- CONTROLPR.NS: No data found for this date range, symbol may be delisted\n",
      "CORALFINAC.NS\n",
      "\r",
      "[*********************100%***********************]  1 of 1 completed"
     ]
    },
    {
     "name": "stderr",
     "output_type": "stream",
     "text": [
      "INFO:__main__:Processed CORALFINAC.NS in 0.02 seconds.\n",
      "INFO:__main__:Processing CORDSCABLE.NS... 1574 symbols left.\n"
     ]
    },
    {
     "name": "stdout",
     "output_type": "stream",
     "text": [
      "\n",
      "\n",
      "1 Failed download:\n",
      "- CORALFINAC.NS: No data found for this date range, symbol may be delisted\n",
      "CORDSCABLE.NS\n",
      "\r",
      "[*********************100%***********************]  1 of 1 completed"
     ]
    },
    {
     "name": "stderr",
     "output_type": "stream",
     "text": [
      "INFO:__main__:Processed CORDSCABLE.NS in 0.02 seconds.\n",
      "INFO:__main__:Processing COROMANDEL.NS... 1573 symbols left.\n"
     ]
    },
    {
     "name": "stdout",
     "output_type": "stream",
     "text": [
      "\n",
      "\n",
      "1 Failed download:\n",
      "- CORDSCABLE.NS: No data found for this date range, symbol may be delisted\n",
      "COROMANDEL.NS\n",
      "\r",
      "[*********************100%***********************]  1 of 1 completed"
     ]
    },
    {
     "name": "stderr",
     "output_type": "stream",
     "text": [
      "INFO:__main__:Processed COROMANDEL.NS in 0.02 seconds.\n",
      "INFO:__main__:Processing COSMOFIRST.NS... 1572 symbols left.\n"
     ]
    },
    {
     "name": "stdout",
     "output_type": "stream",
     "text": [
      "\n",
      "\n",
      "1 Failed download:\n",
      "- COROMANDEL.NS: No data found for this date range, symbol may be delisted\n",
      "COSMOFIRST.NS\n",
      "\r",
      "[*********************100%***********************]  1 of 1 completed"
     ]
    },
    {
     "name": "stderr",
     "output_type": "stream",
     "text": [
      "INFO:__main__:Processed COSMOFIRST.NS in 0.01 seconds.\n",
      "INFO:__main__:Processing COUNCODOS.NS... 1571 symbols left.\n"
     ]
    },
    {
     "name": "stdout",
     "output_type": "stream",
     "text": [
      "\n",
      "\n",
      "1 Failed download:\n",
      "- COSMOFIRST.NS: No data found for this date range, symbol may be delisted\n",
      "COUNCODOS.NS\n",
      "\r",
      "[*********************100%***********************]  1 of 1 completed"
     ]
    },
    {
     "name": "stderr",
     "output_type": "stream",
     "text": [
      "INFO:__main__:Processed COUNCODOS.NS in 0.01 seconds.\n",
      "INFO:__main__:Processing CRAFTSMAN.NS... 1570 symbols left.\n"
     ]
    },
    {
     "name": "stdout",
     "output_type": "stream",
     "text": [
      "\n",
      "\n",
      "1 Failed download:\n",
      "- COUNCODOS.NS: No data found for this date range, symbol may be delisted\n",
      "CRAFTSMAN.NS\n",
      "\r",
      "[*********************100%***********************]  1 of 1 completed"
     ]
    },
    {
     "name": "stderr",
     "output_type": "stream",
     "text": [
      "INFO:__main__:Processed CRAFTSMAN.NS in 0.01 seconds.\n",
      "INFO:__main__:Processing CREATIVE.NS... 1569 symbols left.\n"
     ]
    },
    {
     "name": "stdout",
     "output_type": "stream",
     "text": [
      "\n",
      "\n",
      "1 Failed download:\n",
      "- CRAFTSMAN.NS: No data found for this date range, symbol may be delisted\n",
      "CREATIVE.NS\n",
      "\r",
      "[*********************100%***********************]  1 of 1 completed"
     ]
    },
    {
     "name": "stderr",
     "output_type": "stream",
     "text": [
      "INFO:__main__:Processed CREATIVE.NS in 0.01 seconds.\n",
      "INFO:__main__:Processing CREATIVEYE.NS... 1568 symbols left.\n"
     ]
    },
    {
     "name": "stdout",
     "output_type": "stream",
     "text": [
      "\n",
      "\n",
      "1 Failed download:\n",
      "- CREATIVE.NS: No data found for this date range, symbol may be delisted\n",
      "CREATIVEYE.NS\n",
      "\r",
      "[*********************100%***********************]  1 of 1 completed"
     ]
    },
    {
     "name": "stderr",
     "output_type": "stream",
     "text": [
      "INFO:__main__:Processed CREATIVEYE.NS in 0.01 seconds.\n",
      "INFO:__main__:Processing CREDITACC.NS... 1567 symbols left.\n"
     ]
    },
    {
     "name": "stdout",
     "output_type": "stream",
     "text": [
      "\n",
      "\n",
      "1 Failed download:\n",
      "- CREATIVEYE.NS: No data found for this date range, symbol may be delisted\n",
      "CREDITACC.NS\n",
      "\r",
      "[*********************100%***********************]  1 of 1 completed"
     ]
    },
    {
     "name": "stderr",
     "output_type": "stream",
     "text": [
      "INFO:__main__:Processed CREDITACC.NS in 0.01 seconds.\n",
      "INFO:__main__:Processing CREST.NS... 1566 symbols left.\n"
     ]
    },
    {
     "name": "stdout",
     "output_type": "stream",
     "text": [
      "\n",
      "\n",
      "1 Failed download:\n",
      "- CREDITACC.NS: No data found for this date range, symbol may be delisted\n",
      "CREST.NS\n",
      "\r",
      "[*********************100%***********************]  1 of 1 completed"
     ]
    },
    {
     "name": "stderr",
     "output_type": "stream",
     "text": [
      "INFO:__main__:Processed CREST.NS in 0.01 seconds.\n",
      "INFO:__main__:Processing CRISIL.NS... 1565 symbols left.\n"
     ]
    },
    {
     "name": "stdout",
     "output_type": "stream",
     "text": [
      "\n",
      "\n",
      "1 Failed download:\n",
      "- CREST.NS: No data found for this date range, symbol may be delisted\n",
      "CRISIL.NS\n",
      "\r",
      "[*********************100%***********************]  1 of 1 completed"
     ]
    },
    {
     "name": "stderr",
     "output_type": "stream",
     "text": [
      "INFO:__main__:Processed CRISIL.NS in 0.01 seconds.\n",
      "INFO:__main__:Processing CROMPTON.NS... 1564 symbols left.\n"
     ]
    },
    {
     "name": "stdout",
     "output_type": "stream",
     "text": [
      "\n",
      "\n",
      "1 Failed download:\n",
      "- CRISIL.NS: No data found for this date range, symbol may be delisted\n",
      "CROMPTON.NS\n",
      "\r",
      "[*********************100%***********************]  1 of 1 completed"
     ]
    },
    {
     "name": "stderr",
     "output_type": "stream",
     "text": [
      "INFO:__main__:Processed CROMPTON.NS in 0.01 seconds.\n",
      "INFO:__main__:Processing CROWN.NS... 1563 symbols left.\n"
     ]
    },
    {
     "name": "stdout",
     "output_type": "stream",
     "text": [
      "\n",
      "\n",
      "1 Failed download:\n",
      "- CROMPTON.NS: No data found for this date range, symbol may be delisted\n",
      "CROWN.NS\n",
      "\r",
      "[*********************100%***********************]  1 of 1 completed"
     ]
    },
    {
     "name": "stderr",
     "output_type": "stream",
     "text": [
      "INFO:__main__:Processed CROWN.NS in 0.01 seconds.\n",
      "INFO:__main__:Processing CSBBANK.NS... 1562 symbols left.\n"
     ]
    },
    {
     "name": "stdout",
     "output_type": "stream",
     "text": [
      "\n",
      "\n",
      "1 Failed download:\n",
      "- CROWN.NS: No data found for this date range, symbol may be delisted\n",
      "CSBBANK.NS\n",
      "\r",
      "[*********************100%***********************]  1 of 1 completed"
     ]
    },
    {
     "name": "stderr",
     "output_type": "stream",
     "text": [
      "INFO:__main__:Processed CSBBANK.NS in 0.01 seconds.\n",
      "INFO:__main__:Processing CSLFINANCE.NS... 1561 symbols left.\n"
     ]
    },
    {
     "name": "stdout",
     "output_type": "stream",
     "text": [
      "\n",
      "\n",
      "1 Failed download:\n",
      "- CSBBANK.NS: No data found for this date range, symbol may be delisted\n",
      "CSLFINANCE.NS\n",
      "\r",
      "[*********************100%***********************]  1 of 1 completed"
     ]
    },
    {
     "name": "stderr",
     "output_type": "stream",
     "text": [
      "INFO:__main__:Processed CSLFINANCE.NS in 0.02 seconds.\n"
     ]
    },
    {
     "name": "stdout",
     "output_type": "stream",
     "text": [
      "\n",
      "\n",
      "1 Failed download:\n",
      "- CSLFINANCE.NS: No data found for this date range, symbol may be delisted\n"
     ]
    },
    {
     "name": "stderr",
     "output_type": "stream",
     "text": [
      "INFO:__main__:Processing CTE.NS... 1560 symbols left.\n"
     ]
    },
    {
     "name": "stdout",
     "output_type": "stream",
     "text": [
      "CTE.NS\n",
      "\r",
      "[*********************100%***********************]  1 of 1 completed"
     ]
    },
    {
     "name": "stderr",
     "output_type": "stream",
     "text": [
      "INFO:__main__:Processed CTE.NS in 0.03 seconds.\n"
     ]
    },
    {
     "name": "stdout",
     "output_type": "stream",
     "text": [
      "\n",
      "\n",
      "1 Failed download:\n",
      "- CTE.NS: No data found for this date range, symbol may be delisted\n"
     ]
    },
    {
     "name": "stderr",
     "output_type": "stream",
     "text": [
      "INFO:__main__:Processing CUB.NS... 1559 symbols left.\n"
     ]
    },
    {
     "name": "stdout",
     "output_type": "stream",
     "text": [
      "CUB.NS\n",
      "\r",
      "[*********************100%***********************]  1 of 1 completed"
     ]
    },
    {
     "name": "stderr",
     "output_type": "stream",
     "text": [
      "INFO:__main__:Processed CUB.NS in 0.00 seconds.\n",
      "INFO:__main__:Processing CUBEXTUB.NS... 1558 symbols left.\n"
     ]
    },
    {
     "name": "stdout",
     "output_type": "stream",
     "text": [
      "\n",
      "\n",
      "1 Failed download:\n",
      "- CUB.NS: No data found for this date range, symbol may be delisted\n",
      "CUBEXTUB.NS\n",
      "\r",
      "[*********************100%***********************]  1 of 1 completed"
     ]
    },
    {
     "name": "stderr",
     "output_type": "stream",
     "text": [
      "INFO:__main__:Processed CUBEXTUB.NS in 0.01 seconds.\n",
      "INFO:__main__:Processing CUMMINSIND.NS... 1557 symbols left.\n"
     ]
    },
    {
     "name": "stdout",
     "output_type": "stream",
     "text": [
      "\n",
      "\n",
      "1 Failed download:\n",
      "- CUBEXTUB.NS: No data found for this date range, symbol may be delisted\n",
      "CUMMINSIND.NS\n",
      "\r",
      "[*********************100%***********************]  1 of 1 completed"
     ]
    },
    {
     "name": "stderr",
     "output_type": "stream",
     "text": [
      "INFO:__main__:Processed CUMMINSIND.NS in 0.01 seconds.\n",
      "INFO:__main__:Processing CUPID.NS... 1556 symbols left.\n"
     ]
    },
    {
     "name": "stdout",
     "output_type": "stream",
     "text": [
      "\n",
      "\n",
      "1 Failed download:\n",
      "- CUMMINSIND.NS: No data found for this date range, symbol may be delisted\n",
      "CUPID.NS\n",
      "\r",
      "[*********************100%***********************]  1 of 1 completed"
     ]
    },
    {
     "name": "stderr",
     "output_type": "stream",
     "text": [
      "INFO:__main__:Processed CUPID.NS in 0.01 seconds.\n",
      "INFO:__main__:Processing CYBERMEDIA.NS... 1555 symbols left.\n"
     ]
    },
    {
     "name": "stdout",
     "output_type": "stream",
     "text": [
      "\n",
      "\n",
      "1 Failed download:\n",
      "- CUPID.NS: No data found for this date range, symbol may be delisted\n",
      "CYBERMEDIA.NS\n",
      "\r",
      "[*********************100%***********************]  1 of 1 completed"
     ]
    },
    {
     "name": "stderr",
     "output_type": "stream",
     "text": [
      "INFO:__main__:Processed CYBERMEDIA.NS in 0.01 seconds.\n",
      "INFO:__main__:Processing CYBERTECH.NS... 1554 symbols left.\n"
     ]
    },
    {
     "name": "stdout",
     "output_type": "stream",
     "text": [
      "\n",
      "\n",
      "1 Failed download:\n",
      "- CYBERMEDIA.NS: No data found for this date range, symbol may be delisted\n",
      "CYBERTECH.NS\n",
      "\r",
      "[*********************100%***********************]  1 of 1 completed"
     ]
    },
    {
     "name": "stderr",
     "output_type": "stream",
     "text": [
      "INFO:__main__:Processed CYBERTECH.NS in 0.01 seconds.\n",
      "INFO:__main__:Processing CYIENT.NS... 1553 symbols left.\n"
     ]
    },
    {
     "name": "stdout",
     "output_type": "stream",
     "text": [
      "\n",
      "\n",
      "1 Failed download:\n",
      "- CYBERTECH.NS: No data found for this date range, symbol may be delisted\n",
      "CYIENT.NS\n",
      "\r",
      "[*********************100%***********************]  1 of 1 completed"
     ]
    },
    {
     "name": "stderr",
     "output_type": "stream",
     "text": [
      "INFO:__main__:Processed CYIENT.NS in 0.01 seconds.\n",
      "INFO:__main__:Processing CYIENTDLM.NS... 1552 symbols left.\n"
     ]
    },
    {
     "name": "stdout",
     "output_type": "stream",
     "text": [
      "\n",
      "\n",
      "1 Failed download:\n",
      "- CYIENT.NS: No data found for this date range, symbol may be delisted\n",
      "CYIENTDLM.NS\n",
      "\r",
      "[*********************100%***********************]  1 of 1 completed"
     ]
    },
    {
     "name": "stderr",
     "output_type": "stream",
     "text": [
      "INFO:__main__:Processed CYIENTDLM.NS in 0.01 seconds.\n",
      "INFO:__main__:Processing DABUR.NS... 1551 symbols left.\n"
     ]
    },
    {
     "name": "stdout",
     "output_type": "stream",
     "text": [
      "\n",
      "\n",
      "1 Failed download:\n",
      "- CYIENTDLM.NS: No data found for this date range, symbol may be delisted\n",
      "DABUR.NS\n",
      "\r",
      "[*********************100%***********************]  1 of 1 completed"
     ]
    },
    {
     "name": "stderr",
     "output_type": "stream",
     "text": [
      "INFO:__main__:Processed DABUR.NS in 0.01 seconds.\n",
      "INFO:__main__:Processing DALBHARAT.NS... 1550 symbols left.\n"
     ]
    },
    {
     "name": "stdout",
     "output_type": "stream",
     "text": [
      "\n",
      "\n",
      "1 Failed download:\n",
      "- DABUR.NS: No data found for this date range, symbol may be delisted\n",
      "DALBHARAT.NS\n",
      "\r",
      "[*********************100%***********************]  1 of 1 completed"
     ]
    },
    {
     "name": "stderr",
     "output_type": "stream",
     "text": [
      "INFO:__main__:Processed DALBHARAT.NS in 0.01 seconds.\n",
      "INFO:__main__:Processing DALMIASUG.NS... 1549 symbols left.\n"
     ]
    },
    {
     "name": "stdout",
     "output_type": "stream",
     "text": [
      "\n",
      "\n",
      "1 Failed download:\n",
      "- DALBHARAT.NS: No data found for this date range, symbol may be delisted\n",
      "DALMIASUG.NS\n",
      "\r",
      "[*********************100%***********************]  1 of 1 completed"
     ]
    },
    {
     "name": "stderr",
     "output_type": "stream",
     "text": [
      "INFO:__main__:Processed DALMIASUG.NS in 0.01 seconds.\n",
      "INFO:__main__:Processing DAMODARIND.NS... 1548 symbols left.\n"
     ]
    },
    {
     "name": "stdout",
     "output_type": "stream",
     "text": [
      "\n",
      "\n",
      "1 Failed download:\n",
      "- DALMIASUG.NS: No data found for this date range, symbol may be delisted\n",
      "DAMODARIND.NS\n",
      "\r",
      "[*********************100%***********************]  1 of 1 completed"
     ]
    },
    {
     "name": "stderr",
     "output_type": "stream",
     "text": [
      "INFO:__main__:Processed DAMODARIND.NS in 0.01 seconds.\n",
      "INFO:__main__:Processing DANGEE.NS... 1547 symbols left.\n"
     ]
    },
    {
     "name": "stdout",
     "output_type": "stream",
     "text": [
      "\n",
      "\n",
      "1 Failed download:\n",
      "- DAMODARIND.NS: No data found for this date range, symbol may be delisted\n",
      "DANGEE.NS\n",
      "\r",
      "[*********************100%***********************]  1 of 1 completed"
     ]
    },
    {
     "name": "stderr",
     "output_type": "stream",
     "text": [
      "INFO:__main__:Processed DANGEE.NS in 0.01 seconds.\n",
      "INFO:__main__:Processing DATAMATICS.NS... 1546 symbols left.\n"
     ]
    },
    {
     "name": "stdout",
     "output_type": "stream",
     "text": [
      "\n",
      "\n",
      "1 Failed download:\n",
      "- DANGEE.NS: No data found for this date range, symbol may be delisted\n",
      "DATAMATICS.NS\n",
      "\r",
      "[*********************100%***********************]  1 of 1 completed"
     ]
    },
    {
     "name": "stderr",
     "output_type": "stream",
     "text": [
      "INFO:__main__:Processed DATAMATICS.NS in 0.02 seconds.\n",
      "INFO:__main__:Processing DATAPATTNS.NS... 1545 symbols left.\n"
     ]
    },
    {
     "name": "stdout",
     "output_type": "stream",
     "text": [
      "\n",
      "\n",
      "1 Failed download:\n",
      "- DATAMATICS.NS: No data found for this date range, symbol may be delisted\n",
      "DATAPATTNS.NS\n",
      "\r",
      "[*********************100%***********************]  1 of 1 completed"
     ]
    },
    {
     "name": "stderr",
     "output_type": "stream",
     "text": [
      "INFO:__main__:Processed DATAPATTNS.NS in 0.01 seconds.\n",
      "INFO:__main__:Processing DBCORP.NS... 1544 symbols left.\n"
     ]
    },
    {
     "name": "stdout",
     "output_type": "stream",
     "text": [
      "\n",
      "\n",
      "1 Failed download:\n",
      "- DATAPATTNS.NS: No data found for this date range, symbol may be delisted\n",
      "DBCORP.NS\n",
      "\r",
      "[*********************100%***********************]  1 of 1 completed"
     ]
    },
    {
     "name": "stderr",
     "output_type": "stream",
     "text": [
      "INFO:__main__:Processed DBCORP.NS in 0.01 seconds.\n",
      "INFO:__main__:Processing DBL.NS... 1543 symbols left.\n"
     ]
    },
    {
     "name": "stdout",
     "output_type": "stream",
     "text": [
      "\n",
      "\n",
      "1 Failed download:\n",
      "- DBCORP.NS: No data found for this date range, symbol may be delisted\n",
      "DBL.NS\n",
      "\r",
      "[*********************100%***********************]  1 of 1 completed"
     ]
    },
    {
     "name": "stderr",
     "output_type": "stream",
     "text": [
      "INFO:__main__:Processed DBL.NS in 0.01 seconds.\n",
      "INFO:__main__:Processing DBOL.NS... 1542 symbols left.\n"
     ]
    },
    {
     "name": "stdout",
     "output_type": "stream",
     "text": [
      "\n",
      "\n",
      "1 Failed download:\n",
      "- DBL.NS: No data found for this date range, symbol may be delisted\n",
      "DBOL.NS\n",
      "\r",
      "[*********************100%***********************]  1 of 1 completed"
     ]
    },
    {
     "name": "stderr",
     "output_type": "stream",
     "text": [
      "INFO:__main__:Processed DBOL.NS in 0.01 seconds.\n",
      "INFO:__main__:Processing DBREALTY.NS... 1541 symbols left.\n"
     ]
    },
    {
     "name": "stdout",
     "output_type": "stream",
     "text": [
      "\n",
      "\n",
      "1 Failed download:\n",
      "- DBOL.NS: No data found for this date range, symbol may be delisted\n",
      "DBREALTY.NS\n",
      "\r",
      "[*********************100%***********************]  1 of 1 completed"
     ]
    },
    {
     "name": "stderr",
     "output_type": "stream",
     "text": [
      "INFO:__main__:Processed DBREALTY.NS in 0.01 seconds.\n",
      "INFO:__main__:Processing DBSTOCKBRO.NS... 1540 symbols left.\n"
     ]
    },
    {
     "name": "stdout",
     "output_type": "stream",
     "text": [
      "\n",
      "\n",
      "1 Failed download:\n",
      "- DBREALTY.NS: No data found for this date range, symbol may be delisted\n",
      "DBSTOCKBRO.NS\n",
      "\r",
      "[*********************100%***********************]  1 of 1 completed"
     ]
    },
    {
     "name": "stderr",
     "output_type": "stream",
     "text": [
      "INFO:__main__:Processed DBSTOCKBRO.NS in 0.01 seconds.\n",
      "INFO:__main__:Processing DCAL.NS... 1539 symbols left.\n"
     ]
    },
    {
     "name": "stdout",
     "output_type": "stream",
     "text": [
      "\n",
      "\n",
      "1 Failed download:\n",
      "- DBSTOCKBRO.NS: No data found for this date range, symbol may be delisted\n",
      "DCAL.NS\n",
      "\r",
      "[*********************100%***********************]  1 of 1 completed"
     ]
    },
    {
     "name": "stderr",
     "output_type": "stream",
     "text": [
      "INFO:__main__:Processed DCAL.NS in 0.01 seconds.\n",
      "INFO:__main__:Processing DCBBANK.NS... 1538 symbols left.\n"
     ]
    },
    {
     "name": "stdout",
     "output_type": "stream",
     "text": [
      "\n",
      "\n",
      "1 Failed download:\n",
      "- DCAL.NS: No data found for this date range, symbol may be delisted\n",
      "DCBBANK.NS\n",
      "\r",
      "[*********************100%***********************]  1 of 1 completed"
     ]
    },
    {
     "name": "stderr",
     "output_type": "stream",
     "text": [
      "INFO:__main__:Processed DCBBANK.NS in 0.01 seconds.\n",
      "INFO:__main__:Processing DCI.NS... 1537 symbols left.\n"
     ]
    },
    {
     "name": "stdout",
     "output_type": "stream",
     "text": [
      "\n",
      "\n",
      "1 Failed download:\n",
      "- DCBBANK.NS: No data found for this date range, symbol may be delisted\n",
      "DCI.NS\n",
      "\r",
      "[*********************100%***********************]  1 of 1 completed"
     ]
    },
    {
     "name": "stderr",
     "output_type": "stream",
     "text": [
      "INFO:__main__:Processed DCI.NS in 0.01 seconds.\n",
      "INFO:__main__:Processing DCM.NS... 1536 symbols left.\n"
     ]
    },
    {
     "name": "stdout",
     "output_type": "stream",
     "text": [
      "\n",
      "\n",
      "1 Failed download:\n",
      "- DCI.NS: No data found for this date range, symbol may be delisted\n",
      "DCM.NS\n",
      "\r",
      "[*********************100%***********************]  1 of 1 completed"
     ]
    },
    {
     "name": "stderr",
     "output_type": "stream",
     "text": [
      "INFO:__main__:Processed DCM.NS in 0.01 seconds.\n",
      "INFO:__main__:Processing DCMFINSERV.NS... 1535 symbols left.\n"
     ]
    },
    {
     "name": "stdout",
     "output_type": "stream",
     "text": [
      "\n",
      "\n",
      "1 Failed download:\n",
      "- DCM.NS: No data found for this date range, symbol may be delisted\n",
      "DCMFINSERV.NS\n",
      "\r",
      "[*********************100%***********************]  1 of 1 completed"
     ]
    },
    {
     "name": "stderr",
     "output_type": "stream",
     "text": [
      "INFO:__main__:Processed DCMFINSERV.NS in 0.01 seconds.\n",
      "INFO:__main__:Processing DCMNVL.NS... 1534 symbols left.\n"
     ]
    },
    {
     "name": "stdout",
     "output_type": "stream",
     "text": [
      "\n",
      "\n",
      "1 Failed download:\n",
      "- DCMFINSERV.NS: No data found for this date range, symbol may be delisted\n",
      "DCMNVL.NS\n",
      "\r",
      "[*********************100%***********************]  1 of 1 completed"
     ]
    },
    {
     "name": "stderr",
     "output_type": "stream",
     "text": [
      "INFO:__main__:Processed DCMNVL.NS in 0.01 seconds.\n",
      "INFO:__main__:Processing DCMSHRIRAM.NS... 1533 symbols left.\n"
     ]
    },
    {
     "name": "stdout",
     "output_type": "stream",
     "text": [
      "\n",
      "\n",
      "1 Failed download:\n",
      "- DCMNVL.NS: No data found for this date range, symbol may be delisted\n",
      "DCMSHRIRAM.NS\n",
      "\r",
      "[*********************100%***********************]  1 of 1 completed"
     ]
    },
    {
     "name": "stderr",
     "output_type": "stream",
     "text": [
      "INFO:__main__:Processed DCMSHRIRAM.NS in 0.01 seconds.\n",
      "INFO:__main__:Processing DCMSRIND.NS... 1532 symbols left.\n"
     ]
    },
    {
     "name": "stdout",
     "output_type": "stream",
     "text": [
      "\n",
      "\n",
      "1 Failed download:\n",
      "- DCMSHRIRAM.NS: No data found for this date range, symbol may be delisted\n",
      "DCMSRIND.NS\n",
      "\r",
      "[*********************100%***********************]  1 of 1 completed"
     ]
    },
    {
     "name": "stderr",
     "output_type": "stream",
     "text": [
      "INFO:__main__:Processed DCMSRIND.NS in 0.02 seconds.\n",
      "INFO:__main__:Processing DCW.NS... 1531 symbols left.\n"
     ]
    },
    {
     "name": "stdout",
     "output_type": "stream",
     "text": [
      "\n",
      "\n",
      "1 Failed download:\n",
      "- DCMSRIND.NS: No data found for this date range, symbol may be delisted\n",
      "DCW.NS\n",
      "\r",
      "[*********************100%***********************]  1 of 1 completed"
     ]
    },
    {
     "name": "stderr",
     "output_type": "stream",
     "text": [
      "INFO:__main__:Processed DCW.NS in 0.01 seconds.\n",
      "INFO:__main__:Processing DCXINDIA.NS... 1530 symbols left.\n"
     ]
    },
    {
     "name": "stdout",
     "output_type": "stream",
     "text": [
      "\n",
      "\n",
      "1 Failed download:\n",
      "- DCW.NS: No data found for this date range, symbol may be delisted\n",
      "DCXINDIA.NS\n",
      "\r",
      "[*********************100%***********************]  1 of 1 completed"
     ]
    },
    {
     "name": "stderr",
     "output_type": "stream",
     "text": [
      "INFO:__main__:Processed DCXINDIA.NS in 0.01 seconds.\n",
      "INFO:__main__:Processing DECCANCE.NS... 1529 symbols left.\n"
     ]
    },
    {
     "name": "stdout",
     "output_type": "stream",
     "text": [
      "\n",
      "\n",
      "1 Failed download:\n",
      "- DCXINDIA.NS: No data found for this date range, symbol may be delisted\n",
      "DECCANCE.NS\n",
      "\r",
      "[*********************100%***********************]  1 of 1 completed"
     ]
    },
    {
     "name": "stderr",
     "output_type": "stream",
     "text": [
      "INFO:__main__:Processed DECCANCE.NS in 0.01 seconds.\n",
      "INFO:__main__:Processing DEEPAKFERT.NS... 1528 symbols left.\n"
     ]
    },
    {
     "name": "stdout",
     "output_type": "stream",
     "text": [
      "\n",
      "\n",
      "1 Failed download:\n",
      "- DECCANCE.NS: No data found for this date range, symbol may be delisted\n",
      "DEEPAKFERT.NS\n",
      "\r",
      "[*********************100%***********************]  1 of 1 completed"
     ]
    },
    {
     "name": "stderr",
     "output_type": "stream",
     "text": [
      "INFO:__main__:Processed DEEPAKFERT.NS in 0.01 seconds.\n",
      "INFO:__main__:Processing DEEPAKNTR.NS... 1527 symbols left.\n"
     ]
    },
    {
     "name": "stdout",
     "output_type": "stream",
     "text": [
      "\n",
      "\n",
      "1 Failed download:\n",
      "- DEEPAKFERT.NS: No data found for this date range, symbol may be delisted\n",
      "DEEPAKNTR.NS\n",
      "\r",
      "[*********************100%***********************]  1 of 1 completed"
     ]
    },
    {
     "name": "stderr",
     "output_type": "stream",
     "text": [
      "INFO:__main__:Processed DEEPAKNTR.NS in 0.01 seconds.\n",
      "INFO:__main__:Processing DEEPENR.NS... 1526 symbols left.\n"
     ]
    },
    {
     "name": "stdout",
     "output_type": "stream",
     "text": [
      "\n",
      "\n",
      "1 Failed download:\n",
      "- DEEPAKNTR.NS: No data found for this date range, symbol may be delisted\n",
      "DEEPENR.NS\n",
      "\r",
      "[*********************100%***********************]  1 of 1 completed"
     ]
    },
    {
     "name": "stderr",
     "output_type": "stream",
     "text": [
      "INFO:__main__:Processed DEEPENR.NS in 0.01 seconds.\n",
      "INFO:__main__:Processing DEEPINDS.NS... 1525 symbols left.\n"
     ]
    },
    {
     "name": "stdout",
     "output_type": "stream",
     "text": [
      "\n",
      "\n",
      "1 Failed download:\n",
      "- DEEPENR.NS: No data found for this date range, symbol may be delisted\n",
      "DEEPINDS.NS\n",
      "\r",
      "[*********************100%***********************]  1 of 1 completed"
     ]
    },
    {
     "name": "stderr",
     "output_type": "stream",
     "text": [
      "INFO:__main__:Processed DEEPINDS.NS in 0.01 seconds.\n",
      "INFO:__main__:Processing DELHIVERY.NS... 1524 symbols left.\n"
     ]
    },
    {
     "name": "stdout",
     "output_type": "stream",
     "text": [
      "\n",
      "\n",
      "1 Failed download:\n",
      "- DEEPINDS.NS: No data found for this date range, symbol may be delisted\n",
      "DELHIVERY.NS\n",
      "\r",
      "[*********************100%***********************]  1 of 1 completed"
     ]
    },
    {
     "name": "stderr",
     "output_type": "stream",
     "text": [
      "INFO:__main__:Processed DELHIVERY.NS in 0.01 seconds.\n",
      "INFO:__main__:Processing DELPHIFX.NS... 1523 symbols left.\n"
     ]
    },
    {
     "name": "stdout",
     "output_type": "stream",
     "text": [
      "\n",
      "\n",
      "1 Failed download:\n",
      "- DELHIVERY.NS: No data found for this date range, symbol may be delisted\n",
      "DELPHIFX.NS\n",
      "\r",
      "[*********************100%***********************]  1 of 1 completed"
     ]
    },
    {
     "name": "stderr",
     "output_type": "stream",
     "text": [
      "INFO:__main__:Processed DELPHIFX.NS in 0.01 seconds.\n",
      "INFO:__main__:Processing DELTACORP.NS... 1522 symbols left.\n"
     ]
    },
    {
     "name": "stdout",
     "output_type": "stream",
     "text": [
      "\n",
      "\n",
      "1 Failed download:\n",
      "- DELPHIFX.NS: No data found for this date range, symbol may be delisted\n",
      "DELTACORP.NS\n",
      "\r",
      "[*********************100%***********************]  1 of 1 completed"
     ]
    },
    {
     "name": "stderr",
     "output_type": "stream",
     "text": [
      "INFO:__main__:Processed DELTACORP.NS in 0.01 seconds.\n",
      "INFO:__main__:Processing DELTAMAGNT.NS... 1521 symbols left.\n"
     ]
    },
    {
     "name": "stdout",
     "output_type": "stream",
     "text": [
      "\n",
      "\n",
      "1 Failed download:\n",
      "- DELTACORP.NS: No data found for this date range, symbol may be delisted\n",
      "DELTAMAGNT.NS\n",
      "\r",
      "[*********************100%***********************]  1 of 1 completed"
     ]
    },
    {
     "name": "stderr",
     "output_type": "stream",
     "text": [
      "INFO:__main__:Processed DELTAMAGNT.NS in 0.01 seconds.\n",
      "INFO:__main__:Processing DEN.NS... 1520 symbols left.\n"
     ]
    },
    {
     "name": "stdout",
     "output_type": "stream",
     "text": [
      "\n",
      "\n",
      "1 Failed download:\n",
      "- DELTAMAGNT.NS: No data found for this date range, symbol may be delisted\n",
      "DEN.NS\n",
      "\r",
      "[*********************100%***********************]  1 of 1 completed"
     ]
    },
    {
     "name": "stderr",
     "output_type": "stream",
     "text": [
      "INFO:__main__:Processed DEN.NS in 0.01 seconds.\n",
      "INFO:__main__:Processing DENORA.NS... 1519 symbols left.\n"
     ]
    },
    {
     "name": "stdout",
     "output_type": "stream",
     "text": [
      "\n",
      "\n",
      "1 Failed download:\n",
      "- DEN.NS: No data found for this date range, symbol may be delisted\n",
      "DENORA.NS\n",
      "\r",
      "[*********************100%***********************]  1 of 1 completed"
     ]
    },
    {
     "name": "stderr",
     "output_type": "stream",
     "text": [
      "INFO:__main__:Processed DENORA.NS in 0.01 seconds.\n",
      "INFO:__main__:Processing DEVIT.NS... 1518 symbols left.\n"
     ]
    },
    {
     "name": "stdout",
     "output_type": "stream",
     "text": [
      "\n",
      "\n",
      "1 Failed download:\n",
      "- DENORA.NS: No data found for this date range, symbol may be delisted\n",
      "DEVIT.NS\n",
      "\r",
      "[*********************100%***********************]  1 of 1 completed"
     ]
    },
    {
     "name": "stderr",
     "output_type": "stream",
     "text": [
      "INFO:__main__:Processed DEVIT.NS in 0.03 seconds.\n",
      "INFO:__main__:Processing DEVYANI.NS... 1517 symbols left.\n"
     ]
    },
    {
     "name": "stdout",
     "output_type": "stream",
     "text": [
      "\n",
      "\n",
      "1 Failed download:\n",
      "- DEVIT.NS: No data found for this date range, symbol may be delisted\n",
      "DEVYANI.NS\n",
      "\r",
      "[*********************100%***********************]  1 of 1 completed"
     ]
    },
    {
     "name": "stderr",
     "output_type": "stream",
     "text": [
      "INFO:__main__:Processed DEVYANI.NS in 0.02 seconds.\n",
      "INFO:__main__:Processing DGCONTENT.NS... 1516 symbols left.\n"
     ]
    },
    {
     "name": "stdout",
     "output_type": "stream",
     "text": [
      "\n",
      "\n",
      "1 Failed download:\n",
      "- DEVYANI.NS: No data found for this date range, symbol may be delisted\n",
      "DGCONTENT.NS\n",
      "\r",
      "[*********************100%***********************]  1 of 1 completed"
     ]
    },
    {
     "name": "stderr",
     "output_type": "stream",
     "text": [
      "INFO:__main__:Processed DGCONTENT.NS in 0.01 seconds.\n",
      "INFO:__main__:Processing DHAMPURSUG.NS... 1515 symbols left.\n"
     ]
    },
    {
     "name": "stdout",
     "output_type": "stream",
     "text": [
      "\n",
      "\n",
      "1 Failed download:\n",
      "- DGCONTENT.NS: No data found for this date range, symbol may be delisted\n",
      "DHAMPURSUG.NS\n",
      "\r",
      "[*********************100%***********************]  1 of 1 completed"
     ]
    },
    {
     "name": "stderr",
     "output_type": "stream",
     "text": [
      "INFO:__main__:Processed DHAMPURSUG.NS in 0.01 seconds.\n",
      "INFO:__main__:Processing DHANBANK.NS... 1514 symbols left.\n"
     ]
    },
    {
     "name": "stdout",
     "output_type": "stream",
     "text": [
      "\n",
      "\n",
      "1 Failed download:\n",
      "- DHAMPURSUG.NS: No data found for this date range, symbol may be delisted\n",
      "DHANBANK.NS\n",
      "\r",
      "[*********************100%***********************]  1 of 1 completed"
     ]
    },
    {
     "name": "stderr",
     "output_type": "stream",
     "text": [
      "INFO:__main__:Processed DHANBANK.NS in 0.01 seconds.\n",
      "INFO:__main__:Processing DHANI.NS... 1513 symbols left.\n"
     ]
    },
    {
     "name": "stdout",
     "output_type": "stream",
     "text": [
      "\n",
      "\n",
      "1 Failed download:\n",
      "- DHANBANK.NS: No data found for this date range, symbol may be delisted\n",
      "DHANI.NS\n",
      "\r",
      "[*********************100%***********************]  1 of 1 completed"
     ]
    },
    {
     "name": "stderr",
     "output_type": "stream",
     "text": [
      "INFO:__main__:Processed DHANI.NS in 0.01 seconds.\n",
      "INFO:__main__:Processing DHANUKA.NS... 1512 symbols left.\n"
     ]
    },
    {
     "name": "stdout",
     "output_type": "stream",
     "text": [
      "\n",
      "\n",
      "1 Failed download:\n",
      "- DHANI.NS: No data found for this date range, symbol may be delisted\n",
      "DHANUKA.NS\n",
      "\r",
      "[*********************100%***********************]  1 of 1 completed"
     ]
    },
    {
     "name": "stderr",
     "output_type": "stream",
     "text": [
      "INFO:__main__:Processed DHANUKA.NS in 0.01 seconds.\n",
      "INFO:__main__:Processing DHARMAJ.NS... 1511 symbols left.\n"
     ]
    },
    {
     "name": "stdout",
     "output_type": "stream",
     "text": [
      "\n",
      "\n",
      "1 Failed download:\n",
      "- DHANUKA.NS: No data found for this date range, symbol may be delisted\n",
      "DHARMAJ.NS\n",
      "\r",
      "[*********************100%***********************]  1 of 1 completed"
     ]
    },
    {
     "name": "stderr",
     "output_type": "stream",
     "text": [
      "INFO:__main__:Processed DHARMAJ.NS in 0.01 seconds.\n",
      "INFO:__main__:Processing DHRUV.NS... 1510 symbols left.\n"
     ]
    },
    {
     "name": "stdout",
     "output_type": "stream",
     "text": [
      "\n",
      "\n",
      "1 Failed download:\n",
      "- DHARMAJ.NS: No data found for this date range, symbol may be delisted\n",
      "DHRUV.NS\n",
      "\r",
      "[*********************100%***********************]  1 of 1 completed"
     ]
    },
    {
     "name": "stderr",
     "output_type": "stream",
     "text": [
      "INFO:__main__:Processed DHRUV.NS in 0.01 seconds.\n",
      "INFO:__main__:Processing DHUNINV.NS... 1509 symbols left.\n"
     ]
    },
    {
     "name": "stdout",
     "output_type": "stream",
     "text": [
      "\n",
      "\n",
      "1 Failed download:\n",
      "- DHRUV.NS: No data found for this date range, symbol may be delisted\n",
      "DHUNINV.NS\n",
      "\r",
      "[*********************100%***********************]  1 of 1 completed"
     ]
    },
    {
     "name": "stderr",
     "output_type": "stream",
     "text": [
      "INFO:__main__:Processed DHUNINV.NS in 0.01 seconds.\n",
      "INFO:__main__:Processing DIACABS.NS... 1508 symbols left.\n"
     ]
    },
    {
     "name": "stdout",
     "output_type": "stream",
     "text": [
      "\n",
      "\n",
      "1 Failed download:\n",
      "- DHUNINV.NS: No data found for this date range, symbol may be delisted\n",
      "DIACABS.NS\n",
      "\r",
      "[*********************100%***********************]  1 of 1 completed"
     ]
    },
    {
     "name": "stderr",
     "output_type": "stream",
     "text": [
      "INFO:__main__:Processed DIACABS.NS in 0.01 seconds.\n",
      "INFO:__main__:Processing DIAMINESQ.NS... 1507 symbols left.\n"
     ]
    },
    {
     "name": "stdout",
     "output_type": "stream",
     "text": [
      "\n",
      "\n",
      "1 Failed download:\n",
      "- DIACABS.NS: No data found for this date range, symbol may be delisted\n",
      "DIAMINESQ.NS\n",
      "\r",
      "[*********************100%***********************]  1 of 1 completed"
     ]
    },
    {
     "name": "stderr",
     "output_type": "stream",
     "text": [
      "INFO:__main__:Processed DIAMINESQ.NS in 0.01 seconds.\n",
      "INFO:__main__:Processing DIAMONDYD.NS... 1506 symbols left.\n"
     ]
    },
    {
     "name": "stdout",
     "output_type": "stream",
     "text": [
      "\n",
      "\n",
      "1 Failed download:\n",
      "- DIAMINESQ.NS: No data found for this date range, symbol may be delisted\n",
      "DIAMONDYD.NS\n",
      "\r",
      "[*********************100%***********************]  1 of 1 completed"
     ]
    },
    {
     "name": "stderr",
     "output_type": "stream",
     "text": [
      "INFO:__main__:Processed DIAMONDYD.NS in 0.02 seconds.\n",
      "INFO:__main__:Processing DICIND.NS... 1505 symbols left.\n"
     ]
    },
    {
     "name": "stdout",
     "output_type": "stream",
     "text": [
      "\n",
      "\n",
      "1 Failed download:\n",
      "- DIAMONDYD.NS: No data found for this date range, symbol may be delisted\n",
      "DICIND.NS\n",
      "\r",
      "[*********************100%***********************]  1 of 1 completed"
     ]
    },
    {
     "name": "stderr",
     "output_type": "stream",
     "text": [
      "INFO:__main__:Processed DICIND.NS in 0.02 seconds.\n",
      "INFO:__main__:Processing DIGISPICE.NS... 1504 symbols left.\n"
     ]
    },
    {
     "name": "stdout",
     "output_type": "stream",
     "text": [
      "\n",
      "\n",
      "1 Failed download:\n",
      "- DICIND.NS: No data found for this date range, symbol may be delisted\n",
      "DIGISPICE.NS\n",
      "\r",
      "[*********************100%***********************]  1 of 1 completed"
     ]
    },
    {
     "name": "stderr",
     "output_type": "stream",
     "text": [
      "INFO:__main__:Processed DIGISPICE.NS in 0.01 seconds.\n",
      "INFO:__main__:Processing DIGJAMLMTD.NS... 1503 symbols left.\n"
     ]
    },
    {
     "name": "stdout",
     "output_type": "stream",
     "text": [
      "\n",
      "\n",
      "1 Failed download:\n",
      "- DIGISPICE.NS: No data found for this date range, symbol may be delisted\n",
      "DIGJAMLMTD.NS\n",
      "\r",
      "[*********************100%***********************]  1 of 1 completed"
     ]
    },
    {
     "name": "stderr",
     "output_type": "stream",
     "text": [
      "INFO:__main__:Processed DIGJAMLMTD.NS in 0.01 seconds.\n",
      "INFO:__main__:Processing DIL.NS... 1502 symbols left.\n"
     ]
    },
    {
     "name": "stdout",
     "output_type": "stream",
     "text": [
      "\n",
      "\n",
      "1 Failed download:\n",
      "- DIGJAMLMTD.NS: No data found for this date range, symbol may be delisted\n",
      "DIL.NS\n",
      "\r",
      "[*********************100%***********************]  1 of 1 completed"
     ]
    },
    {
     "name": "stderr",
     "output_type": "stream",
     "text": [
      "INFO:__main__:Processed DIL.NS in 0.01 seconds.\n",
      "INFO:__main__:Processing DISHTV.NS... 1501 symbols left.\n"
     ]
    },
    {
     "name": "stdout",
     "output_type": "stream",
     "text": [
      "\n",
      "\n",
      "1 Failed download:\n",
      "- DIL.NS: No data found for this date range, symbol may be delisted\n",
      "DISHTV.NS\n",
      "\r",
      "[*********************100%***********************]  1 of 1 completed"
     ]
    },
    {
     "name": "stderr",
     "output_type": "stream",
     "text": [
      "INFO:__main__:Processed DISHTV.NS in 0.01 seconds.\n"
     ]
    },
    {
     "name": "stdout",
     "output_type": "stream",
     "text": [
      "\n",
      "\n",
      "1 Failed download:\n",
      "- DISHTV.NS: No data found for this date range, symbol may be delisted\n"
     ]
    },
    {
     "name": "stderr",
     "output_type": "stream",
     "text": [
      "INFO:__main__:Processing DIVGIITTS.NS... 1500 symbols left.\n"
     ]
    },
    {
     "name": "stdout",
     "output_type": "stream",
     "text": [
      "DIVGIITTS.NS\n",
      "\r",
      "[*********************100%***********************]  1 of 1 completed"
     ]
    },
    {
     "name": "stderr",
     "output_type": "stream",
     "text": [
      "INFO:__main__:Processed DIVGIITTS.NS in 0.02 seconds.\n",
      "INFO:__main__:Processing DIVISLAB.NS... 1499 symbols left.\n"
     ]
    },
    {
     "name": "stdout",
     "output_type": "stream",
     "text": [
      "\n",
      "\n",
      "1 Failed download:\n",
      "- DIVGIITTS.NS: No data found for this date range, symbol may be delisted\n",
      "DIVISLAB.NS\n",
      "\r",
      "[*********************100%***********************]  1 of 1 completed"
     ]
    },
    {
     "name": "stderr",
     "output_type": "stream",
     "text": [
      "INFO:__main__:Processed DIVISLAB.NS in 0.01 seconds.\n",
      "INFO:__main__:Processing DIXON.NS... 1498 symbols left.\n"
     ]
    },
    {
     "name": "stdout",
     "output_type": "stream",
     "text": [
      "\n",
      "\n",
      "1 Failed download:\n",
      "- DIVISLAB.NS: No data found for this date range, symbol may be delisted\n",
      "DIXON.NS\n",
      "\r",
      "[*********************100%***********************]  1 of 1 completed"
     ]
    },
    {
     "name": "stderr",
     "output_type": "stream",
     "text": [
      "INFO:__main__:Processed DIXON.NS in 0.01 seconds.\n",
      "INFO:__main__:Processing DJML.NS... 1497 symbols left.\n"
     ]
    },
    {
     "name": "stdout",
     "output_type": "stream",
     "text": [
      "\n",
      "\n",
      "1 Failed download:\n",
      "- DIXON.NS: No data found for this date range, symbol may be delisted\n",
      "DJML.NS\n",
      "\r",
      "[*********************100%***********************]  1 of 1 completed"
     ]
    },
    {
     "name": "stderr",
     "output_type": "stream",
     "text": [
      "INFO:__main__:Processed DJML.NS in 0.01 seconds.\n",
      "INFO:__main__:Processing DLF.NS... 1496 symbols left.\n"
     ]
    },
    {
     "name": "stdout",
     "output_type": "stream",
     "text": [
      "\n",
      "\n",
      "1 Failed download:\n",
      "- DJML.NS: No data found for this date range, symbol may be delisted\n",
      "DLF.NS\n",
      "\r",
      "[*********************100%***********************]  1 of 1 completed"
     ]
    },
    {
     "name": "stderr",
     "output_type": "stream",
     "text": [
      "INFO:__main__:Processed DLF.NS in 0.01 seconds.\n",
      "INFO:__main__:Processing DLINKINDIA.NS... 1495 symbols left.\n"
     ]
    },
    {
     "name": "stdout",
     "output_type": "stream",
     "text": [
      "\n",
      "\n",
      "1 Failed download:\n",
      "- DLF.NS: No data found for this date range, symbol may be delisted\n",
      "DLINKINDIA.NS\n",
      "\r",
      "[*********************100%***********************]  1 of 1 completed"
     ]
    },
    {
     "name": "stderr",
     "output_type": "stream",
     "text": [
      "INFO:__main__:Processed DLINKINDIA.NS in 0.01 seconds.\n",
      "INFO:__main__:Processing DMART.NS... 1494 symbols left.\n"
     ]
    },
    {
     "name": "stdout",
     "output_type": "stream",
     "text": [
      "\n",
      "\n",
      "1 Failed download:\n",
      "- DLINKINDIA.NS: No data found for this date range, symbol may be delisted\n",
      "DMART.NS\n",
      "\r",
      "[*********************100%***********************]  1 of 1 completed"
     ]
    },
    {
     "name": "stderr",
     "output_type": "stream",
     "text": [
      "INFO:__main__:Processed DMART.NS in 0.01 seconds.\n",
      "INFO:__main__:Processing DMCC.NS... 1493 symbols left.\n"
     ]
    },
    {
     "name": "stdout",
     "output_type": "stream",
     "text": [
      "\n",
      "\n",
      "1 Failed download:\n",
      "- DMART.NS: No data found for this date range, symbol may be delisted\n",
      "DMCC.NS\n",
      "\r",
      "[*********************100%***********************]  1 of 1 completed"
     ]
    },
    {
     "name": "stderr",
     "output_type": "stream",
     "text": [
      "INFO:__main__:Processed DMCC.NS in 0.01 seconds.\n",
      "INFO:__main__:Processing DNAMEDIA.NS... 1492 symbols left.\n"
     ]
    },
    {
     "name": "stdout",
     "output_type": "stream",
     "text": [
      "\n",
      "\n",
      "1 Failed download:\n",
      "- DMCC.NS: No data found for this date range, symbol may be delisted\n",
      "DNAMEDIA.NS\n",
      "\r",
      "[*********************100%***********************]  1 of 1 completed"
     ]
    },
    {
     "name": "stderr",
     "output_type": "stream",
     "text": [
      "INFO:__main__:Processed DNAMEDIA.NS in 0.02 seconds.\n",
      "INFO:__main__:Processing DODLA.NS... 1491 symbols left.\n"
     ]
    },
    {
     "name": "stdout",
     "output_type": "stream",
     "text": [
      "\n",
      "\n",
      "1 Failed download:\n",
      "- DNAMEDIA.NS: No data found for this date range, symbol may be delisted\n",
      "DODLA.NS\n",
      "\r",
      "[*********************100%***********************]  1 of 1 completed"
     ]
    },
    {
     "name": "stderr",
     "output_type": "stream",
     "text": [
      "INFO:__main__:Processed DODLA.NS in 0.02 seconds.\n",
      "INFO:__main__:Processing DOLATALGO.NS... 1490 symbols left.\n"
     ]
    },
    {
     "name": "stdout",
     "output_type": "stream",
     "text": [
      "\n",
      "\n",
      "1 Failed download:\n",
      "- DODLA.NS: No data found for this date range, symbol may be delisted\n",
      "DOLATALGO.NS\n",
      "\r",
      "[*********************100%***********************]  1 of 1 completed"
     ]
    },
    {
     "name": "stderr",
     "output_type": "stream",
     "text": [
      "INFO:__main__:Processed DOLATALGO.NS in 0.01 seconds.\n",
      "INFO:__main__:Processing DOLLAR.NS... 1489 symbols left.\n"
     ]
    },
    {
     "name": "stdout",
     "output_type": "stream",
     "text": [
      "\n",
      "\n",
      "1 Failed download:\n",
      "- DOLATALGO.NS: No data found for this date range, symbol may be delisted\n",
      "DOLLAR.NS\n",
      "\r",
      "[*********************100%***********************]  1 of 1 completed"
     ]
    },
    {
     "name": "stderr",
     "output_type": "stream",
     "text": [
      "INFO:__main__:Processed DOLLAR.NS in 0.01 seconds.\n",
      "INFO:__main__:Processing DOLPHIN.NS... 1488 symbols left.\n"
     ]
    },
    {
     "name": "stdout",
     "output_type": "stream",
     "text": [
      "\n",
      "\n",
      "1 Failed download:\n",
      "- DOLLAR.NS: No data found for this date range, symbol may be delisted\n",
      "DOLPHIN.NS\n",
      "\r",
      "[*********************100%***********************]  1 of 1 completed"
     ]
    },
    {
     "name": "stderr",
     "output_type": "stream",
     "text": [
      "INFO:__main__:Processed DOLPHIN.NS in 0.01 seconds.\n",
      "INFO:__main__:Processing DONEAR.NS... 1487 symbols left.\n"
     ]
    },
    {
     "name": "stdout",
     "output_type": "stream",
     "text": [
      "\n",
      "\n",
      "1 Failed download:\n",
      "- DOLPHIN.NS: No data found for this date range, symbol may be delisted\n",
      "DONEAR.NS\n",
      "\r",
      "[*********************100%***********************]  1 of 1 completed"
     ]
    },
    {
     "name": "stderr",
     "output_type": "stream",
     "text": [
      "INFO:__main__:Processed DONEAR.NS in 0.01 seconds.\n",
      "INFO:__main__:Processing DPABHUSHAN.NS... 1486 symbols left.\n"
     ]
    },
    {
     "name": "stdout",
     "output_type": "stream",
     "text": [
      "\n",
      "\n",
      "1 Failed download:\n",
      "- DONEAR.NS: No data found for this date range, symbol may be delisted\n",
      "DPABHUSHAN.NS\n",
      "\r",
      "[*********************100%***********************]  1 of 1 completed"
     ]
    },
    {
     "name": "stderr",
     "output_type": "stream",
     "text": [
      "INFO:__main__:Processed DPABHUSHAN.NS in 0.01 seconds.\n",
      "INFO:__main__:Processing DPSCLTD.NS... 1485 symbols left.\n"
     ]
    },
    {
     "name": "stdout",
     "output_type": "stream",
     "text": [
      "\n",
      "\n",
      "1 Failed download:\n",
      "- DPABHUSHAN.NS: No data found for this date range, symbol may be delisted\n",
      "DPSCLTD.NS\n",
      "\r",
      "[*********************100%***********************]  1 of 1 completed"
     ]
    },
    {
     "name": "stderr",
     "output_type": "stream",
     "text": [
      "INFO:__main__:Processed DPSCLTD.NS in 0.01 seconds.\n",
      "INFO:__main__:Processing DPWIRES.NS... 1484 symbols left.\n"
     ]
    },
    {
     "name": "stdout",
     "output_type": "stream",
     "text": [
      "\n",
      "\n",
      "1 Failed download:\n",
      "- DPSCLTD.NS: No data found for this date range, symbol may be delisted\n",
      "DPWIRES.NS\n",
      "\r",
      "[*********************100%***********************]  1 of 1 completed"
     ]
    },
    {
     "name": "stderr",
     "output_type": "stream",
     "text": [
      "INFO:__main__:Processed DPWIRES.NS in 0.01 seconds.\n",
      "INFO:__main__:Processing DRCSYSTEMS.NS... 1483 symbols left.\n"
     ]
    },
    {
     "name": "stdout",
     "output_type": "stream",
     "text": [
      "\n",
      "\n",
      "1 Failed download:\n",
      "- DPWIRES.NS: No data found for this date range, symbol may be delisted\n",
      "DRCSYSTEMS.NS\n",
      "\r",
      "[*********************100%***********************]  1 of 1 completed"
     ]
    },
    {
     "name": "stderr",
     "output_type": "stream",
     "text": [
      "INFO:__main__:Processed DRCSYSTEMS.NS in 0.01 seconds.\n",
      "INFO:__main__:Processing DREAMFOLKS.NS... 1482 symbols left.\n"
     ]
    },
    {
     "name": "stdout",
     "output_type": "stream",
     "text": [
      "\n",
      "\n",
      "1 Failed download:\n",
      "- DRCSYSTEMS.NS: No data found for this date range, symbol may be delisted\n",
      "DREAMFOLKS.NS\n",
      "\r",
      "[*********************100%***********************]  1 of 1 completed"
     ]
    },
    {
     "name": "stderr",
     "output_type": "stream",
     "text": [
      "INFO:__main__:Processed DREAMFOLKS.NS in 0.01 seconds.\n",
      "INFO:__main__:Processing DREDGECORP.NS... 1481 symbols left.\n"
     ]
    },
    {
     "name": "stdout",
     "output_type": "stream",
     "text": [
      "\n",
      "\n",
      "1 Failed download:\n",
      "- DREAMFOLKS.NS: No data found for this date range, symbol may be delisted\n",
      "DREDGECORP.NS\n",
      "\r",
      "[*********************100%***********************]  1 of 1 completed"
     ]
    },
    {
     "name": "stderr",
     "output_type": "stream",
     "text": [
      "INFO:__main__:Processed DREDGECORP.NS in 0.01 seconds.\n",
      "INFO:__main__:Processing DRREDDY.NS... 1480 symbols left.\n"
     ]
    },
    {
     "name": "stdout",
     "output_type": "stream",
     "text": [
      "\n",
      "\n",
      "1 Failed download:\n",
      "- DREDGECORP.NS: No data found for this date range, symbol may be delisted\n",
      "DRREDDY.NS\n",
      "\r",
      "[*********************100%***********************]  1 of 1 completed"
     ]
    },
    {
     "name": "stderr",
     "output_type": "stream",
     "text": [
      "INFO:__main__:Processed DRREDDY.NS in 0.01 seconds.\n",
      "INFO:__main__:Processing DSSL.NS... 1479 symbols left.\n"
     ]
    },
    {
     "name": "stdout",
     "output_type": "stream",
     "text": [
      "\n",
      "\n",
      "1 Failed download:\n",
      "- DRREDDY.NS: No data found for this date range, symbol may be delisted\n",
      "DSSL.NS\n",
      "\r",
      "[*********************100%***********************]  1 of 1 completed"
     ]
    },
    {
     "name": "stderr",
     "output_type": "stream",
     "text": [
      "INFO:__main__:Processed DSSL.NS in 0.01 seconds.\n",
      "INFO:__main__:Processing DTIL.NS... 1478 symbols left.\n"
     ]
    },
    {
     "name": "stdout",
     "output_type": "stream",
     "text": [
      "\n",
      "\n",
      "1 Failed download:\n",
      "- DSSL.NS: No data found for this date range, symbol may be delisted\n",
      "DTIL.NS\n",
      "\r",
      "[*********************100%***********************]  1 of 1 completed"
     ]
    },
    {
     "name": "stderr",
     "output_type": "stream",
     "text": [
      "INFO:__main__:Processed DTIL.NS in 0.02 seconds.\n"
     ]
    },
    {
     "name": "stdout",
     "output_type": "stream",
     "text": [
      "\n",
      "\n",
      "1 Failed download:\n",
      "- DTIL.NS: No data found for this date range, symbol may be delisted\n"
     ]
    },
    {
     "name": "stderr",
     "output_type": "stream",
     "text": [
      "INFO:__main__:Processing DUCON.NS... 1477 symbols left.\n"
     ]
    },
    {
     "name": "stdout",
     "output_type": "stream",
     "text": [
      "DUCON.NS\n",
      "\r",
      "[*********************100%***********************]  1 of 1 completed"
     ]
    },
    {
     "name": "stderr",
     "output_type": "stream",
     "text": [
      "INFO:__main__:Processed DUCON.NS in 0.03 seconds.\n",
      "INFO:__main__:Processing DVL.NS... 1476 symbols left.\n"
     ]
    },
    {
     "name": "stdout",
     "output_type": "stream",
     "text": [
      "\n",
      "\n",
      "1 Failed download:\n",
      "- DUCON.NS: No data found for this date range, symbol may be delisted\n",
      "DVL.NS\n",
      "[*********************100%***********************]  1 of 1 completed\n",
      "\n",
      "1 Failed download:\n",
      "- DVL.NS: No data found for this date range, symbol may be delisted\n"
     ]
    },
    {
     "name": "stderr",
     "output_type": "stream",
     "text": [
      "INFO:__main__:Processed DVL.NS in 0.02 seconds.\n",
      "INFO:__main__:Processing DWARKESH.NS... 1475 symbols left.\n"
     ]
    },
    {
     "name": "stdout",
     "output_type": "stream",
     "text": [
      "DWARKESH.NS\n",
      "\r",
      "[*********************100%***********************]  1 of 1 completed"
     ]
    },
    {
     "name": "stderr",
     "output_type": "stream",
     "text": [
      "INFO:__main__:Processed DWARKESH.NS in 0.01 seconds.\n",
      "INFO:__main__:Processing DYCL.NS... 1474 symbols left.\n"
     ]
    },
    {
     "name": "stdout",
     "output_type": "stream",
     "text": [
      "\n",
      "\n",
      "1 Failed download:\n",
      "- DWARKESH.NS: No data found for this date range, symbol may be delisted\n",
      "DYCL.NS\n",
      "\r",
      "[*********************100%***********************]  1 of 1 completed"
     ]
    },
    {
     "name": "stderr",
     "output_type": "stream",
     "text": [
      "INFO:__main__:Processed DYCL.NS in 0.01 seconds.\n",
      "INFO:__main__:Processing DYNAMATECH.NS... 1473 symbols left.\n"
     ]
    },
    {
     "name": "stdout",
     "output_type": "stream",
     "text": [
      "\n",
      "\n",
      "1 Failed download:\n",
      "- DYCL.NS: No data found for this date range, symbol may be delisted\n",
      "DYNAMATECH.NS\n",
      "\r",
      "[*********************100%***********************]  1 of 1 completed"
     ]
    },
    {
     "name": "stderr",
     "output_type": "stream",
     "text": [
      "INFO:__main__:Processed DYNAMATECH.NS in 0.01 seconds.\n",
      "INFO:__main__:Processing DYNPRO.NS... 1472 symbols left.\n"
     ]
    },
    {
     "name": "stdout",
     "output_type": "stream",
     "text": [
      "\n",
      "\n",
      "1 Failed download:\n",
      "- DYNAMATECH.NS: No data found for this date range, symbol may be delisted\n",
      "DYNPRO.NS\n",
      "\r",
      "[*********************100%***********************]  1 of 1 completed"
     ]
    },
    {
     "name": "stderr",
     "output_type": "stream",
     "text": [
      "INFO:__main__:Processed DYNPRO.NS in 0.01 seconds.\n",
      "INFO:__main__:Processing E2E.NS... 1471 symbols left.\n"
     ]
    },
    {
     "name": "stdout",
     "output_type": "stream",
     "text": [
      "\n",
      "\n",
      "1 Failed download:\n",
      "- DYNPRO.NS: No data found for this date range, symbol may be delisted\n",
      "E2E.NS\n",
      "\r",
      "[*********************100%***********************]  1 of 1 completed"
     ]
    },
    {
     "name": "stderr",
     "output_type": "stream",
     "text": [
      "INFO:__main__:Processed E2E.NS in 0.01 seconds.\n",
      "INFO:__main__:Processing EASEMYTRIP.NS... 1470 symbols left.\n"
     ]
    },
    {
     "name": "stdout",
     "output_type": "stream",
     "text": [
      "\n",
      "\n",
      "1 Failed download:\n",
      "- E2E.NS: No data found for this date range, symbol may be delisted\n",
      "EASEMYTRIP.NS\n",
      "\r",
      "[*********************100%***********************]  1 of 1 completed"
     ]
    },
    {
     "name": "stderr",
     "output_type": "stream",
     "text": [
      "INFO:__main__:Processed EASEMYTRIP.NS in 0.01 seconds.\n",
      "INFO:__main__:Processing EASTSILK.NS... 1469 symbols left.\n"
     ]
    },
    {
     "name": "stdout",
     "output_type": "stream",
     "text": [
      "\n",
      "\n",
      "1 Failed download:\n",
      "- EASEMYTRIP.NS: No data found for this date range, symbol may be delisted\n",
      "EASTSILK.NS\n",
      "\r",
      "[*********************100%***********************]  1 of 1 completed"
     ]
    },
    {
     "name": "stderr",
     "output_type": "stream",
     "text": [
      "INFO:__main__:Processed EASTSILK.NS in 0.01 seconds.\n",
      "INFO:__main__:Processing ECLERX.NS... 1468 symbols left.\n"
     ]
    },
    {
     "name": "stdout",
     "output_type": "stream",
     "text": [
      "\n",
      "\n",
      "1 Failed download:\n",
      "- EASTSILK.NS: No data found for this date range, symbol may be delisted\n",
      "ECLERX.NS\n",
      "\r",
      "[*********************100%***********************]  1 of 1 completed"
     ]
    },
    {
     "name": "stderr",
     "output_type": "stream",
     "text": [
      "INFO:__main__:Processed ECLERX.NS in 0.01 seconds.\n",
      "INFO:__main__:Processing EDELWEISS.NS... 1467 symbols left.\n"
     ]
    },
    {
     "name": "stdout",
     "output_type": "stream",
     "text": [
      "\n",
      "\n",
      "1 Failed download:\n",
      "- ECLERX.NS: No data found for this date range, symbol may be delisted\n",
      "EDELWEISS.NS\n",
      "\r",
      "[*********************100%***********************]  1 of 1 completed"
     ]
    },
    {
     "name": "stderr",
     "output_type": "stream",
     "text": [
      "INFO:__main__:Processed EDELWEISS.NS in 0.01 seconds.\n",
      "INFO:__main__:Processing EDUCOMP.NS... 1466 symbols left.\n"
     ]
    },
    {
     "name": "stdout",
     "output_type": "stream",
     "text": [
      "\n",
      "\n",
      "1 Failed download:\n",
      "- EDELWEISS.NS: No data found for this date range, symbol may be delisted\n",
      "EDUCOMP.NS\n",
      "\r",
      "[*********************100%***********************]  1 of 1 completed"
     ]
    },
    {
     "name": "stderr",
     "output_type": "stream",
     "text": [
      "INFO:__main__:Processed EDUCOMP.NS in 0.01 seconds.\n",
      "INFO:__main__:Processing EICHERMOT.NS... 1465 symbols left.\n"
     ]
    },
    {
     "name": "stdout",
     "output_type": "stream",
     "text": [
      "\n",
      "\n",
      "1 Failed download:\n",
      "- EDUCOMP.NS: No data found for this date range, symbol may be delisted\n",
      "EICHERMOT.NS\n",
      "\r",
      "[*********************100%***********************]  1 of 1 completed"
     ]
    },
    {
     "name": "stderr",
     "output_type": "stream",
     "text": [
      "INFO:__main__:Processed EICHERMOT.NS in 0.01 seconds.\n",
      "INFO:__main__:Processing EIDPARRY.NS... 1464 symbols left.\n"
     ]
    },
    {
     "name": "stdout",
     "output_type": "stream",
     "text": [
      "\n",
      "\n",
      "1 Failed download:\n",
      "- EICHERMOT.NS: No data found for this date range, symbol may be delisted\n",
      "EIDPARRY.NS\n",
      "\r",
      "[*********************100%***********************]  1 of 1 completed"
     ]
    },
    {
     "name": "stderr",
     "output_type": "stream",
     "text": [
      "INFO:__main__:Processed EIDPARRY.NS in 0.03 seconds.\n",
      "INFO:__main__:Processing EIFFL.NS... 1463 symbols left.\n"
     ]
    },
    {
     "name": "stdout",
     "output_type": "stream",
     "text": [
      "\n",
      "\n",
      "1 Failed download:\n",
      "- EIDPARRY.NS: No data found for this date range, symbol may be delisted\n",
      "EIFFL.NS\n",
      "\r",
      "[*********************100%***********************]  1 of 1 completed"
     ]
    },
    {
     "name": "stderr",
     "output_type": "stream",
     "text": [
      "INFO:__main__:Processed EIFFL.NS in 0.02 seconds.\n",
      "INFO:__main__:Processing EIHAHOTELS.NS... 1462 symbols left.\n"
     ]
    },
    {
     "name": "stdout",
     "output_type": "stream",
     "text": [
      "\n",
      "\n",
      "1 Failed download:\n",
      "- EIFFL.NS: No data found for this date range, symbol may be delisted\n",
      "EIHAHOTELS.NS\n",
      "\r",
      "[*********************100%***********************]  1 of 1 completed"
     ]
    },
    {
     "name": "stderr",
     "output_type": "stream",
     "text": [
      "INFO:__main__:Processed EIHAHOTELS.NS in 0.01 seconds.\n",
      "INFO:__main__:Processing EIHOTEL.NS... 1461 symbols left.\n"
     ]
    },
    {
     "name": "stdout",
     "output_type": "stream",
     "text": [
      "\n",
      "\n",
      "1 Failed download:\n",
      "- EIHAHOTELS.NS: No data found for this date range, symbol may be delisted\n",
      "EIHOTEL.NS\n",
      "\r",
      "[*********************100%***********************]  1 of 1 completed"
     ]
    },
    {
     "name": "stderr",
     "output_type": "stream",
     "text": [
      "INFO:__main__:Processed EIHOTEL.NS in 0.02 seconds.\n",
      "INFO:__main__:Processing EIMCOELECO.NS... 1460 symbols left.\n"
     ]
    },
    {
     "name": "stdout",
     "output_type": "stream",
     "text": [
      "\n",
      "\n",
      "1 Failed download:\n",
      "- EIHOTEL.NS: No data found for this date range, symbol may be delisted\n",
      "EIMCOELECO.NS\n",
      "\r",
      "[*********************100%***********************]  1 of 1 completed"
     ]
    },
    {
     "name": "stderr",
     "output_type": "stream",
     "text": [
      "INFO:__main__:Processed EIMCOELECO.NS in 0.01 seconds.\n",
      "INFO:__main__:Processing EKC.NS... 1459 symbols left.\n"
     ]
    },
    {
     "name": "stdout",
     "output_type": "stream",
     "text": [
      "\n",
      "\n",
      "1 Failed download:\n",
      "- EIMCOELECO.NS: No data found for this date range, symbol may be delisted\n",
      "EKC.NS\n",
      "\r",
      "[*********************100%***********************]  1 of 1 completed"
     ]
    },
    {
     "name": "stderr",
     "output_type": "stream",
     "text": [
      "INFO:__main__:Processed EKC.NS in 0.01 seconds.\n",
      "INFO:__main__:Processing ELDEHSG.NS... 1458 symbols left.\n"
     ]
    },
    {
     "name": "stdout",
     "output_type": "stream",
     "text": [
      "\n",
      "\n",
      "1 Failed download:\n",
      "- EKC.NS: No data found for this date range, symbol may be delisted\n",
      "ELDEHSG.NS\n",
      "\r",
      "[*********************100%***********************]  1 of 1 completed"
     ]
    },
    {
     "name": "stderr",
     "output_type": "stream",
     "text": [
      "INFO:__main__:Processed ELDEHSG.NS in 0.02 seconds.\n"
     ]
    },
    {
     "name": "stdout",
     "output_type": "stream",
     "text": [
      "\n",
      "\n",
      "1 Failed download:\n",
      "- ELDEHSG.NS: No data found for this date range, symbol may be delisted\n"
     ]
    },
    {
     "name": "stderr",
     "output_type": "stream",
     "text": [
      "INFO:__main__:Processing ELECON.NS... 1457 symbols left.\n"
     ]
    },
    {
     "name": "stdout",
     "output_type": "stream",
     "text": [
      "ELECON.NS\n",
      "\r",
      "[*********************100%***********************]  1 of 1 completed"
     ]
    },
    {
     "name": "stderr",
     "output_type": "stream",
     "text": [
      "INFO:__main__:Processed ELECON.NS in 0.02 seconds.\n",
      "INFO:__main__:Processing ELECTCAST.NS... 1456 symbols left.\n"
     ]
    },
    {
     "name": "stdout",
     "output_type": "stream",
     "text": [
      "\n",
      "\n",
      "1 Failed download:\n",
      "- ELECON.NS: No data found for this date range, symbol may be delisted\n",
      "ELECTCAST.NS\n",
      "\r",
      "[*********************100%***********************]  1 of 1 completed"
     ]
    },
    {
     "name": "stderr",
     "output_type": "stream",
     "text": [
      "INFO:__main__:Processed ELECTCAST.NS in 0.02 seconds.\n",
      "INFO:__main__:Processing ELECTHERM.NS... 1455 symbols left.\n"
     ]
    },
    {
     "name": "stdout",
     "output_type": "stream",
     "text": [
      "\n",
      "\n",
      "1 Failed download:\n",
      "- ELECTCAST.NS: No data found for this date range, symbol may be delisted\n",
      "ELECTHERM.NS\n",
      "\r",
      "[*********************100%***********************]  1 of 1 completed"
     ]
    },
    {
     "name": "stderr",
     "output_type": "stream",
     "text": [
      "INFO:__main__:Processed ELECTHERM.NS in 0.01 seconds.\n",
      "INFO:__main__:Processing ELGIEQUIP.NS... 1454 symbols left.\n"
     ]
    },
    {
     "name": "stdout",
     "output_type": "stream",
     "text": [
      "\n",
      "\n",
      "1 Failed download:\n",
      "- ELECTHERM.NS: No data found for this date range, symbol may be delisted\n",
      "ELGIEQUIP.NS\n",
      "\r",
      "[*********************100%***********************]  1 of 1 completed"
     ]
    },
    {
     "name": "stderr",
     "output_type": "stream",
     "text": [
      "INFO:__main__:Processed ELGIEQUIP.NS in 0.01 seconds.\n",
      "INFO:__main__:Processing ELGIRUBCO.NS... 1453 symbols left.\n"
     ]
    },
    {
     "name": "stdout",
     "output_type": "stream",
     "text": [
      "\n",
      "\n",
      "1 Failed download:\n",
      "- ELGIEQUIP.NS: No data found for this date range, symbol may be delisted\n",
      "ELGIRUBCO.NS\n",
      "\r",
      "[*********************100%***********************]  1 of 1 completed"
     ]
    },
    {
     "name": "stderr",
     "output_type": "stream",
     "text": [
      "INFO:__main__:Processed ELGIRUBCO.NS in 0.02 seconds.\n",
      "INFO:__main__:Processing ELIN.NS... 1452 symbols left.\n"
     ]
    },
    {
     "name": "stdout",
     "output_type": "stream",
     "text": [
      "\n",
      "\n",
      "1 Failed download:\n",
      "- ELGIRUBCO.NS: No data found for this date range, symbol may be delisted\n",
      "ELIN.NS\n",
      "\r",
      "[*********************100%***********************]  1 of 1 completed"
     ]
    },
    {
     "name": "stderr",
     "output_type": "stream",
     "text": [
      "INFO:__main__:Processed ELIN.NS in 0.01 seconds.\n"
     ]
    },
    {
     "name": "stdout",
     "output_type": "stream",
     "text": [
      "\n",
      "\n",
      "1 Failed download:\n",
      "- ELIN.NS: No data found for this date range, symbol may be delisted\n"
     ]
    },
    {
     "name": "stderr",
     "output_type": "stream",
     "text": [
      "INFO:__main__:Processing EMAMILTD.NS... 1451 symbols left.\n"
     ]
    },
    {
     "name": "stdout",
     "output_type": "stream",
     "text": [
      "EMAMILTD.NS\n",
      "\r",
      "[*********************100%***********************]  1 of 1 completed"
     ]
    },
    {
     "name": "stderr",
     "output_type": "stream",
     "text": [
      "INFO:__main__:Processed EMAMILTD.NS in 0.01 seconds.\n",
      "INFO:__main__:Processing EMAMIPAP.NS... 1450 symbols left.\n"
     ]
    },
    {
     "name": "stdout",
     "output_type": "stream",
     "text": [
      "\n",
      "\n",
      "1 Failed download:\n",
      "- EMAMILTD.NS: No data found for this date range, symbol may be delisted\n",
      "EMAMIPAP.NS\n",
      "\r",
      "[*********************100%***********************]  1 of 1 completed"
     ]
    },
    {
     "name": "stderr",
     "output_type": "stream",
     "text": [
      "INFO:__main__:Processed EMAMIPAP.NS in 0.01 seconds.\n",
      "INFO:__main__:Processing EMAMIREAL.NS... 1449 symbols left.\n"
     ]
    },
    {
     "name": "stdout",
     "output_type": "stream",
     "text": [
      "\n",
      "\n",
      "1 Failed download:\n",
      "- EMAMIPAP.NS: No data found for this date range, symbol may be delisted\n",
      "EMAMIREAL.NS\n",
      "\r",
      "[*********************100%***********************]  1 of 1 completed"
     ]
    },
    {
     "name": "stderr",
     "output_type": "stream",
     "text": [
      "INFO:__main__:Processed EMAMIREAL.NS in 0.01 seconds.\n",
      "INFO:__main__:Processing EMIL.NS... 1448 symbols left.\n"
     ]
    },
    {
     "name": "stdout",
     "output_type": "stream",
     "text": [
      "\n",
      "\n",
      "1 Failed download:\n",
      "- EMAMIREAL.NS: No data found for this date range, symbol may be delisted\n",
      "EMIL.NS\n",
      "\r",
      "[*********************100%***********************]  1 of 1 completed"
     ]
    },
    {
     "name": "stderr",
     "output_type": "stream",
     "text": [
      "INFO:__main__:Processed EMIL.NS in 0.01 seconds.\n",
      "INFO:__main__:Processing EMKAY.NS... 1447 symbols left.\n"
     ]
    },
    {
     "name": "stdout",
     "output_type": "stream",
     "text": [
      "\n",
      "\n",
      "1 Failed download:\n",
      "- EMIL.NS: No data found for this date range, symbol may be delisted\n",
      "EMKAY.NS\n",
      "\r",
      "[*********************100%***********************]  1 of 1 completed"
     ]
    },
    {
     "name": "stderr",
     "output_type": "stream",
     "text": [
      "INFO:__main__:Processed EMKAY.NS in 0.01 seconds.\n",
      "INFO:__main__:Processing EMMBI.NS... 1446 symbols left.\n"
     ]
    },
    {
     "name": "stdout",
     "output_type": "stream",
     "text": [
      "\n",
      "\n",
      "1 Failed download:\n",
      "- EMKAY.NS: No data found for this date range, symbol may be delisted\n",
      "EMMBI.NS\n",
      "\r",
      "[*********************100%***********************]  1 of 1 completed"
     ]
    },
    {
     "name": "stderr",
     "output_type": "stream",
     "text": [
      "INFO:__main__:Processed EMMBI.NS in 0.01 seconds.\n",
      "INFO:__main__:Processing EMSLIMITED.NS... 1445 symbols left.\n"
     ]
    },
    {
     "name": "stdout",
     "output_type": "stream",
     "text": [
      "\n",
      "\n",
      "1 Failed download:\n",
      "- EMMBI.NS: No data found for this date range, symbol may be delisted\n",
      "EMSLIMITED.NS\n",
      "\r",
      "[*********************100%***********************]  1 of 1 completed"
     ]
    },
    {
     "name": "stderr",
     "output_type": "stream",
     "text": [
      "INFO:__main__:Processed EMSLIMITED.NS in 0.02 seconds.\n",
      "INFO:__main__:Processing EMUDHRA.NS... 1444 symbols left.\n"
     ]
    },
    {
     "name": "stdout",
     "output_type": "stream",
     "text": [
      "\n",
      "\n",
      "1 Failed download:\n",
      "- EMSLIMITED.NS: No data found for this date range, symbol may be delisted\n",
      "EMUDHRA.NS\n",
      "\r",
      "[*********************100%***********************]  1 of 1 completed"
     ]
    },
    {
     "name": "stderr",
     "output_type": "stream",
     "text": [
      "INFO:__main__:Processed EMUDHRA.NS in 0.01 seconds.\n",
      "INFO:__main__:Processing ENDURANCE.NS... 1443 symbols left.\n"
     ]
    },
    {
     "name": "stdout",
     "output_type": "stream",
     "text": [
      "\n",
      "\n",
      "1 Failed download:\n",
      "- EMUDHRA.NS: No data found for this date range, symbol may be delisted\n",
      "ENDURANCE.NS\n",
      "\r",
      "[*********************100%***********************]  1 of 1 completed"
     ]
    },
    {
     "name": "stderr",
     "output_type": "stream",
     "text": [
      "INFO:__main__:Processed ENDURANCE.NS in 0.01 seconds.\n",
      "INFO:__main__:Processing ENERGYDEV.NS... 1442 symbols left.\n"
     ]
    },
    {
     "name": "stdout",
     "output_type": "stream",
     "text": [
      "\n",
      "\n",
      "1 Failed download:\n",
      "- ENDURANCE.NS: No data found for this date range, symbol may be delisted\n",
      "ENERGYDEV.NS\n",
      "\r",
      "[*********************100%***********************]  1 of 1 completed"
     ]
    },
    {
     "name": "stderr",
     "output_type": "stream",
     "text": [
      "INFO:__main__:Processed ENERGYDEV.NS in 0.01 seconds.\n",
      "INFO:__main__:Processing ENGINERSIN.NS... 1441 symbols left.\n"
     ]
    },
    {
     "name": "stdout",
     "output_type": "stream",
     "text": [
      "\n",
      "\n",
      "1 Failed download:\n",
      "- ENERGYDEV.NS: No data found for this date range, symbol may be delisted\n",
      "ENGINERSIN.NS\n",
      "\r",
      "[*********************100%***********************]  1 of 1 completed"
     ]
    },
    {
     "name": "stderr",
     "output_type": "stream",
     "text": [
      "INFO:__main__:Processed ENGINERSIN.NS in 0.02 seconds.\n",
      "INFO:__main__:Processing ENIL.NS... 1440 symbols left.\n"
     ]
    },
    {
     "name": "stdout",
     "output_type": "stream",
     "text": [
      "\n",
      "\n",
      "1 Failed download:\n",
      "- ENGINERSIN.NS: No data found for this date range, symbol may be delisted\n",
      "ENIL.NS\n",
      "\r",
      "[*********************100%***********************]  1 of 1 completed"
     ]
    },
    {
     "name": "stderr",
     "output_type": "stream",
     "text": [
      "INFO:__main__:Processed ENIL.NS in 0.02 seconds.\n",
      "INFO:__main__:Processing EPIGRAL.NS... 1439 symbols left.\n"
     ]
    },
    {
     "name": "stdout",
     "output_type": "stream",
     "text": [
      "\n",
      "\n",
      "1 Failed download:\n",
      "- ENIL.NS: No data found for this date range, symbol may be delisted\n",
      "EPIGRAL.NS\n",
      "\r",
      "[*********************100%***********************]  1 of 1 completed"
     ]
    },
    {
     "name": "stderr",
     "output_type": "stream",
     "text": [
      "INFO:__main__:Processed EPIGRAL.NS in 0.01 seconds.\n",
      "INFO:__main__:Processing EPL.NS... 1438 symbols left.\n"
     ]
    },
    {
     "name": "stdout",
     "output_type": "stream",
     "text": [
      "\n",
      "\n",
      "1 Failed download:\n",
      "- EPIGRAL.NS: No data found for this date range, symbol may be delisted\n",
      "EPL.NS\n",
      "\r",
      "[*********************100%***********************]  1 of 1 completed"
     ]
    },
    {
     "name": "stderr",
     "output_type": "stream",
     "text": [
      "INFO:__main__:Processed EPL.NS in 0.01 seconds.\n",
      "INFO:__main__:Processing EQUIPPP.NS... 1437 symbols left.\n"
     ]
    },
    {
     "name": "stdout",
     "output_type": "stream",
     "text": [
      "\n",
      "\n",
      "1 Failed download:\n",
      "- EPL.NS: No data found for this date range, symbol may be delisted\n",
      "EQUIPPP.NS\n",
      "\r",
      "[*********************100%***********************]  1 of 1 completed"
     ]
    },
    {
     "name": "stderr",
     "output_type": "stream",
     "text": [
      "INFO:__main__:Processed EQUIPPP.NS in 0.01 seconds.\n",
      "INFO:__main__:Processing EQUITASBNK.NS... 1436 symbols left.\n"
     ]
    },
    {
     "name": "stdout",
     "output_type": "stream",
     "text": [
      "\n",
      "\n",
      "1 Failed download:\n",
      "- EQUIPPP.NS: No data found for this date range, symbol may be delisted\n",
      "EQUITASBNK.NS\n",
      "\r",
      "[*********************100%***********************]  1 of 1 completed"
     ]
    },
    {
     "name": "stderr",
     "output_type": "stream",
     "text": [
      "INFO:__main__:Processed EQUITASBNK.NS in 0.01 seconds.\n",
      "INFO:__main__:Processing ERIS.NS... 1435 symbols left.\n"
     ]
    },
    {
     "name": "stdout",
     "output_type": "stream",
     "text": [
      "\n",
      "\n",
      "1 Failed download:\n",
      "- EQUITASBNK.NS: No data found for this date range, symbol may be delisted\n",
      "ERIS.NS\n",
      "\r",
      "[*********************100%***********************]  1 of 1 completed"
     ]
    },
    {
     "name": "stderr",
     "output_type": "stream",
     "text": [
      "INFO:__main__:Processed ERIS.NS in 0.01 seconds.\n",
      "INFO:__main__:Processing EROSMEDIA.NS... 1434 symbols left.\n"
     ]
    },
    {
     "name": "stdout",
     "output_type": "stream",
     "text": [
      "\n",
      "\n",
      "1 Failed download:\n",
      "- ERIS.NS: No data found for this date range, symbol may be delisted\n",
      "EROSMEDIA.NS\n",
      "\r",
      "[*********************100%***********************]  1 of 1 completed"
     ]
    },
    {
     "name": "stderr",
     "output_type": "stream",
     "text": [
      "INFO:__main__:Processed EROSMEDIA.NS in 0.01 seconds.\n",
      "INFO:__main__:Processing ESABINDIA.NS... 1433 symbols left.\n"
     ]
    },
    {
     "name": "stdout",
     "output_type": "stream",
     "text": [
      "\n",
      "\n",
      "1 Failed download:\n",
      "- EROSMEDIA.NS: No data found for this date range, symbol may be delisted\n",
      "ESABINDIA.NS\n",
      "\r",
      "[*********************100%***********************]  1 of 1 completed"
     ]
    },
    {
     "name": "stderr",
     "output_type": "stream",
     "text": [
      "INFO:__main__:Processed ESABINDIA.NS in 0.01 seconds.\n",
      "INFO:__main__:Processing ESAFSFB.NS... 1432 symbols left.\n"
     ]
    },
    {
     "name": "stdout",
     "output_type": "stream",
     "text": [
      "\n",
      "\n",
      "1 Failed download:\n",
      "- ESABINDIA.NS: No data found for this date range, symbol may be delisted\n",
      "ESAFSFB.NS\n",
      "\r",
      "[*********************100%***********************]  1 of 1 completed"
     ]
    },
    {
     "name": "stderr",
     "output_type": "stream",
     "text": [
      "INFO:__main__:Processed ESAFSFB.NS in 0.01 seconds.\n",
      "INFO:__main__:Processing ESCORTS.NS... 1431 symbols left.\n"
     ]
    },
    {
     "name": "stdout",
     "output_type": "stream",
     "text": [
      "\n",
      "\n",
      "1 Failed download:\n",
      "- ESAFSFB.NS: No data found for this date range, symbol may be delisted\n",
      "ESCORTS.NS\n",
      "\r",
      "[*********************100%***********************]  1 of 1 completed"
     ]
    },
    {
     "name": "stderr",
     "output_type": "stream",
     "text": [
      "INFO:__main__:Processed ESCORTS.NS in 0.01 seconds.\n",
      "INFO:__main__:Processing ESSARSHPNG.NS... 1430 symbols left.\n"
     ]
    },
    {
     "name": "stdout",
     "output_type": "stream",
     "text": [
      "\n",
      "\n",
      "1 Failed download:\n",
      "- ESCORTS.NS: No data found for this date range, symbol may be delisted\n",
      "ESSARSHPNG.NS\n",
      "\r",
      "[*********************100%***********************]  1 of 1 completed"
     ]
    },
    {
     "name": "stderr",
     "output_type": "stream",
     "text": [
      "INFO:__main__:Processed ESSARSHPNG.NS in 0.01 seconds.\n",
      "INFO:__main__:Processing ESSENTIA.NS... 1429 symbols left.\n"
     ]
    },
    {
     "name": "stdout",
     "output_type": "stream",
     "text": [
      "\n",
      "\n",
      "1 Failed download:\n",
      "- ESSARSHPNG.NS: No data found for this date range, symbol may be delisted\n",
      "ESSENTIA.NS\n",
      "\r",
      "[*********************100%***********************]  1 of 1 completed"
     ]
    },
    {
     "name": "stderr",
     "output_type": "stream",
     "text": [
      "INFO:__main__:Processed ESSENTIA.NS in 0.01 seconds.\n",
      "INFO:__main__:Processing ESTER.NS... 1428 symbols left.\n"
     ]
    },
    {
     "name": "stdout",
     "output_type": "stream",
     "text": [
      "\n",
      "\n",
      "1 Failed download:\n",
      "- ESSENTIA.NS: No data found for this date range, symbol may be delisted\n",
      "ESTER.NS\n",
      "\r",
      "[*********************100%***********************]  1 of 1 completed"
     ]
    },
    {
     "name": "stderr",
     "output_type": "stream",
     "text": [
      "INFO:__main__:Processed ESTER.NS in 0.01 seconds.\n",
      "INFO:__main__:Processing ETHOSLTD.NS... 1427 symbols left.\n"
     ]
    },
    {
     "name": "stdout",
     "output_type": "stream",
     "text": [
      "\n",
      "\n",
      "1 Failed download:\n",
      "- ESTER.NS: No data found for this date range, symbol may be delisted\n",
      "ETHOSLTD.NS\n",
      "\r",
      "[*********************100%***********************]  1 of 1 completed"
     ]
    },
    {
     "name": "stderr",
     "output_type": "stream",
     "text": [
      "INFO:__main__:Processed ETHOSLTD.NS in 0.02 seconds.\n",
      "INFO:__main__:Processing EUROTEXIND.NS... 1426 symbols left.\n"
     ]
    },
    {
     "name": "stdout",
     "output_type": "stream",
     "text": [
      "\n",
      "\n",
      "1 Failed download:\n",
      "- ETHOSLTD.NS: No data found for this date range, symbol may be delisted\n",
      "EUROTEXIND.NS\n",
      "\r",
      "[*********************100%***********************]  1 of 1 completed"
     ]
    },
    {
     "name": "stderr",
     "output_type": "stream",
     "text": [
      "INFO:__main__:Processed EUROTEXIND.NS in 0.03 seconds.\n"
     ]
    },
    {
     "name": "stdout",
     "output_type": "stream",
     "text": [
      "\n",
      "\n",
      "1 Failed download:\n",
      "- EUROTEXIND.NS: No data found for this date range, symbol may be delisted\n"
     ]
    },
    {
     "name": "stderr",
     "output_type": "stream",
     "text": [
      "INFO:__main__:Processing EVEREADY.NS... 1425 symbols left.\n"
     ]
    },
    {
     "name": "stdout",
     "output_type": "stream",
     "text": [
      "EVEREADY.NS\n",
      "\r",
      "[*********************100%***********************]  1 of 1 completed"
     ]
    },
    {
     "name": "stderr",
     "output_type": "stream",
     "text": [
      "INFO:__main__:Processed EVEREADY.NS in 0.02 seconds.\n",
      "INFO:__main__:Processing EVERESTIND.NS... 1424 symbols left.\n"
     ]
    },
    {
     "name": "stdout",
     "output_type": "stream",
     "text": [
      "\n",
      "\n",
      "1 Failed download:\n",
      "- EVEREADY.NS: No data found for this date range, symbol may be delisted\n",
      "EVERESTIND.NS\n",
      "\r",
      "[*********************100%***********************]  1 of 1 completed"
     ]
    },
    {
     "name": "stderr",
     "output_type": "stream",
     "text": [
      "INFO:__main__:Processed EVERESTIND.NS in 0.01 seconds.\n",
      "INFO:__main__:Processing EXCEL.NS... 1423 symbols left.\n"
     ]
    },
    {
     "name": "stdout",
     "output_type": "stream",
     "text": [
      "\n",
      "\n",
      "1 Failed download:\n",
      "- EVERESTIND.NS: No data found for this date range, symbol may be delisted\n",
      "EXCEL.NS\n",
      "\r",
      "[*********************100%***********************]  1 of 1 completed"
     ]
    },
    {
     "name": "stderr",
     "output_type": "stream",
     "text": [
      "INFO:__main__:Processed EXCEL.NS in 0.01 seconds.\n",
      "INFO:__main__:Processing EXCELINDUS.NS... 1422 symbols left.\n"
     ]
    },
    {
     "name": "stdout",
     "output_type": "stream",
     "text": [
      "\n",
      "\n",
      "1 Failed download:\n",
      "- EXCEL.NS: No data found for this date range, symbol may be delisted\n",
      "EXCELINDUS.NS\n",
      "\r",
      "[*********************100%***********************]  1 of 1 completed"
     ]
    },
    {
     "name": "stderr",
     "output_type": "stream",
     "text": [
      "INFO:__main__:Processed EXCELINDUS.NS in 0.01 seconds.\n",
      "INFO:__main__:Processing EXIDEIND.NS... 1421 symbols left.\n"
     ]
    },
    {
     "name": "stdout",
     "output_type": "stream",
     "text": [
      "\n",
      "\n",
      "1 Failed download:\n",
      "- EXCELINDUS.NS: No data found for this date range, symbol may be delisted\n",
      "EXIDEIND.NS\n",
      "\r",
      "[*********************100%***********************]  1 of 1 completed"
     ]
    },
    {
     "name": "stderr",
     "output_type": "stream",
     "text": [
      "INFO:__main__:Processed EXIDEIND.NS in 0.01 seconds.\n",
      "INFO:__main__:Processing EXPLEOSOL.NS... 1420 symbols left.\n"
     ]
    },
    {
     "name": "stdout",
     "output_type": "stream",
     "text": [
      "\n",
      "\n",
      "1 Failed download:\n",
      "- EXIDEIND.NS: No data found for this date range, symbol may be delisted\n",
      "EXPLEOSOL.NS\n",
      "\r",
      "[*********************100%***********************]  1 of 1 completed"
     ]
    },
    {
     "name": "stderr",
     "output_type": "stream",
     "text": [
      "INFO:__main__:Processed EXPLEOSOL.NS in 0.01 seconds.\n",
      "INFO:__main__:Processing EXXARO.NS... 1419 symbols left.\n"
     ]
    },
    {
     "name": "stdout",
     "output_type": "stream",
     "text": [
      "\n",
      "\n",
      "1 Failed download:\n",
      "- EXPLEOSOL.NS: No data found for this date range, symbol may be delisted\n",
      "EXXARO.NS\n",
      "\r",
      "[*********************100%***********************]  1 of 1 completed"
     ]
    },
    {
     "name": "stderr",
     "output_type": "stream",
     "text": [
      "INFO:__main__:Processed EXXARO.NS in 0.01 seconds.\n",
      "INFO:__main__:Processing FACT.NS... 1418 symbols left.\n"
     ]
    },
    {
     "name": "stdout",
     "output_type": "stream",
     "text": [
      "\n",
      "\n",
      "1 Failed download:\n",
      "- EXXARO.NS: No data found for this date range, symbol may be delisted\n",
      "FACT.NS\n",
      "\r",
      "[*********************100%***********************]  1 of 1 completed"
     ]
    },
    {
     "name": "stderr",
     "output_type": "stream",
     "text": [
      "INFO:__main__:Processed FACT.NS in 0.01 seconds.\n",
      "INFO:__main__:Processing FAIRCHEMOR.NS... 1417 symbols left.\n"
     ]
    },
    {
     "name": "stdout",
     "output_type": "stream",
     "text": [
      "\n",
      "\n",
      "1 Failed download:\n",
      "- FACT.NS: No data found for this date range, symbol may be delisted\n",
      "FAIRCHEMOR.NS\n",
      "\r",
      "[*********************100%***********************]  1 of 1 completed"
     ]
    },
    {
     "name": "stderr",
     "output_type": "stream",
     "text": [
      "INFO:__main__:Processed FAIRCHEMOR.NS in 0.01 seconds.\n",
      "INFO:__main__:Processing FAZE3Q.NS... 1416 symbols left.\n"
     ]
    },
    {
     "name": "stdout",
     "output_type": "stream",
     "text": [
      "\n",
      "\n",
      "1 Failed download:\n",
      "- FAIRCHEMOR.NS: No data found for this date range, symbol may be delisted\n",
      "FAZE3Q.NS\n",
      "\r",
      "[*********************100%***********************]  1 of 1 completed"
     ]
    },
    {
     "name": "stderr",
     "output_type": "stream",
     "text": [
      "INFO:__main__:Processed FAZE3Q.NS in 0.01 seconds.\n",
      "INFO:__main__:Processing FCL.NS... 1415 symbols left.\n"
     ]
    },
    {
     "name": "stdout",
     "output_type": "stream",
     "text": [
      "\n",
      "\n",
      "1 Failed download:\n",
      "- FAZE3Q.NS: No data found for this date range, symbol may be delisted\n",
      "FCL.NS\n",
      "\r",
      "[*********************100%***********************]  1 of 1 completed"
     ]
    },
    {
     "name": "stderr",
     "output_type": "stream",
     "text": [
      "INFO:__main__:Processed FCL.NS in 0.01 seconds.\n",
      "INFO:__main__:Processing FCONSUMER.NS... 1414 symbols left.\n"
     ]
    },
    {
     "name": "stdout",
     "output_type": "stream",
     "text": [
      "\n",
      "\n",
      "1 Failed download:\n",
      "- FCL.NS: No data found for this date range, symbol may be delisted\n",
      "FCONSUMER.NS\n",
      "\r",
      "[*********************100%***********************]  1 of 1 completed"
     ]
    },
    {
     "name": "stderr",
     "output_type": "stream",
     "text": [
      "INFO:__main__:Processed FCONSUMER.NS in 0.02 seconds.\n",
      "INFO:__main__:Processing FCSSOFT.NS... 1413 symbols left.\n"
     ]
    },
    {
     "name": "stdout",
     "output_type": "stream",
     "text": [
      "\n",
      "\n",
      "1 Failed download:\n",
      "- FCONSUMER.NS: No data found for this date range, symbol may be delisted\n",
      "FCSSOFT.NS\n",
      "[*********************100%***********************]  1 of 1 completed\n",
      "\n",
      "1 Failed download:\n",
      "- FCSSOFT.NS: No data found for this date range, symbol may be delisted\n"
     ]
    },
    {
     "name": "stderr",
     "output_type": "stream",
     "text": [
      "INFO:__main__:Processed FCSSOFT.NS in 0.03 seconds.\n",
      "INFO:__main__:Processing FDC.NS... 1412 symbols left.\n"
     ]
    },
    {
     "name": "stdout",
     "output_type": "stream",
     "text": [
      "FDC.NS\n",
      "[*********************100%***********************]  1 of 1 completed\n",
      "\n",
      "1 Failed download:\n",
      "- FDC.NS: No data found for this date range, symbol may be delisted\n"
     ]
    },
    {
     "name": "stderr",
     "output_type": "stream",
     "text": [
      "INFO:__main__:Processed FDC.NS in 0.02 seconds.\n",
      "INFO:__main__:Processing FEDERALBNK.NS... 1411 symbols left.\n"
     ]
    },
    {
     "name": "stdout",
     "output_type": "stream",
     "text": [
      "FEDERALBNK.NS\n",
      "\r",
      "[*********************100%***********************]  1 of 1 completed"
     ]
    },
    {
     "name": "stderr",
     "output_type": "stream",
     "text": [
      "INFO:__main__:Processed FEDERALBNK.NS in 0.01 seconds.\n",
      "INFO:__main__:Processing FEDFINA.NS... 1410 symbols left.\n"
     ]
    },
    {
     "name": "stdout",
     "output_type": "stream",
     "text": [
      "\n",
      "\n",
      "1 Failed download:\n",
      "- FEDERALBNK.NS: No data found for this date range, symbol may be delisted\n",
      "FEDFINA.NS\n",
      "\r",
      "[*********************100%***********************]  1 of 1 completed"
     ]
    },
    {
     "name": "stderr",
     "output_type": "stream",
     "text": [
      "INFO:__main__:Processed FEDFINA.NS in 0.01 seconds.\n",
      "INFO:__main__:Processing FIBERWEB.NS... 1409 symbols left.\n"
     ]
    },
    {
     "name": "stdout",
     "output_type": "stream",
     "text": [
      "\n",
      "\n",
      "1 Failed download:\n",
      "- FEDFINA.NS: No data found for this date range, symbol may be delisted\n",
      "FIBERWEB.NS\n",
      "\r",
      "[*********************100%***********************]  1 of 1 completed"
     ]
    },
    {
     "name": "stderr",
     "output_type": "stream",
     "text": [
      "INFO:__main__:Processed FIBERWEB.NS in 0.01 seconds.\n",
      "INFO:__main__:Processing FIEMIND.NS... 1408 symbols left.\n"
     ]
    },
    {
     "name": "stdout",
     "output_type": "stream",
     "text": [
      "\n",
      "\n",
      "1 Failed download:\n",
      "- FIBERWEB.NS: No data found for this date range, symbol may be delisted\n",
      "FIEMIND.NS\n",
      "\r",
      "[*********************100%***********************]  1 of 1 completed"
     ]
    },
    {
     "name": "stderr",
     "output_type": "stream",
     "text": [
      "INFO:__main__:Processed FIEMIND.NS in 0.01 seconds.\n",
      "INFO:__main__:Processing FILATEX.NS... 1407 symbols left.\n"
     ]
    },
    {
     "name": "stdout",
     "output_type": "stream",
     "text": [
      "\n",
      "\n",
      "1 Failed download:\n",
      "- FIEMIND.NS: No data found for this date range, symbol may be delisted\n",
      "FILATEX.NS\n",
      "\r",
      "[*********************100%***********************]  1 of 1 completed"
     ]
    },
    {
     "name": "stderr",
     "output_type": "stream",
     "text": [
      "INFO:__main__:Processed FILATEX.NS in 0.01 seconds.\n",
      "INFO:__main__:Processing FINCABLES.NS... 1406 symbols left.\n"
     ]
    },
    {
     "name": "stdout",
     "output_type": "stream",
     "text": [
      "\n",
      "\n",
      "1 Failed download:\n",
      "- FILATEX.NS: No data found for this date range, symbol may be delisted\n",
      "FINCABLES.NS\n",
      "\r",
      "[*********************100%***********************]  1 of 1 completed"
     ]
    },
    {
     "name": "stderr",
     "output_type": "stream",
     "text": [
      "INFO:__main__:Processed FINCABLES.NS in 0.01 seconds.\n",
      "INFO:__main__:Processing FINEORG.NS... 1405 symbols left.\n"
     ]
    },
    {
     "name": "stdout",
     "output_type": "stream",
     "text": [
      "\n",
      "\n",
      "1 Failed download:\n",
      "- FINCABLES.NS: No data found for this date range, symbol may be delisted\n",
      "FINEORG.NS\n",
      "\r",
      "[*********************100%***********************]  1 of 1 completed"
     ]
    },
    {
     "name": "stderr",
     "output_type": "stream",
     "text": [
      "INFO:__main__:Processed FINEORG.NS in 0.01 seconds.\n",
      "INFO:__main__:Processing FINOPB.NS... 1404 symbols left.\n"
     ]
    },
    {
     "name": "stdout",
     "output_type": "stream",
     "text": [
      "\n",
      "\n",
      "1 Failed download:\n",
      "- FINEORG.NS: No data found for this date range, symbol may be delisted\n",
      "FINOPB.NS\n",
      "\r",
      "[*********************100%***********************]  1 of 1 completed"
     ]
    },
    {
     "name": "stderr",
     "output_type": "stream",
     "text": [
      "INFO:__main__:Processed FINOPB.NS in 0.01 seconds.\n",
      "INFO:__main__:Processing FINPIPE.NS... 1403 symbols left.\n"
     ]
    },
    {
     "name": "stdout",
     "output_type": "stream",
     "text": [
      "\n",
      "\n",
      "1 Failed download:\n",
      "- FINOPB.NS: No data found for this date range, symbol may be delisted\n",
      "FINPIPE.NS\n",
      "\r",
      "[*********************100%***********************]  1 of 1 completed"
     ]
    },
    {
     "name": "stderr",
     "output_type": "stream",
     "text": [
      "INFO:__main__:Processed FINPIPE.NS in 0.01 seconds.\n",
      "INFO:__main__:Processing FIVESTAR.NS... 1402 symbols left.\n"
     ]
    },
    {
     "name": "stdout",
     "output_type": "stream",
     "text": [
      "\n",
      "\n",
      "1 Failed download:\n",
      "- FINPIPE.NS: No data found for this date range, symbol may be delisted\n",
      "FIVESTAR.NS\n",
      "\r",
      "[*********************100%***********************]  1 of 1 completed"
     ]
    },
    {
     "name": "stderr",
     "output_type": "stream",
     "text": [
      "INFO:__main__:Processed FIVESTAR.NS in 0.01 seconds.\n",
      "INFO:__main__:Processing FLAIR.NS... 1401 symbols left.\n"
     ]
    },
    {
     "name": "stdout",
     "output_type": "stream",
     "text": [
      "\n",
      "\n",
      "1 Failed download:\n",
      "- FIVESTAR.NS: No data found for this date range, symbol may be delisted\n",
      "FLAIR.NS\n",
      "\r",
      "[*********************100%***********************]  1 of 1 completed"
     ]
    },
    {
     "name": "stderr",
     "output_type": "stream",
     "text": [
      "INFO:__main__:Processed FLAIR.NS in 0.02 seconds.\n",
      "INFO:__main__:Processing FLEXITUFF.NS... 1400 symbols left.\n"
     ]
    },
    {
     "name": "stdout",
     "output_type": "stream",
     "text": [
      "\n",
      "\n",
      "1 Failed download:\n",
      "- FLAIR.NS: No data found for this date range, symbol may be delisted\n",
      "FLEXITUFF.NS\n",
      "\r",
      "[*********************100%***********************]  1 of 1 completed"
     ]
    },
    {
     "name": "stderr",
     "output_type": "stream",
     "text": [
      "INFO:__main__:Processed FLEXITUFF.NS in 0.02 seconds.\n",
      "INFO:__main__:Processing FLFL.NS... 1399 symbols left.\n"
     ]
    },
    {
     "name": "stdout",
     "output_type": "stream",
     "text": [
      "\n",
      "\n",
      "1 Failed download:\n",
      "- FLEXITUFF.NS: No data found for this date range, symbol may be delisted\n",
      "FLFL.NS\n",
      "\r",
      "[*********************100%***********************]  1 of 1 completed"
     ]
    },
    {
     "name": "stderr",
     "output_type": "stream",
     "text": [
      "INFO:__main__:Processed FLFL.NS in 0.01 seconds.\n",
      "INFO:__main__:Processing FLUOROCHEM.NS... 1398 symbols left.\n"
     ]
    },
    {
     "name": "stdout",
     "output_type": "stream",
     "text": [
      "\n",
      "\n",
      "1 Failed download:\n",
      "- FLFL.NS: No data found for this date range, symbol may be delisted\n",
      "FLUOROCHEM.NS\n",
      "\r",
      "[*********************100%***********************]  1 of 1 completed"
     ]
    },
    {
     "name": "stderr",
     "output_type": "stream",
     "text": [
      "INFO:__main__:Processed FLUOROCHEM.NS in 0.01 seconds.\n",
      "INFO:__main__:Processing FMGOETZE.NS... 1397 symbols left.\n"
     ]
    },
    {
     "name": "stdout",
     "output_type": "stream",
     "text": [
      "\n",
      "\n",
      "1 Failed download:\n",
      "- FLUOROCHEM.NS: No data found for this date range, symbol may be delisted\n",
      "FMGOETZE.NS\n",
      "\r",
      "[*********************100%***********************]  1 of 1 completed"
     ]
    },
    {
     "name": "stderr",
     "output_type": "stream",
     "text": [
      "INFO:__main__:Processed FMGOETZE.NS in 0.01 seconds.\n",
      "INFO:__main__:Processing FMNL.NS... 1396 symbols left.\n"
     ]
    },
    {
     "name": "stdout",
     "output_type": "stream",
     "text": [
      "\n",
      "\n",
      "1 Failed download:\n",
      "- FMGOETZE.NS: No data found for this date range, symbol may be delisted\n",
      "FMNL.NS\n",
      "\r",
      "[*********************100%***********************]  1 of 1 completed"
     ]
    },
    {
     "name": "stderr",
     "output_type": "stream",
     "text": [
      "INFO:__main__:Processed FMNL.NS in 0.01 seconds.\n",
      "INFO:__main__:Processing FOCUS.NS... 1395 symbols left.\n"
     ]
    },
    {
     "name": "stdout",
     "output_type": "stream",
     "text": [
      "\n",
      "\n",
      "1 Failed download:\n",
      "- FMNL.NS: No data found for this date range, symbol may be delisted\n",
      "FOCUS.NS\n",
      "\r",
      "[*********************100%***********************]  1 of 1 completed"
     ]
    },
    {
     "name": "stderr",
     "output_type": "stream",
     "text": [
      "INFO:__main__:Processed FOCUS.NS in 0.01 seconds.\n",
      "INFO:__main__:Processing FOODSIN.NS... 1394 symbols left.\n"
     ]
    },
    {
     "name": "stdout",
     "output_type": "stream",
     "text": [
      "\n",
      "\n",
      "1 Failed download:\n",
      "- FOCUS.NS: No data found for this date range, symbol may be delisted\n",
      "FOODSIN.NS\n",
      "\r",
      "[*********************100%***********************]  1 of 1 completed"
     ]
    },
    {
     "name": "stderr",
     "output_type": "stream",
     "text": [
      "INFO:__main__:Processed FOODSIN.NS in 0.01 seconds.\n",
      "INFO:__main__:Processing FORTIS.NS... 1393 symbols left.\n"
     ]
    },
    {
     "name": "stdout",
     "output_type": "stream",
     "text": [
      "\n",
      "\n",
      "1 Failed download:\n",
      "- FOODSIN.NS: No data found for this date range, symbol may be delisted\n",
      "FORTIS.NS\n",
      "\r",
      "[*********************100%***********************]  1 of 1 completed"
     ]
    },
    {
     "name": "stderr",
     "output_type": "stream",
     "text": [
      "INFO:__main__:Processed FORTIS.NS in 0.01 seconds.\n",
      "INFO:__main__:Processing FOSECOIND.NS... 1392 symbols left.\n"
     ]
    },
    {
     "name": "stdout",
     "output_type": "stream",
     "text": [
      "\n",
      "\n",
      "1 Failed download:\n",
      "- FORTIS.NS: No data found for this date range, symbol may be delisted\n",
      "FOSECOIND.NS\n",
      "\r",
      "[*********************100%***********************]  1 of 1 completed"
     ]
    },
    {
     "name": "stderr",
     "output_type": "stream",
     "text": [
      "INFO:__main__:Processed FOSECOIND.NS in 0.02 seconds.\n",
      "INFO:__main__:Processing FRETAIL.NS... 1391 symbols left.\n"
     ]
    },
    {
     "name": "stdout",
     "output_type": "stream",
     "text": [
      "\n",
      "\n",
      "1 Failed download:\n",
      "- FOSECOIND.NS: No data found for this date range, symbol may be delisted\n",
      "FRETAIL.NS\n",
      "[*********************100%***********************]  1 of 1 completed"
     ]
    },
    {
     "name": "stderr",
     "output_type": "stream",
     "text": [
      "INFO:__main__:Processed FRETAIL.NS in 0.01 seconds.\n",
      "INFO:__main__:Processing FSC.NS... 1390 symbols left.\n"
     ]
    },
    {
     "name": "stdout",
     "output_type": "stream",
     "text": [
      "\n",
      "\n",
      "1 Failed download:\n",
      "- FRETAIL.NS: No data found for this date range, symbol may be delisted\n",
      "FSC.NS\n",
      "[*********************100%***********************]  1 of 1 completed"
     ]
    },
    {
     "name": "stderr",
     "output_type": "stream",
     "text": [
      "INFO:__main__:Processed FSC.NS in 0.01 seconds.\n",
      "INFO:__main__:Processing FSL.NS... 1389 symbols left.\n"
     ]
    },
    {
     "name": "stdout",
     "output_type": "stream",
     "text": [
      "\n",
      "\n",
      "1 Failed download:\n",
      "- FSC.NS: No data found for this date range, symbol may be delisted\n",
      "FSL.NS\n",
      "\r",
      "[*********************100%***********************]  1 of 1 completed"
     ]
    },
    {
     "name": "stderr",
     "output_type": "stream",
     "text": [
      "INFO:__main__:Processed FSL.NS in 0.01 seconds.\n",
      "INFO:__main__:Processing FUSION.NS... 1388 symbols left.\n"
     ]
    },
    {
     "name": "stdout",
     "output_type": "stream",
     "text": [
      "\n",
      "\n",
      "1 Failed download:\n",
      "- FSL.NS: No data found for this date range, symbol may be delisted\n",
      "FUSION.NS\n",
      "\r",
      "[*********************100%***********************]  1 of 1 completed"
     ]
    },
    {
     "name": "stderr",
     "output_type": "stream",
     "text": [
      "INFO:__main__:Processed FUSION.NS in 0.02 seconds.\n",
      "INFO:__main__:Processing GABRIEL.NS... 1387 symbols left.\n"
     ]
    },
    {
     "name": "stdout",
     "output_type": "stream",
     "text": [
      "\n",
      "\n",
      "1 Failed download:\n",
      "- FUSION.NS: No data found for this date range, symbol may be delisted\n",
      "GABRIEL.NS\n",
      "\r",
      "[*********************100%***********************]  1 of 1 completed"
     ]
    },
    {
     "name": "stderr",
     "output_type": "stream",
     "text": [
      "INFO:__main__:Processed GABRIEL.NS in 0.02 seconds.\n"
     ]
    },
    {
     "name": "stdout",
     "output_type": "stream",
     "text": [
      "\n",
      "\n",
      "1 Failed download:\n",
      "- GABRIEL.NS: No data found for this date range, symbol may be delisted\n"
     ]
    },
    {
     "name": "stderr",
     "output_type": "stream",
     "text": [
      "INFO:__main__:Processing GAEL.NS... 1386 symbols left.\n"
     ]
    },
    {
     "name": "stdout",
     "output_type": "stream",
     "text": [
      "GAEL.NS\n",
      "\r",
      "[*********************100%***********************]  1 of 1 completed"
     ]
    },
    {
     "name": "stderr",
     "output_type": "stream",
     "text": [
      "INFO:__main__:Processed GAEL.NS in 0.01 seconds.\n"
     ]
    },
    {
     "name": "stdout",
     "output_type": "stream",
     "text": [
      "\n",
      "\n",
      "1 Failed download:\n",
      "- GAEL.NS: No data found for this date range, symbol may be delisted\n"
     ]
    },
    {
     "name": "stderr",
     "output_type": "stream",
     "text": [
      "INFO:__main__:Processing GAIL.NS... 1385 symbols left.\n"
     ]
    },
    {
     "name": "stdout",
     "output_type": "stream",
     "text": [
      "GAIL.NS\n",
      "\r",
      "[*********************100%***********************]  1 of 1 completed"
     ]
    },
    {
     "name": "stderr",
     "output_type": "stream",
     "text": [
      "INFO:__main__:Processed GAIL.NS in 0.01 seconds.\n",
      "INFO:__main__:Processing GALAXYSURF.NS... 1384 symbols left.\n"
     ]
    },
    {
     "name": "stdout",
     "output_type": "stream",
     "text": [
      "\n",
      "\n",
      "1 Failed download:\n",
      "- GAIL.NS: No data found for this date range, symbol may be delisted\n",
      "GALAXYSURF.NS\n",
      "\r",
      "[*********************100%***********************]  1 of 1 completed"
     ]
    },
    {
     "name": "stderr",
     "output_type": "stream",
     "text": [
      "INFO:__main__:Processed GALAXYSURF.NS in 0.01 seconds.\n",
      "INFO:__main__:Processing GALLANTT.NS... 1383 symbols left.\n"
     ]
    },
    {
     "name": "stdout",
     "output_type": "stream",
     "text": [
      "\n",
      "\n",
      "1 Failed download:\n",
      "- GALAXYSURF.NS: No data found for this date range, symbol may be delisted\n",
      "GALLANTT.NS\n",
      "\r",
      "[*********************100%***********************]  1 of 1 completed"
     ]
    },
    {
     "name": "stderr",
     "output_type": "stream",
     "text": [
      "INFO:__main__:Processed GALLANTT.NS in 0.01 seconds.\n",
      "INFO:__main__:Processing GANDHAR.NS... 1382 symbols left.\n"
     ]
    },
    {
     "name": "stdout",
     "output_type": "stream",
     "text": [
      "\n",
      "\n",
      "1 Failed download:\n",
      "- GALLANTT.NS: No data found for this date range, symbol may be delisted\n",
      "GANDHAR.NS\n",
      "\r",
      "[*********************100%***********************]  1 of 1 completed"
     ]
    },
    {
     "name": "stderr",
     "output_type": "stream",
     "text": [
      "INFO:__main__:Processed GANDHAR.NS in 0.01 seconds.\n",
      "INFO:__main__:Processing GANDHITUBE.NS... 1381 symbols left.\n"
     ]
    },
    {
     "name": "stdout",
     "output_type": "stream",
     "text": [
      "\n",
      "\n",
      "1 Failed download:\n",
      "- GANDHAR.NS: No data found for this date range, symbol may be delisted\n",
      "GANDHITUBE.NS\n",
      "\r",
      "[*********************100%***********************]  1 of 1 completed"
     ]
    },
    {
     "name": "stderr",
     "output_type": "stream",
     "text": [
      "INFO:__main__:Processed GANDHITUBE.NS in 0.00 seconds.\n",
      "INFO:__main__:Processing GANECOS.NS... 1380 symbols left.\n"
     ]
    },
    {
     "name": "stdout",
     "output_type": "stream",
     "text": [
      "\n",
      "\n",
      "1 Failed download:\n",
      "- GANDHITUBE.NS: No data found for this date range, symbol may be delisted\n",
      "GANECOS.NS\n",
      "\r",
      "[*********************100%***********************]  1 of 1 completed"
     ]
    },
    {
     "name": "stderr",
     "output_type": "stream",
     "text": [
      "INFO:__main__:Processed GANECOS.NS in 0.01 seconds.\n",
      "INFO:__main__:Processing GANESHBE.NS... 1379 symbols left.\n"
     ]
    },
    {
     "name": "stdout",
     "output_type": "stream",
     "text": [
      "\n",
      "\n",
      "1 Failed download:\n",
      "- GANECOS.NS: No data found for this date range, symbol may be delisted\n",
      "GANESHBE.NS\n",
      "\r",
      "[*********************100%***********************]  1 of 1 completed"
     ]
    },
    {
     "name": "stderr",
     "output_type": "stream",
     "text": [
      "INFO:__main__:Processed GANESHBE.NS in 0.01 seconds.\n",
      "INFO:__main__:Processing GANESHHOUC.NS... 1378 symbols left.\n"
     ]
    },
    {
     "name": "stdout",
     "output_type": "stream",
     "text": [
      "\n",
      "\n",
      "1 Failed download:\n",
      "- GANESHBE.NS: No data found for this date range, symbol may be delisted\n",
      "GANESHHOUC.NS\n",
      "\r",
      "[*********************100%***********************]  1 of 1 completed"
     ]
    },
    {
     "name": "stderr",
     "output_type": "stream",
     "text": [
      "INFO:__main__:Processed GANESHHOUC.NS in 0.01 seconds.\n",
      "INFO:__main__:Processing GANGAFORGE.NS... 1377 symbols left.\n"
     ]
    },
    {
     "name": "stdout",
     "output_type": "stream",
     "text": [
      "\n",
      "\n",
      "1 Failed download:\n",
      "- GANESHHOUC.NS: No data found for this date range, symbol may be delisted\n",
      "GANGAFORGE.NS\n",
      "\r",
      "[*********************100%***********************]  1 of 1 completed"
     ]
    },
    {
     "name": "stderr",
     "output_type": "stream",
     "text": [
      "INFO:__main__:Processed GANGAFORGE.NS in 0.01 seconds.\n",
      "INFO:__main__:Processing GANGESSECU.NS... 1376 symbols left.\n"
     ]
    },
    {
     "name": "stdout",
     "output_type": "stream",
     "text": [
      "\n",
      "\n",
      "1 Failed download:\n",
      "- GANGAFORGE.NS: No data found for this date range, symbol may be delisted\n",
      "GANGESSECU.NS\n",
      "\r",
      "[*********************100%***********************]  1 of 1 completed"
     ]
    },
    {
     "name": "stderr",
     "output_type": "stream",
     "text": [
      "INFO:__main__:Processed GANGESSECU.NS in 0.01 seconds.\n",
      "INFO:__main__:Processing GARFIBRES.NS... 1375 symbols left.\n"
     ]
    },
    {
     "name": "stdout",
     "output_type": "stream",
     "text": [
      "\n",
      "\n",
      "1 Failed download:\n",
      "- GANGESSECU.NS: No data found for this date range, symbol may be delisted\n",
      "GARFIBRES.NS\n",
      "\r",
      "[*********************100%***********************]  1 of 1 completed"
     ]
    },
    {
     "name": "stderr",
     "output_type": "stream",
     "text": [
      "INFO:__main__:Processed GARFIBRES.NS in 0.01 seconds.\n",
      "INFO:__main__:Processing GATECHDVR.NS... 1374 symbols left.\n"
     ]
    },
    {
     "name": "stdout",
     "output_type": "stream",
     "text": [
      "\n",
      "\n",
      "1 Failed download:\n",
      "- GARFIBRES.NS: No data found for this date range, symbol may be delisted\n",
      "GATECHDVR.NS\n",
      "\r",
      "[*********************100%***********************]  1 of 1 completed"
     ]
    },
    {
     "name": "stderr",
     "output_type": "stream",
     "text": [
      "INFO:__main__:Processed GATECHDVR.NS in 0.02 seconds.\n",
      "INFO:__main__:Processing GATEWAY.NS... 1373 symbols left.\n"
     ]
    },
    {
     "name": "stdout",
     "output_type": "stream",
     "text": [
      "\n",
      "\n",
      "1 Failed download:\n",
      "- GATECHDVR.NS: No data found for this date range, symbol may be delisted\n",
      "GATEWAY.NS\n",
      "\r",
      "[*********************100%***********************]  1 of 1 completed"
     ]
    },
    {
     "name": "stderr",
     "output_type": "stream",
     "text": [
      "INFO:__main__:Processed GATEWAY.NS in 0.03 seconds.\n",
      "INFO:__main__:Processing GAYAPROJ.NS... 1372 symbols left.\n"
     ]
    },
    {
     "name": "stdout",
     "output_type": "stream",
     "text": [
      "\n",
      "\n",
      "1 Failed download:\n",
      "- GATEWAY.NS: No data found for this date range, symbol may be delisted\n",
      "GAYAPROJ.NS\n",
      "\r",
      "[*********************100%***********************]  1 of 1 completed"
     ]
    },
    {
     "name": "stderr",
     "output_type": "stream",
     "text": [
      "INFO:__main__:Processed GAYAPROJ.NS in 0.02 seconds.\n",
      "INFO:__main__:Processing GEECEE.NS... 1371 symbols left.\n"
     ]
    },
    {
     "name": "stdout",
     "output_type": "stream",
     "text": [
      "\n",
      "\n",
      "1 Failed download:\n",
      "- GAYAPROJ.NS: No data found for this date range, symbol may be delisted\n",
      "GEECEE.NS\n",
      "\r",
      "[*********************100%***********************]  1 of 1 completed"
     ]
    },
    {
     "name": "stderr",
     "output_type": "stream",
     "text": [
      "INFO:__main__:Processed GEECEE.NS in 0.01 seconds.\n",
      "INFO:__main__:Processing GEEKAYWIRE.NS... 1370 symbols left.\n"
     ]
    },
    {
     "name": "stdout",
     "output_type": "stream",
     "text": [
      "\n",
      "\n",
      "1 Failed download:\n",
      "- GEECEE.NS: No data found for this date range, symbol may be delisted\n",
      "GEEKAYWIRE.NS\n",
      "\r",
      "[*********************100%***********************]  1 of 1 completed"
     ]
    },
    {
     "name": "stderr",
     "output_type": "stream",
     "text": [
      "INFO:__main__:Processed GEEKAYWIRE.NS in 0.01 seconds.\n",
      "INFO:__main__:Processing GENCON.NS... 1369 symbols left.\n"
     ]
    },
    {
     "name": "stdout",
     "output_type": "stream",
     "text": [
      "\n",
      "\n",
      "1 Failed download:\n",
      "- GEEKAYWIRE.NS: No data found for this date range, symbol may be delisted\n",
      "GENCON.NS\n",
      "\r",
      "[*********************100%***********************]  1 of 1 completed"
     ]
    },
    {
     "name": "stderr",
     "output_type": "stream",
     "text": [
      "INFO:__main__:Processed GENCON.NS in 0.01 seconds.\n",
      "INFO:__main__:Processing GENESYS.NS... 1368 symbols left.\n"
     ]
    },
    {
     "name": "stdout",
     "output_type": "stream",
     "text": [
      "\n",
      "\n",
      "1 Failed download:\n",
      "- GENCON.NS: No data found for this date range, symbol may be delisted\n",
      "GENESYS.NS\n",
      "\r",
      "[*********************100%***********************]  1 of 1 completed"
     ]
    },
    {
     "name": "stderr",
     "output_type": "stream",
     "text": [
      "INFO:__main__:Processed GENESYS.NS in 0.01 seconds.\n",
      "INFO:__main__:Processing GENSOL.NS... 1367 symbols left.\n"
     ]
    },
    {
     "name": "stdout",
     "output_type": "stream",
     "text": [
      "\n",
      "\n",
      "1 Failed download:\n",
      "- GENESYS.NS: No data found for this date range, symbol may be delisted\n",
      "GENSOL.NS\n",
      "\r",
      "[*********************100%***********************]  1 of 1 completed"
     ]
    },
    {
     "name": "stderr",
     "output_type": "stream",
     "text": [
      "INFO:__main__:Processed GENSOL.NS in 0.01 seconds.\n",
      "INFO:__main__:Processing GENUSPAPER.NS... 1366 symbols left.\n"
     ]
    },
    {
     "name": "stdout",
     "output_type": "stream",
     "text": [
      "\n",
      "\n",
      "1 Failed download:\n",
      "- GENSOL.NS: No data found for this date range, symbol may be delisted\n",
      "GENUSPAPER.NS\n",
      "\r",
      "[*********************100%***********************]  1 of 1 completed"
     ]
    },
    {
     "name": "stderr",
     "output_type": "stream",
     "text": [
      "INFO:__main__:Processed GENUSPAPER.NS in 0.01 seconds.\n",
      "INFO:__main__:Processing GENUSPOWER.NS... 1365 symbols left.\n"
     ]
    },
    {
     "name": "stdout",
     "output_type": "stream",
     "text": [
      "\n",
      "\n",
      "1 Failed download:\n",
      "- GENUSPAPER.NS: No data found for this date range, symbol may be delisted\n",
      "GENUSPOWER.NS\n",
      "\r",
      "[*********************100%***********************]  1 of 1 completed"
     ]
    },
    {
     "name": "stderr",
     "output_type": "stream",
     "text": [
      "INFO:__main__:Processed GENUSPOWER.NS in 0.01 seconds.\n",
      "INFO:__main__:Processing GEOJITFSL.NS... 1364 symbols left.\n"
     ]
    },
    {
     "name": "stdout",
     "output_type": "stream",
     "text": [
      "\n",
      "\n",
      "1 Failed download:\n",
      "- GENUSPOWER.NS: No data found for this date range, symbol may be delisted\n",
      "GEOJITFSL.NS\n",
      "\r",
      "[*********************100%***********************]  1 of 1 completed"
     ]
    },
    {
     "name": "stderr",
     "output_type": "stream",
     "text": [
      "INFO:__main__:Processed GEOJITFSL.NS in 0.01 seconds.\n",
      "INFO:__main__:Processing GEPIL.NS... 1363 symbols left.\n"
     ]
    },
    {
     "name": "stdout",
     "output_type": "stream",
     "text": [
      "\n",
      "\n",
      "1 Failed download:\n",
      "- GEOJITFSL.NS: No data found for this date range, symbol may be delisted\n",
      "GEPIL.NS\n",
      "\r",
      "[*********************100%***********************]  1 of 1 completed"
     ]
    },
    {
     "name": "stderr",
     "output_type": "stream",
     "text": [
      "INFO:__main__:Processed GEPIL.NS in 0.01 seconds.\n",
      "INFO:__main__:Processing GESHIP.NS... 1362 symbols left.\n"
     ]
    },
    {
     "name": "stdout",
     "output_type": "stream",
     "text": [
      "\n",
      "\n",
      "1 Failed download:\n",
      "- GEPIL.NS: No data found for this date range, symbol may be delisted\n",
      "GESHIP.NS\n",
      "\r",
      "[*********************100%***********************]  1 of 1 completed"
     ]
    },
    {
     "name": "stderr",
     "output_type": "stream",
     "text": [
      "INFO:__main__:Processed GESHIP.NS in 0.01 seconds.\n",
      "INFO:__main__:Processing GET&D.NS... 1361 symbols left.\n"
     ]
    },
    {
     "name": "stdout",
     "output_type": "stream",
     "text": [
      "\n",
      "\n",
      "1 Failed download:\n",
      "- GESHIP.NS: No data found for this date range, symbol may be delisted\n",
      "GET&D.NS\n",
      "\r",
      "[*********************100%***********************]  1 of 1 completed"
     ]
    },
    {
     "name": "stderr",
     "output_type": "stream",
     "text": [
      "INFO:__main__:Processed GET&D.NS in 0.02 seconds.\n",
      "INFO:__main__:Processing GFLLIMITED.NS... 1360 symbols left.\n"
     ]
    },
    {
     "name": "stdout",
     "output_type": "stream",
     "text": [
      "\n",
      "\n",
      "1 Failed download:\n",
      "- GET&D.NS: No data found for this date range, symbol may be delisted\n",
      "GFLLIMITED.NS\n",
      "\r",
      "[*********************100%***********************]  1 of 1 completed"
     ]
    },
    {
     "name": "stderr",
     "output_type": "stream",
     "text": [
      "INFO:__main__:Processed GFLLIMITED.NS in 0.03 seconds.\n",
      "INFO:__main__:Processing GHCL.NS... 1359 symbols left.\n"
     ]
    },
    {
     "name": "stdout",
     "output_type": "stream",
     "text": [
      "\n",
      "\n",
      "1 Failed download:\n",
      "- GFLLIMITED.NS: No data found for this date range, symbol may be delisted\n",
      "GHCL.NS\n",
      "\r",
      "[*********************100%***********************]  1 of 1 completed"
     ]
    },
    {
     "name": "stderr",
     "output_type": "stream",
     "text": [
      "INFO:__main__:Processed GHCL.NS in 0.01 seconds.\n"
     ]
    },
    {
     "name": "stdout",
     "output_type": "stream",
     "text": [
      "\n",
      "\n",
      "1 Failed download:\n",
      "- GHCL.NS: No data found for this date range, symbol may be delisted\n"
     ]
    },
    {
     "name": "stderr",
     "output_type": "stream",
     "text": [
      "INFO:__main__:Processing GHCLTEXTIL.NS... 1358 symbols left.\n"
     ]
    },
    {
     "name": "stdout",
     "output_type": "stream",
     "text": [
      "GHCLTEXTIL.NS\n",
      "\r",
      "[*********************100%***********************]  1 of 1 completed"
     ]
    },
    {
     "name": "stderr",
     "output_type": "stream",
     "text": [
      "INFO:__main__:Processed GHCLTEXTIL.NS in 0.02 seconds.\n",
      "INFO:__main__:Processing GICHSGFIN.NS... 1357 symbols left.\n"
     ]
    },
    {
     "name": "stdout",
     "output_type": "stream",
     "text": [
      "\n",
      "\n",
      "1 Failed download:\n",
      "- GHCLTEXTIL.NS: No data found for this date range, symbol may be delisted\n",
      "GICHSGFIN.NS\n",
      "\r",
      "[*********************100%***********************]  1 of 1 completed"
     ]
    },
    {
     "name": "stderr",
     "output_type": "stream",
     "text": [
      "INFO:__main__:Processed GICHSGFIN.NS in 0.01 seconds.\n",
      "INFO:__main__:Processing GICRE.NS... 1356 symbols left.\n"
     ]
    },
    {
     "name": "stdout",
     "output_type": "stream",
     "text": [
      "\n",
      "\n",
      "1 Failed download:\n",
      "- GICHSGFIN.NS: No data found for this date range, symbol may be delisted\n",
      "GICRE.NS\n",
      "\r",
      "[*********************100%***********************]  1 of 1 completed"
     ]
    },
    {
     "name": "stderr",
     "output_type": "stream",
     "text": [
      "INFO:__main__:Processed GICRE.NS in 0.03 seconds.\n",
      "INFO:__main__:Processing GILLANDERS.NS... 1355 symbols left.\n"
     ]
    },
    {
     "name": "stdout",
     "output_type": "stream",
     "text": [
      "\n",
      "\n",
      "1 Failed download:\n",
      "- GICRE.NS: No data found for this date range, symbol may be delisted\n",
      "GILLANDERS.NS\n",
      "\r",
      "[*********************100%***********************]  1 of 1 completed"
     ]
    },
    {
     "name": "stderr",
     "output_type": "stream",
     "text": [
      "INFO:__main__:Processed GILLANDERS.NS in 0.03 seconds.\n",
      "INFO:__main__:Processing GILLETTE.NS... 1354 symbols left.\n"
     ]
    },
    {
     "name": "stdout",
     "output_type": "stream",
     "text": [
      "\n",
      "\n",
      "1 Failed download:\n",
      "- GILLANDERS.NS: No data found for this date range, symbol may be delisted\n",
      "GILLETTE.NS\n",
      "\r",
      "[*********************100%***********************]  1 of 1 completed"
     ]
    },
    {
     "name": "stderr",
     "output_type": "stream",
     "text": [
      "INFO:__main__:Processed GILLETTE.NS in 0.01 seconds.\n",
      "INFO:__main__:Processing GINNIFILA.NS... 1353 symbols left.\n"
     ]
    },
    {
     "name": "stdout",
     "output_type": "stream",
     "text": [
      "\n",
      "\n",
      "1 Failed download:\n",
      "- GILLETTE.NS: No data found for this date range, symbol may be delisted\n",
      "GINNIFILA.NS\n",
      "\r",
      "[*********************100%***********************]  1 of 1 completed"
     ]
    },
    {
     "name": "stderr",
     "output_type": "stream",
     "text": [
      "INFO:__main__:Processed GINNIFILA.NS in 0.03 seconds.\n"
     ]
    },
    {
     "name": "stdout",
     "output_type": "stream",
     "text": [
      "\n",
      "\n",
      "1 Failed download:\n",
      "- GINNIFILA.NS: No data found for this date range, symbol may be delisted\n"
     ]
    },
    {
     "name": "stderr",
     "output_type": "stream",
     "text": [
      "INFO:__main__:Processing GIPCL.NS... 1352 symbols left.\n"
     ]
    },
    {
     "name": "stdout",
     "output_type": "stream",
     "text": [
      "GIPCL.NS\n",
      "\r",
      "[*********************100%***********************]  1 of 1 completed"
     ]
    },
    {
     "name": "stderr",
     "output_type": "stream",
     "text": [
      "INFO:__main__:Processed GIPCL.NS in 0.02 seconds.\n",
      "INFO:__main__:Processing GKWLIMITED.NS... 1351 symbols left.\n"
     ]
    },
    {
     "name": "stdout",
     "output_type": "stream",
     "text": [
      "\n",
      "\n",
      "1 Failed download:\n",
      "- GIPCL.NS: No data found for this date range, symbol may be delisted\n",
      "GKWLIMITED.NS\n",
      "\r",
      "[*********************100%***********************]  1 of 1 completed"
     ]
    },
    {
     "name": "stderr",
     "output_type": "stream",
     "text": [
      "INFO:__main__:Processed GKWLIMITED.NS in 0.03 seconds.\n"
     ]
    },
    {
     "name": "stdout",
     "output_type": "stream",
     "text": [
      "\n",
      "\n",
      "1 Failed download:\n",
      "- GKWLIMITED.NS: No data found for this date range, symbol may be delisted\n"
     ]
    },
    {
     "name": "stderr",
     "output_type": "stream",
     "text": [
      "INFO:__main__:Processing GLAND.NS... 1350 symbols left.\n"
     ]
    },
    {
     "name": "stdout",
     "output_type": "stream",
     "text": [
      "GLAND.NS\n",
      "\r",
      "[*********************100%***********************]  1 of 1 completed"
     ]
    },
    {
     "name": "stderr",
     "output_type": "stream",
     "text": [
      "INFO:__main__:Processed GLAND.NS in 0.03 seconds.\n",
      "INFO:__main__:Processing GLAXO.NS... 1349 symbols left.\n"
     ]
    },
    {
     "name": "stdout",
     "output_type": "stream",
     "text": [
      "\n",
      "\n",
      "1 Failed download:\n",
      "- GLAND.NS: No data found for this date range, symbol may be delisted\n",
      "GLAXO.NS\n",
      "[*********************100%***********************]  1 of 1 completed"
     ]
    },
    {
     "name": "stderr",
     "output_type": "stream",
     "text": [
      "INFO:__main__:Processed GLAXO.NS in 0.02 seconds.\n",
      "INFO:__main__:Processing GLENMARK.NS... 1348 symbols left.\n"
     ]
    },
    {
     "name": "stdout",
     "output_type": "stream",
     "text": [
      "\n",
      "\n",
      "1 Failed download:\n",
      "- GLAXO.NS: No data found for this date range, symbol may be delisted\n",
      "GLENMARK.NS\n",
      "\r",
      "[*********************100%***********************]  1 of 1 completed"
     ]
    },
    {
     "name": "stderr",
     "output_type": "stream",
     "text": [
      "INFO:__main__:Processed GLENMARK.NS in 0.03 seconds.\n",
      "INFO:__main__:Processing GLFL.NS... 1347 symbols left.\n"
     ]
    },
    {
     "name": "stdout",
     "output_type": "stream",
     "text": [
      "\n",
      "\n",
      "1 Failed download:\n",
      "- GLENMARK.NS: No data found for this date range, symbol may be delisted\n",
      "GLFL.NS\n",
      "\r",
      "[*********************100%***********************]  1 of 1 completed"
     ]
    },
    {
     "name": "stderr",
     "output_type": "stream",
     "text": [
      "INFO:__main__:Processed GLFL.NS in 0.02 seconds.\n",
      "INFO:__main__:Processing GLOBAL.NS... 1346 symbols left.\n"
     ]
    },
    {
     "name": "stdout",
     "output_type": "stream",
     "text": [
      "\n",
      "\n",
      "1 Failed download:\n",
      "- GLFL.NS: No data found for this date range, symbol may be delisted\n",
      "GLOBAL.NS\n",
      "\r",
      "[*********************100%***********************]  1 of 1 completed"
     ]
    },
    {
     "name": "stderr",
     "output_type": "stream",
     "text": [
      "INFO:__main__:Processed GLOBAL.NS in 0.02 seconds.\n",
      "INFO:__main__:Processing GLOBALVECT.NS... 1345 symbols left.\n"
     ]
    },
    {
     "name": "stdout",
     "output_type": "stream",
     "text": [
      "\n",
      "\n",
      "1 Failed download:\n",
      "- GLOBAL.NS: No data found for this date range, symbol may be delisted\n",
      "GLOBALVECT.NS\n",
      "\r",
      "[*********************100%***********************]  1 of 1 completed"
     ]
    },
    {
     "name": "stderr",
     "output_type": "stream",
     "text": [
      "INFO:__main__:Processed GLOBALVECT.NS in 0.03 seconds.\n"
     ]
    },
    {
     "name": "stdout",
     "output_type": "stream",
     "text": [
      "\n",
      "\n",
      "1 Failed download:\n",
      "- GLOBALVECT.NS: No data found for this date range, symbol may be delisted\n"
     ]
    },
    {
     "name": "stderr",
     "output_type": "stream",
     "text": [
      "INFO:__main__:Processing GLOBE.NS... 1344 symbols left.\n"
     ]
    },
    {
     "name": "stdout",
     "output_type": "stream",
     "text": [
      "GLOBE.NS\n",
      "\r",
      "[*********************100%***********************]  1 of 1 completed"
     ]
    },
    {
     "name": "stderr",
     "output_type": "stream",
     "text": [
      "INFO:__main__:Processed GLOBE.NS in 0.01 seconds.\n",
      "INFO:__main__:Processing GLOBUSSPR.NS... 1343 symbols left.\n"
     ]
    },
    {
     "name": "stdout",
     "output_type": "stream",
     "text": [
      "\n",
      "\n",
      "1 Failed download:\n",
      "- GLOBE.NS: No data found for this date range, symbol may be delisted\n",
      "GLOBUSSPR.NS\n",
      "\r",
      "[*********************100%***********************]  1 of 1 completed"
     ]
    },
    {
     "name": "stderr",
     "output_type": "stream",
     "text": [
      "INFO:__main__:Processed GLOBUSSPR.NS in 0.02 seconds.\n",
      "INFO:__main__:Processing GLS.NS... 1342 symbols left.\n"
     ]
    },
    {
     "name": "stdout",
     "output_type": "stream",
     "text": [
      "\n",
      "\n",
      "1 Failed download:\n",
      "- GLOBUSSPR.NS: No data found for this date range, symbol may be delisted\n",
      "GLS.NS\n",
      "\r",
      "[*********************100%***********************]  1 of 1 completed"
     ]
    },
    {
     "name": "stderr",
     "output_type": "stream",
     "text": [
      "INFO:__main__:Processed GLS.NS in 0.02 seconds.\n",
      "INFO:__main__:Processing GMBREW.NS... 1341 symbols left.\n"
     ]
    },
    {
     "name": "stdout",
     "output_type": "stream",
     "text": [
      "\n",
      "\n",
      "1 Failed download:\n",
      "- GLS.NS: No data found for this date range, symbol may be delisted\n",
      "GMBREW.NS\n",
      "\r",
      "[*********************100%***********************]  1 of 1 completed"
     ]
    },
    {
     "name": "stderr",
     "output_type": "stream",
     "text": [
      "INFO:__main__:Processed GMBREW.NS in 0.00 seconds.\n"
     ]
    },
    {
     "name": "stdout",
     "output_type": "stream",
     "text": [
      "\n",
      "\n",
      "1 Failed download:\n",
      "- GMBREW.NS: No data found for this date range, symbol may be delisted\n"
     ]
    },
    {
     "name": "stderr",
     "output_type": "stream",
     "text": [
      "INFO:__main__:Processing GMDCLTD.NS... 1340 symbols left.\n"
     ]
    },
    {
     "name": "stdout",
     "output_type": "stream",
     "text": [
      "GMDCLTD.NS\n",
      "\r",
      "[*********************100%***********************]  1 of 1 completed"
     ]
    },
    {
     "name": "stderr",
     "output_type": "stream",
     "text": [
      "INFO:__main__:Processed GMDCLTD.NS in 0.02 seconds.\n",
      "INFO:__main__:Processing GMMPFAUDLR.NS... 1339 symbols left.\n"
     ]
    },
    {
     "name": "stdout",
     "output_type": "stream",
     "text": [
      "\n",
      "\n",
      "1 Failed download:\n",
      "- GMDCLTD.NS: No data found for this date range, symbol may be delisted\n",
      "GMMPFAUDLR.NS\n",
      "\r",
      "[*********************100%***********************]  1 of 1 completed"
     ]
    },
    {
     "name": "stderr",
     "output_type": "stream",
     "text": [
      "INFO:__main__:Processed GMMPFAUDLR.NS in 0.01 seconds.\n",
      "INFO:__main__:Processing GMRINFRA.NS... 1338 symbols left.\n"
     ]
    },
    {
     "name": "stdout",
     "output_type": "stream",
     "text": [
      "\n",
      "\n",
      "1 Failed download:\n",
      "- GMMPFAUDLR.NS: No data found for this date range, symbol may be delisted\n",
      "GMRINFRA.NS\n",
      "\r",
      "[*********************100%***********************]  1 of 1 completed"
     ]
    },
    {
     "name": "stderr",
     "output_type": "stream",
     "text": [
      "INFO:__main__:Processed GMRINFRA.NS in 0.01 seconds.\n",
      "INFO:__main__:Processing GMRP&UI.NS... 1337 symbols left.\n"
     ]
    },
    {
     "name": "stdout",
     "output_type": "stream",
     "text": [
      "\n",
      "\n",
      "1 Failed download:\n",
      "- GMRINFRA.NS: No data found for this date range, symbol may be delisted\n",
      "GMRP&UI.NS\n",
      "\r",
      "[*********************100%***********************]  1 of 1 completed"
     ]
    },
    {
     "name": "stderr",
     "output_type": "stream",
     "text": [
      "INFO:__main__:Processed GMRP&UI.NS in 0.01 seconds.\n",
      "INFO:__main__:Processing GNA.NS... 1336 symbols left.\n"
     ]
    },
    {
     "name": "stdout",
     "output_type": "stream",
     "text": [
      "\n",
      "\n",
      "1 Failed download:\n",
      "- GMRP&UI.NS: No data found for this date range, symbol may be delisted\n",
      "GNA.NS\n",
      "\r",
      "[*********************100%***********************]  1 of 1 completed"
     ]
    },
    {
     "name": "stderr",
     "output_type": "stream",
     "text": [
      "INFO:__main__:Processed GNA.NS in 0.01 seconds.\n",
      "INFO:__main__:Processing GNFC.NS... 1335 symbols left.\n"
     ]
    },
    {
     "name": "stdout",
     "output_type": "stream",
     "text": [
      "\n",
      "\n",
      "1 Failed download:\n",
      "- GNA.NS: No data found for this date range, symbol may be delisted\n",
      "GNFC.NS\n",
      "\r",
      "[*********************100%***********************]  1 of 1 completed"
     ]
    },
    {
     "name": "stderr",
     "output_type": "stream",
     "text": [
      "INFO:__main__:Processed GNFC.NS in 0.01 seconds.\n",
      "INFO:__main__:Processing GOACARBON.NS... 1334 symbols left.\n"
     ]
    },
    {
     "name": "stdout",
     "output_type": "stream",
     "text": [
      "\n",
      "\n",
      "1 Failed download:\n",
      "- GNFC.NS: No data found for this date range, symbol may be delisted\n",
      "GOACARBON.NS\n",
      "\r",
      "[*********************100%***********************]  1 of 1 completed"
     ]
    },
    {
     "name": "stderr",
     "output_type": "stream",
     "text": [
      "INFO:__main__:Processed GOACARBON.NS in 0.01 seconds.\n",
      "INFO:__main__:Processing GOCLCORP.NS... 1333 symbols left.\n"
     ]
    },
    {
     "name": "stdout",
     "output_type": "stream",
     "text": [
      "\n",
      "\n",
      "1 Failed download:\n",
      "- GOACARBON.NS: No data found for this date range, symbol may be delisted\n",
      "GOCLCORP.NS\n",
      "\r",
      "[*********************100%***********************]  1 of 1 completed"
     ]
    },
    {
     "name": "stderr",
     "output_type": "stream",
     "text": [
      "INFO:__main__:Processed GOCLCORP.NS in 0.01 seconds.\n",
      "INFO:__main__:Processing GOCOLORS.NS... 1332 symbols left.\n"
     ]
    },
    {
     "name": "stdout",
     "output_type": "stream",
     "text": [
      "\n",
      "\n",
      "1 Failed download:\n",
      "- GOCLCORP.NS: No data found for this date range, symbol may be delisted\n",
      "GOCOLORS.NS\n",
      "\r",
      "[*********************100%***********************]  1 of 1 completed"
     ]
    },
    {
     "name": "stderr",
     "output_type": "stream",
     "text": [
      "INFO:__main__:Processed GOCOLORS.NS in 0.01 seconds.\n",
      "INFO:__main__:Processing GODFRYPHLP.NS... 1331 symbols left.\n"
     ]
    },
    {
     "name": "stdout",
     "output_type": "stream",
     "text": [
      "\n",
      "\n",
      "1 Failed download:\n",
      "- GOCOLORS.NS: No data found for this date range, symbol may be delisted\n",
      "GODFRYPHLP.NS\n",
      "\r",
      "[*********************100%***********************]  1 of 1 completed"
     ]
    },
    {
     "name": "stderr",
     "output_type": "stream",
     "text": [
      "INFO:__main__:Processed GODFRYPHLP.NS in 0.01 seconds.\n",
      "INFO:__main__:Processing GODHA.NS... 1330 symbols left.\n"
     ]
    },
    {
     "name": "stdout",
     "output_type": "stream",
     "text": [
      "\n",
      "\n",
      "1 Failed download:\n",
      "- GODFRYPHLP.NS: No data found for this date range, symbol may be delisted\n",
      "GODHA.NS\n",
      "\r",
      "[*********************100%***********************]  1 of 1 completed"
     ]
    },
    {
     "name": "stderr",
     "output_type": "stream",
     "text": [
      "INFO:__main__:Processed GODHA.NS in 0.03 seconds.\n",
      "INFO:__main__:Processing GODREJAGRO.NS... 1329 symbols left.\n"
     ]
    },
    {
     "name": "stdout",
     "output_type": "stream",
     "text": [
      "\n",
      "\n",
      "1 Failed download:\n",
      "- GODHA.NS: No data found for this date range, symbol may be delisted\n",
      "GODREJAGRO.NS\n",
      "\r",
      "[*********************100%***********************]  1 of 1 completed"
     ]
    },
    {
     "name": "stderr",
     "output_type": "stream",
     "text": [
      "INFO:__main__:Processed GODREJAGRO.NS in 0.02 seconds.\n"
     ]
    },
    {
     "name": "stdout",
     "output_type": "stream",
     "text": [
      "\n",
      "\n",
      "1 Failed download:\n",
      "- GODREJAGRO.NS: No data found for this date range, symbol may be delisted\n"
     ]
    },
    {
     "name": "stderr",
     "output_type": "stream",
     "text": [
      "INFO:__main__:Processing GODREJCP.NS... 1328 symbols left.\n"
     ]
    },
    {
     "name": "stdout",
     "output_type": "stream",
     "text": [
      "GODREJCP.NS\n",
      "\r",
      "[*********************100%***********************]  1 of 1 completed"
     ]
    },
    {
     "name": "stderr",
     "output_type": "stream",
     "text": [
      "INFO:__main__:Processed GODREJCP.NS in 0.01 seconds.\n",
      "INFO:__main__:Processing GODREJIND.NS... 1327 symbols left.\n"
     ]
    },
    {
     "name": "stdout",
     "output_type": "stream",
     "text": [
      "\n",
      "\n",
      "1 Failed download:\n",
      "- GODREJCP.NS: No data found for this date range, symbol may be delisted\n",
      "GODREJIND.NS\n",
      "\r",
      "[*********************100%***********************]  1 of 1 completed"
     ]
    },
    {
     "name": "stderr",
     "output_type": "stream",
     "text": [
      "INFO:__main__:Processed GODREJIND.NS in 0.01 seconds.\n",
      "INFO:__main__:Processing GODREJPROP.NS... 1326 symbols left.\n"
     ]
    },
    {
     "name": "stdout",
     "output_type": "stream",
     "text": [
      "\n",
      "\n",
      "1 Failed download:\n",
      "- GODREJIND.NS: No data found for this date range, symbol may be delisted\n",
      "GODREJPROP.NS\n",
      "[*********************100%***********************]  1 of 1 completed"
     ]
    },
    {
     "name": "stderr",
     "output_type": "stream",
     "text": [
      "INFO:__main__:Processed GODREJPROP.NS in 0.02 seconds.\n",
      "INFO:__main__:Processing GOKEX.NS... 1325 symbols left.\n"
     ]
    },
    {
     "name": "stdout",
     "output_type": "stream",
     "text": [
      "\n",
      "\n",
      "1 Failed download:\n",
      "- GODREJPROP.NS: No data found for this date range, symbol may be delisted\n",
      "GOKEX.NS\n",
      "\r",
      "[*********************100%***********************]  1 of 1 completed"
     ]
    },
    {
     "name": "stderr",
     "output_type": "stream",
     "text": [
      "INFO:__main__:Processed GOKEX.NS in 0.02 seconds.\n",
      "INFO:__main__:Processing GOKUL.NS... 1324 symbols left.\n"
     ]
    },
    {
     "name": "stdout",
     "output_type": "stream",
     "text": [
      "\n",
      "\n",
      "1 Failed download:\n",
      "- GOKEX.NS: No data found for this date range, symbol may be delisted\n",
      "GOKUL.NS\n",
      "\r",
      "[*********************100%***********************]  1 of 1 completed"
     ]
    },
    {
     "name": "stderr",
     "output_type": "stream",
     "text": [
      "INFO:__main__:Processed GOKUL.NS in 0.01 seconds.\n",
      "INFO:__main__:Processing GOKULAGRO.NS... 1323 symbols left.\n"
     ]
    },
    {
     "name": "stdout",
     "output_type": "stream",
     "text": [
      "\n",
      "\n",
      "1 Failed download:\n",
      "- GOKUL.NS: No data found for this date range, symbol may be delisted\n",
      "GOKULAGRO.NS\n",
      "\r",
      "[*********************100%***********************]  1 of 1 completed"
     ]
    },
    {
     "name": "stderr",
     "output_type": "stream",
     "text": [
      "INFO:__main__:Processed GOKULAGRO.NS in 0.01 seconds.\n",
      "INFO:__main__:Processing GOLDENTOBC.NS... 1322 symbols left.\n"
     ]
    },
    {
     "name": "stdout",
     "output_type": "stream",
     "text": [
      "\n",
      "\n",
      "1 Failed download:\n",
      "- GOKULAGRO.NS: No data found for this date range, symbol may be delisted\n",
      "GOLDENTOBC.NS\n",
      "\r",
      "[*********************100%***********************]  1 of 1 completed"
     ]
    },
    {
     "name": "stderr",
     "output_type": "stream",
     "text": [
      "INFO:__main__:Processed GOLDENTOBC.NS in 0.01 seconds.\n",
      "INFO:__main__:Processing GOLDIAM.NS... 1321 symbols left.\n"
     ]
    },
    {
     "name": "stdout",
     "output_type": "stream",
     "text": [
      "\n",
      "\n",
      "1 Failed download:\n",
      "- GOLDENTOBC.NS: No data found for this date range, symbol may be delisted\n",
      "GOLDIAM.NS\n",
      "\r",
      "[*********************100%***********************]  1 of 1 completed"
     ]
    },
    {
     "name": "stderr",
     "output_type": "stream",
     "text": [
      "INFO:__main__:Processed GOLDIAM.NS in 0.01 seconds.\n",
      "INFO:__main__:Processing GOLDTECH.NS... 1320 symbols left.\n"
     ]
    },
    {
     "name": "stdout",
     "output_type": "stream",
     "text": [
      "\n",
      "\n",
      "1 Failed download:\n",
      "- GOLDIAM.NS: No data found for this date range, symbol may be delisted\n",
      "GOLDTECH.NS\n",
      "\r",
      "[*********************100%***********************]  1 of 1 completed"
     ]
    },
    {
     "name": "stderr",
     "output_type": "stream",
     "text": [
      "INFO:__main__:Processed GOLDTECH.NS in 0.01 seconds.\n",
      "INFO:__main__:Processing GOODLUCK.NS... 1319 symbols left.\n"
     ]
    },
    {
     "name": "stdout",
     "output_type": "stream",
     "text": [
      "\n",
      "\n",
      "1 Failed download:\n",
      "- GOLDTECH.NS: No data found for this date range, symbol may be delisted\n",
      "GOODLUCK.NS\n",
      "\r",
      "[*********************100%***********************]  1 of 1 completed"
     ]
    },
    {
     "name": "stderr",
     "output_type": "stream",
     "text": [
      "INFO:__main__:Processed GOODLUCK.NS in 0.02 seconds.\n",
      "INFO:__main__:Processing GOYALALUM.NS... 1318 symbols left.\n"
     ]
    },
    {
     "name": "stdout",
     "output_type": "stream",
     "text": [
      "\n",
      "\n",
      "1 Failed download:\n",
      "- GOODLUCK.NS: No data found for this date range, symbol may be delisted\n",
      "GOYALALUM.NS\n",
      "\r",
      "[*********************100%***********************]  1 of 1 completed"
     ]
    },
    {
     "name": "stderr",
     "output_type": "stream",
     "text": [
      "INFO:__main__:Processed GOYALALUM.NS in 0.03 seconds.\n",
      "INFO:__main__:Processing GPIL.NS... 1317 symbols left.\n"
     ]
    },
    {
     "name": "stdout",
     "output_type": "stream",
     "text": [
      "\n",
      "\n",
      "1 Failed download:\n",
      "- GOYALALUM.NS: No data found for this date range, symbol may be delisted\n",
      "GPIL.NS\n",
      "\r",
      "[*********************100%***********************]  1 of 1 completed"
     ]
    },
    {
     "name": "stderr",
     "output_type": "stream",
     "text": [
      "INFO:__main__:Processed GPIL.NS in 0.02 seconds.\n",
      "INFO:__main__:Processing GPPL.NS... 1316 symbols left.\n"
     ]
    },
    {
     "name": "stdout",
     "output_type": "stream",
     "text": [
      "\n",
      "\n",
      "1 Failed download:\n",
      "- GPIL.NS: No data found for this date range, symbol may be delisted\n",
      "GPPL.NS\n",
      "\r",
      "[*********************100%***********************]  1 of 1 completed"
     ]
    },
    {
     "name": "stderr",
     "output_type": "stream",
     "text": [
      "INFO:__main__:Processed GPPL.NS in 0.01 seconds.\n",
      "INFO:__main__:Processing GPTINFRA.NS... 1315 symbols left.\n"
     ]
    },
    {
     "name": "stdout",
     "output_type": "stream",
     "text": [
      "\n",
      "\n",
      "1 Failed download:\n",
      "- GPPL.NS: No data found for this date range, symbol may be delisted\n",
      "GPTINFRA.NS\n",
      "\r",
      "[*********************100%***********************]  1 of 1 completed"
     ]
    },
    {
     "name": "stderr",
     "output_type": "stream",
     "text": [
      "INFO:__main__:Processed GPTINFRA.NS in 0.01 seconds.\n",
      "INFO:__main__:Processing GRANULES.NS... 1314 symbols left.\n"
     ]
    },
    {
     "name": "stdout",
     "output_type": "stream",
     "text": [
      "\n",
      "\n",
      "1 Failed download:\n",
      "- GPTINFRA.NS: No data found for this date range, symbol may be delisted\n",
      "GRANULES.NS\n",
      "\r",
      "[*********************100%***********************]  1 of 1 completed"
     ]
    },
    {
     "name": "stderr",
     "output_type": "stream",
     "text": [
      "INFO:__main__:Processed GRANULES.NS in 0.02 seconds.\n",
      "INFO:__main__:Processing GRAPHITE.NS... 1313 symbols left.\n"
     ]
    },
    {
     "name": "stdout",
     "output_type": "stream",
     "text": [
      "\n",
      "\n",
      "1 Failed download:\n",
      "- GRANULES.NS: No data found for this date range, symbol may be delisted\n",
      "GRAPHITE.NS\n",
      "\r",
      "[*********************100%***********************]  1 of 1 completed"
     ]
    },
    {
     "name": "stderr",
     "output_type": "stream",
     "text": [
      "INFO:__main__:Processed GRAPHITE.NS in 0.01 seconds.\n",
      "INFO:__main__:Processing GRASIM.NS... 1312 symbols left.\n"
     ]
    },
    {
     "name": "stdout",
     "output_type": "stream",
     "text": [
      "\n",
      "\n",
      "1 Failed download:\n",
      "- GRAPHITE.NS: No data found for this date range, symbol may be delisted\n",
      "GRASIM.NS\n",
      "\r",
      "[*********************100%***********************]  1 of 1 completed"
     ]
    },
    {
     "name": "stderr",
     "output_type": "stream",
     "text": [
      "INFO:__main__:Processed GRASIM.NS in 0.01 seconds.\n",
      "INFO:__main__:Processing GRAVITA.NS... 1311 symbols left.\n"
     ]
    },
    {
     "name": "stdout",
     "output_type": "stream",
     "text": [
      "\n",
      "\n",
      "1 Failed download:\n",
      "- GRASIM.NS: No data found for this date range, symbol may be delisted\n",
      "GRAVITA.NS\n",
      "\r",
      "[*********************100%***********************]  1 of 1 completed"
     ]
    },
    {
     "name": "stderr",
     "output_type": "stream",
     "text": [
      "INFO:__main__:Processed GRAVITA.NS in 0.01 seconds.\n",
      "INFO:__main__:Processing GREAVESCOT.NS... 1310 symbols left.\n"
     ]
    },
    {
     "name": "stdout",
     "output_type": "stream",
     "text": [
      "\n",
      "\n",
      "1 Failed download:\n",
      "- GRAVITA.NS: No data found for this date range, symbol may be delisted\n",
      "GREAVESCOT.NS\n",
      "\r",
      "[*********************100%***********************]  1 of 1 completed"
     ]
    },
    {
     "name": "stderr",
     "output_type": "stream",
     "text": [
      "INFO:__main__:Processed GREAVESCOT.NS in 0.01 seconds.\n",
      "INFO:__main__:Processing GREENLAM.NS... 1309 symbols left.\n"
     ]
    },
    {
     "name": "stdout",
     "output_type": "stream",
     "text": [
      "\n",
      "\n",
      "1 Failed download:\n",
      "- GREAVESCOT.NS: No data found for this date range, symbol may be delisted\n",
      "GREENLAM.NS\n",
      "\r",
      "[*********************100%***********************]  1 of 1 completed"
     ]
    },
    {
     "name": "stderr",
     "output_type": "stream",
     "text": [
      "INFO:__main__:Processed GREENLAM.NS in 0.01 seconds.\n",
      "INFO:__main__:Processing GREENPANEL.NS... 1308 symbols left.\n"
     ]
    },
    {
     "name": "stdout",
     "output_type": "stream",
     "text": [
      "\n",
      "\n",
      "1 Failed download:\n",
      "- GREENLAM.NS: No data found for this date range, symbol may be delisted\n",
      "GREENPANEL.NS\n",
      "\r",
      "[*********************100%***********************]  1 of 1 completed"
     ]
    },
    {
     "name": "stderr",
     "output_type": "stream",
     "text": [
      "INFO:__main__:Processed GREENPANEL.NS in 0.01 seconds.\n",
      "INFO:__main__:Processing GREENPLY.NS... 1307 symbols left.\n"
     ]
    },
    {
     "name": "stdout",
     "output_type": "stream",
     "text": [
      "\n",
      "\n",
      "1 Failed download:\n",
      "- GREENPANEL.NS: No data found for this date range, symbol may be delisted\n",
      "GREENPLY.NS\n",
      "\r",
      "[*********************100%***********************]  1 of 1 completed"
     ]
    },
    {
     "name": "stderr",
     "output_type": "stream",
     "text": [
      "INFO:__main__:Processed GREENPLY.NS in 0.02 seconds.\n",
      "INFO:__main__:Processing GREENPOWER.NS... 1306 symbols left.\n"
     ]
    },
    {
     "name": "stdout",
     "output_type": "stream",
     "text": [
      "\n",
      "\n",
      "1 Failed download:\n",
      "- GREENPLY.NS: No data found for this date range, symbol may be delisted\n",
      "GREENPOWER.NS\n",
      "\r",
      "[*********************100%***********************]  1 of 1 completed"
     ]
    },
    {
     "name": "stderr",
     "output_type": "stream",
     "text": [
      "INFO:__main__:Processed GREENPOWER.NS in 0.02 seconds.\n",
      "INFO:__main__:Processing GRINDWELL.NS... 1305 symbols left.\n"
     ]
    },
    {
     "name": "stdout",
     "output_type": "stream",
     "text": [
      "\n",
      "\n",
      "1 Failed download:\n",
      "- GREENPOWER.NS: No data found for this date range, symbol may be delisted\n",
      "GRINDWELL.NS\n",
      "\r",
      "[*********************100%***********************]  1 of 1 completed"
     ]
    },
    {
     "name": "stderr",
     "output_type": "stream",
     "text": [
      "INFO:__main__:Processed GRINDWELL.NS in 0.01 seconds.\n",
      "INFO:__main__:Processing GRINFRA.NS... 1304 symbols left.\n"
     ]
    },
    {
     "name": "stdout",
     "output_type": "stream",
     "text": [
      "\n",
      "\n",
      "1 Failed download:\n",
      "- GRINDWELL.NS: No data found for this date range, symbol may be delisted\n",
      "GRINFRA.NS\n",
      "\r",
      "[*********************100%***********************]  1 of 1 completed"
     ]
    },
    {
     "name": "stderr",
     "output_type": "stream",
     "text": [
      "INFO:__main__:Processed GRINFRA.NS in 0.01 seconds.\n",
      "INFO:__main__:Processing GRMOVER.NS... 1303 symbols left.\n"
     ]
    },
    {
     "name": "stdout",
     "output_type": "stream",
     "text": [
      "\n",
      "\n",
      "1 Failed download:\n",
      "- GRINFRA.NS: No data found for this date range, symbol may be delisted\n",
      "GRMOVER.NS\n",
      "\r",
      "[*********************100%***********************]  1 of 1 completed"
     ]
    },
    {
     "name": "stderr",
     "output_type": "stream",
     "text": [
      "INFO:__main__:Processed GRMOVER.NS in 0.01 seconds.\n",
      "INFO:__main__:Processing GROBTEA.NS... 1302 symbols left.\n"
     ]
    },
    {
     "name": "stdout",
     "output_type": "stream",
     "text": [
      "\n",
      "\n",
      "1 Failed download:\n",
      "- GRMOVER.NS: No data found for this date range, symbol may be delisted\n",
      "GROBTEA.NS\n",
      "\r",
      "[*********************100%***********************]  1 of 1 completed"
     ]
    },
    {
     "name": "stderr",
     "output_type": "stream",
     "text": [
      "INFO:__main__:Processed GROBTEA.NS in 0.01 seconds.\n",
      "INFO:__main__:Processing GRPLTD.NS... 1301 symbols left.\n"
     ]
    },
    {
     "name": "stdout",
     "output_type": "stream",
     "text": [
      "\n",
      "\n",
      "1 Failed download:\n",
      "- GROBTEA.NS: No data found for this date range, symbol may be delisted\n",
      "GRPLTD.NS\n",
      "\r",
      "[*********************100%***********************]  1 of 1 completed"
     ]
    },
    {
     "name": "stderr",
     "output_type": "stream",
     "text": [
      "INFO:__main__:Processed GRPLTD.NS in 0.01 seconds.\n",
      "INFO:__main__:Processing GRSE.NS... 1300 symbols left.\n"
     ]
    },
    {
     "name": "stdout",
     "output_type": "stream",
     "text": [
      "\n",
      "\n",
      "1 Failed download:\n",
      "- GRPLTD.NS: No data found for this date range, symbol may be delisted\n",
      "GRSE.NS\n",
      "\r",
      "[*********************100%***********************]  1 of 1 completed"
     ]
    },
    {
     "name": "stderr",
     "output_type": "stream",
     "text": [
      "INFO:__main__:Processed GRSE.NS in 0.01 seconds.\n",
      "INFO:__main__:Processing GRWRHITECH.NS... 1299 symbols left.\n"
     ]
    },
    {
     "name": "stdout",
     "output_type": "stream",
     "text": [
      "\n",
      "\n",
      "1 Failed download:\n",
      "- GRSE.NS: No data found for this date range, symbol may be delisted\n",
      "GRWRHITECH.NS\n",
      "\r",
      "[*********************100%***********************]  1 of 1 completed"
     ]
    },
    {
     "name": "stderr",
     "output_type": "stream",
     "text": [
      "INFO:__main__:Processed GRWRHITECH.NS in 0.01 seconds.\n",
      "INFO:__main__:Processing GSFC.NS... 1298 symbols left.\n"
     ]
    },
    {
     "name": "stdout",
     "output_type": "stream",
     "text": [
      "\n",
      "\n",
      "1 Failed download:\n",
      "- GRWRHITECH.NS: No data found for this date range, symbol may be delisted\n",
      "GSFC.NS\n",
      "\r",
      "[*********************100%***********************]  1 of 1 completed"
     ]
    },
    {
     "name": "stderr",
     "output_type": "stream",
     "text": [
      "INFO:__main__:Processed GSFC.NS in 0.01 seconds.\n",
      "INFO:__main__:Processing GSLSU.NS... 1297 symbols left.\n"
     ]
    },
    {
     "name": "stdout",
     "output_type": "stream",
     "text": [
      "\n",
      "\n",
      "1 Failed download:\n",
      "- GSFC.NS: No data found for this date range, symbol may be delisted\n",
      "GSLSU.NS\n",
      "\r",
      "[*********************100%***********************]  1 of 1 completed"
     ]
    },
    {
     "name": "stderr",
     "output_type": "stream",
     "text": [
      "INFO:__main__:Processed GSLSU.NS in 0.01 seconds.\n",
      "INFO:__main__:Processing GSPL.NS... 1296 symbols left.\n"
     ]
    },
    {
     "name": "stdout",
     "output_type": "stream",
     "text": [
      "\n",
      "\n",
      "1 Failed download:\n",
      "- GSLSU.NS: No data found for this date range, symbol may be delisted\n",
      "GSPL.NS\n",
      "\r",
      "[*********************100%***********************]  1 of 1 completed"
     ]
    },
    {
     "name": "stderr",
     "output_type": "stream",
     "text": [
      "INFO:__main__:Processed GSPL.NS in 0.01 seconds.\n",
      "INFO:__main__:Processing GSS.NS... 1295 symbols left.\n"
     ]
    },
    {
     "name": "stdout",
     "output_type": "stream",
     "text": [
      "\n",
      "\n",
      "1 Failed download:\n",
      "- GSPL.NS: No data found for this date range, symbol may be delisted\n",
      "GSS.NS\n",
      "\r",
      "[*********************100%***********************]  1 of 1 completed"
     ]
    },
    {
     "name": "stderr",
     "output_type": "stream",
     "text": [
      "INFO:__main__:Processed GSS.NS in 0.01 seconds.\n",
      "INFO:__main__:Processing GTECJAINX.NS... 1294 symbols left.\n"
     ]
    },
    {
     "name": "stdout",
     "output_type": "stream",
     "text": [
      "\n",
      "\n",
      "1 Failed download:\n",
      "- GSS.NS: No data found for this date range, symbol may be delisted\n",
      "GTECJAINX.NS\n",
      "\r",
      "[*********************100%***********************]  1 of 1 completed"
     ]
    },
    {
     "name": "stderr",
     "output_type": "stream",
     "text": [
      "INFO:__main__:Processed GTECJAINX.NS in 0.01 seconds.\n",
      "INFO:__main__:Processing GTL.NS... 1293 symbols left.\n"
     ]
    },
    {
     "name": "stdout",
     "output_type": "stream",
     "text": [
      "\n",
      "\n",
      "1 Failed download:\n",
      "- GTECJAINX.NS: No data found for this date range, symbol may be delisted\n",
      "GTL.NS\n",
      "\r",
      "[*********************100%***********************]  1 of 1 completed"
     ]
    },
    {
     "name": "stderr",
     "output_type": "stream",
     "text": [
      "INFO:__main__:Processed GTL.NS in 0.02 seconds.\n",
      "INFO:__main__:Processing GTLINFRA.NS... 1292 symbols left.\n"
     ]
    },
    {
     "name": "stdout",
     "output_type": "stream",
     "text": [
      "\n",
      "\n",
      "1 Failed download:\n",
      "- GTL.NS: No data found for this date range, symbol may be delisted\n",
      "GTLINFRA.NS\n",
      "\r",
      "[*********************100%***********************]  1 of 1 completed"
     ]
    },
    {
     "name": "stderr",
     "output_type": "stream",
     "text": [
      "INFO:__main__:Processed GTLINFRA.NS in 0.02 seconds.\n",
      "INFO:__main__:Processing GTPL.NS... 1291 symbols left.\n"
     ]
    },
    {
     "name": "stdout",
     "output_type": "stream",
     "text": [
      "\n",
      "\n",
      "1 Failed download:\n",
      "- GTLINFRA.NS: No data found for this date range, symbol may be delisted\n",
      "GTPL.NS\n",
      "\r",
      "[*********************100%***********************]  1 of 1 completed"
     ]
    },
    {
     "name": "stderr",
     "output_type": "stream",
     "text": [
      "INFO:__main__:Processed GTPL.NS in 0.01 seconds.\n",
      "INFO:__main__:Processing GUFICBIO.NS... 1290 symbols left.\n"
     ]
    },
    {
     "name": "stdout",
     "output_type": "stream",
     "text": [
      "\n",
      "\n",
      "1 Failed download:\n",
      "- GTPL.NS: No data found for this date range, symbol may be delisted\n",
      "GUFICBIO.NS\n",
      "\r",
      "[*********************100%***********************]  1 of 1 completed"
     ]
    },
    {
     "name": "stderr",
     "output_type": "stream",
     "text": [
      "INFO:__main__:Processed GUFICBIO.NS in 0.01 seconds.\n",
      "INFO:__main__:Processing GUJALKALI.NS... 1289 symbols left.\n"
     ]
    },
    {
     "name": "stdout",
     "output_type": "stream",
     "text": [
      "\n",
      "\n",
      "1 Failed download:\n",
      "- GUFICBIO.NS: No data found for this date range, symbol may be delisted\n",
      "GUJALKALI.NS\n",
      "\r",
      "[*********************100%***********************]  1 of 1 completed"
     ]
    },
    {
     "name": "stderr",
     "output_type": "stream",
     "text": [
      "INFO:__main__:Processed GUJALKALI.NS in 0.01 seconds.\n",
      "INFO:__main__:Processing GUJAPOLLO.NS... 1288 symbols left.\n"
     ]
    },
    {
     "name": "stdout",
     "output_type": "stream",
     "text": [
      "\n",
      "\n",
      "1 Failed download:\n",
      "- GUJALKALI.NS: No data found for this date range, symbol may be delisted\n",
      "GUJAPOLLO.NS\n",
      "\r",
      "[*********************100%***********************]  1 of 1 completed"
     ]
    },
    {
     "name": "stderr",
     "output_type": "stream",
     "text": [
      "INFO:__main__:Processed GUJAPOLLO.NS in 0.01 seconds.\n",
      "INFO:__main__:Processing GUJGASLTD.NS... 1287 symbols left.\n"
     ]
    },
    {
     "name": "stdout",
     "output_type": "stream",
     "text": [
      "\n",
      "\n",
      "1 Failed download:\n",
      "- GUJAPOLLO.NS: No data found for this date range, symbol may be delisted\n",
      "GUJGASLTD.NS\n",
      "\r",
      "[*********************100%***********************]  1 of 1 completed"
     ]
    },
    {
     "name": "stderr",
     "output_type": "stream",
     "text": [
      "INFO:__main__:Processed GUJGASLTD.NS in 0.02 seconds.\n",
      "INFO:__main__:Processing GUJRAFFIA.NS... 1286 symbols left.\n"
     ]
    },
    {
     "name": "stdout",
     "output_type": "stream",
     "text": [
      "\n",
      "\n",
      "1 Failed download:\n",
      "- GUJGASLTD.NS: No data found for this date range, symbol may be delisted\n",
      "GUJRAFFIA.NS\n",
      "[*********************100%***********************]  1 of 1 completed\n",
      "\n",
      "1 Failed download:\n",
      "- GUJRAFFIA.NS: No data found for this date range, symbol may be delisted\n"
     ]
    },
    {
     "name": "stderr",
     "output_type": "stream",
     "text": [
      "INFO:__main__:Processed GUJRAFFIA.NS in 0.02 seconds.\n",
      "INFO:__main__:Processing GULFOILLUB.NS... 1285 symbols left.\n"
     ]
    },
    {
     "name": "stdout",
     "output_type": "stream",
     "text": [
      "GULFOILLUB.NS\n",
      "\r",
      "[*********************100%***********************]  1 of 1 completed"
     ]
    },
    {
     "name": "stderr",
     "output_type": "stream",
     "text": [
      "INFO:__main__:Processed GULFOILLUB.NS in 0.02 seconds.\n",
      "INFO:__main__:Processing GULFPETRO.NS... 1284 symbols left.\n"
     ]
    },
    {
     "name": "stdout",
     "output_type": "stream",
     "text": [
      "\n",
      "\n",
      "1 Failed download:\n",
      "- GULFOILLUB.NS: No data found for this date range, symbol may be delisted\n",
      "GULFPETRO.NS\n",
      "\r",
      "[*********************100%***********************]  1 of 1 completed"
     ]
    },
    {
     "name": "stderr",
     "output_type": "stream",
     "text": [
      "INFO:__main__:Processed GULFPETRO.NS in 0.01 seconds.\n",
      "INFO:__main__:Processing GULPOLY.NS... 1283 symbols left.\n"
     ]
    },
    {
     "name": "stdout",
     "output_type": "stream",
     "text": [
      "\n",
      "\n",
      "1 Failed download:\n",
      "- GULFPETRO.NS: No data found for this date range, symbol may be delisted\n",
      "GULPOLY.NS\n",
      "\r",
      "[*********************100%***********************]  1 of 1 completed"
     ]
    },
    {
     "name": "stderr",
     "output_type": "stream",
     "text": [
      "INFO:__main__:Processed GULPOLY.NS in 0.01 seconds.\n",
      "INFO:__main__:Processing GVKPIL.NS... 1282 symbols left.\n"
     ]
    },
    {
     "name": "stdout",
     "output_type": "stream",
     "text": [
      "\n",
      "\n",
      "1 Failed download:\n",
      "- GULPOLY.NS: No data found for this date range, symbol may be delisted\n",
      "GVKPIL.NS\n",
      "\r",
      "[*********************100%***********************]  1 of 1 completed"
     ]
    },
    {
     "name": "stderr",
     "output_type": "stream",
     "text": [
      "INFO:__main__:Processed GVKPIL.NS in 0.01 seconds.\n",
      "INFO:__main__:Processing GVPTECH.NS... 1281 symbols left.\n"
     ]
    },
    {
     "name": "stdout",
     "output_type": "stream",
     "text": [
      "\n",
      "\n",
      "1 Failed download:\n",
      "- GVKPIL.NS: No data found for this date range, symbol may be delisted\n",
      "GVPTECH.NS\n",
      "\r",
      "[*********************100%***********************]  1 of 1 completed"
     ]
    },
    {
     "name": "stderr",
     "output_type": "stream",
     "text": [
      "INFO:__main__:Processed GVPTECH.NS in 0.02 seconds.\n",
      "INFO:__main__:Processing HAL.NS... 1280 symbols left.\n"
     ]
    },
    {
     "name": "stdout",
     "output_type": "stream",
     "text": [
      "\n",
      "\n",
      "1 Failed download:\n",
      "- GVPTECH.NS: No data found for this date range, symbol may be delisted\n",
      "HAL.NS\n",
      "\r",
      "[*********************100%***********************]  1 of 1 completed"
     ]
    },
    {
     "name": "stderr",
     "output_type": "stream",
     "text": [
      "INFO:__main__:Processed HAL.NS in 0.01 seconds.\n",
      "INFO:__main__:Processing HAPPSTMNDS.NS... 1279 symbols left.\n"
     ]
    },
    {
     "name": "stdout",
     "output_type": "stream",
     "text": [
      "\n",
      "\n",
      "1 Failed download:\n",
      "- HAL.NS: No data found for this date range, symbol may be delisted\n",
      "HAPPSTMNDS.NS\n",
      "\r",
      "[*********************100%***********************]  1 of 1 completed"
     ]
    },
    {
     "name": "stderr",
     "output_type": "stream",
     "text": [
      "INFO:__main__:Processed HAPPSTMNDS.NS in 0.01 seconds.\n",
      "INFO:__main__:Processing HARDWYN.NS... 1278 symbols left.\n"
     ]
    },
    {
     "name": "stdout",
     "output_type": "stream",
     "text": [
      "\n",
      "\n",
      "1 Failed download:\n",
      "- HAPPSTMNDS.NS: No data found for this date range, symbol may be delisted\n",
      "HARDWYN.NS\n",
      "\r",
      "[*********************100%***********************]  1 of 1 completed"
     ]
    },
    {
     "name": "stderr",
     "output_type": "stream",
     "text": [
      "INFO:__main__:Processed HARDWYN.NS in 0.01 seconds.\n",
      "INFO:__main__:Processing HARIOMPIPE.NS... 1277 symbols left.\n"
     ]
    },
    {
     "name": "stdout",
     "output_type": "stream",
     "text": [
      "\n",
      "\n",
      "1 Failed download:\n",
      "- HARDWYN.NS: No data found for this date range, symbol may be delisted\n",
      "HARIOMPIPE.NS\n",
      "\r",
      "[*********************100%***********************]  1 of 1 completed"
     ]
    },
    {
     "name": "stderr",
     "output_type": "stream",
     "text": [
      "INFO:__main__:Processed HARIOMPIPE.NS in 0.01 seconds.\n",
      "INFO:__main__:Processing HARRMALAYA.NS... 1276 symbols left.\n"
     ]
    },
    {
     "name": "stdout",
     "output_type": "stream",
     "text": [
      "\n",
      "\n",
      "1 Failed download:\n",
      "- HARIOMPIPE.NS: No data found for this date range, symbol may be delisted\n",
      "HARRMALAYA.NS\n",
      "\r",
      "[*********************100%***********************]  1 of 1 completed"
     ]
    },
    {
     "name": "stderr",
     "output_type": "stream",
     "text": [
      "INFO:__main__:Processed HARRMALAYA.NS in 0.03 seconds.\n",
      "INFO:__main__:Processing HARSHA.NS... 1275 symbols left.\n"
     ]
    },
    {
     "name": "stdout",
     "output_type": "stream",
     "text": [
      "\n",
      "\n",
      "1 Failed download:\n",
      "- HARRMALAYA.NS: No data found for this date range, symbol may be delisted\n",
      "HARSHA.NS\n",
      "[*********************100%***********************]  1 of 1 completed\n",
      "\n",
      "1 Failed download:\n",
      "- HARSHA.NS: No data found for this date range, symbol may be delisted\n"
     ]
    },
    {
     "name": "stderr",
     "output_type": "stream",
     "text": [
      "INFO:__main__:Processed HARSHA.NS in 0.01 seconds.\n",
      "INFO:__main__:Processing HATHWAY.NS... 1274 symbols left.\n"
     ]
    },
    {
     "name": "stdout",
     "output_type": "stream",
     "text": [
      "HATHWAY.NS\n",
      "[*********************100%***********************]  1 of 1 completed\n",
      "\n",
      "1 Failed download:\n",
      "- HATHWAY.NS: No data found for this date range, symbol may be delisted\n"
     ]
    },
    {
     "name": "stderr",
     "output_type": "stream",
     "text": [
      "INFO:__main__:Processed HATHWAY.NS in 0.03 seconds.\n",
      "INFO:__main__:Processing HATSUN.NS... 1273 symbols left.\n"
     ]
    },
    {
     "name": "stdout",
     "output_type": "stream",
     "text": [
      "HATSUN.NS\n",
      "\r",
      "[*********************100%***********************]  1 of 1 completed"
     ]
    },
    {
     "name": "stderr",
     "output_type": "stream",
     "text": [
      "INFO:__main__:Processed HATSUN.NS in 0.01 seconds.\n"
     ]
    },
    {
     "name": "stdout",
     "output_type": "stream",
     "text": [
      "\n",
      "\n",
      "1 Failed download:\n",
      "- HATSUN.NS: No data found for this date range, symbol may be delisted\n"
     ]
    },
    {
     "name": "stderr",
     "output_type": "stream",
     "text": [
      "INFO:__main__:Processing HAVELLS.NS... 1272 symbols left.\n"
     ]
    },
    {
     "name": "stdout",
     "output_type": "stream",
     "text": [
      "HAVELLS.NS\n",
      "[*********************100%***********************]  1 of 1 completed\n",
      "\n",
      "1 Failed download:\n",
      "- HAVELLS.NS: No data found for this date range, symbol may be delisted\n"
     ]
    },
    {
     "name": "stderr",
     "output_type": "stream",
     "text": [
      "INFO:__main__:Processed HAVELLS.NS in 0.02 seconds.\n",
      "INFO:__main__:Processing HAVISHA.NS... 1271 symbols left.\n"
     ]
    },
    {
     "name": "stdout",
     "output_type": "stream",
     "text": [
      "HAVISHA.NS\n",
      "\r",
      "[*********************100%***********************]  1 of 1 completed"
     ]
    },
    {
     "name": "stderr",
     "output_type": "stream",
     "text": [
      "INFO:__main__:Processed HAVISHA.NS in 0.01 seconds.\n",
      "INFO:__main__:Processing HBLPOWER.NS... 1270 symbols left.\n"
     ]
    },
    {
     "name": "stdout",
     "output_type": "stream",
     "text": [
      "\n",
      "\n",
      "1 Failed download:\n",
      "- HAVISHA.NS: No data found for this date range, symbol may be delisted\n",
      "HBLPOWER.NS\n",
      "\r",
      "[*********************100%***********************]  1 of 1 completed"
     ]
    },
    {
     "name": "stderr",
     "output_type": "stream",
     "text": [
      "INFO:__main__:Processed HBLPOWER.NS in 0.01 seconds.\n",
      "INFO:__main__:Processing HBSL.NS... 1269 symbols left.\n"
     ]
    },
    {
     "name": "stdout",
     "output_type": "stream",
     "text": [
      "\n",
      "\n",
      "1 Failed download:\n",
      "- HBLPOWER.NS: No data found for this date range, symbol may be delisted\n",
      "HBSL.NS\n",
      "\r",
      "[*********************100%***********************]  1 of 1 completed"
     ]
    },
    {
     "name": "stderr",
     "output_type": "stream",
     "text": [
      "INFO:__main__:Processed HBSL.NS in 0.02 seconds.\n",
      "INFO:__main__:Processing HCC.NS... 1268 symbols left.\n"
     ]
    },
    {
     "name": "stdout",
     "output_type": "stream",
     "text": [
      "\n",
      "\n",
      "1 Failed download:\n",
      "- HBSL.NS: No data found for this date range, symbol may be delisted\n",
      "HCC.NS\n",
      "\r",
      "[*********************100%***********************]  1 of 1 completed"
     ]
    },
    {
     "name": "stderr",
     "output_type": "stream",
     "text": [
      "INFO:__main__:Processed HCC.NS in 0.01 seconds.\n",
      "INFO:__main__:Processing HCG.NS... 1267 symbols left.\n"
     ]
    },
    {
     "name": "stdout",
     "output_type": "stream",
     "text": [
      "\n",
      "\n",
      "1 Failed download:\n",
      "- HCC.NS: No data found for this date range, symbol may be delisted\n",
      "HCG.NS\n",
      "\r",
      "[*********************100%***********************]  1 of 1 completed"
     ]
    },
    {
     "name": "stderr",
     "output_type": "stream",
     "text": [
      "INFO:__main__:Processed HCG.NS in 0.01 seconds.\n",
      "INFO:__main__:Processing HCL-INSYS.NS... 1266 symbols left.\n"
     ]
    },
    {
     "name": "stdout",
     "output_type": "stream",
     "text": [
      "\n",
      "\n",
      "1 Failed download:\n",
      "- HCG.NS: No data found for this date range, symbol may be delisted\n",
      "HCL-INSYS.NS\n",
      "\r",
      "[*********************100%***********************]  1 of 1 completed"
     ]
    },
    {
     "name": "stderr",
     "output_type": "stream",
     "text": [
      "INFO:__main__:Processed HCL-INSYS.NS in 0.01 seconds.\n",
      "INFO:__main__:Processing HCLTECH.NS... 1265 symbols left.\n"
     ]
    },
    {
     "name": "stdout",
     "output_type": "stream",
     "text": [
      "\n",
      "\n",
      "1 Failed download:\n",
      "- HCL-INSYS.NS: No data found for this date range, symbol may be delisted\n",
      "HCLTECH.NS\n",
      "\r",
      "[*********************100%***********************]  1 of 1 completed"
     ]
    },
    {
     "name": "stderr",
     "output_type": "stream",
     "text": [
      "INFO:__main__:Processed HCLTECH.NS in 0.01 seconds.\n",
      "INFO:__main__:Processing HDFCAMC.NS... 1264 symbols left.\n"
     ]
    },
    {
     "name": "stdout",
     "output_type": "stream",
     "text": [
      "\n",
      "\n",
      "1 Failed download:\n",
      "- HCLTECH.NS: No data found for this date range, symbol may be delisted\n",
      "HDFCAMC.NS\n",
      "[*********************100%***********************]  1 of 1 completed\n",
      "\n",
      "1 Failed download:\n",
      "- HDFCAMC.NS: No data found for this date range, symbol may be delisted\n"
     ]
    },
    {
     "name": "stderr",
     "output_type": "stream",
     "text": [
      "INFO:__main__:Processed HDFCAMC.NS in 0.02 seconds.\n",
      "INFO:__main__:Processing HDFCBANK.NS... 1263 symbols left.\n"
     ]
    },
    {
     "name": "stdout",
     "output_type": "stream",
     "text": [
      "HDFCBANK.NS\n",
      "\r",
      "[*********************100%***********************]  1 of 1 completed"
     ]
    },
    {
     "name": "stderr",
     "output_type": "stream",
     "text": [
      "INFO:__main__:Processed HDFCBANK.NS in 0.03 seconds.\n"
     ]
    },
    {
     "name": "stdout",
     "output_type": "stream",
     "text": [
      "\n",
      "\n",
      "1 Failed download:\n",
      "- HDFCBANK.NS: No data found for this date range, symbol may be delisted\n"
     ]
    },
    {
     "name": "stderr",
     "output_type": "stream",
     "text": [
      "INFO:__main__:Processing HDFCLIFE.NS... 1262 symbols left.\n"
     ]
    },
    {
     "name": "stdout",
     "output_type": "stream",
     "text": [
      "HDFCLIFE.NS\n",
      "\r",
      "[*********************100%***********************]  1 of 1 completed"
     ]
    },
    {
     "name": "stderr",
     "output_type": "stream",
     "text": [
      "INFO:__main__:Processed HDFCLIFE.NS in 0.02 seconds.\n",
      "INFO:__main__:Processing HDIL.NS... 1261 symbols left.\n"
     ]
    },
    {
     "name": "stdout",
     "output_type": "stream",
     "text": [
      "\n",
      "\n",
      "1 Failed download:\n",
      "- HDFCLIFE.NS: No data found for this date range, symbol may be delisted\n",
      "HDIL.NS\n",
      "\r",
      "[*********************100%***********************]  1 of 1 completed"
     ]
    },
    {
     "name": "stderr",
     "output_type": "stream",
     "text": [
      "INFO:__main__:Processed HDIL.NS in 0.01 seconds.\n",
      "INFO:__main__:Processing HEADSUP.NS... 1260 symbols left.\n"
     ]
    },
    {
     "name": "stdout",
     "output_type": "stream",
     "text": [
      "\n",
      "\n",
      "1 Failed download:\n",
      "- HDIL.NS: No data found for this date range, symbol may be delisted\n",
      "HEADSUP.NS\n",
      "\r",
      "[*********************100%***********************]  1 of 1 completed"
     ]
    },
    {
     "name": "stderr",
     "output_type": "stream",
     "text": [
      "INFO:__main__:Processed HEADSUP.NS in 0.01 seconds.\n",
      "INFO:__main__:Processing HECPROJECT.NS... 1259 symbols left.\n"
     ]
    },
    {
     "name": "stdout",
     "output_type": "stream",
     "text": [
      "\n",
      "\n",
      "1 Failed download:\n",
      "- HEADSUP.NS: No data found for this date range, symbol may be delisted\n",
      "HECPROJECT.NS\n",
      "\r",
      "[*********************100%***********************]  1 of 1 completed"
     ]
    },
    {
     "name": "stderr",
     "output_type": "stream",
     "text": [
      "INFO:__main__:Processed HECPROJECT.NS in 0.01 seconds.\n",
      "INFO:__main__:Processing HEG.NS... 1258 symbols left.\n"
     ]
    },
    {
     "name": "stdout",
     "output_type": "stream",
     "text": [
      "\n",
      "\n",
      "1 Failed download:\n",
      "- HECPROJECT.NS: No data found for this date range, symbol may be delisted\n",
      "HEG.NS\n",
      "\r",
      "[*********************100%***********************]  1 of 1 completed"
     ]
    },
    {
     "name": "stderr",
     "output_type": "stream",
     "text": [
      "INFO:__main__:Processed HEG.NS in 0.03 seconds.\n",
      "INFO:__main__:Processing HEIDELBERG.NS... 1257 symbols left.\n"
     ]
    },
    {
     "name": "stdout",
     "output_type": "stream",
     "text": [
      "\n",
      "\n",
      "1 Failed download:\n",
      "- HEG.NS: No data found for this date range, symbol may be delisted\n",
      "HEIDELBERG.NS\n",
      "\r",
      "[*********************100%***********************]  1 of 1 completed"
     ]
    },
    {
     "name": "stderr",
     "output_type": "stream",
     "text": [
      "INFO:__main__:Processed HEIDELBERG.NS in 0.01 seconds.\n",
      "INFO:__main__:Processing HEMIPROP.NS... 1256 symbols left.\n"
     ]
    },
    {
     "name": "stdout",
     "output_type": "stream",
     "text": [
      "\n",
      "\n",
      "1 Failed download:\n",
      "- HEIDELBERG.NS: No data found for this date range, symbol may be delisted\n",
      "HEMIPROP.NS\n",
      "\r",
      "[*********************100%***********************]  1 of 1 completed"
     ]
    },
    {
     "name": "stderr",
     "output_type": "stream",
     "text": [
      "INFO:__main__:Processed HEMIPROP.NS in 0.01 seconds.\n",
      "INFO:__main__:Processing HERANBA.NS... 1255 symbols left.\n"
     ]
    },
    {
     "name": "stdout",
     "output_type": "stream",
     "text": [
      "\n",
      "\n",
      "1 Failed download:\n",
      "- HEMIPROP.NS: No data found for this date range, symbol may be delisted\n",
      "HERANBA.NS\n",
      "\r",
      "[*********************100%***********************]  1 of 1 completed"
     ]
    },
    {
     "name": "stderr",
     "output_type": "stream",
     "text": [
      "INFO:__main__:Processed HERANBA.NS in 0.01 seconds.\n",
      "INFO:__main__:Processing HERCULES.NS... 1254 symbols left.\n"
     ]
    },
    {
     "name": "stdout",
     "output_type": "stream",
     "text": [
      "\n",
      "\n",
      "1 Failed download:\n",
      "- HERANBA.NS: No data found for this date range, symbol may be delisted\n",
      "HERCULES.NS\n",
      "\r",
      "[*********************100%***********************]  1 of 1 completed"
     ]
    },
    {
     "name": "stderr",
     "output_type": "stream",
     "text": [
      "INFO:__main__:Processed HERCULES.NS in 0.02 seconds.\n",
      "INFO:__main__:Processing HERITGFOOD.NS... 1253 symbols left.\n"
     ]
    },
    {
     "name": "stdout",
     "output_type": "stream",
     "text": [
      "\n",
      "\n",
      "1 Failed download:\n",
      "- HERCULES.NS: No data found for this date range, symbol may be delisted\n",
      "HERITGFOOD.NS\n",
      "\r",
      "[*********************100%***********************]  1 of 1 completed"
     ]
    },
    {
     "name": "stderr",
     "output_type": "stream",
     "text": [
      "INFO:__main__:Processed HERITGFOOD.NS in 0.02 seconds.\n"
     ]
    },
    {
     "name": "stdout",
     "output_type": "stream",
     "text": [
      "\n",
      "\n",
      "1 Failed download:\n",
      "- HERITGFOOD.NS: No data found for this date range, symbol may be delisted\n"
     ]
    },
    {
     "name": "stderr",
     "output_type": "stream",
     "text": [
      "INFO:__main__:Processing HEROMOTOCO.NS... 1252 symbols left.\n"
     ]
    },
    {
     "name": "stdout",
     "output_type": "stream",
     "text": [
      "HEROMOTOCO.NS\n",
      "\r",
      "[*********************100%***********************]  1 of 1 completed"
     ]
    },
    {
     "name": "stderr",
     "output_type": "stream",
     "text": [
      "INFO:__main__:Processed HEROMOTOCO.NS in 0.03 seconds.\n"
     ]
    },
    {
     "name": "stdout",
     "output_type": "stream",
     "text": [
      "\n",
      "\n",
      "1 Failed download:\n",
      "- HEROMOTOCO.NS: No data found for this date range, symbol may be delisted\n"
     ]
    },
    {
     "name": "stderr",
     "output_type": "stream",
     "text": [
      "INFO:__main__:Processing HESTERBIO.NS... 1251 symbols left.\n"
     ]
    },
    {
     "name": "stdout",
     "output_type": "stream",
     "text": [
      "HESTERBIO.NS\n",
      "\r",
      "[*********************100%***********************]  1 of 1 completed"
     ]
    },
    {
     "name": "stderr",
     "output_type": "stream",
     "text": [
      "INFO:__main__:Processed HESTERBIO.NS in 0.02 seconds.\n"
     ]
    },
    {
     "name": "stdout",
     "output_type": "stream",
     "text": [
      "\n",
      "\n",
      "1 Failed download:\n",
      "- HESTERBIO.NS: No data found for this date range, symbol may be delisted\n"
     ]
    },
    {
     "name": "stderr",
     "output_type": "stream",
     "text": [
      "INFO:__main__:Processing HEUBACHIND.NS... 1250 symbols left.\n"
     ]
    },
    {
     "name": "stdout",
     "output_type": "stream",
     "text": [
      "HEUBACHIND.NS\n",
      "[*********************100%***********************]  1 of 1 completed\n",
      "\n",
      "1 Failed download:\n",
      "- HEUBACHIND.NS: No data found for this date range, symbol may be delisted\n"
     ]
    },
    {
     "name": "stderr",
     "output_type": "stream",
     "text": [
      "INFO:__main__:Processed HEUBACHIND.NS in 0.01 seconds.\n",
      "INFO:__main__:Processing HEXATRADEX.NS... 1249 symbols left.\n"
     ]
    },
    {
     "name": "stdout",
     "output_type": "stream",
     "text": [
      "HEXATRADEX.NS\n",
      "\r",
      "[*********************100%***********************]  1 of 1 completed"
     ]
    },
    {
     "name": "stderr",
     "output_type": "stream",
     "text": [
      "INFO:__main__:Processed HEXATRADEX.NS in 0.03 seconds.\n",
      "INFO:__main__:Processing HFCL.NS... 1248 symbols left.\n"
     ]
    },
    {
     "name": "stdout",
     "output_type": "stream",
     "text": [
      "\n",
      "\n",
      "1 Failed download:\n",
      "- HEXATRADEX.NS: No data found for this date range, symbol may be delisted\n",
      "HFCL.NS\n",
      "[*********************100%***********************]  1 of 1 completed\n",
      "\n",
      "1 Failed download:\n",
      "- HFCL.NS: No data found for this date range, symbol may be delisted\n"
     ]
    },
    {
     "name": "stderr",
     "output_type": "stream",
     "text": [
      "INFO:__main__:Processed HFCL.NS in 0.01 seconds.\n",
      "INFO:__main__:Processing HGINFRA.NS... 1247 symbols left.\n"
     ]
    },
    {
     "name": "stdout",
     "output_type": "stream",
     "text": [
      "HGINFRA.NS\n",
      "\r",
      "[*********************100%***********************]  1 of 1 completed"
     ]
    },
    {
     "name": "stderr",
     "output_type": "stream",
     "text": [
      "INFO:__main__:Processed HGINFRA.NS in 0.01 seconds.\n"
     ]
    },
    {
     "name": "stdout",
     "output_type": "stream",
     "text": [
      "\n",
      "\n",
      "1 Failed download:\n",
      "- HGINFRA.NS: No data found for this date range, symbol may be delisted\n"
     ]
    },
    {
     "name": "stderr",
     "output_type": "stream",
     "text": [
      "INFO:__main__:Processing HGS.NS... 1246 symbols left.\n"
     ]
    },
    {
     "name": "stdout",
     "output_type": "stream",
     "text": [
      "HGS.NS\n",
      "\r",
      "[*********************100%***********************]  1 of 1 completed"
     ]
    },
    {
     "name": "stderr",
     "output_type": "stream",
     "text": [
      "INFO:__main__:Processed HGS.NS in 0.03 seconds.\n",
      "INFO:__main__:Processing HIKAL.NS... 1245 symbols left.\n"
     ]
    },
    {
     "name": "stdout",
     "output_type": "stream",
     "text": [
      "\n",
      "\n",
      "1 Failed download:\n",
      "- HGS.NS: No data found for this date range, symbol may be delisted\n",
      "HIKAL.NS\n",
      "[*********************100%***********************]  1 of 1 completed\n",
      "\n",
      "1 Failed download:\n",
      "- HIKAL.NS: No data found for this date range, symbol may be delisted\n"
     ]
    },
    {
     "name": "stderr",
     "output_type": "stream",
     "text": [
      "INFO:__main__:Processed HIKAL.NS in 0.02 seconds.\n",
      "INFO:__main__:Processing HIL.NS... 1244 symbols left.\n"
     ]
    },
    {
     "name": "stdout",
     "output_type": "stream",
     "text": [
      "HIL.NS\n",
      "[*********************100%***********************]  1 of 1 completed\n",
      "\n",
      "1 Failed download:\n",
      "- HIL.NS: No data found for this date range, symbol may be delisted\n"
     ]
    },
    {
     "name": "stderr",
     "output_type": "stream",
     "text": [
      "INFO:__main__:Processed HIL.NS in 0.02 seconds.\n",
      "INFO:__main__:Processing HILTON.NS... 1243 symbols left.\n"
     ]
    },
    {
     "name": "stdout",
     "output_type": "stream",
     "text": [
      "HILTON.NS\n",
      "\r",
      "[*********************100%***********************]  1 of 1 completed"
     ]
    },
    {
     "name": "stderr",
     "output_type": "stream",
     "text": [
      "INFO:__main__:Processed HILTON.NS in 0.02 seconds.\n",
      "INFO:__main__:Processing HIMATSEIDE.NS... 1242 symbols left.\n"
     ]
    },
    {
     "name": "stdout",
     "output_type": "stream",
     "text": [
      "\n",
      "\n",
      "1 Failed download:\n",
      "- HILTON.NS: No data found for this date range, symbol may be delisted\n",
      "HIMATSEIDE.NS\n",
      "\r",
      "[*********************100%***********************]  1 of 1 completed"
     ]
    },
    {
     "name": "stderr",
     "output_type": "stream",
     "text": [
      "INFO:__main__:Processed HIMATSEIDE.NS in 0.02 seconds.\n",
      "INFO:__main__:Processing HINDALCO.NS... 1241 symbols left.\n"
     ]
    },
    {
     "name": "stdout",
     "output_type": "stream",
     "text": [
      "\n",
      "\n",
      "1 Failed download:\n",
      "- HIMATSEIDE.NS: No data found for this date range, symbol may be delisted\n",
      "HINDALCO.NS\n",
      "\r",
      "[*********************100%***********************]  1 of 1 completed"
     ]
    },
    {
     "name": "stderr",
     "output_type": "stream",
     "text": [
      "INFO:__main__:Processed HINDALCO.NS in 0.03 seconds.\n",
      "INFO:__main__:Processing HINDCOMPOS.NS... 1240 symbols left.\n"
     ]
    },
    {
     "name": "stdout",
     "output_type": "stream",
     "text": [
      "\n",
      "\n",
      "1 Failed download:\n",
      "- HINDALCO.NS: No data found for this date range, symbol may be delisted\n",
      "HINDCOMPOS.NS\n",
      "\r",
      "[*********************100%***********************]  1 of 1 completed"
     ]
    },
    {
     "name": "stderr",
     "output_type": "stream",
     "text": [
      "INFO:__main__:Processed HINDCOMPOS.NS in 0.03 seconds.\n",
      "INFO:__main__:Processing HINDCON.NS... 1239 symbols left.\n"
     ]
    },
    {
     "name": "stdout",
     "output_type": "stream",
     "text": [
      "\n",
      "\n",
      "1 Failed download:\n",
      "- HINDCOMPOS.NS: No data found for this date range, symbol may be delisted\n",
      "HINDCON.NS\n",
      "\r",
      "[*********************100%***********************]  1 of 1 completed"
     ]
    },
    {
     "name": "stderr",
     "output_type": "stream",
     "text": [
      "INFO:__main__:Processed HINDCON.NS in 0.02 seconds.\n",
      "INFO:__main__:Processing HINDCOPPER.NS... 1238 symbols left.\n"
     ]
    },
    {
     "name": "stdout",
     "output_type": "stream",
     "text": [
      "\n",
      "\n",
      "1 Failed download:\n",
      "- HINDCON.NS: No data found for this date range, symbol may be delisted\n",
      "HINDCOPPER.NS\n",
      "\r",
      "[*********************100%***********************]  1 of 1 completed"
     ]
    },
    {
     "name": "stderr",
     "output_type": "stream",
     "text": [
      "INFO:__main__:Processed HINDCOPPER.NS in 0.01 seconds.\n",
      "INFO:__main__:Processing HINDMOTORS.NS... 1237 symbols left.\n"
     ]
    },
    {
     "name": "stdout",
     "output_type": "stream",
     "text": [
      "\n",
      "\n",
      "1 Failed download:\n",
      "- HINDCOPPER.NS: No data found for this date range, symbol may be delisted\n",
      "HINDMOTORS.NS\n",
      "\r",
      "[*********************100%***********************]  1 of 1 completed"
     ]
    },
    {
     "name": "stderr",
     "output_type": "stream",
     "text": [
      "INFO:__main__:Processed HINDMOTORS.NS in 0.02 seconds.\n",
      "INFO:__main__:Processing HINDNATGLS.NS... 1236 symbols left.\n"
     ]
    },
    {
     "name": "stdout",
     "output_type": "stream",
     "text": [
      "\n",
      "\n",
      "1 Failed download:\n",
      "- HINDMOTORS.NS: No data found for this date range, symbol may be delisted\n",
      "HINDNATGLS.NS\n",
      "\r",
      "[*********************100%***********************]  1 of 1 completed"
     ]
    },
    {
     "name": "stderr",
     "output_type": "stream",
     "text": [
      "INFO:__main__:Processed HINDNATGLS.NS in 0.03 seconds.\n",
      "INFO:__main__:Processing HINDOILEXP.NS... 1235 symbols left.\n"
     ]
    },
    {
     "name": "stdout",
     "output_type": "stream",
     "text": [
      "\n",
      "\n",
      "1 Failed download:\n",
      "- HINDNATGLS.NS: No data found for this date range, symbol may be delisted\n",
      "HINDOILEXP.NS\n",
      "\r",
      "[*********************100%***********************]  1 of 1 completed"
     ]
    },
    {
     "name": "stderr",
     "output_type": "stream",
     "text": [
      "INFO:__main__:Processed HINDOILEXP.NS in 0.01 seconds.\n",
      "INFO:__main__:Processing HINDPETRO.NS... 1234 symbols left.\n"
     ]
    },
    {
     "name": "stdout",
     "output_type": "stream",
     "text": [
      "\n",
      "\n",
      "1 Failed download:\n",
      "- HINDOILEXP.NS: No data found for this date range, symbol may be delisted\n",
      "HINDPETRO.NS\n",
      "\r",
      "[*********************100%***********************]  1 of 1 completed"
     ]
    },
    {
     "name": "stderr",
     "output_type": "stream",
     "text": [
      "INFO:__main__:Processed HINDPETRO.NS in 0.01 seconds.\n",
      "INFO:__main__:Processing HINDUNILVR.NS... 1233 symbols left.\n"
     ]
    },
    {
     "name": "stdout",
     "output_type": "stream",
     "text": [
      "\n",
      "\n",
      "1 Failed download:\n",
      "- HINDPETRO.NS: No data found for this date range, symbol may be delisted\n",
      "HINDUNILVR.NS\n",
      "\r",
      "[*********************100%***********************]  1 of 1 completed"
     ]
    },
    {
     "name": "stderr",
     "output_type": "stream",
     "text": [
      "INFO:__main__:Processed HINDUNILVR.NS in 0.01 seconds.\n",
      "INFO:__main__:Processing HINDWAREAP.NS... 1232 symbols left.\n"
     ]
    },
    {
     "name": "stdout",
     "output_type": "stream",
     "text": [
      "\n",
      "\n",
      "1 Failed download:\n",
      "- HINDUNILVR.NS: No data found for this date range, symbol may be delisted\n",
      "HINDWAREAP.NS\n",
      "\r",
      "[*********************100%***********************]  1 of 1 completed"
     ]
    },
    {
     "name": "stderr",
     "output_type": "stream",
     "text": [
      "INFO:__main__:Processed HINDWAREAP.NS in 0.02 seconds.\n",
      "INFO:__main__:Processing HINDZINC.NS... 1231 symbols left.\n"
     ]
    },
    {
     "name": "stdout",
     "output_type": "stream",
     "text": [
      "\n",
      "\n",
      "1 Failed download:\n",
      "- HINDWAREAP.NS: No data found for this date range, symbol may be delisted\n",
      "HINDZINC.NS\n",
      "\r",
      "[*********************100%***********************]  1 of 1 completed"
     ]
    },
    {
     "name": "stderr",
     "output_type": "stream",
     "text": [
      "INFO:__main__:Processed HINDZINC.NS in 0.01 seconds.\n",
      "INFO:__main__:Processing HIRECT.NS... 1230 symbols left.\n"
     ]
    },
    {
     "name": "stdout",
     "output_type": "stream",
     "text": [
      "\n",
      "\n",
      "1 Failed download:\n",
      "- HINDZINC.NS: No data found for this date range, symbol may be delisted\n",
      "HIRECT.NS\n",
      "\r",
      "[*********************100%***********************]  1 of 1 completed"
     ]
    },
    {
     "name": "stderr",
     "output_type": "stream",
     "text": [
      "INFO:__main__:Processed HIRECT.NS in 0.01 seconds.\n",
      "INFO:__main__:Processing HISARMETAL.NS... 1229 symbols left.\n"
     ]
    },
    {
     "name": "stdout",
     "output_type": "stream",
     "text": [
      "\n",
      "\n",
      "1 Failed download:\n",
      "- HIRECT.NS: No data found for this date range, symbol may be delisted\n",
      "HISARMETAL.NS\n",
      "\r",
      "[*********************100%***********************]  1 of 1 completed"
     ]
    },
    {
     "name": "stderr",
     "output_type": "stream",
     "text": [
      "INFO:__main__:Processed HISARMETAL.NS in 0.01 seconds.\n",
      "INFO:__main__:Processing HITECH.NS... 1228 symbols left.\n"
     ]
    },
    {
     "name": "stdout",
     "output_type": "stream",
     "text": [
      "\n",
      "\n",
      "1 Failed download:\n",
      "- HISARMETAL.NS: No data found for this date range, symbol may be delisted\n",
      "HITECH.NS\n",
      "\r",
      "[*********************100%***********************]  1 of 1 completed"
     ]
    },
    {
     "name": "stderr",
     "output_type": "stream",
     "text": [
      "INFO:__main__:Processed HITECH.NS in 0.01 seconds.\n",
      "INFO:__main__:Processing HITECHCORP.NS... 1227 symbols left.\n"
     ]
    },
    {
     "name": "stdout",
     "output_type": "stream",
     "text": [
      "\n",
      "\n",
      "1 Failed download:\n",
      "- HITECH.NS: No data found for this date range, symbol may be delisted\n",
      "HITECHCORP.NS\n",
      "\r",
      "[*********************100%***********************]  1 of 1 completed"
     ]
    },
    {
     "name": "stderr",
     "output_type": "stream",
     "text": [
      "INFO:__main__:Processed HITECHCORP.NS in 0.01 seconds.\n",
      "INFO:__main__:Processing HITECHGEAR.NS... 1226 symbols left.\n"
     ]
    },
    {
     "name": "stdout",
     "output_type": "stream",
     "text": [
      "\n",
      "\n",
      "1 Failed download:\n",
      "- HITECHCORP.NS: No data found for this date range, symbol may be delisted\n",
      "HITECHGEAR.NS\n",
      "\r",
      "[*********************100%***********************]  1 of 1 completed"
     ]
    },
    {
     "name": "stderr",
     "output_type": "stream",
     "text": [
      "INFO:__main__:Processed HITECHGEAR.NS in 0.01 seconds.\n",
      "INFO:__main__:Processing HLEGLAS.NS... 1225 symbols left.\n"
     ]
    },
    {
     "name": "stdout",
     "output_type": "stream",
     "text": [
      "\n",
      "\n",
      "1 Failed download:\n",
      "- HITECHGEAR.NS: No data found for this date range, symbol may be delisted\n",
      "HLEGLAS.NS\n",
      "\r",
      "[*********************100%***********************]  1 of 1 completed"
     ]
    },
    {
     "name": "stderr",
     "output_type": "stream",
     "text": [
      "INFO:__main__:Processed HLEGLAS.NS in 0.01 seconds.\n",
      "INFO:__main__:Processing HLVLTD.NS... 1224 symbols left.\n"
     ]
    },
    {
     "name": "stdout",
     "output_type": "stream",
     "text": [
      "\n",
      "\n",
      "1 Failed download:\n",
      "- HLEGLAS.NS: No data found for this date range, symbol may be delisted\n",
      "HLVLTD.NS\n",
      "\r",
      "[*********************100%***********************]  1 of 1 completed"
     ]
    },
    {
     "name": "stderr",
     "output_type": "stream",
     "text": [
      "INFO:__main__:Processed HLVLTD.NS in 0.02 seconds.\n",
      "INFO:__main__:Processing HMAAGRO.NS... 1223 symbols left.\n"
     ]
    },
    {
     "name": "stdout",
     "output_type": "stream",
     "text": [
      "\n",
      "\n",
      "1 Failed download:\n",
      "- HLVLTD.NS: No data found for this date range, symbol may be delisted\n",
      "HMAAGRO.NS\n",
      "\r",
      "[*********************100%***********************]  1 of 1 completed"
     ]
    },
    {
     "name": "stderr",
     "output_type": "stream",
     "text": [
      "INFO:__main__:Processed HMAAGRO.NS in 0.01 seconds.\n",
      "INFO:__main__:Processing HMT.NS... 1222 symbols left.\n"
     ]
    },
    {
     "name": "stdout",
     "output_type": "stream",
     "text": [
      "\n",
      "\n",
      "1 Failed download:\n",
      "- HMAAGRO.NS: No data found for this date range, symbol may be delisted\n",
      "HMT.NS\n",
      "\r",
      "[*********************100%***********************]  1 of 1 completed"
     ]
    },
    {
     "name": "stderr",
     "output_type": "stream",
     "text": [
      "INFO:__main__:Processed HMT.NS in 0.01 seconds.\n",
      "INFO:__main__:Processing HMVL.NS... 1221 symbols left.\n"
     ]
    },
    {
     "name": "stdout",
     "output_type": "stream",
     "text": [
      "\n",
      "\n",
      "1 Failed download:\n",
      "- HMT.NS: No data found for this date range, symbol may be delisted\n",
      "HMVL.NS\n",
      "\r",
      "[*********************100%***********************]  1 of 1 completed"
     ]
    },
    {
     "name": "stderr",
     "output_type": "stream",
     "text": [
      "INFO:__main__:Processed HMVL.NS in 0.01 seconds.\n",
      "INFO:__main__:Processing HNDFDS.NS... 1220 symbols left.\n"
     ]
    },
    {
     "name": "stdout",
     "output_type": "stream",
     "text": [
      "\n",
      "\n",
      "1 Failed download:\n",
      "- HMVL.NS: No data found for this date range, symbol may be delisted\n",
      "HNDFDS.NS\n",
      "\r",
      "[*********************100%***********************]  1 of 1 completed"
     ]
    },
    {
     "name": "stderr",
     "output_type": "stream",
     "text": [
      "INFO:__main__:Processed HNDFDS.NS in 0.02 seconds.\n",
      "INFO:__main__:Processing HOMEFIRST.NS... 1219 symbols left.\n"
     ]
    },
    {
     "name": "stdout",
     "output_type": "stream",
     "text": [
      "\n",
      "\n",
      "1 Failed download:\n",
      "- HNDFDS.NS: No data found for this date range, symbol may be delisted\n",
      "HOMEFIRST.NS\n",
      "\r",
      "[*********************100%***********************]  1 of 1 completed"
     ]
    },
    {
     "name": "stderr",
     "output_type": "stream",
     "text": [
      "INFO:__main__:Processed HOMEFIRST.NS in 0.03 seconds.\n",
      "INFO:__main__:Processing HONASA.NS... 1218 symbols left.\n"
     ]
    },
    {
     "name": "stdout",
     "output_type": "stream",
     "text": [
      "\n",
      "\n",
      "1 Failed download:\n",
      "- HOMEFIRST.NS: No data found for this date range, symbol may be delisted\n",
      "HONASA.NS\n",
      "\r",
      "[*********************100%***********************]  1 of 1 completed"
     ]
    },
    {
     "name": "stderr",
     "output_type": "stream",
     "text": [
      "INFO:__main__:Processed HONASA.NS in 0.00 seconds.\n",
      "INFO:__main__:Processing HONAUT.NS... 1217 symbols left.\n"
     ]
    },
    {
     "name": "stdout",
     "output_type": "stream",
     "text": [
      "\n",
      "\n",
      "1 Failed download:\n",
      "- HONASA.NS: No data found for this date range, symbol may be delisted\n",
      "HONAUT.NS\n",
      "\r",
      "[*********************100%***********************]  1 of 1 completed"
     ]
    },
    {
     "name": "stderr",
     "output_type": "stream",
     "text": [
      "INFO:__main__:Processed HONAUT.NS in 0.02 seconds.\n",
      "INFO:__main__:Processing HONDAPOWER.NS... 1216 symbols left.\n"
     ]
    },
    {
     "name": "stdout",
     "output_type": "stream",
     "text": [
      "\n",
      "\n",
      "1 Failed download:\n",
      "- HONAUT.NS: No data found for this date range, symbol may be delisted\n",
      "HONDAPOWER.NS\n",
      "\r",
      "[*********************100%***********************]  1 of 1 completed"
     ]
    },
    {
     "name": "stderr",
     "output_type": "stream",
     "text": [
      "INFO:__main__:Processed HONDAPOWER.NS in 0.02 seconds.\n",
      "INFO:__main__:Processing HOVS.NS... 1215 symbols left.\n"
     ]
    },
    {
     "name": "stdout",
     "output_type": "stream",
     "text": [
      "\n",
      "\n",
      "1 Failed download:\n",
      "- HONDAPOWER.NS: No data found for this date range, symbol may be delisted\n",
      "HOVS.NS\n",
      "\r",
      "[*********************100%***********************]  1 of 1 completed"
     ]
    },
    {
     "name": "stderr",
     "output_type": "stream",
     "text": [
      "INFO:__main__:Processed HOVS.NS in 0.01 seconds.\n",
      "INFO:__main__:Processing HPAL.NS... 1214 symbols left.\n"
     ]
    },
    {
     "name": "stdout",
     "output_type": "stream",
     "text": [
      "\n",
      "\n",
      "1 Failed download:\n",
      "- HOVS.NS: No data found for this date range, symbol may be delisted\n",
      "HPAL.NS\n",
      "\r",
      "[*********************100%***********************]  1 of 1 completed"
     ]
    },
    {
     "name": "stderr",
     "output_type": "stream",
     "text": [
      "INFO:__main__:Processed HPAL.NS in 0.01 seconds.\n",
      "INFO:__main__:Processing HPIL.NS... 1213 symbols left.\n"
     ]
    },
    {
     "name": "stdout",
     "output_type": "stream",
     "text": [
      "\n",
      "\n",
      "1 Failed download:\n",
      "- HPAL.NS: No data found for this date range, symbol may be delisted\n",
      "HPIL.NS\n",
      "\r",
      "[*********************100%***********************]  1 of 1 completed"
     ]
    },
    {
     "name": "stderr",
     "output_type": "stream",
     "text": [
      "INFO:__main__:Processed HPIL.NS in 0.01 seconds.\n",
      "INFO:__main__:Processing HPL.NS... 1212 symbols left.\n"
     ]
    },
    {
     "name": "stdout",
     "output_type": "stream",
     "text": [
      "\n",
      "\n",
      "1 Failed download:\n",
      "- HPIL.NS: No data found for this date range, symbol may be delisted\n",
      "HPL.NS\n",
      "[*********************100%***********************]  1 of 1 completed"
     ]
    },
    {
     "name": "stderr",
     "output_type": "stream",
     "text": [
      "INFO:__main__:Processed HPL.NS in 0.03 seconds.\n",
      "INFO:__main__:Processing HSCL.NS... 1211 symbols left.\n"
     ]
    },
    {
     "name": "stdout",
     "output_type": "stream",
     "text": [
      "\n",
      "\n",
      "1 Failed download:\n",
      "- HPL.NS: No data found for this date range, symbol may be delisted\n",
      "HSCL.NS\n",
      "\r",
      "[*********************100%***********************]  1 of 1 completed"
     ]
    },
    {
     "name": "stderr",
     "output_type": "stream",
     "text": [
      "INFO:__main__:Processed HSCL.NS in 0.01 seconds.\n",
      "INFO:__main__:Processing HTMEDIA.NS... 1210 symbols left.\n"
     ]
    },
    {
     "name": "stdout",
     "output_type": "stream",
     "text": [
      "\n",
      "\n",
      "1 Failed download:\n",
      "- HSCL.NS: No data found for this date range, symbol may be delisted\n",
      "HTMEDIA.NS\n",
      "\r",
      "[*********************100%***********************]  1 of 1 completed"
     ]
    },
    {
     "name": "stderr",
     "output_type": "stream",
     "text": [
      "INFO:__main__:Processed HTMEDIA.NS in 0.01 seconds.\n"
     ]
    },
    {
     "name": "stdout",
     "output_type": "stream",
     "text": [
      "\n",
      "\n",
      "1 Failed download:\n",
      "- HTMEDIA.NS: No data found for this date range, symbol may be delisted\n"
     ]
    },
    {
     "name": "stderr",
     "output_type": "stream",
     "text": [
      "INFO:__main__:Processing HUBTOWN.NS... 1209 symbols left.\n"
     ]
    },
    {
     "name": "stdout",
     "output_type": "stream",
     "text": [
      "HUBTOWN.NS\n",
      "\r",
      "[*********************100%***********************]  1 of 1 completed"
     ]
    },
    {
     "name": "stderr",
     "output_type": "stream",
     "text": [
      "INFO:__main__:Processed HUBTOWN.NS in 0.01 seconds.\n",
      "INFO:__main__:Processing HUDCO.NS... 1208 symbols left.\n"
     ]
    },
    {
     "name": "stdout",
     "output_type": "stream",
     "text": [
      "\n",
      "\n",
      "1 Failed download:\n",
      "- HUBTOWN.NS: No data found for this date range, symbol may be delisted\n",
      "HUDCO.NS\n",
      "\r",
      "[*********************100%***********************]  1 of 1 completed"
     ]
    },
    {
     "name": "stderr",
     "output_type": "stream",
     "text": [
      "INFO:__main__:Processed HUDCO.NS in 0.01 seconds.\n",
      "INFO:__main__:Processing HUHTAMAKI.NS... 1207 symbols left.\n"
     ]
    },
    {
     "name": "stdout",
     "output_type": "stream",
     "text": [
      "\n",
      "\n",
      "1 Failed download:\n",
      "- HUDCO.NS: No data found for this date range, symbol may be delisted\n",
      "HUHTAMAKI.NS\n",
      "\r",
      "[*********************100%***********************]  1 of 1 completed"
     ]
    },
    {
     "name": "stderr",
     "output_type": "stream",
     "text": [
      "INFO:__main__:Processed HUHTAMAKI.NS in 0.01 seconds.\n",
      "INFO:__main__:Processing HYBRIDFIN.NS... 1206 symbols left.\n"
     ]
    },
    {
     "name": "stdout",
     "output_type": "stream",
     "text": [
      "\n",
      "\n",
      "1 Failed download:\n",
      "- HUHTAMAKI.NS: No data found for this date range, symbol may be delisted\n",
      "HYBRIDFIN.NS\n",
      "[*********************100%***********************]  1 of 1 completed"
     ]
    },
    {
     "name": "stderr",
     "output_type": "stream",
     "text": [
      "INFO:__main__:Processed HYBRIDFIN.NS in 0.02 seconds.\n",
      "INFO:__main__:Processing IBREALEST.NS... 1205 symbols left.\n"
     ]
    },
    {
     "name": "stdout",
     "output_type": "stream",
     "text": [
      "\n",
      "\n",
      "1 Failed download:\n",
      "- HYBRIDFIN.NS: No data found for this date range, symbol may be delisted\n",
      "IBREALEST.NS\n",
      "[*********************100%***********************]  1 of 1 completed\n",
      "\n",
      "1 Failed download:\n",
      "- IBREALEST.NS: No data found for this date range, symbol may be delisted\n"
     ]
    },
    {
     "name": "stderr",
     "output_type": "stream",
     "text": [
      "INFO:__main__:Processed IBREALEST.NS in 0.02 seconds.\n",
      "INFO:__main__:Processing IBULHSGFIN.NS... 1204 symbols left.\n"
     ]
    },
    {
     "name": "stdout",
     "output_type": "stream",
     "text": [
      "IBULHSGFIN.NS\n",
      "\r",
      "[*********************100%***********************]  1 of 1 completed"
     ]
    },
    {
     "name": "stderr",
     "output_type": "stream",
     "text": [
      "INFO:__main__:Processed IBULHSGFIN.NS in 0.02 seconds.\n",
      "INFO:__main__:Processing ICDSLTD.NS... 1203 symbols left.\n"
     ]
    },
    {
     "name": "stdout",
     "output_type": "stream",
     "text": [
      "\n",
      "\n",
      "1 Failed download:\n",
      "- IBULHSGFIN.NS: No data found for this date range, symbol may be delisted\n",
      "ICDSLTD.NS\n",
      "\r",
      "[*********************100%***********************]  1 of 1 completed"
     ]
    },
    {
     "name": "stderr",
     "output_type": "stream",
     "text": [
      "INFO:__main__:Processed ICDSLTD.NS in 0.02 seconds.\n",
      "INFO:__main__:Processing ICEMAKE.NS... 1202 symbols left.\n"
     ]
    },
    {
     "name": "stdout",
     "output_type": "stream",
     "text": [
      "\n",
      "\n",
      "1 Failed download:\n",
      "- ICDSLTD.NS: No data found for this date range, symbol may be delisted\n",
      "ICEMAKE.NS\n",
      "\r",
      "[*********************100%***********************]  1 of 1 completed"
     ]
    },
    {
     "name": "stderr",
     "output_type": "stream",
     "text": [
      "INFO:__main__:Processed ICEMAKE.NS in 0.02 seconds.\n",
      "INFO:__main__:Processing ICICIBANK.NS... 1201 symbols left.\n"
     ]
    },
    {
     "name": "stdout",
     "output_type": "stream",
     "text": [
      "\n",
      "\n",
      "1 Failed download:\n",
      "- ICEMAKE.NS: No data found for this date range, symbol may be delisted\n",
      "ICICIBANK.NS\n",
      "\r",
      "[*********************100%***********************]  1 of 1 completed"
     ]
    },
    {
     "name": "stderr",
     "output_type": "stream",
     "text": [
      "INFO:__main__:Processed ICICIBANK.NS in 0.02 seconds.\n",
      "INFO:__main__:Processing ICICIGI.NS... 1200 symbols left.\n"
     ]
    },
    {
     "name": "stdout",
     "output_type": "stream",
     "text": [
      "\n",
      "\n",
      "1 Failed download:\n",
      "- ICICIBANK.NS: No data found for this date range, symbol may be delisted\n",
      "ICICIGI.NS\n",
      "\r",
      "[*********************100%***********************]  1 of 1 completed"
     ]
    },
    {
     "name": "stderr",
     "output_type": "stream",
     "text": [
      "INFO:__main__:Processed ICICIGI.NS in 0.02 seconds.\n"
     ]
    },
    {
     "name": "stdout",
     "output_type": "stream",
     "text": [
      "\n",
      "\n",
      "1 Failed download:\n",
      "- ICICIGI.NS: No data found for this date range, symbol may be delisted\n"
     ]
    },
    {
     "name": "stderr",
     "output_type": "stream",
     "text": [
      "INFO:__main__:Processing ICICIPRULI.NS... 1199 symbols left.\n"
     ]
    },
    {
     "name": "stdout",
     "output_type": "stream",
     "text": [
      "ICICIPRULI.NS\n",
      "\r",
      "[*********************100%***********************]  1 of 1 completed"
     ]
    },
    {
     "name": "stderr",
     "output_type": "stream",
     "text": [
      "INFO:__main__:Processed ICICIPRULI.NS in 0.02 seconds.\n",
      "INFO:__main__:Processing ICIL.NS... 1198 symbols left.\n"
     ]
    },
    {
     "name": "stdout",
     "output_type": "stream",
     "text": [
      "\n",
      "\n",
      "1 Failed download:\n",
      "- ICICIPRULI.NS: No data found for this date range, symbol may be delisted\n",
      "ICIL.NS\n",
      "\r",
      "[*********************100%***********************]  1 of 1 completed"
     ]
    },
    {
     "name": "stderr",
     "output_type": "stream",
     "text": [
      "INFO:__main__:Processed ICIL.NS in 0.00 seconds.\n",
      "INFO:__main__:Processing ICRA.NS... 1197 symbols left.\n"
     ]
    },
    {
     "name": "stdout",
     "output_type": "stream",
     "text": [
      "\n",
      "\n",
      "1 Failed download:\n",
      "- ICIL.NS: No data found for this date range, symbol may be delisted\n",
      "ICRA.NS\n",
      "\r",
      "[*********************100%***********************]  1 of 1 completed"
     ]
    },
    {
     "name": "stderr",
     "output_type": "stream",
     "text": [
      "INFO:__main__:Processed ICRA.NS in 0.02 seconds.\n",
      "INFO:__main__:Processing IDBI.NS... 1196 symbols left.\n"
     ]
    },
    {
     "name": "stdout",
     "output_type": "stream",
     "text": [
      "\n",
      "\n",
      "1 Failed download:\n",
      "- ICRA.NS: No data found for this date range, symbol may be delisted\n",
      "IDBI.NS\n",
      "\r",
      "[*********************100%***********************]  1 of 1 completed"
     ]
    },
    {
     "name": "stderr",
     "output_type": "stream",
     "text": [
      "INFO:__main__:Processed IDBI.NS in 0.01 seconds.\n",
      "INFO:__main__:Processing IDEA.NS... 1195 symbols left.\n"
     ]
    },
    {
     "name": "stdout",
     "output_type": "stream",
     "text": [
      "\n",
      "\n",
      "1 Failed download:\n",
      "- IDBI.NS: No data found for this date range, symbol may be delisted\n",
      "IDEA.NS\n",
      "\r",
      "[*********************100%***********************]  1 of 1 completed"
     ]
    },
    {
     "name": "stderr",
     "output_type": "stream",
     "text": [
      "INFO:__main__:Processed IDEA.NS in 0.01 seconds.\n",
      "INFO:__main__:Processing IDEAFORGE.NS... 1194 symbols left.\n"
     ]
    },
    {
     "name": "stdout",
     "output_type": "stream",
     "text": [
      "\n",
      "\n",
      "1 Failed download:\n",
      "- IDEA.NS: No data found for this date range, symbol may be delisted\n",
      "IDEAFORGE.NS\n",
      "\r",
      "[*********************100%***********************]  1 of 1 completed"
     ]
    },
    {
     "name": "stderr",
     "output_type": "stream",
     "text": [
      "INFO:__main__:Processed IDEAFORGE.NS in 0.02 seconds.\n",
      "INFO:__main__:Processing IDFC.NS... 1193 symbols left.\n"
     ]
    },
    {
     "name": "stdout",
     "output_type": "stream",
     "text": [
      "\n",
      "\n",
      "1 Failed download:\n",
      "- IDEAFORGE.NS: No data found for this date range, symbol may be delisted\n",
      "IDFC.NS\n",
      "\r",
      "[*********************100%***********************]  1 of 1 completed"
     ]
    },
    {
     "name": "stderr",
     "output_type": "stream",
     "text": [
      "INFO:__main__:Processed IDFC.NS in 0.01 seconds.\n",
      "INFO:__main__:Processing IDFCFIRSTB.NS... 1192 symbols left.\n"
     ]
    },
    {
     "name": "stdout",
     "output_type": "stream",
     "text": [
      "\n",
      "\n",
      "1 Failed download:\n",
      "- IDFC.NS: No data found for this date range, symbol may be delisted\n",
      "IDFCFIRSTB.NS\n",
      "\r",
      "[*********************100%***********************]  1 of 1 completed"
     ]
    },
    {
     "name": "stderr",
     "output_type": "stream",
     "text": [
      "INFO:__main__:Processed IDFCFIRSTB.NS in 0.02 seconds.\n",
      "INFO:__main__:Processing IEL.NS... 1191 symbols left.\n"
     ]
    },
    {
     "name": "stdout",
     "output_type": "stream",
     "text": [
      "\n",
      "\n",
      "1 Failed download:\n",
      "- IDFCFIRSTB.NS: No data found for this date range, symbol may be delisted\n",
      "IEL.NS\n",
      "\r",
      "[*********************100%***********************]  1 of 1 completed"
     ]
    },
    {
     "name": "stderr",
     "output_type": "stream",
     "text": [
      "INFO:__main__:Processed IEL.NS in 0.02 seconds.\n",
      "INFO:__main__:Processing IEX.NS... 1190 symbols left.\n"
     ]
    },
    {
     "name": "stdout",
     "output_type": "stream",
     "text": [
      "\n",
      "\n",
      "1 Failed download:\n",
      "- IEL.NS: No data found for this date range, symbol may be delisted\n",
      "IEX.NS\n",
      "\r",
      "[*********************100%***********************]  1 of 1 completed"
     ]
    },
    {
     "name": "stderr",
     "output_type": "stream",
     "text": [
      "INFO:__main__:Processed IEX.NS in 0.02 seconds.\n",
      "INFO:__main__:Processing IFBAGRO.NS... 1189 symbols left.\n"
     ]
    },
    {
     "name": "stdout",
     "output_type": "stream",
     "text": [
      "\n",
      "\n",
      "1 Failed download:\n",
      "- IEX.NS: No data found for this date range, symbol may be delisted\n",
      "IFBAGRO.NS\n",
      "\r",
      "[*********************100%***********************]  1 of 1 completed"
     ]
    },
    {
     "name": "stderr",
     "output_type": "stream",
     "text": [
      "INFO:__main__:Processed IFBAGRO.NS in 0.02 seconds.\n",
      "INFO:__main__:Processing IFBIND.NS... 1188 symbols left.\n"
     ]
    },
    {
     "name": "stdout",
     "output_type": "stream",
     "text": [
      "\n",
      "\n",
      "1 Failed download:\n",
      "- IFBAGRO.NS: No data found for this date range, symbol may be delisted\n",
      "IFBIND.NS\n",
      "[*********************100%***********************]  1 of 1 completed\n",
      "\n",
      "1 Failed download:\n",
      "- IFBIND.NS: No data found for this date range, symbol may be delisted\n"
     ]
    },
    {
     "name": "stderr",
     "output_type": "stream",
     "text": [
      "INFO:__main__:Processed IFBIND.NS in 0.02 seconds.\n"
     ]
    },
    {
     "ename": "KeyboardInterrupt",
     "evalue": "",
     "output_type": "error",
     "traceback": [
      "\u001b[1;31m---------------------------------------------------------------------------\u001b[0m",
      "\u001b[1;31mKeyboardInterrupt\u001b[0m                         Traceback (most recent call last)",
      "\u001b[1;32m~\\AppData\\Local\\Temp\\ipykernel_11048\\2899172994.py\u001b[0m in \u001b[0;36m<module>\u001b[1;34m\u001b[0m\n\u001b[0;32m     14\u001b[0m         \u001b[0msymbols_left\u001b[0m \u001b[1;33m=\u001b[0m \u001b[0mlen\u001b[0m\u001b[1;33m(\u001b[0m\u001b[0msymbols\u001b[0m\u001b[1;33m)\u001b[0m\u001b[1;33m\u001b[0m\u001b[1;33m\u001b[0m\u001b[0m\n\u001b[0;32m     15\u001b[0m         \u001b[1;32mfor\u001b[0m \u001b[0msymbol\u001b[0m \u001b[1;32min\u001b[0m \u001b[0msymbols\u001b[0m\u001b[1;33m:\u001b[0m\u001b[1;33m\u001b[0m\u001b[1;33m\u001b[0m\u001b[0m\n\u001b[1;32m---> 16\u001b[1;33m             \u001b[0mdata\u001b[0m \u001b[1;33m=\u001b[0m \u001b[0mprocess_symbol\u001b[0m\u001b[1;33m(\u001b[0m\u001b[0msymbol\u001b[0m\u001b[1;33m,\u001b[0m \u001b[0msymbols_left\u001b[0m\u001b[1;33m)\u001b[0m\u001b[1;33m\u001b[0m\u001b[1;33m\u001b[0m\u001b[0m\n\u001b[0m\u001b[0;32m     17\u001b[0m             \u001b[1;32mif\u001b[0m \u001b[0mdata\u001b[0m \u001b[1;32mis\u001b[0m \u001b[1;32mnot\u001b[0m \u001b[1;32mNone\u001b[0m\u001b[1;33m:\u001b[0m\u001b[1;33m\u001b[0m\u001b[1;33m\u001b[0m\u001b[0m\n\u001b[0;32m     18\u001b[0m                 \u001b[0mall_data_list\u001b[0m\u001b[1;33m.\u001b[0m\u001b[0mappend\u001b[0m\u001b[1;33m(\u001b[0m\u001b[0mdata\u001b[0m\u001b[1;33m)\u001b[0m\u001b[1;33m\u001b[0m\u001b[1;33m\u001b[0m\u001b[0m\n",
      "\u001b[1;32m~\\AppData\\Local\\Temp\\ipykernel_11048\\1723614946.py\u001b[0m in \u001b[0;36mprocess_symbol\u001b[1;34m(symbol, symbols_left)\u001b[0m\n\u001b[0;32m     81\u001b[0m                 \u001b[0melapsed_time\u001b[0m \u001b[1;33m=\u001b[0m \u001b[0mtime\u001b[0m\u001b[1;33m.\u001b[0m\u001b[0mtime\u001b[0m\u001b[1;33m(\u001b[0m\u001b[1;33m)\u001b[0m \u001b[1;33m-\u001b[0m \u001b[0mstart_time\u001b[0m\u001b[1;33m\u001b[0m\u001b[1;33m\u001b[0m\u001b[0m\n\u001b[0;32m     82\u001b[0m \u001b[1;33m\u001b[0m\u001b[0m\n\u001b[1;32m---> 83\u001b[1;33m                 \u001b[0mlogger\u001b[0m\u001b[1;33m.\u001b[0m\u001b[0minfo\u001b[0m\u001b[1;33m(\u001b[0m\u001b[1;34mf\"Processed {symbol} in {elapsed_time:.2f} seconds.\"\u001b[0m\u001b[1;33m)\u001b[0m\u001b[1;33m\u001b[0m\u001b[1;33m\u001b[0m\u001b[0m\n\u001b[0m\u001b[0;32m     84\u001b[0m                 \u001b[1;32mreturn\u001b[0m \u001b[0mdata\u001b[0m\u001b[1;33m\u001b[0m\u001b[1;33m\u001b[0m\u001b[0m\n\u001b[0;32m     85\u001b[0m     \u001b[1;32mexcept\u001b[0m \u001b[0mException\u001b[0m \u001b[1;32mas\u001b[0m \u001b[0me\u001b[0m\u001b[1;33m:\u001b[0m\u001b[1;33m\u001b[0m\u001b[1;33m\u001b[0m\u001b[0m\n",
      "\u001b[1;32m~\\anaconda3\\lib\\logging\\__init__.py\u001b[0m in \u001b[0;36minfo\u001b[1;34m(self, msg, *args, **kwargs)\u001b[0m\n\u001b[0;32m   1444\u001b[0m         \"\"\"\n\u001b[0;32m   1445\u001b[0m         \u001b[1;32mif\u001b[0m \u001b[0mself\u001b[0m\u001b[1;33m.\u001b[0m\u001b[0misEnabledFor\u001b[0m\u001b[1;33m(\u001b[0m\u001b[0mINFO\u001b[0m\u001b[1;33m)\u001b[0m\u001b[1;33m:\u001b[0m\u001b[1;33m\u001b[0m\u001b[1;33m\u001b[0m\u001b[0m\n\u001b[1;32m-> 1446\u001b[1;33m             \u001b[0mself\u001b[0m\u001b[1;33m.\u001b[0m\u001b[0m_log\u001b[0m\u001b[1;33m(\u001b[0m\u001b[0mINFO\u001b[0m\u001b[1;33m,\u001b[0m \u001b[0mmsg\u001b[0m\u001b[1;33m,\u001b[0m \u001b[0margs\u001b[0m\u001b[1;33m,\u001b[0m \u001b[1;33m**\u001b[0m\u001b[0mkwargs\u001b[0m\u001b[1;33m)\u001b[0m\u001b[1;33m\u001b[0m\u001b[1;33m\u001b[0m\u001b[0m\n\u001b[0m\u001b[0;32m   1447\u001b[0m \u001b[1;33m\u001b[0m\u001b[0m\n\u001b[0;32m   1448\u001b[0m     \u001b[1;32mdef\u001b[0m \u001b[0mwarning\u001b[0m\u001b[1;33m(\u001b[0m\u001b[0mself\u001b[0m\u001b[1;33m,\u001b[0m \u001b[0mmsg\u001b[0m\u001b[1;33m,\u001b[0m \u001b[1;33m*\u001b[0m\u001b[0margs\u001b[0m\u001b[1;33m,\u001b[0m \u001b[1;33m**\u001b[0m\u001b[0mkwargs\u001b[0m\u001b[1;33m)\u001b[0m\u001b[1;33m:\u001b[0m\u001b[1;33m\u001b[0m\u001b[1;33m\u001b[0m\u001b[0m\n",
      "\u001b[1;32m~\\anaconda3\\lib\\logging\\__init__.py\u001b[0m in \u001b[0;36m_log\u001b[1;34m(self, level, msg, args, exc_info, extra, stack_info, stacklevel)\u001b[0m\n\u001b[0;32m   1587\u001b[0m         record = self.makeRecord(self.name, level, fn, lno, msg, args,\n\u001b[0;32m   1588\u001b[0m                                  exc_info, func, extra, sinfo)\n\u001b[1;32m-> 1589\u001b[1;33m         \u001b[0mself\u001b[0m\u001b[1;33m.\u001b[0m\u001b[0mhandle\u001b[0m\u001b[1;33m(\u001b[0m\u001b[0mrecord\u001b[0m\u001b[1;33m)\u001b[0m\u001b[1;33m\u001b[0m\u001b[1;33m\u001b[0m\u001b[0m\n\u001b[0m\u001b[0;32m   1590\u001b[0m \u001b[1;33m\u001b[0m\u001b[0m\n\u001b[0;32m   1591\u001b[0m     \u001b[1;32mdef\u001b[0m \u001b[0mhandle\u001b[0m\u001b[1;33m(\u001b[0m\u001b[0mself\u001b[0m\u001b[1;33m,\u001b[0m \u001b[0mrecord\u001b[0m\u001b[1;33m)\u001b[0m\u001b[1;33m:\u001b[0m\u001b[1;33m\u001b[0m\u001b[1;33m\u001b[0m\u001b[0m\n",
      "\u001b[1;32m~\\anaconda3\\lib\\logging\\__init__.py\u001b[0m in \u001b[0;36mhandle\u001b[1;34m(self, record)\u001b[0m\n\u001b[0;32m   1597\u001b[0m         \"\"\"\n\u001b[0;32m   1598\u001b[0m         \u001b[1;32mif\u001b[0m \u001b[1;33m(\u001b[0m\u001b[1;32mnot\u001b[0m \u001b[0mself\u001b[0m\u001b[1;33m.\u001b[0m\u001b[0mdisabled\u001b[0m\u001b[1;33m)\u001b[0m \u001b[1;32mand\u001b[0m \u001b[0mself\u001b[0m\u001b[1;33m.\u001b[0m\u001b[0mfilter\u001b[0m\u001b[1;33m(\u001b[0m\u001b[0mrecord\u001b[0m\u001b[1;33m)\u001b[0m\u001b[1;33m:\u001b[0m\u001b[1;33m\u001b[0m\u001b[1;33m\u001b[0m\u001b[0m\n\u001b[1;32m-> 1599\u001b[1;33m             \u001b[0mself\u001b[0m\u001b[1;33m.\u001b[0m\u001b[0mcallHandlers\u001b[0m\u001b[1;33m(\u001b[0m\u001b[0mrecord\u001b[0m\u001b[1;33m)\u001b[0m\u001b[1;33m\u001b[0m\u001b[1;33m\u001b[0m\u001b[0m\n\u001b[0m\u001b[0;32m   1600\u001b[0m \u001b[1;33m\u001b[0m\u001b[0m\n\u001b[0;32m   1601\u001b[0m     \u001b[1;32mdef\u001b[0m \u001b[0maddHandler\u001b[0m\u001b[1;33m(\u001b[0m\u001b[0mself\u001b[0m\u001b[1;33m,\u001b[0m \u001b[0mhdlr\u001b[0m\u001b[1;33m)\u001b[0m\u001b[1;33m:\u001b[0m\u001b[1;33m\u001b[0m\u001b[1;33m\u001b[0m\u001b[0m\n",
      "\u001b[1;32m~\\anaconda3\\lib\\logging\\__init__.py\u001b[0m in \u001b[0;36mcallHandlers\u001b[1;34m(self, record)\u001b[0m\n\u001b[0;32m   1659\u001b[0m                 \u001b[0mfound\u001b[0m \u001b[1;33m=\u001b[0m \u001b[0mfound\u001b[0m \u001b[1;33m+\u001b[0m \u001b[1;36m1\u001b[0m\u001b[1;33m\u001b[0m\u001b[1;33m\u001b[0m\u001b[0m\n\u001b[0;32m   1660\u001b[0m                 \u001b[1;32mif\u001b[0m \u001b[0mrecord\u001b[0m\u001b[1;33m.\u001b[0m\u001b[0mlevelno\u001b[0m \u001b[1;33m>=\u001b[0m \u001b[0mhdlr\u001b[0m\u001b[1;33m.\u001b[0m\u001b[0mlevel\u001b[0m\u001b[1;33m:\u001b[0m\u001b[1;33m\u001b[0m\u001b[1;33m\u001b[0m\u001b[0m\n\u001b[1;32m-> 1661\u001b[1;33m                     \u001b[0mhdlr\u001b[0m\u001b[1;33m.\u001b[0m\u001b[0mhandle\u001b[0m\u001b[1;33m(\u001b[0m\u001b[0mrecord\u001b[0m\u001b[1;33m)\u001b[0m\u001b[1;33m\u001b[0m\u001b[1;33m\u001b[0m\u001b[0m\n\u001b[0m\u001b[0;32m   1662\u001b[0m             \u001b[1;32mif\u001b[0m \u001b[1;32mnot\u001b[0m \u001b[0mc\u001b[0m\u001b[1;33m.\u001b[0m\u001b[0mpropagate\u001b[0m\u001b[1;33m:\u001b[0m\u001b[1;33m\u001b[0m\u001b[1;33m\u001b[0m\u001b[0m\n\u001b[0;32m   1663\u001b[0m                 \u001b[0mc\u001b[0m \u001b[1;33m=\u001b[0m \u001b[1;32mNone\u001b[0m    \u001b[1;31m#break out\u001b[0m\u001b[1;33m\u001b[0m\u001b[1;33m\u001b[0m\u001b[0m\n",
      "\u001b[1;32m~\\anaconda3\\lib\\logging\\__init__.py\u001b[0m in \u001b[0;36mhandle\u001b[1;34m(self, record)\u001b[0m\n\u001b[0;32m    950\u001b[0m             \u001b[0mself\u001b[0m\u001b[1;33m.\u001b[0m\u001b[0macquire\u001b[0m\u001b[1;33m(\u001b[0m\u001b[1;33m)\u001b[0m\u001b[1;33m\u001b[0m\u001b[1;33m\u001b[0m\u001b[0m\n\u001b[0;32m    951\u001b[0m             \u001b[1;32mtry\u001b[0m\u001b[1;33m:\u001b[0m\u001b[1;33m\u001b[0m\u001b[1;33m\u001b[0m\u001b[0m\n\u001b[1;32m--> 952\u001b[1;33m                 \u001b[0mself\u001b[0m\u001b[1;33m.\u001b[0m\u001b[0memit\u001b[0m\u001b[1;33m(\u001b[0m\u001b[0mrecord\u001b[0m\u001b[1;33m)\u001b[0m\u001b[1;33m\u001b[0m\u001b[1;33m\u001b[0m\u001b[0m\n\u001b[0m\u001b[0;32m    953\u001b[0m             \u001b[1;32mfinally\u001b[0m\u001b[1;33m:\u001b[0m\u001b[1;33m\u001b[0m\u001b[1;33m\u001b[0m\u001b[0m\n\u001b[0;32m    954\u001b[0m                 \u001b[0mself\u001b[0m\u001b[1;33m.\u001b[0m\u001b[0mrelease\u001b[0m\u001b[1;33m(\u001b[0m\u001b[1;33m)\u001b[0m\u001b[1;33m\u001b[0m\u001b[1;33m\u001b[0m\u001b[0m\n",
      "\u001b[1;32m~\\anaconda3\\lib\\logging\\__init__.py\u001b[0m in \u001b[0;36memit\u001b[1;34m(self, record)\u001b[0m\n\u001b[0;32m   1084\u001b[0m             \u001b[0mstream\u001b[0m \u001b[1;33m=\u001b[0m \u001b[0mself\u001b[0m\u001b[1;33m.\u001b[0m\u001b[0mstream\u001b[0m\u001b[1;33m\u001b[0m\u001b[1;33m\u001b[0m\u001b[0m\n\u001b[0;32m   1085\u001b[0m             \u001b[1;31m# issue 35046: merged two stream.writes into one.\u001b[0m\u001b[1;33m\u001b[0m\u001b[1;33m\u001b[0m\u001b[0m\n\u001b[1;32m-> 1086\u001b[1;33m             \u001b[0mstream\u001b[0m\u001b[1;33m.\u001b[0m\u001b[0mwrite\u001b[0m\u001b[1;33m(\u001b[0m\u001b[0mmsg\u001b[0m \u001b[1;33m+\u001b[0m \u001b[0mself\u001b[0m\u001b[1;33m.\u001b[0m\u001b[0mterminator\u001b[0m\u001b[1;33m)\u001b[0m\u001b[1;33m\u001b[0m\u001b[1;33m\u001b[0m\u001b[0m\n\u001b[0m\u001b[0;32m   1087\u001b[0m             \u001b[0mself\u001b[0m\u001b[1;33m.\u001b[0m\u001b[0mflush\u001b[0m\u001b[1;33m(\u001b[0m\u001b[1;33m)\u001b[0m\u001b[1;33m\u001b[0m\u001b[1;33m\u001b[0m\u001b[0m\n\u001b[0;32m   1088\u001b[0m         \u001b[1;32mexcept\u001b[0m \u001b[0mRecursionError\u001b[0m\u001b[1;33m:\u001b[0m  \u001b[1;31m# See issue 36272\u001b[0m\u001b[1;33m\u001b[0m\u001b[1;33m\u001b[0m\u001b[0m\n",
      "\u001b[1;32m~\\anaconda3\\lib\\site-packages\\ipykernel\\iostream.py\u001b[0m in \u001b[0;36mwrite\u001b[1;34m(self, string)\u001b[0m\n\u001b[0;32m    553\u001b[0m                 \u001b[0mself\u001b[0m\u001b[1;33m.\u001b[0m\u001b[0mpub_thread\u001b[0m\u001b[1;33m.\u001b[0m\u001b[0mschedule\u001b[0m\u001b[1;33m(\u001b[0m\u001b[0mself\u001b[0m\u001b[1;33m.\u001b[0m\u001b[0m_flush\u001b[0m\u001b[1;33m)\u001b[0m\u001b[1;33m\u001b[0m\u001b[1;33m\u001b[0m\u001b[0m\n\u001b[0;32m    554\u001b[0m             \u001b[1;32melse\u001b[0m\u001b[1;33m:\u001b[0m\u001b[1;33m\u001b[0m\u001b[1;33m\u001b[0m\u001b[0m\n\u001b[1;32m--> 555\u001b[1;33m                 \u001b[0mself\u001b[0m\u001b[1;33m.\u001b[0m\u001b[0m_schedule_flush\u001b[0m\u001b[1;33m(\u001b[0m\u001b[1;33m)\u001b[0m\u001b[1;33m\u001b[0m\u001b[1;33m\u001b[0m\u001b[0m\n\u001b[0m\u001b[0;32m    556\u001b[0m \u001b[1;33m\u001b[0m\u001b[0m\n\u001b[0;32m    557\u001b[0m         \u001b[1;32mreturn\u001b[0m \u001b[0mlen\u001b[0m\u001b[1;33m(\u001b[0m\u001b[0mstring\u001b[0m\u001b[1;33m)\u001b[0m\u001b[1;33m\u001b[0m\u001b[1;33m\u001b[0m\u001b[0m\n",
      "\u001b[1;32m~\\anaconda3\\lib\\site-packages\\ipykernel\\iostream.py\u001b[0m in \u001b[0;36m_schedule_flush\u001b[1;34m(self)\u001b[0m\n\u001b[0;32m    459\u001b[0m             \u001b[0mself\u001b[0m\u001b[1;33m.\u001b[0m\u001b[0m_io_loop\u001b[0m\u001b[1;33m.\u001b[0m\u001b[0mcall_later\u001b[0m\u001b[1;33m(\u001b[0m\u001b[0mself\u001b[0m\u001b[1;33m.\u001b[0m\u001b[0mflush_interval\u001b[0m\u001b[1;33m,\u001b[0m \u001b[0mself\u001b[0m\u001b[1;33m.\u001b[0m\u001b[0m_flush\u001b[0m\u001b[1;33m)\u001b[0m\u001b[1;33m\u001b[0m\u001b[1;33m\u001b[0m\u001b[0m\n\u001b[0;32m    460\u001b[0m \u001b[1;33m\u001b[0m\u001b[0m\n\u001b[1;32m--> 461\u001b[1;33m         \u001b[0mself\u001b[0m\u001b[1;33m.\u001b[0m\u001b[0mpub_thread\u001b[0m\u001b[1;33m.\u001b[0m\u001b[0mschedule\u001b[0m\u001b[1;33m(\u001b[0m\u001b[0m_schedule_in_thread\u001b[0m\u001b[1;33m)\u001b[0m\u001b[1;33m\u001b[0m\u001b[1;33m\u001b[0m\u001b[0m\n\u001b[0m\u001b[0;32m    462\u001b[0m \u001b[1;33m\u001b[0m\u001b[0m\n\u001b[0;32m    463\u001b[0m     \u001b[1;32mdef\u001b[0m \u001b[0mflush\u001b[0m\u001b[1;33m(\u001b[0m\u001b[0mself\u001b[0m\u001b[1;33m)\u001b[0m\u001b[1;33m:\u001b[0m\u001b[1;33m\u001b[0m\u001b[1;33m\u001b[0m\u001b[0m\n",
      "\u001b[1;32m~\\anaconda3\\lib\\site-packages\\ipykernel\\iostream.py\u001b[0m in \u001b[0;36mschedule\u001b[1;34m(self, f)\u001b[0m\n\u001b[0;32m    208\u001b[0m             \u001b[0mself\u001b[0m\u001b[1;33m.\u001b[0m\u001b[0m_events\u001b[0m\u001b[1;33m.\u001b[0m\u001b[0mappend\u001b[0m\u001b[1;33m(\u001b[0m\u001b[0mf\u001b[0m\u001b[1;33m)\u001b[0m\u001b[1;33m\u001b[0m\u001b[1;33m\u001b[0m\u001b[0m\n\u001b[0;32m    209\u001b[0m             \u001b[1;31m# wake event thread (message content is ignored)\u001b[0m\u001b[1;33m\u001b[0m\u001b[1;33m\u001b[0m\u001b[0m\n\u001b[1;32m--> 210\u001b[1;33m             \u001b[0mself\u001b[0m\u001b[1;33m.\u001b[0m\u001b[0m_event_pipe\u001b[0m\u001b[1;33m.\u001b[0m\u001b[0msend\u001b[0m\u001b[1;33m(\u001b[0m\u001b[1;34mb\"\"\u001b[0m\u001b[1;33m)\u001b[0m\u001b[1;33m\u001b[0m\u001b[1;33m\u001b[0m\u001b[0m\n\u001b[0m\u001b[0;32m    211\u001b[0m         \u001b[1;32melse\u001b[0m\u001b[1;33m:\u001b[0m\u001b[1;33m\u001b[0m\u001b[1;33m\u001b[0m\u001b[0m\n\u001b[0;32m    212\u001b[0m             \u001b[0mf\u001b[0m\u001b[1;33m(\u001b[0m\u001b[1;33m)\u001b[0m\u001b[1;33m\u001b[0m\u001b[1;33m\u001b[0m\u001b[0m\n",
      "\u001b[1;32m~\\anaconda3\\lib\\site-packages\\zmq\\sugar\\socket.py\u001b[0m in \u001b[0;36msend\u001b[1;34m(self, data, flags, copy, track, routing_id, group)\u001b[0m\n\u001b[0;32m    616\u001b[0m                 )\n\u001b[0;32m    617\u001b[0m             \u001b[0mdata\u001b[0m\u001b[1;33m.\u001b[0m\u001b[0mgroup\u001b[0m \u001b[1;33m=\u001b[0m \u001b[0mgroup\u001b[0m\u001b[1;33m\u001b[0m\u001b[1;33m\u001b[0m\u001b[0m\n\u001b[1;32m--> 618\u001b[1;33m         \u001b[1;32mreturn\u001b[0m \u001b[0msuper\u001b[0m\u001b[1;33m(\u001b[0m\u001b[1;33m)\u001b[0m\u001b[1;33m.\u001b[0m\u001b[0msend\u001b[0m\u001b[1;33m(\u001b[0m\u001b[0mdata\u001b[0m\u001b[1;33m,\u001b[0m \u001b[0mflags\u001b[0m\u001b[1;33m=\u001b[0m\u001b[0mflags\u001b[0m\u001b[1;33m,\u001b[0m \u001b[0mcopy\u001b[0m\u001b[1;33m=\u001b[0m\u001b[0mcopy\u001b[0m\u001b[1;33m,\u001b[0m \u001b[0mtrack\u001b[0m\u001b[1;33m=\u001b[0m\u001b[0mtrack\u001b[0m\u001b[1;33m)\u001b[0m\u001b[1;33m\u001b[0m\u001b[1;33m\u001b[0m\u001b[0m\n\u001b[0m\u001b[0;32m    619\u001b[0m \u001b[1;33m\u001b[0m\u001b[0m\n\u001b[0;32m    620\u001b[0m     def send_multipart(\n",
      "\u001b[1;32mzmq\\backend\\cython\\socket.pyx\u001b[0m in \u001b[0;36mzmq.backend.cython.socket.Socket.send\u001b[1;34m()\u001b[0m\n",
      "\u001b[1;32mzmq\\backend\\cython\\socket.pyx\u001b[0m in \u001b[0;36mzmq.backend.cython.socket.Socket.send\u001b[1;34m()\u001b[0m\n",
      "\u001b[1;32mzmq\\backend\\cython\\socket.pyx\u001b[0m in \u001b[0;36mzmq.backend.cython.socket._send_copy\u001b[1;34m()\u001b[0m\n",
      "\u001b[1;32m~\\anaconda3\\lib\\site-packages\\zmq\\backend\\cython\\checkrc.pxd\u001b[0m in \u001b[0;36mzmq.backend.cython.checkrc._check_rc\u001b[1;34m()\u001b[0m\n",
      "\u001b[1;31mKeyboardInterrupt\u001b[0m: "
     ]
    }
   ],
   "source": [
    "if __name__ == '__main__':\n",
    "    try:\n",
    "        start_time_all = time.time()\n",
    "\n",
    "        # Read stock symbols from CSV file\n",
    "        symbols = pd.read_csv(\"nse.csv\")[\"SYMBOL\"].tolist()\n",
    "\n",
    "        # Define start date for backtesting\n",
    "        today = date.today()\n",
    "\n",
    "\n",
    "\n",
    "        all_data_list = []\n",
    "        symbols_left = len(symbols)\n",
    "        for symbol in symbols:\n",
    "            data = process_symbol(symbol, symbols_left)\n",
    "            if data is not None:\n",
    "                all_data_list.append(data)\n",
    "            else:\n",
    "                failed_symbols.append(symbol)\n",
    "            symbols_left -= 1\n",
    "\n",
    "        # Concatenate the results into a single DataFrame\n",
    "        all_data = pd.concat(all_data_list, ignore_index=False)\n",
    "        all_data = all_data.reset_index()\n",
    "        # Filter data for the last day\n",
    "        filtere_date = today - timedelta(days=2)\n",
    "        # Assuming filtere_date is a date object\n",
    "        filtere_date = datetime.combine(filtere_date, datetime.min.time())\n",
    "\n",
    "        # Filtering data based on the condition\n",
    "        filtered_data = all_data[all_data['Date'] > filtere_date]\n",
    "        filtered_data[(filtered_data['RSI']< 60) & (filtered_data['Volume']> 25000) & (filtered_data['Open']< filtered_data['Close'])]\n",
    "        # Save filtered data to CSV\n",
    "        filtered_data.to_csv(\"processed_data_filtered.csv\")\n",
    "\n",
    "        # Email subject and body\n",
    "        subject = \"Your Daily Stock Report\"\n",
    "        body = \"Attached is the processed data for the last day.\"\n",
    "\n",
    "        # Send the email with the filtered data attached\n",
    "        send_email(subject, body, \"processed_data_filtered.csv\")\n",
    "\n",
    "        # Log total runtime\n",
    "        total_elapsed_time = time.time() - start_time_all\n",
    "        logger.info(f\"Total runtime: {total_elapsed_time:.2f} seconds.\")\n",
    "\n",
    "        # Log failed symbols\n",
    "        logger.info(f\"Failed symbols: {failed_symbols}\")\n",
    "\n",
    "    except Exception as e:\n",
    "        logger.error(f\"An error occurred: {e}\")"
   ]
  },
  {
   "cell_type": "code",
   "execution_count": null,
   "id": "8d58d6e8",
   "metadata": {},
   "outputs": [],
   "source": []
  }
 ],
 "metadata": {
  "kernelspec": {
   "display_name": "Python 3 (ipykernel)",
   "language": "python",
   "name": "python3"
  },
  "language_info": {
   "codemirror_mode": {
    "name": "ipython",
    "version": 3
   },
   "file_extension": ".py",
   "mimetype": "text/x-python",
   "name": "python",
   "nbconvert_exporter": "python",
   "pygments_lexer": "ipython3",
   "version": "3.9.13"
  }
 },
 "nbformat": 4,
 "nbformat_minor": 5
}
